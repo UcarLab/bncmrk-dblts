{
 "cells": [
  {
   "cell_type": "code",
   "execution_count": 1,
   "metadata": {
    "collapsed": true
   },
   "outputs": [],
   "source": [
    "import scrublet as scr\n",
    "import scipy.io\n",
    "import matplotlib.pyplot as plt\n",
    "import numpy as np\n",
    "import os\n",
    "import pandas as pd\n",
    "import glob"
   ]
  },
  {
   "cell_type": "code",
   "execution_count": 2,
   "metadata": {},
   "outputs": [
    {
     "name": "stdout",
     "output_type": "stream",
     "text": [
      "CZI.PBMC.4.raw.counts.for.Scrublet.mtx\n",
      "CZI.PBMC.1.raw.counts.for.Scrublet.mtx\n",
      "CZI.PBMC.7.raw.counts.for.Scrublet.mtx\n",
      "CZI.PBMC.3.raw.counts.for.Scrublet.mtx\n",
      "CZI.PBMC.2.raw.counts.for.Scrublet.mtx\n",
      "CZI.PBMC.5.raw.counts.for.Scrublet.mtx\n",
      "CZI.PBMC.8.raw.counts.for.Scrublet.mtx\n",
      "CZI.PBMC.9.raw.counts.for.Scrublet.mtx\n",
      "CZI.PBMC.6.raw.counts.for.Scrublet.mtx\n",
      "CZI.PBMC.10.raw.counts.for.Scrublet.mtx\n",
      "PBMC.8.HTO.raw.counts.for.Scrublet.mtx\n",
      "Four.Cell.12.HTO.raw.counts.for.Scrublet.mtx\n"
     ]
    }
   ],
   "source": [
    "home_dir=\"/projects/ucar-lab/danaco/bncmrk-dblts\"\n",
    "\n",
    "os.chdir(home_dir+\"/Python\")\n",
    "\n",
    "from scr_pipe import *\n",
    "\n",
    "pr_names=list([\"CZI.PBMC\",\"PBMC.8.HTO\",\"Four.Cell.12.HTO\"])\n",
    "\n",
    "for i in pr_names:\n",
    "    os.chdir(home_dir+\"/Scrublet/input/\"+i)\n",
    "    fl=glob.glob(\"*raw.counts.for.Scrublet.mtx\")\n",
    "    for j in fl:\n",
    "        print(j)"
   ]
  },
  {
   "cell_type": "code",
   "execution_count": 28,
   "metadata": {
    "collapsed": true
   },
   "outputs": [],
   "source": [
    "def bebe_pipe(file_name,exp_rate=0.1):\n",
    "    #counts_matrix = scipy.io.mmread(file_name).T.tocsc()\n",
    "    if \"/\" in file_name:\n",
    "        home_dir=\"/\".join(file_name.split(\"/\")[0:len(file_name.split(\"/\"))-4])\n",
    "        pr_name=file_name.split(\"/\")[-2]\n",
    "        file_name=file_name.split(\"/\")[-1]\n",
    "\n",
    "    else :\n",
    "        home_dir=\"/\".join(os.getcwd().split(\"/\")[0:len(os.getcwd().split(\"/\"))-3])\n",
    "        pr_name=os.getcwd().split(\"/\")[-1]\n",
    " \n",
    "    name=file_name.split(\".raw\")[0]\n",
    "    out_dir=home_dir+\"/Scrublet/output/\"+pr_name+\"/\"\n",
    "    #genes = np.array(scr.load_genes(home_dir+data_dir+pr_name + 'genes.tsv', delimiter='\\t', column=1))\n",
    "    #print('Counts matrix shape: {} rows, {} columns'.format(counts_matrix.shape[0], counts_matrix.shape[1]))\n",
    "    #scrub = scr.Scrublet(counts_matrix, expected_doublet_rate=exp_rate)\n",
    "   # doublet_scores, predicted_doublets = scrub.scrub_doublets(min_counts=2, \n",
    "   #                                                    min_cells=3, \n",
    "   #                                                    min_gene_variability_pctl=85, \n",
    "   #                                                    n_prin_comps=30)\n",
    "    print(out_dir)\n",
    "    print(out_dir+name+\".Scr.doublet.scores.\"+str(exp_rate)+\"exp_rate.csv\")"
   ]
  },
  {
   "cell_type": "code",
   "execution_count": 29,
   "metadata": {},
   "outputs": [
    {
     "name": "stdout",
     "output_type": "stream",
     "text": [
      "/projects/ucar-lab/danaco/bncmrk-dblts/Scrublet/output/CZI.PBMC/\n",
      "/projects/ucar-lab/danaco/bncmrk-dblts/Scrublet/output/CZI.PBMC/CZI.PBMC.4.Scr.doublet.scores.0.1exp_rate.csv\n",
      "/projects/ucar-lab/danaco/bncmrk-dblts/Scrublet/output/CZI.PBMC/\n",
      "/projects/ucar-lab/danaco/bncmrk-dblts/Scrublet/output/CZI.PBMC/CZI.PBMC.1.Scr.doublet.scores.0.1exp_rate.csv\n",
      "/projects/ucar-lab/danaco/bncmrk-dblts/Scrublet/output/CZI.PBMC/\n",
      "/projects/ucar-lab/danaco/bncmrk-dblts/Scrublet/output/CZI.PBMC/CZI.PBMC.7.Scr.doublet.scores.0.1exp_rate.csv\n",
      "/projects/ucar-lab/danaco/bncmrk-dblts/Scrublet/output/CZI.PBMC/\n",
      "/projects/ucar-lab/danaco/bncmrk-dblts/Scrublet/output/CZI.PBMC/CZI.PBMC.3.Scr.doublet.scores.0.1exp_rate.csv\n",
      "/projects/ucar-lab/danaco/bncmrk-dblts/Scrublet/output/CZI.PBMC/\n",
      "/projects/ucar-lab/danaco/bncmrk-dblts/Scrublet/output/CZI.PBMC/CZI.PBMC.2.Scr.doublet.scores.0.1exp_rate.csv\n",
      "/projects/ucar-lab/danaco/bncmrk-dblts/Scrublet/output/CZI.PBMC/\n",
      "/projects/ucar-lab/danaco/bncmrk-dblts/Scrublet/output/CZI.PBMC/CZI.PBMC.5.Scr.doublet.scores.0.1exp_rate.csv\n",
      "/projects/ucar-lab/danaco/bncmrk-dblts/Scrublet/output/CZI.PBMC/\n",
      "/projects/ucar-lab/danaco/bncmrk-dblts/Scrublet/output/CZI.PBMC/CZI.PBMC.8.Scr.doublet.scores.0.1exp_rate.csv\n",
      "/projects/ucar-lab/danaco/bncmrk-dblts/Scrublet/output/CZI.PBMC/\n",
      "/projects/ucar-lab/danaco/bncmrk-dblts/Scrublet/output/CZI.PBMC/CZI.PBMC.9.Scr.doublet.scores.0.1exp_rate.csv\n",
      "/projects/ucar-lab/danaco/bncmrk-dblts/Scrublet/output/CZI.PBMC/\n",
      "/projects/ucar-lab/danaco/bncmrk-dblts/Scrublet/output/CZI.PBMC/CZI.PBMC.6.Scr.doublet.scores.0.1exp_rate.csv\n",
      "/projects/ucar-lab/danaco/bncmrk-dblts/Scrublet/output/CZI.PBMC/\n",
      "/projects/ucar-lab/danaco/bncmrk-dblts/Scrublet/output/CZI.PBMC/CZI.PBMC.10.Scr.doublet.scores.0.1exp_rate.csv\n",
      "/projects/ucar-lab/danaco/bncmrk-dblts/Scrublet/output/PBMC.8.HTO/\n",
      "/projects/ucar-lab/danaco/bncmrk-dblts/Scrublet/output/PBMC.8.HTO/PBMC.8.HTO.Scr.doublet.scores.0.1exp_rate.csv\n",
      "/projects/ucar-lab/danaco/bncmrk-dblts/Scrublet/output/Four.Cell.12.HTO/\n",
      "/projects/ucar-lab/danaco/bncmrk-dblts/Scrublet/output/Four.Cell.12.HTO/Four.Cell.12.HTO.Scr.doublet.scores.0.1exp_rate.csv\n"
     ]
    }
   ],
   "source": [
    "home_dir=\"/projects/ucar-lab/danaco/bncmrk-dblts\"\n",
    "\n",
    "os.chdir(home_dir+\"/Python\")\n",
    "\n",
    "from scr_pipe import *\n",
    "\n",
    "pr_names=list([\"CZI.PBMC\",\"PBMC.8.HTO\",\"Four.Cell.12.HTO\"])\n",
    "\n",
    "for i in pr_names:\n",
    "    os.chdir(home_dir+\"/Scrublet/input/\"+i)\n",
    "    fl=glob.glob(\"*raw.counts.for.Scrublet.mtx\")\n",
    "    for j in fl:\n",
    "        bebe_pipe(j)"
   ]
  },
  {
   "cell_type": "code",
   "execution_count": 8,
   "metadata": {},
   "outputs": [],
   "source": [
    "file_name=\"CZI.PBMC.4.raw.counts.for.Scrublet.mtx\""
   ]
  },
  {
   "cell_type": "code",
   "execution_count": 10,
   "metadata": {},
   "outputs": [
    {
     "data": {
      "text/plain": [
       "'CZI.PBMC.4'"
      ]
     },
     "execution_count": 10,
     "metadata": {},
     "output_type": "execute_result"
    }
   ],
   "source": [
    "file_name.split(\".raw\")[0]"
   ]
  },
  {
   "cell_type": "code",
   "execution_count": 19,
   "metadata": {
    "collapsed": true
   },
   "outputs": [],
   "source": [
    "file_name2=\"/projects/ucar-lab/danaco/bncmrk-dblts/Scrublet/input/CZI.PBMC/CZI.PBMC.4.raw.counts.for.Scrublet.mtx\""
   ]
  },
  {
   "cell_type": "code",
   "execution_count": 22,
   "metadata": {
    "collapsed": true
   },
   "outputs": [],
   "source": [
    "home_dir=\"/\".join(file_name2.split(\"/\")[0:len(file_name.split(\"/\"))-5])"
   ]
  },
  {
   "cell_type": "code",
   "execution_count": 23,
   "metadata": {},
   "outputs": [
    {
     "data": {
      "text/plain": [
       "'/projects/ucar-lab/danaco/bncmrk-dblts'"
      ]
     },
     "execution_count": 23,
     "metadata": {},
     "output_type": "execute_result"
    }
   ],
   "source": [
    "home_dir"
   ]
  },
  {
   "cell_type": "code",
   "execution_count": 26,
   "metadata": {},
   "outputs": [],
   "source": [
    "file_name2=file_name2.split(\"/\")[-1]"
   ]
  },
  {
   "cell_type": "code",
   "execution_count": 27,
   "metadata": {},
   "outputs": [
    {
     "data": {
      "text/plain": [
       "'CZI.PBMC.4'"
      ]
     },
     "execution_count": 27,
     "metadata": {},
     "output_type": "execute_result"
    }
   ],
   "source": [
    "seu_kidney="
   ]
  },
  {
   "cell_type": "code",
   "execution_count": null,
   "metadata": {
    "collapsed": true
   },
   "outputs": [],
   "source": []
  }
 ],
 "metadata": {
  "kernelspec": {
   "display_name": "Python 3",
   "language": "python",
   "name": "python3"
  },
  "language_info": {
   "codemirror_mode": {
    "name": "ipython",
    "version": 3
   },
   "file_extension": ".py",
   "mimetype": "text/x-python",
   "name": "python",
   "nbconvert_exporter": "python",
   "pygments_lexer": "ipython3",
   "version": "3.6.2"
  }
 },
 "nbformat": 4,
 "nbformat_minor": 2
}
