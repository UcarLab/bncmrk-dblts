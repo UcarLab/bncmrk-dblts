{
 "cells": [
  {
   "cell_type": "markdown",
   "metadata": {},
   "source": [
    "This example shows how to:  \n",
    "1. Load a counts matrix (10X Chromium data from human peripheral blood cells)\n",
    "2. Run the default Scrublet pipeline \n",
    "3. Check that doublet predictions make sense"
   ]
  },
  {
   "cell_type": "code",
   "execution_count": 1,
   "metadata": {
    "collapsed": true
   },
   "outputs": [],
   "source": [
    "%matplotlib inline\n",
    "import scrublet as scr\n",
    "import scipy.io\n",
    "import matplotlib.pyplot as plt\n",
    "import numpy as np\n",
    "import os\n",
    "import pandas as pd \n",
    "import glob"
   ]
  },
  {
   "cell_type": "code",
   "execution_count": null,
   "metadata": {
    "collapsed": true
   },
   "outputs": [],
   "source": [
    "plt.rcParams['font.family'] = 'sans-serif'\n",
    "plt.rcParams['font.sans-serif'] = 'Arial'\n",
    "plt.rc('font', size=14)\n",
    "plt.rcParams['pdf.fonttype'] = 42"
   ]
  },
  {
   "cell_type": "markdown",
   "metadata": {},
   "source": [
    "#### Download 8k PBMC data set from 10X Genomics\n",
    "Download raw data from this link:\n",
    "http://cf.10xgenomics.com/samples/cell-exp/2.1.0/pbmc8k/pbmc8k_filtered_gene_bc_matrices.tar.gz\n",
    "\n",
    "\n",
    "Or use wget:"
   ]
  },
  {
   "cell_type": "code",
   "execution_count": null,
   "metadata": {
    "collapsed": true
   },
   "outputs": [],
   "source": [
    "#!wget http://cf.10xgenomics.com/samples/cell-exp/2.1.0/pbmc8k/pbmc8k_filtered_gene_bc_matrices.tar.gz"
   ]
  },
  {
   "cell_type": "markdown",
   "metadata": {},
   "source": [
    "Uncompress:"
   ]
  },
  {
   "cell_type": "code",
   "execution_count": null,
   "metadata": {
    "collapsed": true
   },
   "outputs": [],
   "source": [
    "#!tar xfz pbmc8k_filtered_gene_bc_matrices.tar.gz"
   ]
  },
  {
   "cell_type": "markdown",
   "metadata": {},
   "source": [
    "#### Load counts matrix and gene list\n",
    "Load the raw counts matrix as a scipy sparse matrix with cells as rows and genes as columns."
   ]
  },
  {
   "cell_type": "code",
   "execution_count": null,
   "metadata": {},
   "outputs": [],
   "source": [
    "#input_dir = 'Scrublet_Files/'\n",
    "counts_matrix = scipy.io.mmread('CZI_Fourth_Run_RNA_ADT_UMAP_paired_res_1.2_with_HTO_doubs.raw.counts.for.Scrublet.mtx').T.tocsc()\n",
    "#genes = np.array(scr.load_genes(input_dir + 'genes.tsv', delimiter='\\t', column=1))\n",
    "\n",
    "print('Counts matrix shape: {} rows, {} columns'.format(counts_matrix.shape[0], counts_matrix.shape[1]))\n",
    "#print('Number of genes in gene list: {}'.format(len(genes)))\n",
    "# number of rows corresponds to number of cells, input matrix of genes in rows, cells in columns"
   ]
  },
  {
   "cell_type": "markdown",
   "metadata": {},
   "source": [
    "#### Initialize Scrublet object\n",
    "The relevant parameters are:\n",
    "- *expected_doublet_rate*: the expected fraction of transcriptomes that are doublets, typically 0.05-0.1. Results are not particularly sensitive to this parameter. For this example, the expected doublet rate comes from the Chromium User Guide: https://support.10xgenomics.com/permalink/3vzDu3zQjY0o2AqkkkI4CC\n",
    "- *sim_doublet_ratio*: the number of doublets to simulate, relative to the number of observed transcriptomes. This should be high enough that all doublet states are well-represented by simulated doublets. Setting it too high is computationally expensive. The default value is 2, though values as low as 0.5 give very similar results for the datasets that have been tested.\n",
    "- *n_neighbors*: Number of neighbors used to construct the KNN classifier of observed transcriptomes and simulated doublets. The default value of `round(0.5*sqrt(n_cells))` generally works well.\n"
   ]
  },
  {
   "cell_type": "code",
   "execution_count": null,
   "metadata": {
    "collapsed": true
   },
   "outputs": [],
   "source": [
    "scrub = scr.Scrublet(counts_matrix, expected_doublet_rate=0.1) #d_rate was 0.1"
   ]
  },
  {
   "cell_type": "markdown",
   "metadata": {},
   "source": [
    "#### Run the default pipeline, which includes:\n",
    "1. Doublet simulation\n",
    "2. Normalization, gene filtering, rescaling, PCA\n",
    "3. Doublet score calculation \n",
    "4. Doublet score threshold detection and doublet calling\n"
   ]
  },
  {
   "cell_type": "code",
   "execution_count": null,
   "metadata": {},
   "outputs": [],
   "source": [
    "doublet_scores, predicted_doublets = scrub.scrub_doublets(min_counts=2, \n",
    "                                                          min_cells=3, \n",
    "                                                          min_gene_variability_pctl=85, \n",
    "                                                          n_prin_comps=30)"
   ]
  },
  {
   "cell_type": "markdown",
   "metadata": {},
   "source": [
    "#### Plot doublet score histograms  for observed transcriptomes and simulated doublets\n",
    "The simulated doublet histogram is typically bimodal. The left mode corresponds to \"embedded\" doublets generated by two cells with similar gene expression. The right mode corresponds to \"neotypic\" doublets, which are generated by cells with distinct gene expression (e.g., different cell types) and are expected to introduce more artifacts in downstream analyses. Scrublet can only detect neotypic doublets.  \n",
    "  \n",
    "To call doublets vs. singlets, we must set a threshold doublet score, ideally at the minimum between the two modes of the simulated doublet histogram. `scrub_doublets()` attempts to identify this point automatically and has done a good job in this example. However, if automatic threshold detection doesn't work well, you can adjust the threshold with the `call_doublets()` function. For example:\n",
    "```python\n",
    "scrub.call_doublets(threshold=0.25)\n",
    "```"
   ]
  },
  {
   "cell_type": "code",
   "execution_count": null,
   "metadata": {},
   "outputs": [],
   "source": [
    "#scrub.plot_histogram()\n",
    "scrub.call_doublets(threshold=0.35)\n"
   ]
  },
  {
   "cell_type": "markdown",
   "metadata": {},
   "source": [
    "#### Get 2-D embedding to visualize the results"
   ]
  },
  {
   "cell_type": "code",
   "execution_count": null,
   "metadata": {},
   "outputs": [],
   "source": [
    "print('Running UMAP...')\n",
    "scrub.set_embedding('UMAP', scr.get_umap(scrub.manifold_obs_, 10, min_dist=0.3))\n",
    "\n",
    "# # Uncomment to run tSNE - slow\n",
    "# print('Running tSNE...')\n",
    "# scrub.set_embedding('tSNE', scr.get_tsne(scrub.manifold_obs_, angle=0.9))\n",
    "\n",
    "# # Uncomment to run force layout - slow\n",
    "# print('Running ForceAtlas2...')\n",
    "# scrub.set_embedding('FA', scr.get_force_layout(scrub.manifold_obs_, n_neighbors=5. n_iter=1000))\n",
    "    \n",
    "print('Done.')"
   ]
  },
  {
   "cell_type": "markdown",
   "metadata": {},
   "source": [
    "#### Plot doublet predictions on 2-D embedding\n",
    "Predicted doublets should co-localize in distinct states."
   ]
  },
  {
   "cell_type": "code",
   "execution_count": null,
   "metadata": {},
   "outputs": [],
   "source": [
    "scrub.plot_embedding('UMAP', order_points=True);\n",
    "\n",
    "# scrub.plot_embedding('tSNE', order_points=True);\n",
    "# scrub.plot_embedding('FA', order_points=True);"
   ]
  },
  {
   "cell_type": "code",
   "execution_count": null,
   "metadata": {},
   "outputs": [],
   "source": [
    "pd.DataFrame(doublet_scores).to_csv(\"doublet_scores_1.0.csv\")"
   ]
  },
  {
   "cell_type": "code",
   "execution_count": null,
   "metadata": {},
   "outputs": [],
   "source": []
  },
  {
   "cell_type": "code",
   "execution_count": null,
   "metadata": {
    "collapsed": true
   },
   "outputs": [],
   "source": []
  },
  {
   "cell_type": "code",
   "execution_count": null,
   "metadata": {},
   "outputs": [],
   "source": []
  },
  {
   "cell_type": "code",
   "execution_count": null,
   "metadata": {},
   "outputs": [],
   "source": []
  },
  {
   "cell_type": "code",
   "execution_count": null,
   "metadata": {},
   "outputs": [],
   "source": []
  },
  {
   "cell_type": "code",
   "execution_count": null,
   "metadata": {},
   "outputs": [],
   "source": []
  },
  {
   "cell_type": "code",
   "execution_count": null,
   "metadata": {},
   "outputs": [],
   "source": []
  },
  {
   "cell_type": "code",
   "execution_count": null,
   "metadata": {},
   "outputs": [],
   "source": []
  },
  {
   "cell_type": "code",
   "execution_count": null,
   "metadata": {},
   "outputs": [],
   "source": [
    "aa=list([\"bebe\",\"deve\"])"
   ]
  },
  {
   "cell_type": "code",
   "execution_count": null,
   "metadata": {},
   "outputs": [],
   "source": [
    "aa[0]"
   ]
  },
  {
   "cell_type": "code",
   "execution_count": 2,
   "metadata": {},
   "outputs": [
    {
     "name": "stderr",
     "output_type": "stream",
     "text": [
      "ERROR:root:Internal Python error in the inspect module.\n",
      "Below is the traceback from this internal error.\n",
      "\n"
     ]
    },
    {
     "name": "stdout",
     "output_type": "stream",
     "text": [
      "Traceback (most recent call last):\n",
      "  File \"/home/danaco/.conda/envs/scSplit/lib/python3.6/site-packages/IPython/core/interactiveshell.py\", line 2862, in run_code\n",
      "    exec(code_obj, self.user_global_ns, self.user_ns)\n",
      "  File \"<ipython-input-2-1fd502045ead>\", line 14, in <module>\n",
      "    scr_pipe(j)\n",
      "  File \"/projects/ucar-lab/danaco/bncmrk-dblts/Python/scr_pipe.py\", line 10, in scr_pipe\n",
      "    counts_matrix = scipy.io.mmread(file_name).T.tocsc()\n",
      "  File \"/home/danaco/.conda/envs/scSplit/lib/python3.6/site-packages/scipy/io/mmio.py\", line 76, in mmread\n",
      "    return MMFile().read(source)\n",
      "  File \"/home/danaco/.conda/envs/scSplit/lib/python3.6/site-packages/scipy/io/mmio.py\", line 415, in read\n",
      "    return self._parse_body(stream)\n",
      "  File \"/home/danaco/.conda/envs/scSplit/lib/python3.6/site-packages/scipy/io/mmio.py\", line 592, in _parse_body\n",
      "    I[entry_number], J[entry_number] = map(int, l[:2])\n",
      "KeyboardInterrupt\n",
      "\n",
      "During handling of the above exception, another exception occurred:\n",
      "\n",
      "Traceback (most recent call last):\n",
      "  File \"/home/danaco/.conda/envs/scSplit/lib/python3.6/site-packages/IPython/core/interactiveshell.py\", line 1806, in showtraceback\n",
      "    stb = value._render_traceback_()\n",
      "AttributeError: 'KeyboardInterrupt' object has no attribute '_render_traceback_'\n",
      "\n",
      "During handling of the above exception, another exception occurred:\n",
      "\n",
      "Traceback (most recent call last):\n",
      "  File \"/home/danaco/.conda/envs/scSplit/lib/python3.6/site-packages/IPython/core/ultratb.py\", line 1090, in get_records\n",
      "    return _fixed_getinnerframes(etb, number_of_lines_of_context, tb_offset)\n",
      "  File \"/home/danaco/.conda/envs/scSplit/lib/python3.6/site-packages/IPython/core/ultratb.py\", line 311, in wrapped\n",
      "    return f(*args, **kwargs)\n",
      "  File \"/home/danaco/.conda/envs/scSplit/lib/python3.6/site-packages/IPython/core/ultratb.py\", line 345, in _fixed_getinnerframes\n",
      "    records = fix_frame_records_filenames(inspect.getinnerframes(etb, context))\n",
      "  File \"/home/danaco/.conda/envs/scSplit/lib/python3.6/inspect.py\", line 1480, in getinnerframes\n",
      "    frameinfo = (tb.tb_frame,) + getframeinfo(tb, context)\n",
      "  File \"/home/danaco/.conda/envs/scSplit/lib/python3.6/inspect.py\", line 1438, in getframeinfo\n",
      "    filename = getsourcefile(frame) or getfile(frame)\n",
      "  File \"/home/danaco/.conda/envs/scSplit/lib/python3.6/inspect.py\", line 693, in getsourcefile\n",
      "    if getattr(getmodule(object, filename), '__loader__', None) is not None:\n",
      "  File \"/home/danaco/.conda/envs/scSplit/lib/python3.6/inspect.py\", line 739, in getmodule\n",
      "    os.path.realpath(f)] = module.__name__\n",
      "  File \"/home/danaco/.conda/envs/scSplit/lib/python3.6/posixpath.py\", line 386, in realpath\n",
      "    path, ok = _joinrealpath(filename[:0], filename, {})\n",
      "  File \"/home/danaco/.conda/envs/scSplit/lib/python3.6/posixpath.py\", line 401, in _joinrealpath\n",
      "    if isabs(rest):\n",
      "  File \"/home/danaco/.conda/envs/scSplit/lib/python3.6/posixpath.py\", line 65, in isabs\n",
      "    sep = _get_sep(s)\n",
      "  File \"/home/danaco/.conda/envs/scSplit/lib/python3.6/posixpath.py\", line 40, in _get_sep\n",
      "    if isinstance(path, bytes):\n",
      "KeyboardInterrupt\n"
     ]
    },
    {
     "ename": "KeyboardInterrupt",
     "evalue": "",
     "output_type": "error",
     "traceback": [
      "\u001b[0;31m---------------------------------------------------------------------------\u001b[0m"
     ]
    }
   ],
   "source": [
    "\n",
    "home_dir=\"/projects/ucar-lab/danaco/bncmrk-dblts\"\n",
    "\n",
    "os.chdir(home_dir+\"/Python\")\n",
    "\n",
    "from scr_pipe import *\n",
    "\n",
    "pr_names=list([\"CZI.PBMC\",\"PBMC.8.HTO\",\"Four.Cell.12.HTO\"])\n",
    "\n",
    "for i in pr_names:\n",
    "    os.chdir(home_dir+\"/Scrublet/input/\"+i)\n",
    "    fl=glob.glob(\"*raw.counts.for.Scrublet.mtx\")\n",
    "    for j in fl:\n",
    "        scr_pipe(j)"
   ]
  },
  {
   "cell_type": "code",
   "execution_count": 4,
   "metadata": {},
   "outputs": [
    {
     "ename": "TypeError",
     "evalue": "must be str, not float",
     "output_type": "error",
     "traceback": [
      "\u001b[0;31m---------------------------------------------------------------------------\u001b[0m",
      "\u001b[0;31mTypeError\u001b[0m                                 Traceback (most recent call last)",
      "\u001b[0;32m<ipython-input-4-b9c413f7a547>\u001b[0m in \u001b[0;36m<module>\u001b[0;34m()\u001b[0m\n\u001b[1;32m      4\u001b[0m \u001b[0mout_dir\u001b[0m\u001b[0;34m=\u001b[0m\u001b[0mhome_dir\u001b[0m\u001b[0;34m+\u001b[0m\u001b[0;34m\"/Scrublet/output/\"\u001b[0m\u001b[0;34m+\u001b[0m\u001b[0mpr_name\u001b[0m\u001b[0;34m+\u001b[0m\u001b[0;34m\"/\"\u001b[0m\u001b[0;34m\u001b[0m\u001b[0m\n\u001b[1;32m      5\u001b[0m \u001b[0;34m\u001b[0m\u001b[0m\n\u001b[0;32m----> 6\u001b[0;31m \u001b[0mout_dir\u001b[0m\u001b[0;34m+\u001b[0m\u001b[0;34m\"Scr.doublet.scores.\"\u001b[0m\u001b[0;34m+\u001b[0m\u001b[0;36m0.1\u001b[0m\u001b[0;34m+\u001b[0m\u001b[0;34m\"exp_rate.csv\"\u001b[0m\u001b[0;34m\u001b[0m\u001b[0m\n\u001b[0m",
      "\u001b[0;31mTypeError\u001b[0m: must be str, not float"
     ]
    }
   ],
   "source": [
    "home_dir=\"/\".join(os.getcwd().split(\"/\")[0:len(os.getcwd().split(\"/\"))-3])\n",
    "pr_name=os.getcwd().split(\"/\")[-1]\n",
    "\n",
    "out_dir=home_dir+\"/Scrublet/output/\"+pr_name+\"/\"\n",
    "\n",
    "out_dir+\"Scr.doublet.scores.\"+0.1+\"exp_rate.csv\""
   ]
  },
  {
   "cell_type": "code",
   "execution_count": 8,
   "metadata": {},
   "outputs": [
    {
     "ename": "TypeError",
     "evalue": "must be str, not float",
     "output_type": "error",
     "traceback": [
      "\u001b[0;31m---------------------------------------------------------------------------\u001b[0m",
      "\u001b[0;31mTypeError\u001b[0m                                 Traceback (most recent call last)",
      "\u001b[0;32m<ipython-input-8-1bbfaf230cae>\u001b[0m in \u001b[0;36m<module>\u001b[0;34m()\u001b[0m\n\u001b[0;32m----> 1\u001b[0;31m \u001b[0mout_dir\u001b[0m\u001b[0;34m+\u001b[0m\u001b[0;36m0.1\u001b[0m\u001b[0;34m\u001b[0m\u001b[0m\n\u001b[0m",
      "\u001b[0;31mTypeError\u001b[0m: must be str, not float"
     ]
    }
   ],
   "source": [
    "out_dir+0.1"
   ]
  },
  {
   "cell_type": "code",
   "execution_count": 10,
   "metadata": {},
   "outputs": [
    {
     "data": {
      "text/plain": [
       "'0.1'"
      ]
     },
     "execution_count": 10,
     "metadata": {},
     "output_type": "execute_result"
    }
   ],
   "source": [
    "str(0.1)"
   ]
  },
  {
   "cell_type": "code",
   "execution_count": null,
   "metadata": {},
   "outputs": [],
   "source": [
    "anan(x=3)"
   ]
  },
  {
   "cell_type": "code",
   "execution_count": null,
   "metadata": {
    "collapsed": true
   },
   "outputs": [],
   "source": []
  }
 ],
 "metadata": {
  "kernelspec": {
   "display_name": "Python 3",
   "language": "python",
   "name": "python3"
  },
  "language_info": {
   "codemirror_mode": {
    "name": "ipython",
    "version": 3
   },
   "file_extension": ".py",
   "mimetype": "text/x-python",
   "name": "python",
   "nbconvert_exporter": "python",
   "pygments_lexer": "ipython3",
   "version": "3.6.2"
  }
 },
 "nbformat": 4,
 "nbformat_minor": 2
}
