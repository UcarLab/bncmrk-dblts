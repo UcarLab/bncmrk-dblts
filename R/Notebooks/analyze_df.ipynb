{
 "cells": [
  {
   "cell_type": "code",
   "execution_count": 1,
   "metadata": {},
   "outputs": [
    {
     "name": "stderr",
     "output_type": "stream",
     "text": [
      "\n",
      "Attaching package: ‘dplyr’\n",
      "\n",
      "The following objects are masked from ‘package:stats’:\n",
      "\n",
      "    filter, lag\n",
      "\n",
      "The following objects are masked from ‘package:base’:\n",
      "\n",
      "    intersect, setdiff, setequal, union\n",
      "\n",
      "\n",
      "Attaching package: ‘cowplot’\n",
      "\n",
      "The following object is masked from ‘package:ggplot2’:\n",
      "\n",
      "    ggsave\n",
      "\n"
     ]
    }
   ],
   "source": [
    "rm(list = ls())\n",
    "set.seed(100)\n",
    "library(Rtsne)\n",
    "library(RColorBrewer)\n",
    "library(pheatmap)\n",
    "library(dplyr)\n",
    "library(ggplot2)\n",
    "library(cowplot)\n",
    "library(Seurat)\n",
    "library(Matrix)"
   ]
  },
  {
   "cell_type": "code",
   "execution_count": 2,
   "metadata": {
    "collapsed": true
   },
   "outputs": [],
   "source": [
    "#ftrs_lst=read.csv(\"../../../Ground/groundTruthBarcodes.csv\")[,2]\n",
    "df.1.md=read.csv(\"/projects/ucar-lab/danaco/bncmrk-dblts/DF/output/CZI.PBMC/CZI.PBMC.1.DF.output.DF.metadata.0.28.csv\")\n",
    "df.2.md=read.csv(\"/projects/ucar-lab/danaco/bncmrk-dblts/DF/output/CZI.PBMC/CZI.PBMC.2.DF.output.DF.metadata.0.3.csv\")\n"
   ]
  },
  {
   "cell_type": "code",
   "execution_count": 102,
   "metadata": {
    "collapsed": true
   },
   "outputs": [],
   "source": [
    "dr_1=sum(as.character(df.1.md$DF.classifications_0.25_0.3_2325)==\"Doublet\")\n",
    "dr_10=sum(as.character(df.10.md$DF.classifications_0.25_0.01_1913)==\"Doublet\")\n",
    "dr_2=sum(as.character(df.2.md$DF.classifications_0.25_0.01_2269)==\"Doublet\")\n",
    "dr_3=sum(as.character(df.3.md$DF.classifications_0.25_0.16_2164)==\"Doublet\")\n",
    "dr_4=sum(as.character(df.4.md$DF.classifications_0.25_0.3_2208)==\"Doublet\")\n",
    "dr_5=sum(as.character(df.5.md$DF.classifications_0.25_0.18_2139)==\"Doublet\")\n",
    "dr_6=sum(as.character(df.6.md$DF.classifications_0.25_0.25_2135)==\"Doublet\")\n",
    "dr_7=sum(as.character(df.7.md$DF.classifications_0.25_0.26_2206)==\"Doublet\")\n",
    "dr_8=sum(as.character(df.8.md$DF.classifications_0.25_0.27_2056)==\"Doublet\")\n",
    "dr_9=sum(as.character(df.9.md$DF.classifications_0.25_0.02_2274)==\"Doublet\")"
   ]
  },
  {
   "cell_type": "code",
   "execution_count": 105,
   "metadata": {
    "collapsed": true
   },
   "outputs": [],
   "source": [
    "df.1=data.frame(BARCODE=as.character(df.1.md$X),Df_label=as.character(df.1.md$DF.classifications_0.25_0.3_2325))\n",
    "df.10=data.frame(BARCODE=as.character(df.10.md$X),Df_label=as.character(df.10.md$DF.classifications_0.25_0.01_1913))\n",
    "df.2=data.frame(BARCODE=as.character(df.2.md$X),Df_label=as.character(df.2.md$DF.classifications_0.25_0.01_2269))\n",
    "df.3=data.frame(BARCODE=as.character(df.3.md$X),Df_label=as.character(df.3.md$DF.classifications_0.25_0.16_2164))\n",
    "df.4=data.frame(BARCODE=as.character(df.4.md$X),Df_label=as.character(df.4.md$DF.classifications_0.25_0.3_2208))\n",
    "df.5=data.frame(BARCODE=as.character(df.5.md$X),Df_label=as.character(df.5.md$DF.classifications_0.25_0.18_2139))\n",
    "df.6=data.frame(BARCODE=as.character(df.6.md$X),Df_label=as.character(df.6.md$DF.classifications_0.25_0.25_2135))\n",
    "df.7=data.frame(BARCODE=as.character(df.7.md$X),Df_label=as.character(df.7.md$DF.classifications_0.25_0.26_2206))\n",
    "df.8=data.frame(BARCODE=as.character(df.8.md$X),Df_label=as.character(df.8.md$DF.classifications_0.25_0.27_2056))\n",
    "df.9=data.frame(BARCODE=as.character(df.9.md$X),Df_label=as.character(df.9.md$DF.classifications_0.25_0.02_2274))"
   ]
  },
  {
   "cell_type": "code",
   "execution_count": 144,
   "metadata": {
    "collapsed": true
   },
   "outputs": [],
   "source": [
    "df.gr=rbind(df.1,df.2,df.3,df.4,df.5,df.6,df.7,df.8,df.9,df.10)\n",
    "df.gr$Df_label=as.character(df.gr$Df_label)"
   ]
  },
  {
   "cell_type": "code",
   "execution_count": 146,
   "metadata": {
    "collapsed": true
   },
   "outputs": [],
   "source": [
    "df.gr$Df_label[df.gr$Df_label==\"Singlet\"]=\"SNG\"\n",
    "df.gr$Df_label[df.gr$Df_label==\"Doublet\"]=\"DBL\""
   ]
  },
  {
   "cell_type": "code",
   "execution_count": 148,
   "metadata": {
    "collapsed": true
   },
   "outputs": [],
   "source": [
    "saveRDS(df.gr,\"doubletFinderGround.Rds\")\n",
    "write.csv(df.gr,\"doubletFinderGround.csv\")"
   ]
  },
  {
   "cell_type": "code",
   "execution_count": 132,
   "metadata": {},
   "outputs": [
    {
     "data": {
      "text/html": [
       "<ol class=list-inline>\n",
       "\t<li>Doublet</li>\n",
       "\t<li>Doublet</li>\n",
       "\t<li>Doublet</li>\n",
       "\t<li>Doublet</li>\n",
       "\t<li>Doublet</li>\n",
       "\t<li>Doublet</li>\n",
       "\t<li>Doublet</li>\n",
       "\t<li>Doublet</li>\n",
       "\t<li>Doublet</li>\n",
       "\t<li>Doublet</li>\n",
       "</ol>\n"
      ],
      "text/latex": [
       "\\begin{enumerate*}\n",
       "\\item Doublet\n",
       "\\item Doublet\n",
       "\\item Doublet\n",
       "\\item Doublet\n",
       "\\item Doublet\n",
       "\\item Doublet\n",
       "\\item Doublet\n",
       "\\item Doublet\n",
       "\\item Doublet\n",
       "\\item Doublet\n",
       "\\end{enumerate*}\n"
      ],
      "text/markdown": [
       "1. Doublet\n",
       "2. Doublet\n",
       "3. Doublet\n",
       "4. Doublet\n",
       "5. Doublet\n",
       "6. Doublet\n",
       "7. Doublet\n",
       "8. Doublet\n",
       "9. Doublet\n",
       "10. Doublet\n",
       "\n",
       "\n"
      ],
      "text/plain": [
       " [1] Doublet Doublet Doublet Doublet Doublet Doublet Doublet Doublet Doublet\n",
       "[10] Doublet\n",
       "Levels: Doublet Singlet"
      ]
     },
     "metadata": {},
     "output_type": "display_data"
    }
   ],
   "source": [
    "#df.gr$Df_label[which(as.character(df.gr$Df_label)==\"Doublet\")]"
   ]
  },
  {
   "cell_type": "code",
   "execution_count": 4,
   "metadata": {},
   "outputs": [
    {
     "data": {
      "text/html": [
       "Singlet"
      ],
      "text/latex": [
       "Singlet"
      ],
      "text/markdown": [
       "Singlet"
      ],
      "text/plain": [
       "[1] Singlet\n",
       "Levels: Doublet Singlet"
      ]
     },
     "metadata": {},
     "output_type": "display_data"
    }
   ],
   "source": [
    "df.1.md$DF.classifications_0.25_0.28_2409[10]"
   ]
  },
  {
   "cell_type": "code",
   "execution_count": 7,
   "metadata": {},
   "outputs": [
    {
     "data": {
      "text/html": [
       "Singlet"
      ],
      "text/latex": [
       "Singlet"
      ],
      "text/markdown": [
       "Singlet"
      ],
      "text/plain": [
       "[1] Singlet\n",
       "Levels: Doublet Singlet"
      ]
     },
     "metadata": {},
     "output_type": "display_data"
    }
   ],
   "source": [
    "df.2.md$DF.classifications_0.25_0.3_2420[1]"
   ]
  },
  {
   "cell_type": "code",
   "execution_count": 10,
   "metadata": {},
   "outputs": [
    {
     "data": {
      "text/html": [
       "'DF.classifications_0.25_0.28_2409'"
      ],
      "text/latex": [
       "'DF.classifications\\_0.25\\_0.28\\_2409'"
      ],
      "text/markdown": [
       "'DF.classifications_0.25_0.28_2409'"
      ],
      "text/plain": [
       "[1] \"DF.classifications_0.25_0.28_2409\""
      ]
     },
     "metadata": {},
     "output_type": "display_data"
    }
   ],
   "source": [
    "colnames(df.1.md)[8]"
   ]
  },
  {
   "cell_type": "code",
   "execution_count": 11,
   "metadata": {},
   "outputs": [
    {
     "name": "stdout",
     "output_type": "stream",
     "text": [
      "[1] \"CZI.PBMC.1.DF.output.DF.metadata.0.28.csv\"\n",
      "[1] \"CZI.PBMC.10.DF.output.DF.metadata.0.25.csv\"\n",
      "[1] \"CZI.PBMC.2.DF.output.DF.metadata.0.3.csv\"\n",
      "[1] \"CZI.PBMC.3.DF.output.DF.metadata.0.001.csv\"\n",
      "[1] \"CZI.PBMC.4.DF.output.DF.metadata.0.001.csv\"\n",
      "[1] \"CZI.PBMC.5.DF.output.DF.metadata.0.02.csv\"\n",
      "[1] \"CZI.PBMC.6.DF.output.DF.metadata.0.2.csv\"\n",
      "[1] \"CZI.PBMC.7.DF.output.DF.metadata.0.21.csv\"\n",
      "[1] \"CZI.PBMC.8.DF.output.DF.metadata.0.23.csv\"\n",
      "[1] \"CZI.PBMC.9.DF.output.DF.metadata.0.001.csv\"\n",
      "[1] \"Four.Cell.12.HTO.DF.output.DF.metadata.0.06.csv\"\n",
      "[1] \"PBMC.8.HTO.DF.output.DF.metadata.0.17.csv\"\n"
     ]
    }
   ],
   "source": [
    "\n",
    "setwd(\"/projects/ucar-lab/danaco/bncmrk-dblts/DF/output\")\n",
    "\n",
    "pr_names=dir()\n",
    "\n",
    "for (j in 1:length(pr_names) ){\n",
    "    setwd(paste(\"/projects/ucar-lab/danaco/bncmrk-dblts/DF/output/\",pr_names[j],sep=\"\"))\n",
    "    fl <- list.files(pattern = \"DF.output.DF.metadata\")\n",
    "    for (i in 1:length(fl)){\n",
    "        print(fl[i])}\n",
    "    \n",
    "}"
   ]
  },
  {
   "cell_type": "code",
   "execution_count": 4,
   "metadata": {},
   "outputs": [
    {
     "data": {
      "text/html": [
       "<dl class=dl-horizontal>\n",
       "\t<dt>Doublet</dt>\n",
       "\t\t<dd>2420</dd>\n",
       "\t<dt>Singlet</dt>\n",
       "\t\t<dd>29846</dd>\n",
       "</dl>\n"
      ],
      "text/latex": [
       "\\begin{description*}\n",
       "\\item[Doublet] 2420\n",
       "\\item[Singlet] 29846\n",
       "\\end{description*}\n"
      ],
      "text/markdown": [
       "Doublet\n",
       ":   2420Singlet\n",
       ":   29846\n",
       "\n"
      ],
      "text/plain": [
       "Doublet Singlet \n",
       "   2420   29846 "
      ]
     },
     "metadata": {},
     "output_type": "display_data"
    }
   ],
   "source": [
    "summary(df.2.md[,8])"
   ]
  },
  {
   "cell_type": "code",
   "execution_count": 6,
   "metadata": {},
   "outputs": [],
   "source": [
    "file_name=\"/projects/ucar-lab/danaco/bncmrk-dblts/DF/output/CZI.PBMC/CZI.PBMC.1.DF.output.DF.metadata.0.28.csv\""
   ]
  },
  {
   "cell_type": "code",
   "execution_count": 22,
   "metadata": {},
   "outputs": [],
   "source": [
    "if (length(grep(file_name,pattern=\"/\"))>0){\n",
    "    home_dir=paste(strsplit(file_name,split=\"/\")[[1]][1:(length(strsplit(file_name,split=\"/\")[[1]])-4)],collapse=\"/\")\n",
    "    pr_name=unlist(lapply(strsplit(file_name,split=\"/\"),\"[[\",length(strsplit(file_name,split=\"/\")[[1]])-1))\n",
    "#setwd(paste(\"/\",home_dir,\"/DF/input/\",pr_name,sep=\"\"))\n",
    "    file_name=unlist(lapply(strsplit(file_name,split=\"/\"),\"[[\",length(strsplit(file_name,split=\"/\")[[1]])))\n",
    "    file_dir=paste(home_dir,\"/DF/output/\",pr_name,sep=\"\")\n",
    "}else {home_dir=paste(strsplit(getwd(),split=\"/\")[[1]][1:(length(strsplit(getwd(),split=\"/\")[[1]])-3)],collapse=\"/\")\n",
    "      pr_name=unlist(lapply(strsplit(getwd(),split=\"/\"),\"[[\",length(strsplit(getwd(),split=\"/\")[[1]])))\n",
    "      file_dir=paste(home_dir,\"/DF/output/\",pr_name,sep=\"\")}\n",
    "\n",
    "file_name=strsplit(x=file_name,split=\".csv\")[[1]][1]\n",
    "\n",
    "name <- unlist(lapply(strsplit(x = file_name, split = \".DF.metadata\"),`[[`, 1))\n",
    "\n",
    "name=paste(name,\"barcodes.labels.csv\",sep=\".\")\n",
    "\n",
    "name=paste0(file_dir,\"/\",name)"
   ]
  },
  {
   "cell_type": "code",
   "execution_count": 20,
   "metadata": {},
   "outputs": [],
   "source": [
    "setwd(\"/projects/ucar-lab/danaco/bncmrk-dblts/DF/output/CZI.PBMC/\")"
   ]
  },
  {
   "cell_type": "code",
   "execution_count": 21,
   "metadata": {
    "collapsed": true
   },
   "outputs": [],
   "source": [
    "file_name=\"CZI.PBMC.1.DF.output.DF.metadata.0.28.csv\""
   ]
  },
  {
   "cell_type": "code",
   "execution_count": 32,
   "metadata": {},
   "outputs": [
    {
     "name": "stdout",
     "output_type": "stream",
     "text": [
      "[1] \"CZI.PBMC.1.DF.output.barcodes.labels.csv\"\n",
      "[1] \"CZI.PBMC.10.DF.output.barcodes.labels.csv\"\n",
      "[1] \"CZI.PBMC.2.DF.output.barcodes.labels.csv\"\n",
      "[1] \"CZI.PBMC.3.DF.output.barcodes.labels.csv\"\n",
      "[1] \"CZI.PBMC.4.DF.output.barcodes.labels.csv\"\n",
      "[1] \"CZI.PBMC.5.DF.output.barcodes.labels.csv\"\n",
      "[1] \"CZI.PBMC.6.DF.output.barcodes.labels.csv\"\n",
      "[1] \"CZI.PBMC.7.DF.output.barcodes.labels.csv\"\n",
      "[1] \"CZI.PBMC.8.DF.output.barcodes.labels.csv\"\n",
      "[1] \"CZI.PBMC.9.DF.output.barcodes.labels.csv\"\n",
      "[1] \"Four.Cell.12.HTO.DF.output.barcodes.labels.csv\"\n",
      "[1] \"PBMC.8.HTO.DF.output.barcodes.labels.csv\"\n"
     ]
    }
   ],
   "source": [
    "source(\"/projects/ucar-lab/danaco/bncmrk-dblts/R/df_outcleanpipe.R\")\n",
    "\n",
    "\n",
    "#modify the project name, e.g\n",
    "#pr_names=c(\"CZI.PBMC\",\"PBMC.8.HTO\",\"Four.Cell.12.HTO\")\n",
    "setwd(\"/projects/ucar-lab/danaco/bncmrk-dblts/DF/output\")\n",
    "\n",
    "pr_names=dir()\n",
    "\n",
    "for (j in 1:length(pr_names) ){\n",
    "    setwd(paste(\"/projects/ucar-lab/danaco/bncmrk-dblts/DF/output/\",pr_names[j],sep=\"\"))\n",
    "    fl <- list.files(pattern = \".DF.output.barcodes.labels\")\n",
    "    for (i in 1:length(fl)){\n",
    "        print(fl[i])}\n",
    "    \n",
    "}"
   ]
  },
  {
   "cell_type": "code",
   "execution_count": 38,
   "metadata": {},
   "outputs": [],
   "source": [
    "pr_names=c(\"CZI.PBMC\")\n",
    "\n",
    "for (j in 1:length(pr_names) ){\n",
    "    setwd(paste(\"/projects/ucar-lab/danaco/bncmrk-dblts/DF/output/\",pr_names[j],sep=\"\"))\n",
    "    fl <- list.files(pattern = \".DF.output.barcodes.labels\")\n",
    "    df_combined=read.csv(fl[1])\n",
    "    for (i in 2:length(fl)){\n",
    "        df_combined=Matrix::rbind2(df_combined,read.csv(fl[i]))}\n",
    "    \n",
    "}\n",
    "\n",
    "write.csv(df_combined,\"CZI.PBMC.DF.output.barcodes.labels.csv\")"
   ]
  },
  {
   "cell_type": "code",
   "execution_count": 55,
   "metadata": {},
   "outputs": [],
   "source": []
  },
  {
   "cell_type": "code",
   "execution_count": 47,
   "metadata": {},
   "outputs": [
    {
     "data": {
      "text/html": [
       "<ol class=list-inline>\n",
       "\t<li>TRUE</li>\n",
       "\t<li>TRUE</li>\n",
       "\t<li>TRUE</li>\n",
       "\t<li>TRUE</li>\n",
       "</ol>\n"
      ],
      "text/latex": [
       "\\begin{enumerate*}\n",
       "\\item TRUE\n",
       "\\item TRUE\n",
       "\\item TRUE\n",
       "\\item TRUE\n",
       "\\end{enumerate*}\n"
      ],
      "text/markdown": [
       "1. TRUE\n",
       "2. TRUE\n",
       "3. TRUE\n",
       "4. TRUE\n",
       "\n",
       "\n"
      ],
      "text/plain": [
       "[1] TRUE TRUE TRUE TRUE"
      ]
     },
     "metadata": {},
     "output_type": "display_data"
    }
   ],
   "source": [
    "grepl(x=df_combined$BARCODE[1:4],pattern=\"1-Sample\")"
   ]
  },
  {
   "cell_type": "code",
   "execution_count": null,
   "metadata": {
    "collapsed": true
   },
   "outputs": [],
   "source": []
  }
 ],
 "metadata": {
  "kernelspec": {
   "display_name": "R",
   "language": "R",
   "name": "ir"
  },
  "language_info": {
   "codemirror_mode": "r",
   "file_extension": ".r",
   "mimetype": "text/x-r-source",
   "name": "R",
   "pygments_lexer": "r",
   "version": "3.4.1"
  }
 },
 "nbformat": 4,
 "nbformat_minor": 2
}
