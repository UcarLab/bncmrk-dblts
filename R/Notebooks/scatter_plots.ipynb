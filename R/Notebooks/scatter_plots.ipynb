{
 "cells": [
  {
   "cell_type": "code",
   "execution_count": 1,
   "metadata": {},
   "outputs": [
    {
     "name": "stderr",
     "output_type": "stream",
     "text": [
      "Loading required package: BiocGenerics\n",
      "Loading required package: parallel\n",
      "\n",
      "Attaching package: 'BiocGenerics'\n",
      "\n",
      "The following objects are masked from 'package:parallel':\n",
      "\n",
      "    clusterApply, clusterApplyLB, clusterCall, clusterEvalQ,\n",
      "    clusterExport, clusterMap, parApply, parCapply, parLapply,\n",
      "    parLapplyLB, parRapply, parSapply, parSapplyLB\n",
      "\n",
      "The following objects are masked from 'package:Matrix':\n",
      "\n",
      "    colMeans, colSums, rowMeans, rowSums, which\n",
      "\n",
      "The following objects are masked from 'package:stats':\n",
      "\n",
      "    IQR, mad, sd, var, xtabs\n",
      "\n",
      "The following objects are masked from 'package:base':\n",
      "\n",
      "    Filter, Find, Map, Position, Reduce, anyDuplicated, append,\n",
      "    as.data.frame, cbind, colMeans, colSums, colnames, do.call,\n",
      "    duplicated, eval, evalq, get, grep, grepl, intersect, is.unsorted,\n",
      "    lapply, lengths, mapply, match, mget, order, paste, pmax, pmax.int,\n",
      "    pmin, pmin.int, rank, rbind, rowMeans, rowSums, rownames, sapply,\n",
      "    setdiff, sort, table, tapply, union, unique, unsplit, which,\n",
      "    which.max, which.min\n",
      "\n",
      "Welcome to Bioconductor\n",
      "\n",
      "    Vignettes contain introductory material; view with\n",
      "    'browseVignettes()'. To cite Bioconductor, see\n",
      "    'citation(\"Biobase\")', and for packages 'citation(\"pkgname\")'.\n",
      "\n"
     ]
    }
   ],
   "source": [
    "library(Matrix)\n",
    "library(Biobase)"
   ]
  },
  {
   "cell_type": "code",
   "execution_count": 2,
   "metadata": {
    "collapsed": true
   },
   "outputs": [],
   "source": [
    "czi.hto=readRDS(\"/projects/ucar-lab/danaco/bncmrk-dblts/Data/CZI.PBMC/CZI.PBMC.HTO.ordered.count.matrix.Rds\")"
   ]
  },
  {
   "cell_type": "code",
   "execution_count": 8,
   "metadata": {},
   "outputs": [],
   "source": [
    "source(\"/projects/ucar-lab/danaco/bncmrk-dblts/R/HTO.pooled.pairwise.scatterplots.R\")"
   ]
  },
  {
   "cell_type": "code",
   "execution_count": 10,
   "metadata": {},
   "outputs": [],
   "source": [
    "setwd('/projects/ucar-lab/danaco/bncmrk-dblts/PairPlots/CZI.PBMC/')"
   ]
  },
  {
   "cell_type": "code",
   "execution_count": 28,
   "metadata": {},
   "outputs": [],
   "source": [
    "mtx_file=unlist(list.files(pattern=\"HTO.matrix.Rds\"))\n",
    "clss_file=unlist(list.files(pattern=\"GMM.csv\"))"
   ]
  },
  {
   "cell_type": "code",
   "execution_count": 21,
   "metadata": {},
   "outputs": [
    {
     "ename": "ERROR",
     "evalue": "Error in readRDS(mtx_file): cannot read workspace version 3 written by R 3.6.0; need R 3.5.0 or newer\n",
     "output_type": "error",
     "traceback": [
      "Error in readRDS(mtx_file): cannot read workspace version 3 written by R 3.6.0; need R 3.5.0 or newer\nTraceback:\n",
      "1. HTO.pooled.pairwise.scatterplots(mtx_file, clss_file)",
      "2. readRDS(mtx_file)"
     ]
    }
   ],
   "source": [
    "HTO.pooled.pairwise.scatterplots(mtx_file,clss_file)"
   ]
  },
  {
   "cell_type": "code",
   "execution_count": 29,
   "metadata": {},
   "outputs": [
    {
     "ename": "ERROR",
     "evalue": "Error in readRDS(mtx_file): cannot read workspace version 3 written by R 3.6.0; need R 3.5.0 or newer\n",
     "output_type": "error",
     "traceback": [
      "Error in readRDS(mtx_file): cannot read workspace version 3 written by R 3.6.0; need R 3.5.0 or newer\nTraceback:\n",
      "1. readRDS(mtx_file)"
     ]
    }
   ],
   "source": [
    "hto_sel <- readRDS(mtx_file)\n"
   ]
  },
  {
   "cell_type": "code",
   "execution_count": 32,
   "metadata": {},
   "outputs": [
    {
     "ename": "ERROR",
     "evalue": "Error in readRDS(as.character(mtx_file)): cannot read workspace version 3 written by R 3.6.0; need R 3.5.0 or newer\n",
     "output_type": "error",
     "traceback": [
      "Error in readRDS(as.character(mtx_file)): cannot read workspace version 3 written by R 3.6.0; need R 3.5.0 or newer\nTraceback:\n",
      "1. readRDS(as.character(mtx_file))"
     ]
    }
   ],
   "source": [
    "hto_sel=readRDS(as.character(mtx_file))"
   ]
  },
  {
   "cell_type": "code",
   "execution_count": 33,
   "metadata": {},
   "outputs": [
    {
     "name": "stdout",
     "output_type": "stream",
     "text": [
      "[1] \"CZI.PMBC.HTO.pooled.HTO.matrix.Rds\"\n"
     ]
    }
   ],
   "source": [
    "mtx_file=print(mtx_file)"
   ]
  },
  {
   "cell_type": "code",
   "execution_count": 36,
   "metadata": {},
   "outputs": [
    {
     "ename": "ERROR",
     "evalue": "Error in readRDS(\"CZI.PMBC.HTO.pooled.HTO.matrix.Rds\"): cannot read workspace version 3 written by R 3.6.0; need R 3.5.0 or newer\n",
     "output_type": "error",
     "traceback": [
      "Error in readRDS(\"CZI.PMBC.HTO.pooled.HTO.matrix.Rds\"): cannot read workspace version 3 written by R 3.6.0; need R 3.5.0 or newer\nTraceback:\n",
      "1. readRDS(\"CZI.PMBC.HTO.pooled.HTO.matrix.Rds\")"
     ]
    }
   ],
   "source": []
  },
  {
   "cell_type": "code",
   "execution_count": null,
   "metadata": {
    "collapsed": true
   },
   "outputs": [],
   "source": []
  }
 ],
 "metadata": {
  "kernelspec": {
   "display_name": "R",
   "language": "R",
   "name": "ir"
  },
  "language_info": {
   "codemirror_mode": "r",
   "file_extension": ".r",
   "mimetype": "text/x-r-source",
   "name": "R",
   "pygments_lexer": "r",
   "version": "3.4.1"
  }
 },
 "nbformat": 4,
 "nbformat_minor": 2
}
