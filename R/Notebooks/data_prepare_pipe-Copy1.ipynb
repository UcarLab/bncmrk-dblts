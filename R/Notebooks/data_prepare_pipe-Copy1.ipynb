{
 "cells": [
  {
   "cell_type": "code",
   "execution_count": 1,
   "metadata": {},
   "outputs": [
    {
     "name": "stderr",
     "output_type": "stream",
     "text": [
      "\n",
      "Attaching package: 'dplyr'\n",
      "\n",
      "The following objects are masked from 'package:stats':\n",
      "\n",
      "    filter, lag\n",
      "\n",
      "The following objects are masked from 'package:base':\n",
      "\n",
      "    intersect, setdiff, setequal, union\n",
      "\n",
      "\n",
      "Attaching package: 'cowplot'\n",
      "\n",
      "The following object is masked from 'package:ggplot2':\n",
      "\n",
      "    ggsave\n",
      "\n"
     ]
    }
   ],
   "source": [
    "#rm(list = ls())\n",
    "set.seed(100)\n",
    "library(Rtsne)\n",
    "library(RColorBrewer)\n",
    "library(pheatmap)\n",
    "library(dplyr)\n",
    "library(ggplot2)\n",
    "library(cowplot)\n",
    "library(Seurat)\n",
    "library(Matrix)\n"
   ]
  },
  {
   "cell_type": "code",
   "execution_count": 13,
   "metadata": {
    "collapsed": true
   },
   "outputs": [],
   "source": [
    "name <- \"CZI_Fourth_Run_RNA_ADT_UMAP_paired_res_1.2_with_HTO_doubs\"\n",
    "# change directory to where your matrices will be stored\n",
    "setwd(\"/projects/ucar-lab/danaco/Ground\")\n",
    "# read in genes\n",
    "genes <- read.delim(\"genes.tsv\",\n",
    "                    header = F, stringsAsFactors = F, check.names = F)\n",
    "\n",
    "# rna counts matrix\n",
    "all_rna <- readRDS(\"CZI_RNA_Fourth_run_raw_matrices.sparse.Rds\")\n",
    "# remove genes with zeros across all cells (non-informative)\n",
    "all_rna <- all_rna[rowSums(all_rna) > 0, ]\n",
    "\n",
    "\n",
    "# change rownames of genes from ENSEMBL id to symbols\n",
    "g_ids <- NULL\n",
    "for (g in 1:nrow(all_rna)) {\n",
    "  idx <- which(genes$V1 == rownames(all_rna)[g])\n",
    "  g_ids <- c(g_ids, genes$V2[idx[1]])\n",
    "}\n",
    "rownames(all_rna) <- g_ids\n",
    "\n",
    "# remove duplicate gene symbols from rna matrix\n",
    "dup_id <- which(duplicated(rownames(all_rna)))\n",
    "all_rna <- all_rna[-dup_id, ]\n",
    "\n",
    "#try this\n",
    "all_rna=all_rna[rowSums(all_rna)>50,colSums(all_rna)>400]"
   ]
  },
  {
   "cell_type": "markdown",
   "metadata": {},
   "source": [
    "dim(all_rna)"
   ]
  },
  {
   "cell_type": "code",
   "execution_count": 15,
   "metadata": {},
   "outputs": [
    {
     "data": {
      "text/html": [
       "219119"
      ],
      "text/latex": [
       "219119"
      ],
      "text/markdown": [
       "219119"
      ],
      "text/plain": [
       "[1] 219119"
      ]
     },
     "metadata": {},
     "output_type": "display_data"
    }
   ],
   "source": [
    "# read file containing HTO identity info (singlet, doublet, etc)\n",
    "hto <- read.csv(\"CZI.PMBC.HTO.pooled.sample.classifications.GMM.csv\",\n",
    "                header = T, check.names = F, stringsAsFactors = F, row.names = 2)\n",
    "#change column names of HTO matrix, the prefixes of the columns in the HTO matrix need to match those of the RNA matrix\n",
    "rownames(hto) <- gsub(x = rownames(hto), pattern = \"HTO\", replacement = \"Sample\")\n",
    "# should have ~300k plus cell barcodes\n",
    "length(which(colnames(all_rna) %in% rownames(hto)))\n",
    "\n",
    "# read in adt/protein matrix data, this will also be used to cluster data\n",
    "adt_counts <- readRDS(\"CZI.PMBC.ADT.pooled.combined.raw.matrix.Rds\")\n",
    "colnames(adt_counts) <- gsub(x = colnames(adt_counts), pattern = \"ADT\", replacement = \"Sample\")\n",
    "\n",
    "# some rows in the ADT matrix contain summary info and not levels of specific proteins, so remove them\n",
    "adt_id <- which(rownames(adt_counts) %in% c(\"bad_struct\", \"no_match\", \"total_reads\"))\n",
    "adt_counts <- adt_counts[-adt_id,]\n",
    "# remove control ids too (these aren't useful)\n",
    "adt_cont <- which(grepl(x = rownames(adt_counts), pattern = \"control\"))\n",
    "adt_counts <- adt_counts[-adt_cont, ]\n",
    "rownames(adt_counts) <- paste(\"CITE\", rownames(adt_counts), sep = \"-\")\n",
    "\n",
    "# change underscores in ADT row names to hyphens\n",
    "rownames(adt_counts) <- gsub(x = rownames(adt_counts), pattern = \"_\", replacement = \"-\")\n",
    "\n",
    "# analysis for all cells\n",
    "hto_sel <- hto\n",
    "\n",
    "#TRY: taking out the empty droplets from HTO None s\n",
    "no_none_barcodes=rownames(hto[as.character(hto$Sample) != \"None\",]) #cells who doesn't have none barcode\n",
    "cells_w_nb=Reduce(intersect,list(colnames(all_rna),no_none_barcodes)) #cells with no none barcodes overlapping with rna\n",
    "no_none_ids=which(colnames(all_rna) %in% cells_w_nb) #where do these cells located in rna matrix\n",
    "all_rna=all_rna[,no_none_ids] #at the end makes only 700 difference lol\n",
    "\n",
    "# find intersection of all cell barcodes across HTO, RNA, and ADT matrices\n",
    "int_cells <- Reduce(intersect, list(rownames(hto_sel), colnames(all_rna), colnames(adt_counts)))\n",
    "rna_ids <- which(colnames(all_rna) %in% int_cells)\n",
    "rna_sel <- all_rna[, rna_ids]\n",
    "adt_sel <- adt_counts[, colnames(rna_sel)]\n",
    "hto_sel <- hto[colnames(rna_sel), ]\n",
    "\n",
    "write.csv(rownames(adt_sel),\"ftrs_list.csv\")\n",
    "\n",
    "# do some filtering of the gene matrix (genes with low counts aren't useful for clustering)\n",
    "rna_sel <- rna_sel[Matrix::rowSums(rna_sel) > 5,]\n",
    "#rna_sel[rowSums(rna_sel)>40,colSums(rna_sel)>400]\n",
    "\n",
    "# rename metadata column names\n",
    "colnames(hto_sel) <- c(\"ID\", \"Markers\", \"Treatment\", \"Run\")\n",
    "\n",
    "# combine rna-seq and adt into a single matrix\n",
    "comb.counts <- Matrix::rbind2(rna_sel, as.matrix(adt_sel))"
   ]
  },
  {
   "cell_type": "code",
   "execution_count": 16,
   "metadata": {
    "collapsed": true
   },
   "outputs": [],
   "source": [
    "cc1=comb.counts[,substr(colnames(comb.counts)[],1,2)==\"1-\"]\n",
    "cc2=comb.counts[,substr(colnames(comb.counts)[],1,2)==\"2-\"]\n",
    "cc3=comb.counts[,substr(colnames(comb.counts)[],1,2)==\"3-\"]\n",
    "cc4=comb.counts[,substr(colnames(comb.counts)[],1,2)==\"4-\"]\n",
    "cc5=comb.counts[,substr(colnames(comb.counts)[],1,2)==\"5-\"]\n",
    "cc6=comb.counts[,substr(colnames(comb.counts)[],1,2)==\"6-\"]\n",
    "cc7=comb.counts[,substr(colnames(comb.counts)[],1,2)==\"7-\"]\n",
    "cc8=comb.counts[,substr(colnames(comb.counts)[],1,2)==\"8-\"]\n",
    "cc9=comb.counts[,substr(colnames(comb.counts)[],1,2)==\"9-\"]\n",
    "cc10=comb.counts[,substr(colnames(comb.counts)[],1,2)==\"10\"]"
   ]
  },
  {
   "cell_type": "code",
   "execution_count": 18,
   "metadata": {
    "collapsed": true
   },
   "outputs": [],
   "source": [
    "hto1=hto_sel[substr(rownames(hto_sel)[],1,2)==\"1-\",]\n",
    "hto2=hto_sel[substr(rownames(hto_sel)[],1,2)==\"2-\",]\n",
    "hto3=hto_sel[substr(rownames(hto_sel)[],1,2)==\"3-\",]\n",
    "hto4=hto_sel[substr(rownames(hto_sel)[],1,2)==\"4-\",]\n",
    "hto5=hto_sel[substr(rownames(hto_sel)[],1,2)==\"5-\",]\n",
    "hto6=hto_sel[substr(rownames(hto_sel)[],1,2)==\"6-\",]\n",
    "hto7=hto_sel[substr(rownames(hto_sel)[],1,2)==\"7-\",]\n",
    "hto8=hto_sel[substr(rownames(hto_sel)[],1,2)==\"8-\",]\n",
    "hto9=hto_sel[substr(rownames(hto_sel)[],1,2)==\"9-\",]\n",
    "hto10=hto_sel[substr(rownames(hto_sel)[],1,2)==\"10\",]"
   ]
  },
  {
   "cell_type": "code",
   "execution_count": 51,
   "metadata": {},
   "outputs": [
    {
     "name": "stderr",
     "output_type": "stream",
     "text": [
      "Warning message:\n",
      "“Feature names cannot have underscores ('_'), replacing with dashes ('-')”Warning message:\n",
      "“Feature names cannot have underscores ('_'), replacing with dashes ('-')”Warning message:\n",
      "“Feature names cannot have underscores ('_'), replacing with dashes ('-')”Warning message:\n",
      "“Feature names cannot have underscores ('_'), replacing with dashes ('-')”Warning message:\n",
      "“Feature names cannot have underscores ('_'), replacing with dashes ('-')”Warning message:\n",
      "“Feature names cannot have underscores ('_'), replacing with dashes ('-')”Warning message:\n",
      "“Feature names cannot have underscores ('_'), replacing with dashes ('-')”Warning message:\n",
      "“Feature names cannot have underscores ('_'), replacing with dashes ('-')”Warning message:\n",
      "“Feature names cannot have underscores ('_'), replacing with dashes ('-')”Warning message:\n",
      "“Feature names cannot have underscores ('_'), replacing with dashes ('-')”"
     ]
    }
   ],
   "source": [
    "saveRDS(CreateSeuratObject(counts=cc1,meta.data=hto1,assay=\"RNA\"),\"1_Seur_Input.Rds\")\n",
    "saveRDS(CreateSeuratObject(counts=cc2,meta.data=hto2,assay=\"RNA\"),\"2_Seur_Input.Rds\")\n",
    "saveRDS(CreateSeuratObject(counts=cc3,meta.data=hto3,assay=\"RNA\"),\"3_Seur_Input.Rds\")\n",
    "saveRDS(CreateSeuratObject(counts=cc4,meta.data=hto4,assay=\"RNA\"),\"4_Seur_Input.Rds\")\n",
    "saveRDS(CreateSeuratObject(counts=cc5,meta.data=hto5,assay=\"RNA\"),\"5_Seur_Input.Rds\")\n",
    "saveRDS(CreateSeuratObject(counts=cc6,meta.data=hto6,assay=\"RNA\"),\"6_Seur_Input.Rds\")\n",
    "saveRDS(CreateSeuratObject(counts=cc7,meta.data=hto7,assay=\"RNA\"),\"7_Seur_Input.Rds\")\n",
    "saveRDS(CreateSeuratObject(counts=cc8,meta.data=hto8,assay=\"RNA\"),\"8_Seur_Input.Rds\")\n",
    "saveRDS(CreateSeuratObject(counts=cc9,meta.data=hto9,assay=\"RNA\"),\"9_Seur_Input.Rds\")\n",
    "saveRDS(CreateSeuratObject(counts=cc10,meta.data=hto10,assay=\"RNA\"),\"10_Seur_Input.Rds\")"
   ]
  },
  {
   "cell_type": "code",
   "execution_count": 50,
   "metadata": {},
   "outputs": [
    {
     "data": {
      "text/plain": [
       "NULL"
      ]
     },
     "metadata": {},
     "output_type": "display_data"
    },
    {
     "data": {
      "text/plain": [
       "NULL"
      ]
     },
     "metadata": {},
     "output_type": "display_data"
    },
    {
     "data": {
      "text/plain": [
       "NULL"
      ]
     },
     "metadata": {},
     "output_type": "display_data"
    },
    {
     "data": {
      "text/plain": [
       "NULL"
      ]
     },
     "metadata": {},
     "output_type": "display_data"
    },
    {
     "data": {
      "text/plain": [
       "NULL"
      ]
     },
     "metadata": {},
     "output_type": "display_data"
    },
    {
     "data": {
      "text/plain": [
       "NULL"
      ]
     },
     "metadata": {},
     "output_type": "display_data"
    },
    {
     "data": {
      "text/plain": [
       "NULL"
      ]
     },
     "metadata": {},
     "output_type": "display_data"
    },
    {
     "data": {
      "text/plain": [
       "NULL"
      ]
     },
     "metadata": {},
     "output_type": "display_data"
    },
    {
     "data": {
      "text/plain": [
       "NULL"
      ]
     },
     "metadata": {},
     "output_type": "display_data"
    },
    {
     "data": {
      "text/plain": [
       "NULL"
      ]
     },
     "metadata": {},
     "output_type": "display_data"
    }
   ],
   "source": [
    "writeMM(cc1, paste(name, \"1_Scr_Input.mtx\", sep = \".\"))\n",
    "writeMM(cc2, paste(name, \"2_Scr_Input.mtx\", sep = \".\"))\n",
    "writeMM(cc3, paste(name, \"3_Scr_Input.mtx\", sep = \".\"))\n",
    "writeMM(cc4, paste(name, \"4_Scr_Input.mtx\", sep = \".\"))\n",
    "writeMM(cc5, paste(name, \"5_Scr_Input.mtx\", sep = \".\"))\n",
    "writeMM(cc6, paste(name, \"6_Scr_Input.mtx\", sep = \".\"))\n",
    "writeMM(cc7, paste(name, \"7_Scr_Input.mtx\", sep = \".\"))\n",
    "writeMM(cc8, paste(name, \"8_Scr_Input.mtx\", sep = \".\"))\n",
    "writeMM(cc9, paste(name, \"9_Scr_Input.mtx\", sep = \".\"))\n",
    "writeMM(cc10, paste(name, \"10_Scr_Input.mtx\", sep = \".\"))"
   ]
  },
  {
   "cell_type": "code",
   "execution_count": 44,
   "metadata": {
    "collapsed": true
   },
   "outputs": [],
   "source": [
    "source(\"df_pipe.R\")"
   ]
  },
  {
   "cell_type": "code",
   "execution_count": 19,
   "metadata": {},
   "outputs": [
    {
     "name": "stderr",
     "output_type": "stream",
     "text": [
      "Warning message:\n",
      "\"Feature names cannot have underscores ('_'), replacing with dashes ('-')\"Normalizing across features\n"
     ]
    }
   ],
   "source": [
    "#ftrs_lst=read.csv(\"ftrs_list.csv\")[,2]\n",
    "\n",
    "#pbmc= readRDS(name)\n",
    "pbmc = CreateSeuratObject(counts=cc1,meta.data = hto1,assay=\"RNA\")\n",
    "pbmc <- NormalizeData(object = pbmc, normalization.method = \"CLR\")"
   ]
  },
  {
   "cell_type": "code",
   "execution_count": 2,
   "metadata": {
    "collapsed": true
   },
   "outputs": [],
   "source": [
    "pbmc1=readRDS(\"/projects/ucar-lab/danaco/bncmrk-dblts/DoubletDecon/input/CZI.PBMC/CZI.PBMC.6.raw.seurat.Input.for.DoubDec.Rds\")"
   ]
  },
  {
   "cell_type": "code",
   "execution_count": 5,
   "metadata": {},
   "outputs": [
    {
     "data": {
      "text/plain": [
       "2 x 2 sparse Matrix of class \"dgCMatrix\"\n",
       "         6-Sample_AAACCTGAGAATGTGT 6-Sample_AAACCTGAGACAGAGA\n",
       "A1BG                             .                         .\n",
       "A1BG-AS1                         .                         ."
      ]
     },
     "metadata": {},
     "output_type": "display_data"
    }
   ],
   "source": [
    "pbmc1[[\"RNA\"]]@data[1:2,1:2]"
   ]
  },
  {
   "cell_type": "code",
   "execution_count": 11,
   "metadata": {},
   "outputs": [
    {
     "data": {
      "text/plain": [
       "NULL"
      ]
     },
     "metadata": {},
     "output_type": "display_data"
    }
   ],
   "source": [
    "writeMM(pbmc1@assays$RNA@counts,\"CZI.1.Donor.RNA.Count.Expression.File.txt\")"
   ]
  },
  {
   "cell_type": "code",
   "execution_count": 19,
   "metadata": {
    "collapsed": true
   },
   "outputs": [],
   "source": [
    "pebemece1=readMM(file='CZI.1.Donor.RNA.Count.Expression.File.txt')\n"
   ]
  },
  {
   "cell_type": "code",
   "execution_count": 6,
   "metadata": {},
   "outputs": [
    {
     "data": {
      "text/plain": [
       "5 x 5 sparse Matrix of class \"dgCMatrix\"\n",
       "         6-Sample_AAACCTGAGAATGTGT 6-Sample_AAACCTGAGACAGAGA\n",
       "A1BG                             .                         .\n",
       "A1BG-AS1                         .                         .\n",
       "A2M                              .                         .\n",
       "A2M-AS1                          .                         .\n",
       "A2ML1                            .                         .\n",
       "         6-Sample_AAACCTGAGAGGTTAT 6-Sample_AAACCTGAGAGTTGGC\n",
       "A1BG                             .                         .\n",
       "A1BG-AS1                         .                         .\n",
       "A2M                              .                         .\n",
       "A2M-AS1                          .                         .\n",
       "A2ML1                            .                         .\n",
       "         6-Sample_AAACCTGAGCACCGTC\n",
       "A1BG                             .\n",
       "A1BG-AS1                         .\n",
       "A2M                              .\n",
       "A2M-AS1                          .\n",
       "A2ML1                            ."
      ]
     },
     "metadata": {},
     "output_type": "display_data"
    }
   ],
   "source": [
    "pbmc1[['RNA']]@data[1:5,1:5]"
   ]
  },
  {
   "cell_type": "code",
   "execution_count": 4,
   "metadata": {},
   "outputs": [
    {
     "name": "stderr",
     "output_type": "stream",
     "text": [
      "Calculating cluster 6-Sample\n",
      "Warning message:\n",
      "\"No DE genes identified\"Warning message:\n",
      "\"The following tests were not performed: \"Warning message:\n",
      "\"When testing 6-Sample versus all:\n",
      "\tCell group 2 is empty - no cells with identity class \""
     ]
    }
   ],
   "source": [
    "mrkrs1=FindAllMarkers(pbmc1)"
   ]
  },
  {
   "cell_type": "code",
   "execution_count": 15,
   "metadata": {},
   "outputs": [
    {
     "data": {
      "text/html": [
       "<table>\n",
       "<thead><tr><th></th><th scope=col>p_val</th><th scope=col>avg_logFC</th><th scope=col>pct.1</th><th scope=col>pct.2</th><th scope=col>p_val_adj</th><th scope=col>cluster</th><th scope=col>gene</th></tr></thead>\n",
       "<tbody>\n",
       "\t<tr><th scope=row>CITE-CD4-TGTTCCCGCTCAACT</th><td>0                               </td><td> 0.4245411                      </td><td>0.999                           </td><td>0.941                           </td><td>0                               </td><td>0                               </td><td>CITE-CD4-TGTTCCCGCTCAACT        </td></tr>\n",
       "\t<tr><th scope=row>CITE-CD3-CTCATTGTAACTCCT</th><td>0                               </td><td> 0.3990192                      </td><td>1.000                           </td><td>0.998                           </td><td>0                               </td><td>0                               </td><td>CITE-CD3-CTCATTGTAACTCCT        </td></tr>\n",
       "\t<tr><th scope=row>CITE-CD183-CXCR3-GCGATGGTAGATTAT</th><td>0                               </td><td>-0.3343299                      </td><td>1.000                           </td><td>1.000                           </td><td>0                               </td><td>0                               </td><td>CITE-CD183-CXCR3-GCGATGGTAGATTAT</td></tr>\n",
       "\t<tr><th scope=row>CITE-CD196-CCR6-GATCCCTTTGTCACT</th><td>0                               </td><td>-0.3705907                      </td><td>1.000                           </td><td>1.000                           </td><td>0                               </td><td>0                               </td><td>CITE-CD196-CCR6-GATCCCTTTGTCACT </td></tr>\n",
       "\t<tr><th scope=row>MT-CO3</th><td>0                               </td><td>-0.4289946                      </td><td>0.923                           </td><td>0.966                           </td><td>0                               </td><td>0                               </td><td>MT-CO3                          </td></tr>\n",
       "</tbody>\n",
       "</table>\n"
      ],
      "text/latex": [
       "\\begin{tabular}{r|lllllll}\n",
       "  & p\\_val & avg\\_logFC & pct.1 & pct.2 & p\\_val\\_adj & cluster & gene\\\\\n",
       "\\hline\n",
       "\tCITE-CD4-TGTTCCCGCTCAACT & 0                                &  0.4245411                       & 0.999                            & 0.941                            & 0                                & 0                                & CITE-CD4-TGTTCCCGCTCAACT        \\\\\n",
       "\tCITE-CD3-CTCATTGTAACTCCT & 0                                &  0.3990192                       & 1.000                            & 0.998                            & 0                                & 0                                & CITE-CD3-CTCATTGTAACTCCT        \\\\\n",
       "\tCITE-CD183-CXCR3-GCGATGGTAGATTAT & 0                                & -0.3343299                       & 1.000                            & 1.000                            & 0                                & 0                                & CITE-CD183-CXCR3-GCGATGGTAGATTAT\\\\\n",
       "\tCITE-CD196-CCR6-GATCCCTTTGTCACT & 0                                & -0.3705907                       & 1.000                            & 1.000                            & 0                                & 0                                & CITE-CD196-CCR6-GATCCCTTTGTCACT \\\\\n",
       "\tMT-CO3 & 0                                & -0.4289946                       & 0.923                            & 0.966                            & 0                                & 0                                & MT-CO3                          \\\\\n",
       "\\end{tabular}\n"
      ],
      "text/markdown": [
       "\n",
       "| <!--/--> | p_val | avg_logFC | pct.1 | pct.2 | p_val_adj | cluster | gene | \n",
       "|---|---|---|---|---|\n",
       "| CITE-CD4-TGTTCCCGCTCAACT | 0                                |  0.4245411                       | 0.999                            | 0.941                            | 0                                | 0                                | CITE-CD4-TGTTCCCGCTCAACT         | \n",
       "| CITE-CD3-CTCATTGTAACTCCT | 0                                |  0.3990192                       | 1.000                            | 0.998                            | 0                                | 0                                | CITE-CD3-CTCATTGTAACTCCT         | \n",
       "| CITE-CD183-CXCR3-GCGATGGTAGATTAT | 0                                | -0.3343299                       | 1.000                            | 1.000                            | 0                                | 0                                | CITE-CD183-CXCR3-GCGATGGTAGATTAT | \n",
       "| CITE-CD196-CCR6-GATCCCTTTGTCACT | 0                                | -0.3705907                       | 1.000                            | 1.000                            | 0                                | 0                                | CITE-CD196-CCR6-GATCCCTTTGTCACT  | \n",
       "| MT-CO3 | 0                                | -0.4289946                       | 0.923                            | 0.966                            | 0                                | 0                                | MT-CO3                           | \n",
       "\n",
       "\n"
      ],
      "text/plain": [
       "                                 p_val avg_logFC  pct.1 pct.2 p_val_adj cluster\n",
       "CITE-CD4-TGTTCCCGCTCAACT         0      0.4245411 0.999 0.941 0         0      \n",
       "CITE-CD3-CTCATTGTAACTCCT         0      0.3990192 1.000 0.998 0         0      \n",
       "CITE-CD183-CXCR3-GCGATGGTAGATTAT 0     -0.3343299 1.000 1.000 0         0      \n",
       "CITE-CD196-CCR6-GATCCCTTTGTCACT  0     -0.3705907 1.000 1.000 0         0      \n",
       "MT-CO3                           0     -0.4289946 0.923 0.966 0         0      \n",
       "                                 gene                            \n",
       "CITE-CD4-TGTTCCCGCTCAACT         CITE-CD4-TGTTCCCGCTCAACT        \n",
       "CITE-CD3-CTCATTGTAACTCCT         CITE-CD3-CTCATTGTAACTCCT        \n",
       "CITE-CD183-CXCR3-GCGATGGTAGATTAT CITE-CD183-CXCR3-GCGATGGTAGATTAT\n",
       "CITE-CD196-CCR6-GATCCCTTTGTCACT  CITE-CD196-CCR6-GATCCCTTTGTCACT \n",
       "MT-CO3                           MT-CO3                          "
      ]
     },
     "metadata": {},
     "output_type": "display_data"
    }
   ],
   "source": [
    "mrkrs1[1:5,]"
   ]
  },
  {
   "cell_type": "code",
   "execution_count": 31,
   "metadata": {
    "collapsed": true,
    "scrolled": true
   },
   "outputs": [],
   "source": [
    "write.table(top_n(n=50,x=mrkrs1,wt=\"avg_logFC\"),\"Top50Genes.txt\",sep=\"\\t\")"
   ]
  },
  {
   "cell_type": "code",
   "execution_count": 15,
   "metadata": {
    "collapsed": true
   },
   "outputs": [],
   "source": [
    "write.table(pbmc1@active.ident,\"Cluster.txt\",sep=\"\\t\",col.names=NA)"
   ]
  },
  {
   "cell_type": "code",
   "execution_count": 33,
   "metadata": {
    "collapsed": true
   },
   "outputs": [],
   "source": [
    "write.table(GetAssayData(pbmc1),\"counts.txt\",sep=\"\\t\", col.names=NA)"
   ]
  },
  {
   "cell_type": "code",
   "execution_count": 35,
   "metadata": {},
   "outputs": [
    {
     "name": "stderr",
     "output_type": "stream",
     "text": [
      "Downloading GitHub repo EDePasquale/DoubletDecon@master\n",
      "from URL https://api.github.com/repos/EDePasquale/DoubletDecon/zipball/master\n",
      "Installation failed: error in running command\n"
     ]
    }
   ],
   "source": [
    "devtools::install_github('EDePasquale/DoubletDecon')\n"
   ]
  },
  {
   "cell_type": "code",
   "execution_count": 38,
   "metadata": {},
   "outputs": [
    {
     "name": "stderr",
     "output_type": "stream",
     "text": [
      "Downloading GitHub repo r-lib/remotes@master\n",
      "from URL https://api.github.com/repos/r-lib/remotes/zipball/master\n",
      "Installation failed: error in running command\n"
     ]
    }
   ],
   "source": [
    "devtools::install_github(\"r-lib/remotes\")"
   ]
  },
  {
   "cell_type": "code",
   "execution_count": 37,
   "metadata": {
    "collapsed": true
   },
   "outputs": [],
   "source": [
    "write.table(GetAssayData(pbmc1),sep=\"\\t\",row.names=T,file=\"ekspiresin1.txt\")"
   ]
  },
  {
   "cell_type": "code",
   "execution_count": 45,
   "metadata": {},
   "outputs": [
    {
     "name": "stderr",
     "output_type": "stream",
     "text": [
      "Downloading GitHub repo EDePasquale/DoubletDecon@master\n",
      "from URL https://api.github.com/repos/EDePasquale/DoubletDecon/zipball/master\n",
      "Installing DoubletDecon\n",
      "'/home/danaco/.conda/envs/scSplit/lib/R/bin/R' --no-site-file --no-environ  \\\n",
      "  --no-save --no-restore --quiet CMD INSTALL  \\\n",
      "  '/scratch/10297577.helix-master/RtmpkmCnhY/devtools5a1d32b0bc0a/EDePasquale-DoubletDecon-2549f49'  \\\n",
      "  --library='/home/danaco/R/x86_64-pc-linux-gnu-library/3.4' --install-tests \n",
      "\n",
      "Installation failed: Command failed (1)\n"
     ]
    }
   ],
   "source": [
    "library(devtools)\n",
    "options(unzip = \"internal\")\n",
    "devtools::install_github('EDePasquale/DoubletDecon')"
   ]
  },
  {
   "cell_type": "code",
   "execution_count": 1,
   "metadata": {
    "collapsed": true
   },
   "outputs": [],
   "source": [
    "pbmc1_rna=read.table(\"counts.txt\")"
   ]
  },
  {
   "cell_type": "code",
   "execution_count": 2,
   "metadata": {},
   "outputs": [
    {
     "data": {
      "text/html": [
       "'X1.Sample_AAACCTGAGAATGTGT'"
      ],
      "text/latex": [
       "'X1.Sample\\_AAACCTGAGAATGTGT'"
      ],
      "text/markdown": [
       "'X1.Sample_AAACCTGAGAATGTGT'"
      ],
      "text/plain": [
       "[1] \"X1.Sample_AAACCTGAGAATGTGT\""
      ]
     },
     "metadata": {},
     "output_type": "display_data"
    }
   ],
   "source": [
    "colnames(pbmc1_rna)[1]"
   ]
  },
  {
   "cell_type": "code",
   "execution_count": 14,
   "metadata": {},
   "outputs": [
    {
     "ename": "ERROR",
     "evalue": "Error in eval(expr, envir, enclos): object 'pbmc1' not found\n",
     "output_type": "error",
     "traceback": [
      "Error in eval(expr, envir, enclos): object 'pbmc1' not found\nTraceback:\n"
     ]
    }
   ],
   "source": [
    "pbmc1[['RNA']]@data[1:5,1:5]"
   ]
  },
  {
   "cell_type": "code",
   "execution_count": 2,
   "metadata": {
    "collapsed": true
   },
   "outputs": [],
   "source": [
    "  expression=read.table(\"ekspiresin1.txt\", sep=\"\\t\",header=T, row.names=1)\n"
   ]
  },
  {
   "cell_type": "code",
   "execution_count": 4,
   "metadata": {
    "collapsed": true
   },
   "outputs": [],
   "source": [
    "mehmet=colnames(expression)[1]"
   ]
  },
  {
   "cell_type": "code",
   "execution_count": 8,
   "metadata": {},
   "outputs": [
    {
     "data": {
      "text/html": [
       "'X1.Sample_AAACCTGAGAATGTGT'"
      ],
      "text/latex": [
       "'X1.Sample\\_AAACCTGAGAATGTGT'"
      ],
      "text/markdown": [
       "'X1.Sample_AAACCTGAGAATGTGT'"
      ],
      "text/plain": [
       "[1] \"X1.Sample_AAACCTGAGAATGTGT\""
      ]
     },
     "metadata": {},
     "output_type": "display_data"
    }
   ],
   "source": [
    "colnames(expression)[1]"
   ]
  },
  {
   "cell_type": "code",
   "execution_count": 10,
   "metadata": {
    "collapsed": true
   },
   "outputs": [],
   "source": [
    "pbmc=readRDS(\"/projects/ucar-lab/danaco/bncmrk-dblts/DoubletDecon/input/CZI.PBMC/CZI.PBMC.6.raw.seurat.Input.for.DoubDec.Rds\")"
   ]
  },
  {
   "cell_type": "code",
   "execution_count": 3,
   "metadata": {
    "collapsed": true
   },
   "outputs": [],
   "source": [
    "pebemece.data=GetAssayData(pebemece)"
   ]
  },
  {
   "cell_type": "code",
   "execution_count": 11,
   "metadata": {},
   "outputs": [
    {
     "name": "stderr",
     "output_type": "stream",
     "text": [
      "Normalizing across features\n",
      "Centering and scaling data matrix\n"
     ]
    },
    {
     "name": "stdout",
     "output_type": "stream",
     "text": [
      "[1] \"Running PCA\"\n",
      "[1] \"Running UMAP\"\n"
     ]
    },
    {
     "name": "stderr",
     "output_type": "stream",
     "text": [
      "Computing nearest neighbor graph\n",
      "Computing SNN\n"
     ]
    },
    {
     "name": "stdout",
     "output_type": "stream",
     "text": [
      "Modularity Optimizer version 1.3.0 by Ludo Waltman and Nees Jan van Eck\n",
      "\n",
      "Number of nodes: 32138\n",
      "Number of edges: 935284\n",
      "\n",
      "Running Louvain algorithm...\n",
      "Maximum modularity in 10 random starts: 0.8414\n",
      "Number of communities: 29\n",
      "Elapsed time: 53 seconds\n"
     ]
    }
   ],
   "source": [
    "pbmc <- NormalizeData(object = pbmc, normalization.method = \"CLR\")\n",
    "pbmc <- FindVariableFeatures(object = pbmc, selection.method = 'vst', nfeatures = 500)\n",
    "pbmc <- ScaleData(object = pbmc, features = rownames(x = pbmc))\n",
    "print(\"Running PCA\")\n",
    "pbmc= RunPCA(pbmc,features = VariableFeatures(object = pbmc), verbose = FALSE)\n",
    "print(\"Running UMAP\")\n",
    "pbmc <- RunUMAP(object = pbmc, dims = 1:10)\n",
    "pbmc <- FindNeighbors(object = pbmc, dims = 1:10)\n",
    "pbmc <- FindClusters(object = pbmc, resolution = 1.2)"
   ]
  },
  {
   "cell_type": "code",
   "execution_count": 116,
   "metadata": {
    "collapsed": true
   },
   "outputs": [],
   "source": [
    "cm=mrkrs"
   ]
  },
  {
   "cell_type": "code",
   "execution_count": 117,
   "metadata": {},
   "outputs": [
    {
     "data": {
      "text/plain": [
       "\n",
       " 0  1 10 11 12 13 14 15 16 17 18 19  2 20 21 22 23 24 25 26 27 28  3  4  5  6 \n",
       "50 50 50 50 50 50 50 50 50 50 50 50 50 37 50 50 50 50 50 23 50 50 50 50 50 23 \n",
       " 7  8  9 \n",
       "27 50 50 "
      ]
     },
     "metadata": {},
     "output_type": "display_data"
    }
   ],
   "source": [
    "#  TOP_MARKERS \n",
    "\n",
    "#  cluster marker info\n",
    "#cm=FindAllMarkers(so)\n",
    "cm$cluster=as.character(cm$cluster)\n",
    "\n",
    "#  cut to topNum for each cluster\n",
    "TopNum=50\n",
    "\n",
    "nclusters=length(unique(cm$cluster))\n",
    "MperC=as.vector(table(cm$cluster))   #  Markers per Cluster\n",
    "MperC=ifelse(MperC >TopNum,TopNum,MperC)\n",
    "\n",
    "#  Accumulate the genes (features) \n",
    "genesFile=NULL\n",
    "for (i in 1:(nclusters-1))\n",
    "{\n",
    "  a=cm[1:MperC[i],] # TopNum genes for cluster i\n",
    "  c=a$cluster     #  capture cluster identifier\n",
    "  genesFile=rbind.data.frame(genesFile,a,stringsAsFactors = F)\n",
    "  #  remove data for cluster just processed\n",
    "  cm=cm[! (cm$cluster %in% c),]\n",
    "}\n",
    "#genesFile$cluster=as.numeric(genesFile$cluster)\n",
    "genesFile$cluster=as.character(genesFile$cluster)\n",
    "\n",
    "#rm(cm,a,c)\n",
    "\n",
    " table(genesFile$cluster)  #  a check\n",
    "#  note that genesFile$cluster numbering starts at 1 !\n",
    "\n",
    "\n",
    "\n"
   ]
  },
  {
   "cell_type": "code",
   "execution_count": 83,
   "metadata": {
    "collapsed": true
   },
   "outputs": [],
   "source": [
    "write.csv(genesFile,\"tryGenesFile.csv\")"
   ]
  },
  {
   "cell_type": "code",
   "execution_count": 113,
   "metadata": {
    "collapsed": true
   },
   "outputs": [],
   "source": [
    "write.table(genesFile,paste(\"CZI.PBMC.6.try\",\"Top50Genes.txt\",sep=\".\"),sep=\"\\t\")#,col.names = NA) \n"
   ]
  },
  {
   "cell_type": "code",
   "execution_count": 98,
   "metadata": {
    "collapsed": true
   },
   "outputs": [],
   "source": [
    "write.table(mrkrs,\"CZI.PBMC.6.try.allmarkers.txt\",sep=\"\\t\")#,col.names = NA) \n"
   ]
  },
  {
   "cell_type": "code",
   "execution_count": 102,
   "metadata": {
    "collapsed": true
   },
   "outputs": [],
   "source": [
    "genesFile$\"\"=as.character(1:(dim(genesFile)[1]))"
   ]
  },
  {
   "cell_type": "code",
   "execution_count": 106,
   "metadata": {
    "collapsed": true
   },
   "outputs": [],
   "source": [
    "bebe=top_n(n=50,x=mrkrs,wt=\"cluster\")"
   ]
  },
  {
   "cell_type": "code",
   "execution_count": 107,
   "metadata": {
    "collapsed": true
   },
   "outputs": [],
   "source": [
    "write.table(bebe,\"bebe.txt\",sep=\"\\t\")"
   ]
  },
  {
   "cell_type": "code",
   "execution_count": 3,
   "metadata": {
    "collapsed": true
   },
   "outputs": [],
   "source": [
    "source(\"/projects/ucar-lab/danaco/bncmrk-dblts/R/Seurat_Pre_Process2.R\")"
   ]
  },
  {
   "cell_type": "code",
   "execution_count": null,
   "metadata": {
    "collapsed": true
   },
   "outputs": [],
   "source": [
    "source(\"/projects/ucar-lab/danaco/bncmrk-dblts/R/Top50Markers.R\")\n",
    "\n",
    "name=\"CZI.PBMC.6.try\"\n",
    "\n",
    "write.table(GetAssayData(pbmc),paste(name,\"counts.txt\",sep=\".\"),sep=\"\\t\", col.names=NA)\n",
    "    \n",
    "write.table(pbmc@active.ident,paste(name,\"Cluster.txt\",sep=\".\"),sep=\"\\t\",col.names=NA)    \n",
    "\n",
    "#cm=FindAllMarkers(pbmc) #cluster marker info\n",
    "    \n",
    "write.csv(mrkrs,paste(name,\"AllMarkers.csv\",sep=\".\"))\n",
    "\n",
    "topmrkrs=Top50Markers(mrkrs)\n",
    "\n",
    "write.table(topmrkrs,paste(name,\"Top50Genes.txt\",sep=\".\"),sep=\"\\t\") "
   ]
  },
  {
   "cell_type": "code",
   "execution_count": 4,
   "metadata": {
    "collapsed": true
   },
   "outputs": [],
   "source": [
    "expressionFile=\"CZI.PBMC.6.try.counts.txt\"\n",
    "genesFile=\"CZI.PBMC.6.try.Top50Genes.txt\"\n",
    "clustersFile=\"CZI.PBMC.6.try.Cluster.txt\"\n",
    "\n",
    "newFiles=Seurat_Pre_Process2(expressionFile, genesFile, clustersFile)\n"
   ]
  },
  {
   "cell_type": "code",
   "execution_count": 1,
   "metadata": {},
   "outputs": [
    {
     "name": "stderr",
     "output_type": "stream",
     "text": [
      "Loading required package: BiocGenerics\n",
      "Loading required package: parallel\n",
      "\n",
      "Attaching package: 'BiocGenerics'\n",
      "\n",
      "The following objects are masked from 'package:parallel':\n",
      "\n",
      "    clusterApply, clusterApplyLB, clusterCall, clusterEvalQ,\n",
      "    clusterExport, clusterMap, parApply, parCapply, parLapply,\n",
      "    parLapplyLB, parRapply, parSapply, parSapplyLB\n",
      "\n",
      "The following objects are masked from 'package:stats':\n",
      "\n",
      "    IQR, mad, sd, var, xtabs\n",
      "\n",
      "The following objects are masked from 'package:base':\n",
      "\n",
      "    Filter, Find, Map, Position, Reduce, anyDuplicated, append,\n",
      "    as.data.frame, cbind, colMeans, colSums, colnames, do.call,\n",
      "    duplicated, eval, evalq, get, grep, grepl, intersect, is.unsorted,\n",
      "    lapply, lengths, mapply, match, mget, order, paste, pmax, pmax.int,\n",
      "    pmin, pmin.int, rank, rbind, rowMeans, rowSums, rownames, sapply,\n",
      "    setdiff, sort, table, tapply, union, unique, unsplit, which,\n",
      "    which.max, which.min\n",
      "\n",
      "Welcome to Bioconductor\n",
      "\n",
      "    Vignettes contain introductory material; view with\n",
      "    'browseVignettes()'. To cite Bioconductor, see\n",
      "    'citation(\"Biobase\")', and for packages 'citation(\"pkgname\")'.\n",
      "\n"
     ]
    }
   ],
   "source": [
    "library(Biobase)"
   ]
  },
  {
   "cell_type": "code",
   "execution_count": 12,
   "metadata": {
    "collapsed": true
   },
   "outputs": [],
   "source": [
    "genesFileR=read.table(\"CZI.PBMC.6.try.Top50Genes.txt\",row.names = 1,sep = \"\\t\",header=TRUE)\n"
   ]
  },
  {
   "cell_type": "code",
   "execution_count": 16,
   "metadata": {},
   "outputs": [
    {
     "data": {
      "text/html": [
       "<ol class=list-inline>\n",
       "\t<li>1360</li>\n",
       "\t<li>7</li>\n",
       "</ol>\n"
      ],
      "text/latex": [
       "\\begin{enumerate*}\n",
       "\\item 1360\n",
       "\\item 7\n",
       "\\end{enumerate*}\n"
      ],
      "text/markdown": [
       "1. 1360\n",
       "2. 7\n",
       "\n",
       "\n"
      ],
      "text/plain": [
       "[1] 1360    7"
      ]
     },
     "metadata": {},
     "output_type": "display_data"
    }
   ],
   "source": [
    "dim(genesFileR)"
   ]
  },
  {
   "cell_type": "code",
   "execution_count": 17,
   "metadata": {},
   "outputs": [
    {
     "name": "stdout",
     "output_type": "stream",
     "text": [
      "[1] 6\n",
      "[1] 8\n"
     ]
    }
   ],
   "source": [
    "for (ii in c(6,8)){\n",
    "    print(ii)\n",
    "}"
   ]
  },
  {
   "cell_type": "code",
   "execution_count": null,
   "metadata": {
    "collapsed": true
   },
   "outputs": [],
   "source": []
  }
 ],
 "metadata": {
  "kernelspec": {
   "display_name": "R",
   "language": "R",
   "name": "ir"
  },
  "language_info": {
   "codemirror_mode": "r",
   "file_extension": ".r",
   "mimetype": "text/x-r-source",
   "name": "R",
   "pygments_lexer": "r",
   "version": "3.4.1"
  }
 },
 "nbformat": 4,
 "nbformat_minor": 2
}
