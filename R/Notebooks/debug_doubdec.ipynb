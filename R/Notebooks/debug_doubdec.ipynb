{
 "cells": [
  {
   "cell_type": "code",
   "execution_count": 2,
   "metadata": {},
   "outputs": [
    {
     "name": "stderr",
     "output_type": "stream",
     "text": [
      "Loading required package: spam\n",
      "Loading required package: dotCall64\n",
      "Loading required package: grid\n",
      "Spam version 2.2-2 (2019-03-07) is loaded.\n",
      "Type 'help( Spam)' or 'demo( spam)' for a short introduction \n",
      "and overview of this package.\n",
      "Help for individual functions is also obtained by adding the\n",
      "suffix '.spam' to the function name, e.g. 'help( chol.spam)'.\n",
      "\n",
      "Attaching package: ‘spam’\n",
      "\n",
      "The following object is masked from ‘package:Matrix’:\n",
      "\n",
      "    det\n",
      "\n",
      "The following objects are masked from ‘package:base’:\n",
      "\n",
      "    backsolve, forwardsolve\n",
      "\n",
      "Loading required package: maps\n",
      "See https://github.com/NCAR/Fields for\n",
      " an extensive vignette, other supplements and source code \n",
      "KernSmooth 2.23 loaded\n",
      "Copyright M. P. Wand 1997-2009\n",
      "Loading required package: gplots\n",
      "\n",
      "Attaching package: ‘gplots’\n",
      "\n",
      "The following object is masked from ‘package:stats’:\n",
      "\n",
      "    lowess\n",
      "\n"
     ]
    }
   ],
   "source": [
    "library(Seurat)\n",
    "library(Matrix)\n",
    "#library(DoubletDecon)\n",
    "library(fields)\n",
    "library(KernSmooth)\n",
    "library(ROCR)\n",
    "library(modes)\n",
    "library(gplots)\n",
    "library(ggplot2)"
   ]
  },
  {
   "cell_type": "code",
   "execution_count": 5,
   "metadata": {},
   "outputs": [
    {
     "name": "stderr",
     "output_type": "stream",
     "text": [
      "Loading required package: usethis\n",
      "Downloading GitHub repo EDePasquale/DoubletDecon@master\n"
     ]
    },
    {
     "name": "stdout",
     "output_type": "stream",
     "text": [
      "  \r",
      "   checking for file ‘/scratch/10495226.helix-master/RtmpY8Nzl0/remotese5152715dd8b/EDePasquale-DoubletDecon-116d7c7/DESCRIPTION’ ...\r",
      "  \r",
      "✔  checking for file ‘/scratch/10495226.helix-master/RtmpY8Nzl0/remotese5152715dd8b/EDePasquale-DoubletDecon-116d7c7/DESCRIPTION’ (541ms)\n",
      "─  preparing ‘DoubletDecon’:\n",
      "✔  checking DESCRIPTION meta-information\n",
      "\r",
      "  \r",
      "─  checking for LF line-endings in source and make files\n",
      "\r",
      "  \r",
      "─  checking for empty or unneeded directories\n",
      "─  looking to see if a ‘data/datalist’ file should be added\n",
      "─  building ‘DoubletDecon_1.0.2.tar.gz’\n",
      "\r",
      "  \r",
      "   Warning: invalid uid value replaced by that for user 'nobody'\n",
      "\r",
      "  \r",
      "   \n",
      "\r"
     ]
    },
    {
     "name": "stderr",
     "output_type": "stream",
     "text": [
      "Installing package into ‘/home/danaco/R/x86_64-pc-linux-gnu-library/3.4’\n",
      "(as ‘lib’ is unspecified)\n",
      "Warning message in i.p(...):\n",
      "“installation of package ‘/scratch/10495226.helix-master/RtmpY8Nzl0/filee51574170ca6/DoubletDecon_1.0.2.tar.gz’ had non-zero exit status”"
     ]
    }
   ],
   "source": [
    "#library(devtools)\n",
    "#options(unzip = \"internal\")\n",
    "#devtools::install_github('EDePasquale/DoubletDecon')\n"
   ]
  },
  {
   "cell_type": "code",
   "execution_count": 3,
   "metadata": {
    "collapsed": true
   },
   "outputs": [],
   "source": [
    "source(\"/projects/ucar-lab/danaco/bncmrk-dblts/R/Seurat_Pre_Process2.R\")"
   ]
  },
  {
   "cell_type": "code",
   "execution_count": 4,
   "metadata": {
    "collapsed": true
   },
   "outputs": [],
   "source": [
    "expressionFile=\"/projects/ucar-lab/danaco/bncmrk-dblts/DoubletDecon/input/Four.Cell.12.HTO/Four.Cell.12.HTO.preprocessed.seurat.for.DoubDec.counts.txt\"\n",
    "genesFile=\"/projects/ucar-lab/danaco/bncmrk-dblts/DoubletDecon/input/Four.Cell.12.HTO/Four.Cell.12.HTO.preprocessed.seurat.for.DoubDec.Top50Genes.txt\"\n",
    "clustersFile=\"/projects/ucar-lab/danaco/bncmrk-dblts/DoubletDecon/input/Four.Cell.12.HTO/Four.Cell.12.HTO.preprocessed.seurat.for.DoubDec.Cluster.txt\""
   ]
  },
  {
   "cell_type": "code",
   "execution_count": 61,
   "metadata": {
    "collapsed": true
   },
   "outputs": [],
   "source": [
    "expressionFile=\"/projects/ucar-lab/danaco/bncmrk-dblts/DoubletDecon/input/CZI.PBMC/CZI.PBMC.8.preprocessed.seurat.for.DoubDec.counts.txt\"\n",
    "genesFile=\"/projects/ucar-lab/danaco/bncmrk-dblts/DoubletDecon/input/CZI.PBMC/CZI.PBMC.8.preprocessed.seurat.for.DoubDec.Top50Genes.txt\"\n",
    "clustersFile=\"/projects/ucar-lab/danaco/bncmrk-dblts/DoubletDecon/input/CZI.PBMC/CZI.PBMC.8.preprocessed.seurat.for.DoubDec.Cluster.txt\"\n",
    "\n",
    "\n",
    "\n",
    "newFiles=Seurat_Pre_Process2(expressionFile, genesFile, clustersFile)\n"
   ]
  },
  {
   "cell_type": "code",
   "execution_count": 10,
   "metadata": {
    "collapsed": true
   },
   "outputs": [],
   "source": [
    "newFiles=Seurat_Pre_Process2(expressionFile, genesFile, clustersFile)\n",
    " \n",
    "\n",
    "#expression=read.table(expressionFile, sep=\"\\t\",header=T, row.names=1)\n",
    " #colnames(expression)=gsub(x=colnames(expression),\n",
    "#pattern=\"X\",replacement=\"\") \n",
    "#genes=read.table(genesFile, sep=\"\\t\",header=T, row.names=1)\n",
    " # clusters=read.table(clustersFile, sep=\"\\t\",header=T)"
   ]
  },
  {
   "cell_type": "code",
   "execution_count": 62,
   "metadata": {
    "collapsed": true
   },
   "outputs": [],
   "source": [
    "rawData=newFiles$newExpressionFile\n",
    "groups=newFiles$newGroupsFile\n",
    "log_file_name=paste0(\"bebe\",\".log\")\n",
    "log_con <- file(log_file_name)\n"
   ]
  },
  {
   "cell_type": "code",
   "execution_count": 63,
   "metadata": {
    "collapsed": true
   },
   "outputs": [],
   "source": [
    "Renumber<-function(x){\n",
    "  y=as.integer(as.factor(as.numeric(x)))\n",
    "  return(y)\n",
    "}\n",
    "\n",
    "\n",
    "Clean_Up_Input<-function(rawData, groups, rowClusters=NULL, log_file_name){\n",
    "\n",
    "  if(row.names(rawData)[1] %in% \"column_clusters-flat\" && (colnames(rawData)[1] %in% \"row_clusters.flat\" || colnames(rawData)[1] %in% \"row_clusters-flat\")){ #standard ICGS, contains column and row clusters\n",
    "\n",
    "    rawDataStrip=rawData[-1,]\n",
    "    processed=rbind(c(NA,groups[,1]),rawDataStrip) #replace with provided groups file\n",
    "    row.names(processed)[1]=\"column_clusters-flat\"\n",
    "\n",
    "  }else if(row.names(rawData)[1] %in% \"column_clusters-flat\"){ #only has column clusters\n",
    "\n",
    "    rawDataStrip=rawData[-1,]\n",
    "    processed=rbind(groups[,1],rawDataStrip) #replace with provided groups file\n",
    "    row.names(processed)[1]=\"column_clusters-flat\"\n",
    "    processed=cbind(rep(NA, nrow(processed)), processed)\n",
    "    colnames(processed)[1]=\"row_clusters.flat\"\n",
    "\n",
    "  }else if(colnames(rawData)[1] %in% \"row_clusters.flat\" || colnames(rawData)[1] %in% \"row_clusters-flat\"){ #only has row clusters\n",
    "\n",
    "    processed=rbind(c(NA,groups[,1]),rawData) #replace with provided groups file\n",
    "    row.names(processed)[1]=\"column_clusters-flat\"\n",
    "\n",
    "  }else{ #has no column or row clusters\n",
    "\n",
    "    processed=rbind(groups[,1],rawData) #replace with provided groups file\n",
    "    row.names(processed)[1]=\"column_clusters-flat\"\n",
    "    processed=cbind(rep(NA, nrow(processed)), processed)\n",
    "    colnames(processed)[1]=\"row_clusters.flat\"\n",
    "\n",
    "  }\n",
    "  if(is.null(rowClusters)==FALSE){\n",
    "    #attach the row clusters information\n",
    "    processed[2:nrow(processed),1]=rowClusters\n",
    "  }\n",
    "\n",
    "  rownames(groups)=colnames(processed)[2:ncol(processed)] #because row and column names with special characters can cause problems in R\n",
    "\n",
    "  #Renumber to avoid non-consecutive cluster identifications in the data and groups files\n",
    "  groups[,1]=Renumber(groups[,1])\n",
    "  processed[1,2:ncol(processed)]=Renumber(processed[1,2:ncol(processed)])\n",
    "  if(is.na(processed[2,1])==FALSE){\n",
    "    processed[2:nrow(processed),1]=Renumber(processed[2:nrow(processed),1])\n",
    "  }\n",
    "\n",
    "  cat(paste0(ncol(processed)-2, \" samples after processing\"), file=log_file_name, append=TRUE, sep=\"\\n\")\n",
    "  cat(paste0(nrow(processed)-2, \" genes after processing\"), file=log_file_name, append=TRUE, sep=\"\\n\")\n",
    "\n",
    "  return(list(processed=processed, groups=groups))\n",
    "}\n",
    "\n"
   ]
  },
  {
   "cell_type": "code",
   "execution_count": 64,
   "metadata": {
    "collapsed": true
   },
   "outputs": [],
   "source": [
    "data=Clean_Up_Input(rawData, groups, log_file_name=log_file_name)\n",
    " og_processed_data=data$processed\n",
    "  groups=data$groups"
   ]
  },
  {
   "cell_type": "code",
   "execution_count": 65,
   "metadata": {
    "collapsed": true
   },
   "outputs": [],
   "source": [
    "    data=data$processed\n"
   ]
  },
  {
   "cell_type": "code",
   "execution_count": 66,
   "metadata": {
    "collapsed": true
   },
   "outputs": [],
   "source": [
    "Blacklist_Groups<-function(data, groups, rhop, centroid_flag, log_file_name){\n",
    "\n",
    "  #Step 1: calculate medoids\n",
    "  medoids=data.frame(rep(NA,nrow(data)-1))\n",
    "  clusters=length(unique(groups[,1]))\n",
    "  for(cluster in 1:clusters){\n",
    "    if(centroid_flag==TRUE){\n",
    "      medoids=cbind(medoids,apply(data[2:nrow(data),which(data[1,]==cluster)],1,mean))\n",
    "    }else{\n",
    "      medoids=cbind(medoids,apply(data[2:nrow(data),which(data[1,]==cluster)],1,median))\n",
    "    }\n",
    "  }\n",
    "  medoids=medoids[,-1]\n",
    "  colnames(medoids)=unique(groups[,2])\n",
    "\n",
    "  #Step 2: medoid correlations\n",
    "  cormedoids=cor(medoids, method=\"pearson\")\n",
    "\n",
    "  #Step 3: create blacklist (binary correlation table between medoids)\n",
    "  blacklist=data.frame(matrix(ncol=ncol(medoids),nrow=ncol(medoids)))\n",
    "  cutoff=mean(cormedoids)+(rhop)*sd(cormedoids) #based on mean + 1SD * user provided multiplier\n",
    "  for(rrow in 1:nrow(cormedoids)){\n",
    "    for(ccol in 1:ncol(cormedoids)){\n",
    "      if(cormedoids[rrow,ccol]>cutoff){\n",
    "        blacklist[rrow,ccol]=1\n",
    "      }else{\n",
    "        blacklist[rrow,ccol]=0\n",
    "      }\n",
    "    }\n",
    "  }\n",
    "  blacklist_original_order=blacklist #keep original order with no names so I can pull the correct clusters out when trying to make medoids\n",
    "  row.names(blacklist)=row.names(cormedoids)\n",
    "  colnames(blacklist)=row.names(cormedoids)\n",
    "\n",
    "  #Step 4: make blacklist heatmap\n",
    "  BLheatmap=heatmap.2(as.matrix(blacklist_original_order),\n",
    "                      Colv=TRUE, # clustering of columns\n",
    "                      Rowv=TRUE, # clustering of rows\n",
    "                      xlab = \"Cell Types\", #x axis title\n",
    "                      ylab =  \"Cell Types\", #y axis title\n",
    "                      trace=\"none\",\n",
    "                      main = \"Cluster Merge\") #main title\n",
    "  blacklist_original_order=blacklist_original_order[BLheatmap$rowInd,BLheatmap$colInd]\n",
    "  blacklist=blacklist[BLheatmap$rowInd,BLheatmap$colInd]\n",
    "\n",
    "  #Step 5: make new medoids\n",
    "  blacklistCluster=try(mcl(blacklist, addLoops=FALSE)$Cluster)\n",
    "  if(class(blacklistCluster) == \"try-error\"){\n",
    "    print(\"Unable to perform mcl function for blacklist clustering, please try a different rhop.\")\n",
    "    stop()\n",
    "  }\n",
    "  i=-1 #if the cluster is 0 (meaning no combining) change the name of the cluster to make it unique\n",
    "  for(cluster in 1:length(blacklistCluster)){\n",
    "    if(blacklistCluster[cluster]==0){\n",
    "      blacklistCluster[cluster]=i\n",
    "      i=i-1\n",
    "    }\n",
    "  }\n",
    "  uniquelist=unique(blacklistCluster) #list of unique clusters\n",
    "  nunique=length(uniquelist) #number of unique clusters\n",
    "  newMedoids=data.frame(matrix(ncol=nunique, nrow=(nrow(data)-1)))\n",
    "  for(cluster in 1:nunique){ #for each new cluster, assign medoid to new data.frame\n",
    "    temp=which(blacklistCluster==uniquelist[cluster])\n",
    "    if(centroid_flag==TRUE){\n",
    "      newMedoids[,cluster]=apply(data[2:nrow(data),(data[1,] %in% rownames(blacklist_original_order)[temp])],1,mean) #this is where the original order is critical\n",
    "    }else{\n",
    "      newMedoids[,cluster]=apply(data[2:nrow(data),(data[1,] %in% rownames(blacklist_original_order)[temp])],1,median) #this is where the original order is critical\n",
    "    }\n",
    "    colnames(newMedoids)[cluster]=paste(rownames(blacklist)[temp], collapse=\"-\") #need to give the columns meaningful names (combination names of combined clusters)\n",
    "\n",
    "  }\n",
    "  row.names(newMedoids)=row.names(data)[2:nrow(data)]\n",
    "\n",
    "  #Step 6: make new combined groups file\n",
    "  newGroups=data.frame(matrix(ncol=ncol(groups)+1, nrow=1))\n",
    "  for(cluster in 1:nunique){\n",
    "    temp=which(blacklistCluster==uniquelist[cluster])\n",
    "    temp1.5=as.integer(row.names(blacklist_original_order)[temp])\n",
    "    temp2=groups[groups[,1] %in% temp1.5,]\n",
    "    temp3=cbind(temp2,rep(paste(rownames(blacklist)[temp], collapse=\"-\"), nrow(temp2)))\n",
    "    colnames(temp3)=colnames(newGroups)\n",
    "    newGroups=rbind(newGroups, temp3)\n",
    "  }\n",
    "  newGroups=newGroups[-1,]\n",
    "  newGroups[,2]=as.integer(as.factor(newGroups[,3]))\n",
    "  newGroups=newGroups[,-1]\n",
    "\n",
    "  cat(paste0(\"New blacklisted clusters: \", paste(unique(newGroups[,2]), sep=\"' '\", collapse=\", \")), file=log_file_name, append=TRUE, sep=\"\\n\")\n",
    "\n",
    "\n",
    "  return(list(newMedoids=newMedoids, newGroups=newGroups))\n",
    "}"
   ]
  },
  {
   "cell_type": "code",
   "execution_count": 70,
   "metadata": {},
   "outputs": [
    {
     "name": "stdout",
     "output_type": "stream",
     "text": [
      "[1] \"Unable to perform mcl function for blacklist clustering, please try a different rhop.\"\n"
     ]
    },
    {
     "ename": "ERROR",
     "evalue": "Error in Blacklist_Groups(data, groups, rhop, centroid_flag, log_file_name): \n",
     "output_type": "error",
     "traceback": [
      "Error in Blacklist_Groups(data, groups, rhop, centroid_flag, log_file_name): \nTraceback:\n",
      "1. Blacklist_Groups(data, groups, rhop, centroid_flag, log_file_name)",
      "2. stop()   # at line 50 of file <text>"
     ]
    },
    {
     "data": {
      "image/png": "[encoded data removed]",
      "text/plain": [
       "Plot with title “Color Key\n",
       "and Histogram”"
      ]
     },
     "metadata": {},
     "output_type": "display_data"
    }
   ],
   "source": [
    "rhop=0.75\n",
    "centroids=TRUE\n",
    " if(centroids==TRUE){\n",
    "    centroid_flag=TRUE\n",
    "  }\n",
    "\n",
    "  BL=Blacklist_Groups(data, groups, rhop, centroid_flag, log_file_name)\n"
   ]
  },
  {
   "cell_type": "code",
   "execution_count": 11,
   "metadata": {},
   "outputs": [],
   "source": [
    "library(ggplot2)\n",
    "library(gplots)"
   ]
  },
  {
   "cell_type": "code",
   "execution_count": 26,
   "metadata": {},
   "outputs": [
    {
     "data": {
      "text/html": [
       "<ol class=list-inline>\n",
       "\t<li>'GTGCAGCTCTTCGGTC'</li>\n",
       "\t<li>'GTGAAGGAGGGCTCTC'</li>\n",
       "\t<li>'AGGGAGTTCTGGCGTG'</li>\n",
       "\t<li>'CGGCTAGGTCAAAGCG'</li>\n",
       "\t<li>'AACTCTTAGACCGGAT'</li>\n",
       "</ol>\n"
      ],
      "text/latex": [
       "\\begin{enumerate*}\n",
       "\\item 'GTGCAGCTCTTCGGTC'\n",
       "\\item 'GTGAAGGAGGGCTCTC'\n",
       "\\item 'AGGGAGTTCTGGCGTG'\n",
       "\\item 'CGGCTAGGTCAAAGCG'\n",
       "\\item 'AACTCTTAGACCGGAT'\n",
       "\\end{enumerate*}\n"
      ],
      "text/markdown": [
       "1. 'GTGCAGCTCTTCGGTC'\n",
       "2. 'GTGAAGGAGGGCTCTC'\n",
       "3. 'AGGGAGTTCTGGCGTG'\n",
       "4. 'CGGCTAGGTCAAAGCG'\n",
       "5. 'AACTCTTAGACCGGAT'\n",
       "\n",
       "\n"
      ],
      "text/plain": [
       "[1] \"GTGCAGCTCTTCGGTC\" \"GTGAAGGAGGGCTCTC\" \"AGGGAGTTCTGGCGTG\" \"CGGCTAGGTCAAAGCG\"\n",
       "[5] \"AACTCTTAGACCGGAT\""
      ]
     },
     "metadata": {},
     "output_type": "display_data"
    }
   ],
   "source": [
    "colnames(data)[2:6\n",
    "              ]"
   ]
  },
  {
   "cell_type": "code",
   "execution_count": 24,
   "metadata": {},
   "outputs": [
    {
     "data": {
      "text/html": [
       "<ol class=list-inline>\n",
       "\t<li>23208</li>\n",
       "\t<li>2</li>\n",
       "</ol>\n"
      ],
      "text/latex": [
       "\\begin{enumerate*}\n",
       "\\item 23208\n",
       "\\item 2\n",
       "\\end{enumerate*}\n"
      ],
      "text/markdown": [
       "1. 23208\n",
       "2. 2\n",
       "\n",
       "\n"
      ],
      "text/plain": [
       "[1] 23208     2"
      ]
     },
     "metadata": {},
     "output_type": "display_data"
    }
   ],
   "source": [
    "dim(groups)"
   ]
  },
  {
   "cell_type": "code",
   "execution_count": null,
   "metadata": {},
   "outputs": [],
   "source": [
    "tail(data)"
   ]
  },
  {
   "cell_type": "code",
   "execution_count": 38,
   "metadata": {
    "collapsed": true
   },
   "outputs": [],
   "source": [
    "kilastirs=read.table(clustersFile, sep=\"\\t\",header=T)"
   ]
  },
  {
   "cell_type": "code",
   "execution_count": 50,
   "metadata": {},
   "outputs": [],
   "source": [
    "#summary(as.factor(groups[,1]))\n",
    "clst_ids=unname(groups[,1])<22\n",
    "groups_=groups[clst_ids,]\n",
    "sbs_brcds=rownames(groups_)\n",
    "data_=cbind2(data[,1],data[,sbs_brcds])"
   ]
  },
  {
   "cell_type": "code",
   "execution_count": 51,
   "metadata": {},
   "outputs": [
    {
     "data": {
      "text/html": [
       "<ol class=list-inline>\n",
       "\t<li>410</li>\n",
       "\t<li>29093</li>\n",
       "</ol>\n"
      ],
      "text/latex": [
       "\\begin{enumerate*}\n",
       "\\item 410\n",
       "\\item 29093\n",
       "\\end{enumerate*}\n"
      ],
      "text/markdown": [
       "1. 410\n",
       "2. 29093\n",
       "\n",
       "\n"
      ],
      "text/plain": [
       "[1]   410 29093"
      ]
     },
     "metadata": {},
     "output_type": "display_data"
    },
    {
     "data": {
      "text/html": [
       "<ol class=list-inline>\n",
       "\t<li>29092</li>\n",
       "\t<li>2</li>\n",
       "</ol>\n"
      ],
      "text/latex": [
       "\\begin{enumerate*}\n",
       "\\item 29092\n",
       "\\item 2\n",
       "\\end{enumerate*}\n"
      ],
      "text/markdown": [
       "1. 29092\n",
       "2. 2\n",
       "\n",
       "\n"
      ],
      "text/plain": [
       "[1] 29092     2"
      ]
     },
     "metadata": {},
     "output_type": "display_data"
    }
   ],
   "source": [
    "dim(data_)\n",
    "dim(groups_)"
   ]
  },
  {
   "cell_type": "code",
   "execution_count": 73,
   "metadata": {},
   "outputs": [],
   "source": [
    "bebe=unname(bebe)"
   ]
  },
  {
   "cell_type": "code",
   "execution_count": 43,
   "metadata": {},
   "outputs": [
    {
     "data": {
      "text/html": [
       "<table>\n",
       "<thead><tr><th></th><th scope=col>row_clusters-flat</th><th scope=col>6.Sample_AAACCTGGTACTCGCG</th><th scope=col>6.Sample_AAACCTGGTCGCATAT</th><th scope=col>6.Sample_AAACCTGGTTACGACT</th><th scope=col>6.Sample_AAACCTGTCAGGATCT</th><th scope=col>6.Sample_AAACCTGTCTCGGACG</th><th scope=col>6.Sample_AAACGGGAGAATTGTG</th><th scope=col>6.Sample_AAACGGGAGCTGCAAG</th><th scope=col>6.Sample_AAACGGGAGTTAGGTA</th><th scope=col>6.Sample_AAACGGGCAAAGCAAT</th><th scope=col>⋯</th><th scope=col>6.Sample_TCTCTAAAGTGGTAGC</th><th scope=col>6.Sample_TGAAAGACATTCTTAC</th><th scope=col>6.Sample_TGAGAGGCAAGCGTAG</th><th scope=col>6.Sample_TGAGCATCAAGTTGTC</th><th scope=col>6.Sample_TGCACCTGTCCGAAGA</th><th scope=col>6.Sample_TGTGTTTGTATATCCG</th><th scope=col>6.Sample_TGTGTTTGTCTCATCC</th><th scope=col>6.Sample_TTGACTTAGGCTAGAC</th><th scope=col>6.Sample_TTTGGTTGTGTGCCTG</th><th scope=col>6.Sample_TTTGTCAAGAAGGGTA</th></tr></thead>\n",
       "<tbody>\n",
       "\t<tr><th scope=row>column_clusters-flat</th><td>NA        </td><td>1.0000000 </td><td>1.000000  </td><td>1         </td><td>1         </td><td>1         </td><td>1.0000000 </td><td>1         </td><td>1         </td><td>1.000000  </td><td>⋯         </td><td>29.000000 </td><td>29.000000 </td><td>29.0000000</td><td>29.0000000</td><td>29.0000000</td><td>29.0000000</td><td>29.000000 </td><td>29.000000 </td><td>29.000000 </td><td>29.0000000</td></tr>\n",
       "\t<tr><th scope=row>CD63</th><td> 1        </td><td>0.0000000 </td><td>0.000000  </td><td>0         </td><td>0         </td><td>0         </td><td>0.5638287 </td><td>0         </td><td>0         </td><td>0.000000  </td><td>⋯         </td><td> 1.393655 </td><td> 1.185452 </td><td> 0.5638287</td><td> 0.9221839</td><td> 1.9543184</td><td> 1.3936554</td><td> 1.565892 </td><td> 2.233371 </td><td> 1.840822 </td><td> 0.9221839</td></tr>\n",
       "\t<tr><th scope=row>TYROBP</th><td> 1        </td><td>0.0000000 </td><td>0.000000  </td><td>0         </td><td>0         </td><td>0         </td><td>0.0000000 </td><td>0         </td><td>0         </td><td>0.000000  </td><td>⋯         </td><td> 2.067725 </td><td> 1.875710 </td><td> 2.6955478</td><td> 2.3673931</td><td> 2.4891398</td><td> 2.0677251</td><td> 2.695548 </td><td> 1.763835 </td><td> 1.976319 </td><td> 2.3673931</td></tr>\n",
       "\t<tr><th scope=row>DYNLL1</th><td> 1        </td><td>0.0000000 </td><td>0.547207  </td><td>0         </td><td>0         </td><td>0         </td><td>0.0000000 </td><td>0         </td><td>0         </td><td>0.000000  </td><td>⋯         </td><td> 0.898875 </td><td> 0.898875 </td><td> 0.5472070</td><td> 0.8988750</td><td> 1.9209367</td><td> 1.1585328</td><td> 1.535166 </td><td> 1.680923 </td><td> 0.547207 </td><td> 1.3644769</td></tr>\n",
       "\t<tr><th scope=row>TYMP</th><td> 1        </td><td>0.9405922 </td><td>0.000000  </td><td>0         </td><td>0         </td><td>0         </td><td>0.0000000 </td><td>0         </td><td>0         </td><td>0.577034  </td><td>⋯         </td><td> 1.206643 </td><td> 1.980448 </td><td> 1.2066432</td><td> 0.0000000</td><td> 1.2066432</td><td> 0.5770340</td><td> 1.980448 </td><td> 1.737742 </td><td> 1.416580 </td><td> 0.0000000</td></tr>\n",
       "\t<tr><th scope=row>CLIC1</th><td> 1        </td><td>0.0000000 </td><td>0.000000  </td><td>0         </td><td>0         </td><td>0         </td><td>0.0000000 </td><td>0         </td><td>0         </td><td>0.000000  </td><td>⋯         </td><td> 1.375555 </td><td> 1.168746 </td><td> 2.0352107</td><td> 1.9336273</td><td> 0.5534932</td><td> 0.5534932</td><td> 1.546837 </td><td> 1.546837 </td><td> 1.168746 </td><td> 0.5534932</td></tr>\n",
       "</tbody>\n",
       "</table>\n"
      ],
      "text/markdown": [
       "\n",
       "| <!--/--> | row_clusters-flat | 6.Sample_AAACCTGGTACTCGCG | 6.Sample_AAACCTGGTCGCATAT | 6.Sample_AAACCTGGTTACGACT | 6.Sample_AAACCTGTCAGGATCT | 6.Sample_AAACCTGTCTCGGACG | 6.Sample_AAACGGGAGAATTGTG | 6.Sample_AAACGGGAGCTGCAAG | 6.Sample_AAACGGGAGTTAGGTA | 6.Sample_AAACGGGCAAAGCAAT | ⋯ | 6.Sample_TCTCTAAAGTGGTAGC | 6.Sample_TGAAAGACATTCTTAC | 6.Sample_TGAGAGGCAAGCGTAG | 6.Sample_TGAGCATCAAGTTGTC | 6.Sample_TGCACCTGTCCGAAGA | 6.Sample_TGTGTTTGTATATCCG | 6.Sample_TGTGTTTGTCTCATCC | 6.Sample_TTGACTTAGGCTAGAC | 6.Sample_TTTGGTTGTGTGCCTG | 6.Sample_TTTGTCAAGAAGGGTA | \n",
       "|---|---|---|---|---|---|\n",
       "| column_clusters-flat | NA         | 1.0000000  | 1.000000   | 1          | 1          | 1          | 1.0000000  | 1          | 1          | 1.000000   | ⋯          | 29.000000  | 29.000000  | 29.0000000 | 29.0000000 | 29.0000000 | 29.0000000 | 29.000000  | 29.000000  | 29.000000  | 29.0000000 | \n",
       "| CD63 |  1         | 0.0000000  | 0.000000   | 0          | 0          | 0          | 0.5638287  | 0          | 0          | 0.000000   | ⋯          |  1.393655  |  1.185452  |  0.5638287 |  0.9221839 |  1.9543184 |  1.3936554 |  1.565892  |  2.233371  |  1.840822  |  0.9221839 | \n",
       "| TYROBP |  1         | 0.0000000  | 0.000000   | 0          | 0          | 0          | 0.0000000  | 0          | 0          | 0.000000   | ⋯          |  2.067725  |  1.875710  |  2.6955478 |  2.3673931 |  2.4891398 |  2.0677251 |  2.695548  |  1.763835  |  1.976319  |  2.3673931 | \n",
       "| DYNLL1 |  1         | 0.0000000  | 0.547207   | 0          | 0          | 0          | 0.0000000  | 0          | 0          | 0.000000   | ⋯          |  0.898875  |  0.898875  |  0.5472070 |  0.8988750 |  1.9209367 |  1.1585328 |  1.535166  |  1.680923  |  0.547207  |  1.3644769 | \n",
       "| TYMP |  1         | 0.9405922  | 0.000000   | 0          | 0          | 0          | 0.0000000  | 0          | 0          | 0.577034   | ⋯          |  1.206643  |  1.980448  |  1.2066432 |  0.0000000 |  1.2066432 |  0.5770340 |  1.980448  |  1.737742  |  1.416580  |  0.0000000 | \n",
       "| CLIC1 |  1         | 0.0000000  | 0.000000   | 0          | 0          | 0          | 0.0000000  | 0          | 0          | 0.000000   | ⋯          |  1.375555  |  1.168746  |  2.0352107 |  1.9336273 |  0.5534932 |  0.5534932 |  1.546837  |  1.546837  |  1.168746  |  0.5534932 | \n",
       "\n",
       "\n"
      ],
      "text/plain": [
       "                     row_clusters-flat 6.Sample_AAACCTGGTACTCGCG\n",
       "column_clusters-flat NA                1.0000000                \n",
       "CD63                  1                0.0000000                \n",
       "TYROBP                1                0.0000000                \n",
       "DYNLL1                1                0.0000000                \n",
       "TYMP                  1                0.9405922                \n",
       "CLIC1                 1                0.0000000                \n",
       "                     6.Sample_AAACCTGGTCGCATAT 6.Sample_AAACCTGGTTACGACT\n",
       "column_clusters-flat 1.000000                  1                        \n",
       "CD63                 0.000000                  0                        \n",
       "TYROBP               0.000000                  0                        \n",
       "DYNLL1               0.547207                  0                        \n",
       "TYMP                 0.000000                  0                        \n",
       "CLIC1                0.000000                  0                        \n",
       "                     6.Sample_AAACCTGTCAGGATCT 6.Sample_AAACCTGTCTCGGACG\n",
       "column_clusters-flat 1                         1                        \n",
       "CD63                 0                         0                        \n",
       "TYROBP               0                         0                        \n",
       "DYNLL1               0                         0                        \n",
       "TYMP                 0                         0                        \n",
       "CLIC1                0                         0                        \n",
       "                     6.Sample_AAACGGGAGAATTGTG 6.Sample_AAACGGGAGCTGCAAG\n",
       "column_clusters-flat 1.0000000                 1                        \n",
       "CD63                 0.5638287                 0                        \n",
       "TYROBP               0.0000000                 0                        \n",
       "DYNLL1               0.0000000                 0                        \n",
       "TYMP                 0.0000000                 0                        \n",
       "CLIC1                0.0000000                 0                        \n",
       "                     6.Sample_AAACGGGAGTTAGGTA 6.Sample_AAACGGGCAAAGCAAT ⋯\n",
       "column_clusters-flat 1                         1.000000                  ⋯\n",
       "CD63                 0                         0.000000                  ⋯\n",
       "TYROBP               0                         0.000000                  ⋯\n",
       "DYNLL1               0                         0.000000                  ⋯\n",
       "TYMP                 0                         0.577034                  ⋯\n",
       "CLIC1                0                         0.000000                  ⋯\n",
       "                     6.Sample_TCTCTAAAGTGGTAGC 6.Sample_TGAAAGACATTCTTAC\n",
       "column_clusters-flat 29.000000                 29.000000                \n",
       "CD63                  1.393655                  1.185452                \n",
       "TYROBP                2.067725                  1.875710                \n",
       "DYNLL1                0.898875                  0.898875                \n",
       "TYMP                  1.206643                  1.980448                \n",
       "CLIC1                 1.375555                  1.168746                \n",
       "                     6.Sample_TGAGAGGCAAGCGTAG 6.Sample_TGAGCATCAAGTTGTC\n",
       "column_clusters-flat 29.0000000                29.0000000               \n",
       "CD63                  0.5638287                 0.9221839               \n",
       "TYROBP                2.6955478                 2.3673931               \n",
       "DYNLL1                0.5472070                 0.8988750               \n",
       "TYMP                  1.2066432                 0.0000000               \n",
       "CLIC1                 2.0352107                 1.9336273               \n",
       "                     6.Sample_TGCACCTGTCCGAAGA 6.Sample_TGTGTTTGTATATCCG\n",
       "column_clusters-flat 29.0000000                29.0000000               \n",
       "CD63                  1.9543184                 1.3936554               \n",
       "TYROBP                2.4891398                 2.0677251               \n",
       "DYNLL1                1.9209367                 1.1585328               \n",
       "TYMP                  1.2066432                 0.5770340               \n",
       "CLIC1                 0.5534932                 0.5534932               \n",
       "                     6.Sample_TGTGTTTGTCTCATCC 6.Sample_TTGACTTAGGCTAGAC\n",
       "column_clusters-flat 29.000000                 29.000000                \n",
       "CD63                  1.565892                  2.233371                \n",
       "TYROBP                2.695548                  1.763835                \n",
       "DYNLL1                1.535166                  1.680923                \n",
       "TYMP                  1.980448                  1.737742                \n",
       "CLIC1                 1.546837                  1.546837                \n",
       "                     6.Sample_TTTGGTTGTGTGCCTG 6.Sample_TTTGTCAAGAAGGGTA\n",
       "column_clusters-flat 29.000000                 29.0000000               \n",
       "CD63                  1.840822                  0.9221839               \n",
       "TYROBP                1.976319                  2.3673931               \n",
       "DYNLL1                0.547207                  1.3644769               \n",
       "TYMP                  1.416580                  0.0000000               \n",
       "CLIC1                 1.168746                  0.5534932               "
      ]
     },
     "metadata": {},
     "output_type": "display_data"
    }
   ],
   "source": [
    "head(data)"
   ]
  },
  {
   "cell_type": "code",
   "execution_count": 47,
   "metadata": {},
   "outputs": [
    {
     "data": {
      "text/html": [
       "<dl class=dl-horizontal>\n",
       "\t<dt>1</dt>\n",
       "\t\t<dd>50</dd>\n",
       "\t<dt>2</dt>\n",
       "\t\t<dd>25</dd>\n",
       "\t<dt>3</dt>\n",
       "\t\t<dd>36</dd>\n",
       "\t<dt>4</dt>\n",
       "\t\t<dd>37</dd>\n",
       "\t<dt>5</dt>\n",
       "\t\t<dd>26</dd>\n",
       "\t<dt>6</dt>\n",
       "\t\t<dd>27</dd>\n",
       "\t<dt>7</dt>\n",
       "\t\t<dd>7</dd>\n",
       "\t<dt>8</dt>\n",
       "\t\t<dd>17</dd>\n",
       "\t<dt>9</dt>\n",
       "\t\t<dd>10</dd>\n",
       "\t<dt>10</dt>\n",
       "\t\t<dd>1</dd>\n",
       "\t<dt>11</dt>\n",
       "\t\t<dd>11</dd>\n",
       "\t<dt>12</dt>\n",
       "\t\t<dd>10</dd>\n",
       "\t<dt>13</dt>\n",
       "\t\t<dd>7</dd>\n",
       "\t<dt>14</dt>\n",
       "\t\t<dd>13</dd>\n",
       "\t<dt>15</dt>\n",
       "\t\t<dd>29</dd>\n",
       "\t<dt>16</dt>\n",
       "\t\t<dd>10</dd>\n",
       "\t<dt>17</dt>\n",
       "\t\t<dd>2</dd>\n",
       "\t<dt>18</dt>\n",
       "\t\t<dd>18</dd>\n",
       "\t<dt>19</dt>\n",
       "\t\t<dd>7</dd>\n",
       "\t<dt>20</dt>\n",
       "\t\t<dd>45</dd>\n",
       "\t<dt>21</dt>\n",
       "\t\t<dd>21</dd>\n",
       "\t<dt>NA's</dt>\n",
       "\t\t<dd>1</dd>\n",
       "</dl>\n"
      ],
      "text/latex": [
       "\\begin{description*}\n",
       "\\item[1] 50\n",
       "\\item[2] 25\n",
       "\\item[3] 36\n",
       "\\item[4] 37\n",
       "\\item[5] 26\n",
       "\\item[6] 27\n",
       "\\item[7] 7\n",
       "\\item[8] 17\n",
       "\\item[9] 10\n",
       "\\item[10] 1\n",
       "\\item[11] 11\n",
       "\\item[12] 10\n",
       "\\item[13] 7\n",
       "\\item[14] 13\n",
       "\\item[15] 29\n",
       "\\item[16] 10\n",
       "\\item[17] 2\n",
       "\\item[18] 18\n",
       "\\item[19] 7\n",
       "\\item[20] 45\n",
       "\\item[21] 21\n",
       "\\item[NA's] 1\n",
       "\\end{description*}\n"
      ],
      "text/markdown": [
       "1\n",
       ":   502\n",
       ":   253\n",
       ":   364\n",
       ":   375\n",
       ":   266\n",
       ":   277\n",
       ":   78\n",
       ":   179\n",
       ":   1010\n",
       ":   111\n",
       ":   1112\n",
       ":   1013\n",
       ":   714\n",
       ":   1315\n",
       ":   2916\n",
       ":   1017\n",
       ":   218\n",
       ":   1819\n",
       ":   720\n",
       ":   4521\n",
       ":   21NA's\n",
       ":   1\n",
       "\n"
      ],
      "text/plain": [
       "   1    2    3    4    5    6    7    8    9   10   11   12   13   14   15   16 \n",
       "  50   25   36   37   26   27    7   17   10    1   11   10    7   13   29   10 \n",
       "  17   18   19   20   21 NA's \n",
       "   2   18    7   45   21    1 "
      ]
     },
     "metadata": {},
     "output_type": "display_data"
    }
   ],
   "source": [
    "summary(as.factor(data[,1]))"
   ]
  },
  {
   "cell_type": "code",
   "execution_count": 48,
   "metadata": {},
   "outputs": [
    {
     "data": {
      "text/html": [
       "<ol class=list-inline>\n",
       "\t<li>410</li>\n",
       "\t<li>32139</li>\n",
       "</ol>\n"
      ],
      "text/latex": [
       "\\begin{enumerate*}\n",
       "\\item 410\n",
       "\\item 32139\n",
       "\\end{enumerate*}\n"
      ],
      "text/markdown": [
       "1. 410\n",
       "2. 32139\n",
       "\n",
       "\n"
      ],
      "text/plain": [
       "[1]   410 32139"
      ]
     },
     "metadata": {},
     "output_type": "display_data"
    }
   ],
   "source": [
    "dim(data)"
   ]
  },
  {
   "cell_type": "code",
   "execution_count": 49,
   "metadata": {},
   "outputs": [
    {
     "data": {
      "text/html": [
       "<ol class=list-inline>\n",
       "\t<li>32138</li>\n",
       "\t<li>2</li>\n",
       "</ol>\n"
      ],
      "text/latex": [
       "\\begin{enumerate*}\n",
       "\\item 32138\n",
       "\\item 2\n",
       "\\end{enumerate*}\n"
      ],
      "text/markdown": [
       "1. 32138\n",
       "2. 2\n",
       "\n",
       "\n"
      ],
      "text/plain": [
       "[1] 32138     2"
      ]
     },
     "metadata": {},
     "output_type": "display_data"
    }
   ],
   "source": [
    "dim(groups)"
   ]
  },
  {
   "cell_type": "code",
   "execution_count": null,
   "metadata": {
    "collapsed": true
   },
   "outputs": [],
   "source": []
  }
 ],
 "metadata": {
  "kernelspec": {
   "display_name": "R",
   "language": "R",
   "name": "ir"
  },
  "language_info": {
   "codemirror_mode": "r",
   "file_extension": ".r",
   "mimetype": "text/x-r-source",
   "name": "R",
   "pygments_lexer": "r",
   "version": "3.4.1"
  }
 },
 "nbformat": 4,
 "nbformat_minor": 2
}
