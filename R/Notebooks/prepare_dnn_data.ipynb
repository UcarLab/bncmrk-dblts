{
 "cells": [
  {
   "cell_type": "code",
   "execution_count": 1,
   "metadata": {},
   "outputs": [
    {
     "name": "stderr",
     "output_type": "stream",
     "text": [
      "Loading required package: spam\n",
      "Loading required package: dotCall64\n",
      "Loading required package: grid\n",
      "Spam version 2.2-2 (2019-03-07) is loaded.\n",
      "Type 'help( Spam)' or 'demo( spam)' for a short introduction \n",
      "and overview of this package.\n",
      "Help for individual functions is also obtained by adding the\n",
      "suffix '.spam' to the function name, e.g. 'help( chol.spam)'.\n",
      "\n",
      "Attaching package: 'spam'\n",
      "\n",
      "The following object is masked from 'package:Matrix':\n",
      "\n",
      "    det\n",
      "\n",
      "The following objects are masked from 'package:base':\n",
      "\n",
      "    backsolve, forwardsolve\n",
      "\n",
      "Loading required package: maps\n",
      "See https://github.com/NCAR/Fields for\n",
      " an extensive vignette, other supplements and source code \n",
      "KernSmooth 2.23 loaded\n",
      "Copyright M. P. Wand 1997-2009\n",
      "Loading required package: gplots\n",
      "\n",
      "Attaching package: 'gplots'\n",
      "\n",
      "The following object is masked from 'package:stats':\n",
      "\n",
      "    lowess\n",
      "\n",
      "\n",
      "Attaching package: 'dplyr'\n",
      "\n",
      "The following objects are masked from 'package:stats':\n",
      "\n",
      "    filter, lag\n",
      "\n",
      "The following objects are masked from 'package:base':\n",
      "\n",
      "    intersect, setdiff, setequal, union\n",
      "\n",
      "Loading required package: aoos\n",
      "\n",
      "Attaching package: 'dat'\n",
      "\n",
      "The following object is masked from 'package:maps':\n",
      "\n",
      "    map\n",
      "\n",
      "The following object is masked from 'package:base':\n",
      "\n",
      "    replace\n",
      "\n",
      "Loading tidyverse: tibble\n",
      "Loading tidyverse: tidyr\n",
      "Loading tidyverse: readr\n",
      "Loading tidyverse: purrr\n",
      "Conflicts with tidy packages ---------------------------------------------------\n",
      "expand():  tidyr, Matrix\n",
      "extract(): tidyr, dat\n",
      "filter():  dplyr, stats\n",
      "lag():     dplyr, stats\n",
      "map():     purrr, dat, maps\n",
      "Loading required package: futile.logger\n",
      "------------------------------------------------------------------------------\n",
      "You have loaded plyr after dplyr - this is likely to cause problems.\n",
      "If you need functions from both plyr and dplyr, please load plyr first, then dplyr:\n",
      "library(plyr); library(dplyr)\n",
      "------------------------------------------------------------------------------\n",
      "\n",
      "Attaching package: 'plyr'\n",
      "\n",
      "The following object is masked from 'package:purrr':\n",
      "\n",
      "    compact\n",
      "\n",
      "The following objects are masked from 'package:dplyr':\n",
      "\n",
      "    arrange, count, desc, failwith, id, mutate, rename, summarise,\n",
      "    summarize\n",
      "\n",
      "The following object is masked from 'package:maps':\n",
      "\n",
      "    ozone\n",
      "\n"
     ]
    }
   ],
   "source": [
    "library(Seurat)\n",
    "library(Matrix)\n",
    "#library(DoubletDecon)\n",
    "library(fields)\n",
    "library(KernSmooth)\n",
    "library(ROCR)\n",
    "library(modes)\n",
    "library(gplots)\n",
    "library(ggplot2)\n",
    "library(RColorBrewer)\n",
    "library(pheatmap)\n",
    "library(dplyr)\n",
    "library(dat)\n",
    "library(tidyverse)\n",
    "library(VennDiagram)\n",
    "library(plyr)"
   ]
  },
  {
   "cell_type": "code",
   "execution_count": 58,
   "metadata": {
    "collapsed": true
   },
   "outputs": [],
   "source": [
    "train_test_validate_split=function(df,tr_pc=.7,tst_pc=.15,vl_pc=.15){\n",
    "\n",
    "colnames(df)=gsub(x=colnames(df),pattern=\"X\",replacement=\"\")\n",
    "colnames(df)=gsub(x=colnames(df),pattern=\"\\\\.\",replacement=\"\\\\-\")\n",
    "\n",
    "spec = c(train = tr_pc, test = tst_pc, validate = vl_pc)\n",
    "\n",
    "\n",
    "df_name=deparse(substitute(df))\n",
    "\n",
    "g = sample(cut(\n",
    "  seq(ncol(df)), \n",
    "  ncol(df)*cumsum(c(0,spec)),\n",
    "  labels = names(spec)\n",
    "))\n",
    "\n",
    "res = list(df[,g==\"train\"],df[,g==\"validate\"],df[,g==\"test\"])\n",
    "res\n",
    "#assign(paste(df_name,\"train\",sep=\".\"),df[,g==\"train\"])\n",
    "#assign(paste(df_name,\"train\",sep=\".\"),GetAssayData(NormalizeData(CreateSeuratObject(eval(parse(text=paste(df_name,\"train\",sep=\".\")))),method=\"CLR\")))\n",
    "#assign(paste(df_name,\"validate\",sep=\".\"),df[,g==\"validate\"])\n",
    "#assign(paste(df_name,\"validate\",sep=\".\"),GetAssayData(NormalizeData(CreateSeuratObject(eval(parse(text=paste(df_name,\"validate\",sep=\".\")))),method=\"CLR\")))\n",
    "#assign(paste(df_name,\"test\",sep=\".\"),df[,g==\"test\"])\n",
    "#assign(paste(df_name,\"test\",sep=\".\"),GetAssayData(NormalizeData(CreateSeuratObject(eval(parse(text=paste(df_name,\"test\",sep=\".\")))),method=\"CLR\")))\n",
    "}\n"
   ]
  },
  {
   "cell_type": "code",
   "execution_count": 3,
   "metadata": {
    "collapsed": true
   },
   "outputs": [],
   "source": [
    "setwd(\"/projects/ucar-lab/danaco/bncmrk-dblts/DF/input/CZI.PBMC/\")\n",
    "fl=list.files(pattern=\"preprocessed.seurat.for.DF.output\")\n",
    "#print(\"read fl\")\n",
    "for (i in seq(1,length(fl),2)){\n",
    " #   print(i)\n",
    "    #name=strsplit(fl[i],split=\".preprocessed\")[[1]][1]\n",
    "    name1=strsplit(fl[i],split=\".preprocessed\")[[1]][1]\n",
    "    name2=strsplit(fl[i+1],split=\".preprocessed\")[[1]][1]\n",
    "\n",
    "  #  print(name)\n",
    "  #  writeMM(GetAssayData(readRDS(fl[i])),paste0(name,\".mtx\"))\n",
    "    #print(strsplit(fl[i],split=\".preprocessed\")[[1]][1])\n",
    "    #res=train_test_validate_split(data.frame(GetAssayData(readRDS(fl[i]))))\n",
    "    #assign(paste0(name,\".train\"),res[1])\n",
    "    #write.csv(eval(substitute(paste0(name,\".train\"))),paste0(name,\".train.csv\"))\n",
    "\n",
    "    #assign(paste0(name,\".validate\"),res[2])\n",
    "    #write.csv(eval(substitute(paste0(name,\".validate\"))),paste0(name,\".validate.csv\"))\n",
    "\n",
    "    #assign(paste0(name,\".test\"),res[3])\n",
    "    #write.csv(eval(substitute(paste0(name,\".test\"))),paste0(name,\".test.csv\"))\n",
    "\n",
    "}\n",
    "\n",
    "#czi.1.umis=readRDS(\"/projects/ucar-lab/danaco/bncmrk-dblts/DF/input/CZI.PBMC/CZI.PBMC.1.preprocessed.seurat.for.DF.output.Rds\")"
   ]
  },
  {
   "cell_type": "code",
   "execution_count": 34,
   "metadata": {},
   "outputs": [
    {
     "name": "stderr",
     "output_type": "stream",
     "text": [
      "Warning message in split.default(x = seq_len(nrow(x)), f = f, drop = drop, ...):\n",
      "“data length is not a multiple of split variable”"
     ]
    }
   ],
   "source": [
    "df=data.frame(CZI.PBMC.1.umis)\n",
    "tr_pc=.7\n",
    "tst_pc=.15\n",
    "vl_pc=.15\n",
    "\n",
    "colnames(df)=gsub(x=colnames(df),pattern=\"X\",replacement=\"\")\n",
    "colnames(df)=gsub(x=colnames(df),pattern=\"\\\\.\",replacement=\"\\\\-\")\n",
    "\n",
    "spec = c(train = tr_pc, test = tst_pc, validate = vl_pc)\n",
    "\n",
    "\n",
    "df_name=deparse(substitute(df))\n",
    "\n",
    "g = sample(cut(\n",
    "  seq(ncol(df)), \n",
    "  ncol(df)*cumsum(c(0,spec)),\n",
    "  labels = names(spec)\n",
    "))\n",
    "\n",
    "\n",
    "res = list(df[,g==\"train\"],df[,g==\"validate\"],df[,g==\"test\"])\n",
    "\n",
    "res\n"
   ]
  },
  {
   "cell_type": "code",
   "execution_count": 46,
   "metadata": {
    "collapsed": true
   },
   "outputs": [],
   "source": [
    "res=data.frame(train=df[,g==\"train\"],validate=df[,g==\"validate\"],test=df[,g==\"test\"])"
   ]
  },
  {
   "cell_type": "code",
   "execution_count": 48,
   "metadata": {
    "collapsed": true
   },
   "outputs": [],
   "source": [
    "res=list(df[,g==\"train\"],df[,g==\"validate\"],df[,g==\"test\"])"
   ]
  },
  {
   "cell_type": "code",
   "execution_count": 52,
   "metadata": {},
   "outputs": [
    {
     "data": {
      "text/html": [
       "<ol class=list-inline>\n",
       "\t<li>18489</li>\n",
       "\t<li>4817</li>\n",
       "</ol>\n"
      ],
      "text/latex": [
       "\\begin{enumerate*}\n",
       "\\item 18489\n",
       "\\item 4817\n",
       "\\end{enumerate*}\n"
      ],
      "text/markdown": [
       "1. 18489\n",
       "2. 4817\n",
       "\n",
       "\n"
      ],
      "text/plain": [
       "[1] 18489  4817"
      ]
     },
     "metadata": {},
     "output_type": "display_data"
    }
   ],
   "source": [
    "dim(res[[3]])"
   ]
  },
  {
   "cell_type": "code",
   "execution_count": 6,
   "metadata": {
    "collapsed": true
   },
   "outputs": [],
   "source": [
    "bebe=readRDS(fl[1])"
   ]
  },
  {
   "cell_type": "code",
   "execution_count": 17,
   "metadata": {},
   "outputs": [
    {
     "data": {
      "text/html": [
       "<table>\n",
       "<thead><tr><th></th><th scope=col>PC_1</th><th scope=col>PC_2</th><th scope=col>PC_3</th><th scope=col>PC_4</th><th scope=col>PC_5</th><th scope=col>PC_6</th><th scope=col>PC_7</th><th scope=col>PC_8</th><th scope=col>PC_9</th><th scope=col>PC_10</th><th scope=col>⋯</th><th scope=col>PC_41</th><th scope=col>PC_42</th><th scope=col>PC_43</th><th scope=col>PC_44</th><th scope=col>PC_45</th><th scope=col>PC_46</th><th scope=col>PC_47</th><th scope=col>PC_48</th><th scope=col>PC_49</th><th scope=col>PC_50</th></tr></thead>\n",
       "<tbody>\n",
       "\t<tr><th scope=row>1-Sample_AAACCTGAGAATGTGT</th><td>4.119822    </td><td> 1.34686057 </td><td>0.29988768  </td><td>0.1900940   </td><td>0.73526902  </td><td> 0.05997693 </td><td>-0.07501228 </td><td>-0.22889221 </td><td>-0.005076993</td><td> 0.23514377 </td><td><U+22EF>    </td><td> 0.081807471</td><td>-0.29237997 </td><td>-0.084293088</td><td> 0.20410266 </td><td>-0.585889048</td><td>-0.09733811 </td><td> 0.04190208 </td><td> 0.08798593 </td><td>-0.335347725</td><td> 0.110173964</td></tr>\n",
       "\t<tr><th scope=row>1-Sample_AAACCTGAGACTGTAA</th><td>3.985693    </td><td> 1.21238499 </td><td>0.59539024  </td><td>0.5125112   </td><td>0.48970012  </td><td> 0.74778744 </td><td>-0.49468273 </td><td> 0.06685425 </td><td> 0.066616098</td><td>-0.24729326 </td><td><U+22EF>    </td><td> 0.001732234</td><td>-0.03067066 </td><td>-0.271026707</td><td> 0.04181737 </td><td>-0.122886088</td><td> 0.19150909 </td><td> 0.12210428 </td><td>-0.12079861 </td><td>-0.007299907</td><td>-0.235800265</td></tr>\n",
       "\t<tr><th scope=row>1-Sample_AAACCTGAGATGCCAG</th><td>5.827993    </td><td> 1.27451244 </td><td>0.51927505  </td><td>0.2211508   </td><td>0.19279597  </td><td>-0.38710322 </td><td>-0.15243964 </td><td> 0.21455076 </td><td> 0.141232711</td><td> 0.15958110 </td><td><U+22EF>    </td><td>-0.008915244</td><td> 0.06356982 </td><td> 0.001560275</td><td>-0.01957060 </td><td>-0.011014371</td><td> 0.01491768 </td><td> 0.01866566 </td><td> 0.01021298 </td><td> 0.042511296</td><td> 0.008619145</td></tr>\n",
       "\t<tr><th scope=row>1-Sample_AAACCTGAGCAAATCA</th><td>4.711009    </td><td>-0.01661911 </td><td>0.03890151  </td><td>0.5064376   </td><td>0.39387938  </td><td>-0.13462247 </td><td>-0.12310370 </td><td>-0.15587080 </td><td> 0.691680628</td><td> 0.24697591 </td><td><U+22EF>    </td><td>-0.073637235</td><td>-0.03992108 </td><td>-0.132664838</td><td>-0.19421738 </td><td>-0.004581572</td><td> 0.04495302 </td><td>-0.00359695 </td><td>-0.16547864 </td><td>-0.143143297</td><td> 0.055862003</td></tr>\n",
       "\t<tr><th scope=row>1-Sample_AAACCTGAGCGATATA</th><td>5.268650    </td><td> 1.30169721 </td><td>0.35254253  </td><td>0.2272890   </td><td>0.03917313  </td><td>-0.46678424 </td><td> 0.16364348 </td><td>-0.11100966 </td><td>-0.115292847</td><td> 0.21614940 </td><td><U+22EF>    </td><td> 0.162251912</td><td>-0.08660761 </td><td> 0.094108427</td><td>-0.08485685 </td><td>-0.028179306</td><td>-0.02096181 </td><td> 0.23524928 </td><td>-0.02003987 </td><td>-0.064171706</td><td> 0.043478825</td></tr>\n",
       "\t<tr><th scope=row>1-Sample_AAACCTGAGCGTGAAC</th><td>4.839211    </td><td> 0.91565781 </td><td>1.04709363  </td><td>0.2604204   </td><td>0.53295024  </td><td> 0.47529427 </td><td> 0.13537013 </td><td> 0.28870554 </td><td> 0.076908472</td><td> 0.06437109 </td><td><U+22EF>    </td><td>-0.998222481</td><td> 0.74905360 </td><td>-0.123063333</td><td> 0.14498767 </td><td>-0.109944277</td><td> 0.14062472 </td><td>-0.20474867 </td><td> 0.60147916 </td><td>-0.228361973</td><td>-0.144896425</td></tr>\n",
       "</tbody>\n",
       "</table>\n"
      ],
      "text/latex": [
       "\\begin{tabular}{r|llllllllllllllllllllllllllllllllllllllllllllllllll}\n",
       "  & PC\\_1 & PC\\_2 & PC\\_3 & PC\\_4 & PC\\_5 & PC\\_6 & PC\\_7 & PC\\_8 & PC\\_9 & PC\\_10 & ⋯ & PC\\_41 & PC\\_42 & PC\\_43 & PC\\_44 & PC\\_45 & PC\\_46 & PC\\_47 & PC\\_48 & PC\\_49 & PC\\_50\\\\\n",
       "\\hline\n",
       "\t1-Sample\\_AAACCTGAGAATGTGT & 4.119822     &  1.34686057  & 0.29988768   & 0.1900940    & 0.73526902   &  0.05997693  & -0.07501228  & -0.22889221  & -0.005076993 &  0.23514377  & <U+22EF>     &  0.081807471 & -0.29237997  & -0.084293088 &  0.20410266  & -0.585889048 & -0.09733811  &  0.04190208  &  0.08798593  & -0.335347725 &  0.110173964\\\\\n",
       "\t1-Sample\\_AAACCTGAGACTGTAA & 3.985693     &  1.21238499  & 0.59539024   & 0.5125112    & 0.48970012   &  0.74778744  & -0.49468273  &  0.06685425  &  0.066616098 & -0.24729326  & <U+22EF>     &  0.001732234 & -0.03067066  & -0.271026707 &  0.04181737  & -0.122886088 &  0.19150909  &  0.12210428  & -0.12079861  & -0.007299907 & -0.235800265\\\\\n",
       "\t1-Sample\\_AAACCTGAGATGCCAG & 5.827993     &  1.27451244  & 0.51927505   & 0.2211508    & 0.19279597   & -0.38710322  & -0.15243964  &  0.21455076  &  0.141232711 &  0.15958110  & <U+22EF>     & -0.008915244 &  0.06356982  &  0.001560275 & -0.01957060  & -0.011014371 &  0.01491768  &  0.01866566  &  0.01021298  &  0.042511296 &  0.008619145\\\\\n",
       "\t1-Sample\\_AAACCTGAGCAAATCA & 4.711009     & -0.01661911  & 0.03890151   & 0.5064376    & 0.39387938   & -0.13462247  & -0.12310370  & -0.15587080  &  0.691680628 &  0.24697591  & <U+22EF>     & -0.073637235 & -0.03992108  & -0.132664838 & -0.19421738  & -0.004581572 &  0.04495302  & -0.00359695  & -0.16547864  & -0.143143297 &  0.055862003\\\\\n",
       "\t1-Sample\\_AAACCTGAGCGATATA & 5.268650     &  1.30169721  & 0.35254253   & 0.2272890    & 0.03917313   & -0.46678424  &  0.16364348  & -0.11100966  & -0.115292847 &  0.21614940  & <U+22EF>     &  0.162251912 & -0.08660761  &  0.094108427 & -0.08485685  & -0.028179306 & -0.02096181  &  0.23524928  & -0.02003987  & -0.064171706 &  0.043478825\\\\\n",
       "\t1-Sample\\_AAACCTGAGCGTGAAC & 4.839211     &  0.91565781  & 1.04709363   & 0.2604204    & 0.53295024   &  0.47529427  &  0.13537013  &  0.28870554  &  0.076908472 &  0.06437109  & <U+22EF>     & -0.998222481 &  0.74905360  & -0.123063333 &  0.14498767  & -0.109944277 &  0.14062472  & -0.20474867  &  0.60147916  & -0.228361973 & -0.144896425\\\\\n",
       "\\end{tabular}\n"
      ],
      "text/markdown": [
       "\n",
       "| <!--/--> | PC_1 | PC_2 | PC_3 | PC_4 | PC_5 | PC_6 | PC_7 | PC_8 | PC_9 | PC_10 | ⋯ | PC_41 | PC_42 | PC_43 | PC_44 | PC_45 | PC_46 | PC_47 | PC_48 | PC_49 | PC_50 | \n",
       "|---|---|---|---|---|---|\n",
       "| 1-Sample_AAACCTGAGAATGTGT | 4.119822     |  1.34686057  | 0.29988768   | 0.1900940    | 0.73526902   |  0.05997693  | -0.07501228  | -0.22889221  | -0.005076993 |  0.23514377  | <U+22EF>     |  0.081807471 | -0.29237997  | -0.084293088 |  0.20410266  | -0.585889048 | -0.09733811  |  0.04190208  |  0.08798593  | -0.335347725 |  0.110173964 | \n",
       "| 1-Sample_AAACCTGAGACTGTAA | 3.985693     |  1.21238499  | 0.59539024   | 0.5125112    | 0.48970012   |  0.74778744  | -0.49468273  |  0.06685425  |  0.066616098 | -0.24729326  | <U+22EF>     |  0.001732234 | -0.03067066  | -0.271026707 |  0.04181737  | -0.122886088 |  0.19150909  |  0.12210428  | -0.12079861  | -0.007299907 | -0.235800265 | \n",
       "| 1-Sample_AAACCTGAGATGCCAG | 5.827993     |  1.27451244  | 0.51927505   | 0.2211508    | 0.19279597   | -0.38710322  | -0.15243964  |  0.21455076  |  0.141232711 |  0.15958110  | <U+22EF>     | -0.008915244 |  0.06356982  |  0.001560275 | -0.01957060  | -0.011014371 |  0.01491768  |  0.01866566  |  0.01021298  |  0.042511296 |  0.008619145 | \n",
       "| 1-Sample_AAACCTGAGCAAATCA | 4.711009     | -0.01661911  | 0.03890151   | 0.5064376    | 0.39387938   | -0.13462247  | -0.12310370  | -0.15587080  |  0.691680628 |  0.24697591  | <U+22EF>     | -0.073637235 | -0.03992108  | -0.132664838 | -0.19421738  | -0.004581572 |  0.04495302  | -0.00359695  | -0.16547864  | -0.143143297 |  0.055862003 | \n",
       "| 1-Sample_AAACCTGAGCGATATA | 5.268650     |  1.30169721  | 0.35254253   | 0.2272890    | 0.03917313   | -0.46678424  |  0.16364348  | -0.11100966  | -0.115292847 |  0.21614940  | <U+22EF>     |  0.162251912 | -0.08660761  |  0.094108427 | -0.08485685  | -0.028179306 | -0.02096181  |  0.23524928  | -0.02003987  | -0.064171706 |  0.043478825 | \n",
       "| 1-Sample_AAACCTGAGCGTGAAC | 4.839211     |  0.91565781  | 1.04709363   | 0.2604204    | 0.53295024   |  0.47529427  |  0.13537013  |  0.28870554  |  0.076908472 |  0.06437109  | <U+22EF>     | -0.998222481 |  0.74905360  | -0.123063333 |  0.14498767  | -0.109944277 |  0.14062472  | -0.20474867  |  0.60147916  | -0.228361973 | -0.144896425 | \n",
       "\n",
       "\n"
      ],
      "text/plain": [
       "                          PC_1     PC_2        PC_3       PC_4      PC_5      \n",
       "1-Sample_AAACCTGAGAATGTGT 4.119822  1.34686057 0.29988768 0.1900940 0.73526902\n",
       "1-Sample_AAACCTGAGACTGTAA 3.985693  1.21238499 0.59539024 0.5125112 0.48970012\n",
       "1-Sample_AAACCTGAGATGCCAG 5.827993  1.27451244 0.51927505 0.2211508 0.19279597\n",
       "1-Sample_AAACCTGAGCAAATCA 4.711009 -0.01661911 0.03890151 0.5064376 0.39387938\n",
       "1-Sample_AAACCTGAGCGATATA 5.268650  1.30169721 0.35254253 0.2272890 0.03917313\n",
       "1-Sample_AAACCTGAGCGTGAAC 4.839211  0.91565781 1.04709363 0.2604204 0.53295024\n",
       "                          PC_6        PC_7        PC_8        PC_9        \n",
       "1-Sample_AAACCTGAGAATGTGT  0.05997693 -0.07501228 -0.22889221 -0.005076993\n",
       "1-Sample_AAACCTGAGACTGTAA  0.74778744 -0.49468273  0.06685425  0.066616098\n",
       "1-Sample_AAACCTGAGATGCCAG -0.38710322 -0.15243964  0.21455076  0.141232711\n",
       "1-Sample_AAACCTGAGCAAATCA -0.13462247 -0.12310370 -0.15587080  0.691680628\n",
       "1-Sample_AAACCTGAGCGATATA -0.46678424  0.16364348 -0.11100966 -0.115292847\n",
       "1-Sample_AAACCTGAGCGTGAAC  0.47529427  0.13537013  0.28870554  0.076908472\n",
       "                          PC_10       <U+22EF>   PC_41        PC_42      \n",
       "1-Sample_AAACCTGAGAATGTGT  0.23514377 <U+22EF>  0.081807471 -0.29237997\n",
       "1-Sample_AAACCTGAGACTGTAA -0.24729326 <U+22EF>  0.001732234 -0.03067066\n",
       "1-Sample_AAACCTGAGATGCCAG  0.15958110 <U+22EF> -0.008915244  0.06356982\n",
       "1-Sample_AAACCTGAGCAAATCA  0.24697591 <U+22EF> -0.073637235 -0.03992108\n",
       "1-Sample_AAACCTGAGCGATATA  0.21614940 <U+22EF>  0.162251912 -0.08660761\n",
       "1-Sample_AAACCTGAGCGTGAAC  0.06437109 <U+22EF> -0.998222481  0.74905360\n",
       "                          PC_43        PC_44       PC_45        PC_46      \n",
       "1-Sample_AAACCTGAGAATGTGT -0.084293088  0.20410266 -0.585889048 -0.09733811\n",
       "1-Sample_AAACCTGAGACTGTAA -0.271026707  0.04181737 -0.122886088  0.19150909\n",
       "1-Sample_AAACCTGAGATGCCAG  0.001560275 -0.01957060 -0.011014371  0.01491768\n",
       "1-Sample_AAACCTGAGCAAATCA -0.132664838 -0.19421738 -0.004581572  0.04495302\n",
       "1-Sample_AAACCTGAGCGATATA  0.094108427 -0.08485685 -0.028179306 -0.02096181\n",
       "1-Sample_AAACCTGAGCGTGAAC -0.123063333  0.14498767 -0.109944277  0.14062472\n",
       "                          PC_47       PC_48       PC_49        PC_50       \n",
       "1-Sample_AAACCTGAGAATGTGT  0.04190208  0.08798593 -0.335347725  0.110173964\n",
       "1-Sample_AAACCTGAGACTGTAA  0.12210428 -0.12079861 -0.007299907 -0.235800265\n",
       "1-Sample_AAACCTGAGATGCCAG  0.01866566  0.01021298  0.042511296  0.008619145\n",
       "1-Sample_AAACCTGAGCAAATCA -0.00359695 -0.16547864 -0.143143297  0.055862003\n",
       "1-Sample_AAACCTGAGCGATATA  0.23524928 -0.02003987 -0.064171706  0.043478825\n",
       "1-Sample_AAACCTGAGCGTGAAC -0.20474867  0.60147916 -0.228361973 -0.144896425"
      ]
     },
     "metadata": {},
     "output_type": "display_data"
    }
   ],
   "source": [
    "head(Embeddings(bebe, reduction = \"pca\"))\n"
   ]
  },
  {
   "cell_type": "code",
   "execution_count": 20,
   "metadata": {},
   "outputs": [],
   "source": [
    "brcds_1=rownames(Embeddings(bebe, reduction = \"umap\"))"
   ]
  },
  {
   "cell_type": "code",
   "execution_count": 23,
   "metadata": {},
   "outputs": [
    {
     "data": {
      "text/html": [
       "11.357705116272"
      ],
      "text/latex": [
       "11.357705116272"
      ],
      "text/markdown": [
       "11.357705116272"
      ],
      "text/plain": [
       "[1] 11.35771"
      ]
     },
     "metadata": {},
     "output_type": "display_data"
    }
   ],
   "source": [
    "max(Embeddings(bebe, reduction = \"umap\"))"
   ]
  },
  {
   "cell_type": "code",
   "execution_count": null,
   "metadata": {
    "collapsed": true
   },
   "outputs": [],
   "source": []
  }
 ],
 "metadata": {
  "kernelspec": {
   "display_name": "R",
   "language": "R",
   "name": "ir"
  },
  "language_info": {
   "codemirror_mode": "r",
   "file_extension": ".r",
   "mimetype": "text/x-r-source",
   "name": "R",
   "pygments_lexer": "r",
   "version": "3.4.1"
  }
 },
 "nbformat": 4,
 "nbformat_minor": 2
}
