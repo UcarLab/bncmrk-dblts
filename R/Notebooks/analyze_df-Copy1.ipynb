{
 "cells": [
  {
   "cell_type": "code",
   "execution_count": 1,
   "metadata": {},
   "outputs": [
    {
     "name": "stderr",
     "output_type": "stream",
     "text": [
      "\n",
      "Attaching package: 'dplyr'\n",
      "\n",
      "The following objects are masked from 'package:stats':\n",
      "\n",
      "    filter, lag\n",
      "\n",
      "The following objects are masked from 'package:base':\n",
      "\n",
      "    intersect, setdiff, setequal, union\n",
      "\n",
      "\n",
      "Attaching package: 'cowplot'\n",
      "\n",
      "The following object is masked from 'package:ggplot2':\n",
      "\n",
      "    ggsave\n",
      "\n"
     ]
    }
   ],
   "source": [
    "rm(list = ls())\n",
    "set.seed(100)\n",
    "library(Rtsne)\n",
    "library(RColorBrewer)\n",
    "library(pheatmap)\n",
    "library(dplyr)\n",
    "library(ggplot2)\n",
    "library(cowplot)\n",
    "library(Seurat)\n",
    "library(Matrix)"
   ]
  },
  {
   "cell_type": "code",
   "execution_count": 86,
   "metadata": {
    "collapsed": true
   },
   "outputs": [],
   "source": [
    "ftrs_lst=read.csv(\"../../../Ground/groundTruthBarcodes.csv\")[,2]\n",
    "df.1.md=read.csv(\"1_.DF.output.DF.metadata.0.3.csv\")\n",
    "pres_ids=which(as.character(df.1.md$X) %in% ftrs_lst)\n",
    "df.1.md=df.1.md[pres_ids,]\n",
    "df.10.md=read.csv(\"10_.DF.output.DF.metadata.0.01.csv\")\n",
    "pres_ids=which(as.character(df.10.md$X) %in% ftrs_lst)\n",
    "df.10.md=df.10.md[pres_ids,]\n",
    "df.2.md=read.csv(\"2_.DF.output.DF.metadata.0.01.csv\")\n",
    "pres_ids=which(as.character(df.2.md$X) %in% ftrs_lst)\n",
    "df.2.md=df.2.md[pres_ids,]\n",
    "df.3.md=read.csv(\"3_.DF.output.DF.metadata.0.16.csv\")\n",
    "pres_ids=which(as.character(df.3.md$X) %in% ftrs_lst)\n",
    "df.3.md=df.3.md[pres_ids,]\n",
    "df.4.md=read.csv(\"4_.DF.output.DF.metadata.0.3.csv\")\n",
    "pres_ids=which(as.character(df.4.md$X) %in% ftrs_lst)\n",
    "df.4.md=df.4.md[pres_ids,]\n",
    "df.5.md=read.csv(\"5_.DF.output.DF.metadata.0.18.csv\")\n",
    "pres_ids=which(as.character(df.5.md$X) %in% ftrs_lst)\n",
    "df.5.md=df.5.md[pres_ids,]\n",
    "df.6.md=read.csv(\"6_.DF.output.DF.metadata.0.25.csv\")\n",
    "pres_ids=which(as.character(df.6.md$X) %in% ftrs_lst)\n",
    "df.6.md=df.6.md[pres_ids,]\n",
    "df.7.md=read.csv(\"7_.DF.output.DF.metadata.0.26.csv\")\n",
    "pres_ids=which(as.character(df.7.md$X) %in% ftrs_lst)\n",
    "df.7.md=df.7.md[pres_ids,]\n",
    "df.8.md=read.csv(\"8_.DF.output.DF.metadata.0.27.csv\")\n",
    "pres_ids=which(as.character(df.8.md$X) %in% ftrs_lst)\n",
    "df.8.md=df.8.md[pres_ids,]\n",
    "df.9.md=read.csv(\"9_.DF.output.DF.metadata.0.02.csv\")\n",
    "pres_ids=which(as.character(df.9.md$X) %in% ftrs_lst)\n",
    "df.9.md=df.9.md[pres_ids,]"
   ]
  },
  {
   "cell_type": "code",
   "execution_count": 102,
   "metadata": {
    "collapsed": true
   },
   "outputs": [],
   "source": [
    "dr_1=sum(as.character(df.1.md$DF.classifications_0.25_0.3_2325)==\"Doublet\")\n",
    "dr_10=sum(as.character(df.10.md$DF.classifications_0.25_0.01_1913)==\"Doublet\")\n",
    "dr_2=sum(as.character(df.2.md$DF.classifications_0.25_0.01_2269)==\"Doublet\")\n",
    "dr_3=sum(as.character(df.3.md$DF.classifications_0.25_0.16_2164)==\"Doublet\")\n",
    "dr_4=sum(as.character(df.4.md$DF.classifications_0.25_0.3_2208)==\"Doublet\")\n",
    "dr_5=sum(as.character(df.5.md$DF.classifications_0.25_0.18_2139)==\"Doublet\")\n",
    "dr_6=sum(as.character(df.6.md$DF.classifications_0.25_0.25_2135)==\"Doublet\")\n",
    "dr_7=sum(as.character(df.7.md$DF.classifications_0.25_0.26_2206)==\"Doublet\")\n",
    "dr_8=sum(as.character(df.8.md$DF.classifications_0.25_0.27_2056)==\"Doublet\")\n",
    "dr_9=sum(as.character(df.9.md$DF.classifications_0.25_0.02_2274)==\"Doublet\")"
   ]
  },
  {
   "cell_type": "code",
   "execution_count": 105,
   "metadata": {
    "collapsed": true
   },
   "outputs": [],
   "source": [
    "df.1=data.frame(BARCODE=as.character(df.1.md$X),Df_label=as.character(df.1.md$DF.classifications_0.25_0.3_2325))\n",
    "df.10=data.frame(BARCODE=as.character(df.10.md$X),Df_label=as.character(df.10.md$DF.classifications_0.25_0.01_1913))\n",
    "df.2=data.frame(BARCODE=as.character(df.2.md$X),Df_label=as.character(df.2.md$DF.classifications_0.25_0.01_2269))\n",
    "df.3=data.frame(BARCODE=as.character(df.3.md$X),Df_label=as.character(df.3.md$DF.classifications_0.25_0.16_2164))\n",
    "df.4=data.frame(BARCODE=as.character(df.4.md$X),Df_label=as.character(df.4.md$DF.classifications_0.25_0.3_2208))\n",
    "df.5=data.frame(BARCODE=as.character(df.5.md$X),Df_label=as.character(df.5.md$DF.classifications_0.25_0.18_2139))\n",
    "df.6=data.frame(BARCODE=as.character(df.6.md$X),Df_label=as.character(df.6.md$DF.classifications_0.25_0.25_2135))\n",
    "df.7=data.frame(BARCODE=as.character(df.7.md$X),Df_label=as.character(df.7.md$DF.classifications_0.25_0.26_2206))\n",
    "df.8=data.frame(BARCODE=as.character(df.8.md$X),Df_label=as.character(df.8.md$DF.classifications_0.25_0.27_2056))\n",
    "df.9=data.frame(BARCODE=as.character(df.9.md$X),Df_label=as.character(df.9.md$DF.classifications_0.25_0.02_2274))"
   ]
  },
  {
   "cell_type": "code",
   "execution_count": 144,
   "metadata": {
    "collapsed": true
   },
   "outputs": [],
   "source": [
    "df.gr=rbind(df.1,df.2,df.3,df.4,df.5,df.6,df.7,df.8,df.9,df.10)\n",
    "df.gr$Df_label=as.character(df.gr$Df_label)"
   ]
  },
  {
   "cell_type": "code",
   "execution_count": 146,
   "metadata": {
    "collapsed": true
   },
   "outputs": [],
   "source": [
    "df.gr$Df_label[df.gr$Df_label==\"Singlet\"]=\"SNG\"\n",
    "df.gr$Df_label[df.gr$Df_label==\"Doublet\"]=\"DBL\""
   ]
  },
  {
   "cell_type": "code",
   "execution_count": 148,
   "metadata": {
    "collapsed": true
   },
   "outputs": [],
   "source": [
    "saveRDS(df.gr,\"doubletFinderGround.Rds\")\n",
    "write.csv(df.gr,\"doubletFinderGround.csv\")"
   ]
  },
  {
   "cell_type": "code",
   "execution_count": 132,
   "metadata": {},
   "outputs": [
    {
     "data": {
      "text/html": [
       "<ol class=list-inline>\n",
       "\t<li>Doublet</li>\n",
       "\t<li>Doublet</li>\n",
       "\t<li>Doublet</li>\n",
       "\t<li>Doublet</li>\n",
       "\t<li>Doublet</li>\n",
       "\t<li>Doublet</li>\n",
       "\t<li>Doublet</li>\n",
       "\t<li>Doublet</li>\n",
       "\t<li>Doublet</li>\n",
       "\t<li>Doublet</li>\n",
       "</ol>\n"
      ],
      "text/latex": [
       "\\begin{enumerate*}\n",
       "\\item Doublet\n",
       "\\item Doublet\n",
       "\\item Doublet\n",
       "\\item Doublet\n",
       "\\item Doublet\n",
       "\\item Doublet\n",
       "\\item Doublet\n",
       "\\item Doublet\n",
       "\\item Doublet\n",
       "\\item Doublet\n",
       "\\end{enumerate*}\n"
      ],
      "text/markdown": [
       "1. Doublet\n",
       "2. Doublet\n",
       "3. Doublet\n",
       "4. Doublet\n",
       "5. Doublet\n",
       "6. Doublet\n",
       "7. Doublet\n",
       "8. Doublet\n",
       "9. Doublet\n",
       "10. Doublet\n",
       "\n",
       "\n"
      ],
      "text/plain": [
       " [1] Doublet Doublet Doublet Doublet Doublet Doublet Doublet Doublet Doublet\n",
       "[10] Doublet\n",
       "Levels: Doublet Singlet"
      ]
     },
     "metadata": {},
     "output_type": "display_data"
    }
   ],
   "source": [
    "#df.gr$Df_label[which(as.character(df.gr$Df_label)==\"Doublet\")]"
   ]
  },
  {
   "cell_type": "code",
   "execution_count": 63,
   "metadata": {},
   "outputs": [
    {
     "data": {
      "text/html": [
       "Singlet"
      ],
      "text/latex": [
       "Singlet"
      ],
      "text/markdown": [
       "Singlet"
      ],
      "text/plain": [
       "[1] Singlet\n",
       "Levels: Doublet Singlet"
      ]
     },
     "metadata": {},
     "output_type": "display_data"
    }
   ],
   "source": []
  },
  {
   "cell_type": "code",
   "execution_count": 81,
   "metadata": {
    "collapsed": true
   },
   "outputs": [],
   "source": []
  },
  {
   "cell_type": "code",
   "execution_count": null,
   "metadata": {
    "collapsed": true
   },
   "outputs": [],
   "source": []
  }
 ],
 "metadata": {
  "kernelspec": {
   "display_name": "R",
   "language": "R",
   "name": "ir"
  },
  "language_info": {
   "codemirror_mode": "r",
   "file_extension": ".r",
   "mimetype": "text/x-r-source",
   "name": "R",
   "pygments_lexer": "r",
   "version": "3.4.1"
  }
 },
 "nbformat": 4,
 "nbformat_minor": 2
}
