{
 "cells": [
  {
   "cell_type": "code",
   "execution_count": 1,
   "metadata": {},
   "outputs": [
    {
     "name": "stderr",
     "output_type": "stream",
     "text": [
      "Loading required package: spam\n",
      "Loading required package: dotCall64\n",
      "Loading required package: grid\n",
      "Spam version 2.2-2 (2019-03-07) is loaded.\n",
      "Type 'help( Spam)' or 'demo( spam)' for a short introduction \n",
      "and overview of this package.\n",
      "Help for individual functions is also obtained by adding the\n",
      "suffix '.spam' to the function name, e.g. 'help( chol.spam)'.\n",
      "\n",
      "Attaching package: 'spam'\n",
      "\n",
      "The following object is masked from 'package:Matrix':\n",
      "\n",
      "    det\n",
      "\n",
      "The following objects are masked from 'package:base':\n",
      "\n",
      "    backsolve, forwardsolve\n",
      "\n",
      "Loading required package: maps\n",
      "See https://github.com/NCAR/Fields for\n",
      " an extensive vignette, other supplements and source code \n",
      "KernSmooth 2.23 loaded\n",
      "Copyright M. P. Wand 1997-2009\n",
      "Loading required package: gplots\n",
      "\n",
      "Attaching package: 'gplots'\n",
      "\n",
      "The following object is masked from 'package:stats':\n",
      "\n",
      "    lowess\n",
      "\n",
      "\n",
      "Attaching package: 'dplyr'\n",
      "\n",
      "The following objects are masked from 'package:stats':\n",
      "\n",
      "    filter, lag\n",
      "\n",
      "The following objects are masked from 'package:base':\n",
      "\n",
      "    intersect, setdiff, setequal, union\n",
      "\n",
      "Loading required package: aoos\n",
      "\n",
      "Attaching package: 'dat'\n",
      "\n",
      "The following object is masked from 'package:maps':\n",
      "\n",
      "    map\n",
      "\n",
      "The following object is masked from 'package:base':\n",
      "\n",
      "    replace\n",
      "\n",
      "Loading tidyverse: tibble\n",
      "Loading tidyverse: tidyr\n",
      "Loading tidyverse: readr\n",
      "Loading tidyverse: purrr\n",
      "Conflicts with tidy packages ---------------------------------------------------\n",
      "expand():  tidyr, Matrix\n",
      "extract(): tidyr, dat\n",
      "filter():  dplyr, stats\n",
      "lag():     dplyr, stats\n",
      "map():     purrr, dat, maps\n",
      "Loading required package: futile.logger\n",
      "------------------------------------------------------------------------------\n",
      "You have loaded plyr after dplyr - this is likely to cause problems.\n",
      "If you need functions from both plyr and dplyr, please load plyr first, then dplyr:\n",
      "library(plyr); library(dplyr)\n",
      "------------------------------------------------------------------------------\n",
      "\n",
      "Attaching package: 'plyr'\n",
      "\n",
      "The following object is masked from 'package:purrr':\n",
      "\n",
      "    compact\n",
      "\n",
      "The following objects are masked from 'package:dplyr':\n",
      "\n",
      "    arrange, count, desc, failwith, id, mutate, rename, summarise,\n",
      "    summarize\n",
      "\n",
      "The following object is masked from 'package:maps':\n",
      "\n",
      "    ozone\n",
      "\n"
     ]
    }
   ],
   "source": [
    "library(Seurat)\n",
    "library(Matrix)\n",
    "#library(DoubletDecon)\n",
    "library(fields)\n",
    "library(KernSmooth)\n",
    "library(ROCR)\n",
    "library(modes)\n",
    "library(gplots)\n",
    "library(ggplot2)\n",
    "library(RColorBrewer)\n",
    "library(pheatmap)\n",
    "library(dplyr)\n",
    "library(dat)\n",
    "library(tidyverse)\n",
    "library(VennDiagram)\n",
    "library(plyr)"
   ]
  },
  {
   "cell_type": "code",
   "execution_count": 58,
   "metadata": {
    "collapsed": true
   },
   "outputs": [],
   "source": [
    "train_test_validate_split=function(df,tr_pc=.7,tst_pc=.15,vl_pc=.15){\n",
    "\n",
    "colnames(df)=gsub(x=colnames(df),pattern=\"X\",replacement=\"\")\n",
    "colnames(df)=gsub(x=colnames(df),pattern=\"\\\\.\",replacement=\"\\\\-\")\n",
    "\n",
    "spec = c(train = tr_pc, test = tst_pc, validate = vl_pc)\n",
    "\n",
    "\n",
    "df_name=deparse(substitute(df))\n",
    "\n",
    "g = sample(cut(\n",
    "  seq(ncol(df)), \n",
    "  ncol(df)*cumsum(c(0,spec)),\n",
    "  labels = names(spec)\n",
    "))\n",
    "\n",
    "res = list(df[,g==\"train\"],df[,g==\"validate\"],df[,g==\"test\"])\n",
    "res\n",
    "#assign(paste(df_name,\"train\",sep=\".\"),df[,g==\"train\"])\n",
    "#assign(paste(df_name,\"train\",sep=\".\"),GetAssayData(NormalizeData(CreateSeuratObject(eval(parse(text=paste(df_name,\"train\",sep=\".\")))),method=\"CLR\")))\n",
    "#assign(paste(df_name,\"validate\",sep=\".\"),df[,g==\"validate\"])\n",
    "#assign(paste(df_name,\"validate\",sep=\".\"),GetAssayData(NormalizeData(CreateSeuratObject(eval(parse(text=paste(df_name,\"validate\",sep=\".\")))),method=\"CLR\")))\n",
    "#assign(paste(df_name,\"test\",sep=\".\"),df[,g==\"test\"])\n",
    "#assign(paste(df_name,\"test\",sep=\".\"),GetAssayData(NormalizeData(CreateSeuratObject(eval(parse(text=paste(df_name,\"test\",sep=\".\")))),method=\"CLR\")))\n",
    "}\n"
   ]
  },
  {
   "cell_type": "code",
   "execution_count": 3,
   "metadata": {},
   "outputs": [],
   "source": [
    "setwd(\"/projects/ucar-lab/danaco/bncmrk-dblts/DF/input/CZI.PBMC/\")\n",
    "fl=list.files(pattern=\"preprocessed.seurat.for.DF.output\")\n",
    "#print(\"read fl\")\n",
    "for (i in seq(1,length(fl),2)){\n",
    " #   print(i)\n",
    "    #name=strsplit(fl[i],split=\".preprocessed\")[[1]][1]\n",
    "    name1=strsplit(fl[i],split=\".preprocessed\")[[1]][1]\n",
    "    name2=strsplit(fl[i+1],split=\".preprocessed\")[[1]][1]\n",
    "\n",
    "  #  print(name)\n",
    "  #  writeMM(GetAssayData(readRDS(fl[i])),paste0(name,\".mtx\"))\n",
    "    #print(strsplit(fl[i],split=\".preprocessed\")[[1]][1])\n",
    "    #res=train_test_validate_split(data.frame(GetAssayData(readRDS(fl[i]))))\n",
    "    #assign(paste0(name,\".train\"),res[1])\n",
    "    #write.csv(eval(substitute(paste0(name,\".train\"))),paste0(name,\".train.csv\"))\n",
    "\n",
    "    #assign(paste0(name,\".validate\"),res[2])\n",
    "    #write.csv(eval(substitute(paste0(name,\".validate\"))),paste0(name,\".validate.csv\"))\n",
    "\n",
    "    #assign(paste0(name,\".test\"),res[3])\n",
    "    #write.csv(eval(substitute(paste0(name,\".test\"))),paste0(name,\".test.csv\"))\n",
    "\n",
    "}\n",
    "\n",
    "#czi.1.umis=readRDS(\"/projects/ucar-lab/danaco/bncmrk-dblts/DF/input/CZI.PBMC/CZI.PBMC.1.preprocessed.seurat.for.DF.output.Rds\")"
   ]
  },
  {
   "cell_type": "code",
   "execution_count": 34,
   "metadata": {},
   "outputs": [
    {
     "name": "stderr",
     "output_type": "stream",
     "text": [
      "Warning message in split.default(x = seq_len(nrow(x)), f = f, drop = drop, ...):\n",
      "“data length is not a multiple of split variable”"
     ]
    }
   ],
   "source": [
    "df=data.frame(CZI.PBMC.1.umis)\n",
    "tr_pc=.7\n",
    "tst_pc=.15\n",
    "vl_pc=.15\n",
    "\n",
    "colnames(df)=gsub(x=colnames(df),pattern=\"X\",replacement=\"\")\n",
    "colnames(df)=gsub(x=colnames(df),pattern=\"\\\\.\",replacement=\"\\\\-\")\n",
    "\n",
    "spec = c(train = tr_pc, test = tst_pc, validate = vl_pc)\n",
    "\n",
    "\n",
    "df_name=deparse(substitute(df))\n",
    "\n",
    "g = sample(cut(\n",
    "  seq(ncol(df)), \n",
    "  ncol(df)*cumsum(c(0,spec)),\n",
    "  labels = names(spec)\n",
    "))\n",
    "\n",
    "\n",
    "res = list(df[,g==\"train\"],df[,g==\"validate\"],df[,g==\"test\"])\n",
    "\n",
    "res\n"
   ]
  },
  {
   "cell_type": "code",
   "execution_count": 46,
   "metadata": {
    "collapsed": true
   },
   "outputs": [],
   "source": [
    "res=data.frame(train=df[,g==\"train\"],validate=df[,g==\"validate\"],test=df[,g==\"test\"])"
   ]
  },
  {
   "cell_type": "code",
   "execution_count": 48,
   "metadata": {
    "collapsed": true
   },
   "outputs": [],
   "source": [
    "res=list(df[,g==\"train\"],df[,g==\"validate\"],df[,g==\"test\"])"
   ]
  },
  {
   "cell_type": "code",
   "execution_count": 52,
   "metadata": {},
   "outputs": [
    {
     "data": {
      "text/html": [
       "<ol class=list-inline>\n",
       "\t<li>18489</li>\n",
       "\t<li>4817</li>\n",
       "</ol>\n"
      ],
      "text/latex": [
       "\\begin{enumerate*}\n",
       "\\item 18489\n",
       "\\item 4817\n",
       "\\end{enumerate*}\n"
      ],
      "text/markdown": [
       "1. 18489\n",
       "2. 4817\n",
       "\n",
       "\n"
      ],
      "text/plain": [
       "[1] 18489  4817"
      ]
     },
     "metadata": {},
     "output_type": "display_data"
    }
   ],
   "source": [
    "dim(res[[3]])"
   ]
  },
  {
   "cell_type": "code",
   "execution_count": 6,
   "metadata": {},
   "outputs": [],
   "source": [
    "bebe=readRDS(fl[1])"
   ]
  },
  {
   "cell_type": "code",
   "execution_count": 16,
   "metadata": {},
   "outputs": [
    {
     "data": {
      "text/html": [
       "<ol class=list-inline>\n",
       "\t<li>32116</li>\n",
       "\t<li>50</li>\n",
       "</ol>\n"
      ],
      "text/latex": [
       "\\begin{enumerate*}\n",
       "\\item 32116\n",
       "\\item 50\n",
       "\\end{enumerate*}\n"
      ],
      "text/markdown": [
       "1. 32116\n",
       "2. 50\n",
       "\n",
       "\n"
      ],
      "text/plain": [
       "[1] 32116    50"
      ]
     },
     "metadata": {},
     "output_type": "display_data"
    }
   ],
   "source": [
    "dim(Embeddings(bebe, reduction = \"pca\"))\n"
   ]
  },
  {
   "cell_type": "code",
   "execution_count": 14,
   "metadata": {},
   "outputs": [
    {
     "data": {
      "text/html": [
       "<ol class=list-inline>\n",
       "\t<li>18489</li>\n",
       "\t<li>32116</li>\n",
       "</ol>\n"
      ],
      "text/latex": [
       "\\begin{enumerate*}\n",
       "\\item 18489\n",
       "\\item 32116\n",
       "\\end{enumerate*}\n"
      ],
      "text/markdown": [
       "1. 18489\n",
       "2. 32116\n",
       "\n",
       "\n"
      ],
      "text/plain": [
       "[1] 18489 32116"
      ]
     },
     "metadata": {},
     "output_type": "display_data"
    }
   ],
   "source": [
    "dim(GetAssayData(bebe))"
   ]
  },
  {
   "cell_type": "code",
   "execution_count": null,
   "metadata": {
    "collapsed": true
   },
   "outputs": [],
   "source": []
  }
 ],
 "metadata": {
  "kernelspec": {
   "display_name": "R",
   "language": "R",
   "name": "ir"
  },
  "language_info": {
   "codemirror_mode": "r",
   "file_extension": ".r",
   "mimetype": "text/x-r-source",
   "name": "R",
   "pygments_lexer": "r",
   "version": "3.4.1"
  }
 },
 "nbformat": 4,
 "nbformat_minor": 2
}
