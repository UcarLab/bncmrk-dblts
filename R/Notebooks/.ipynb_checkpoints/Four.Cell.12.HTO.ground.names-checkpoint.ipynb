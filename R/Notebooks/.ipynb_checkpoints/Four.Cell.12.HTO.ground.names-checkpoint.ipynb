{
 "cells": [
  {
   "cell_type": "code",
   "execution_count": 4,
   "metadata": {},
   "outputs": [],
   "source": [
    "#rm(list = ls())\n",
    "set.seed(100)\n",
    "library(Rtsne)\n",
    "library(RColorBrewer)\n",
    "library(pheatmap)\n",
    "library(dplyr)\n",
    "library(ggplot2)\n",
    "library(cowplot)\n",
    "library(Seurat)\n",
    "library(Matrix)\n",
    "library(dat)\n",
    "library(tidyverse)\n",
    "library(VennDiagram)"
   ]
  },
  {
   "cell_type": "code",
   "execution_count": 5,
   "metadata": {
    "collapsed": true
   },
   "outputs": [],
   "source": [
    "Four.Cell.12.HTO.HTO.HTODemux.labels=read.csv(\"/projects/ucar-lab/danaco/bncmrk-dblts/GroundTruths/Four.Cell.12.HTO/Four.Cell.12.HTO.HTO.sample.classifications.HTODemux.csv\")\n",
    "Four.Cell.12.HTO.HTO.MULTIseqDemux.labels=read.csv(\"/projects/ucar-lab/danaco/bncmrk-dblts/GroundTruths/Four.Cell.12.HTO/Four.Cell.12.HTO.HTO.sample.classifications.MULTIseqDemux.csv\")\n",
    "Four.Cell.12.HTO.HTO.GMM.labels=read.csv(\"/projects/ucar-lab/danaco/bncmrk-dblts/GroundTruths/Four.Cell.12.HTO/Four.Cell.12.HTO.HTO.sample.classifications.GMM.csv\")[,2:3]\n",
    "\n",
    "#comb.counts=readRDS(\"/projects/ucar-lab/danaco/Ground/comb.counts.RDS\")\n",
    "#groundTruth=read.csv(\"groundTruth.csv\")[,2:3]\n",
    "#groundTruth$BARCODE=as.character(groundTruth$BARCODE)\n",
    "#groundTruth$S_type=as.character(groundTruth$S_type)\n",
    "#gr_ids=which(as.character(groundTruth$BARCODE) %in% colnames(comb.counts))\n",
    "#Scrublet_2.5_dbl_scores=Scrublet_2.5_dbl_scores[gr_ids]\n",
    "#DemuxletDefault=read.csv(\"DemuxletDefaultLabels.csv\")[,2:3]\n",
    "#DemuxletDefault$DefDemux_labels=as.character(DemuxletDefault$DROPLET.TYPE)\n",
    "#DemuxletDefault$DROPLET.TYPE=NULL\n",
    "#DemuxletDefault %>% dplyr::rename(DefDemux_labels = DROPLET.TYPE)\n",
    "#DemuxletModified=read.csv(\"DemuxletModifiedLabels.csv\")[,2:3]\n",
    "#DemuxletModified$ModDemux_labels=as.character(DemuxletModified$DROPLET.TYPE)\n",
    "#DemuxletModified$DROPLET.TYPE=NULL\n",
    "#DemuxletDefault %>% dplyr::rename(ModDemux_labels = DROPLET.TYPE)"
   ]
  },
  {
   "cell_type": "code",
   "execution_count": 6,
   "metadata": {
    "collapsed": true
   },
   "outputs": [],
   "source": [
    "Four.Cell.12.HTO.DF_dbl_labels=read.csv(\"/projects/ucar-lab/danaco/bncmrk-dblts/DF/output/Four.Cell.12.HTO/Four.Cell.12.HTO.DF.output.barcodes.labels.csv\")[,2:3]\n",
    "colnames(Four.Cell.12.HTO.DF_dbl_labels)[1]=\"DF_BARCODE\"\n",
    "colnames(Four.Cell.12.HTO.DF_dbl_labels)[2]=\"DF_LABEL\"\n",
    "\n",
    "Four.Cell.12.HTO.Scrublet_dbl_scores=read.csv(\"/projects/ucar-lab/danaco/bncmrk-dblts/Scrublet/output/Four.Cell.12.HTO/Four.Cell.12.HTO.Scr.doublet.scores.0.1exp_rate.csv\")$X0\n",
    "Four.Cell.12.HTO.Scrublet_dbl_labels=Four.Cell.12.HTO.Scrublet_dbl_scores\n",
    "Four.Cell.12.HTO.Scrublet_dbl_labels[Four.Cell.12.HTO.Scrublet_dbl_scores>0.25]=\"Doublet\"\n",
    "Four.Cell.12.HTO.Scrublet_dbl_labels[Four.Cell.12.HTO.Scrublet_dbl_scores<=0.25]=\"Singlet\"\n",
    "Four.Cell.12.HTO.Scrublet_dbl_labels=data.frame(SCR_BARCODE=Four.Cell.12.HTO.DF_dbl_labels$DF_BARCODE, SCR_LABEL=Four.Cell.12.HTO.Scrublet_dbl_labels)\n",
    "\n",
    "#Four.Cell.12.HTO.DoubDec_dbl_labels=read.table(\"/projects/ucar-lab/danaco/bncmrk-dblts/DoubletDecon/output/Four.Cell.12.HTO/DRS_doublet_table_Four.Cell.12.HTO..txt\", sep=\"\\t\",header=T, row.names=1)\n",
    "#rownames(Four.Cell.12.HTO.DoubDec_dbl_labels)=gsub(x=rownames(Four.Cell.12.HTO.DoubDec_dbl_labels),pattern=\"\\\\.\",replacement=\"\\\\-\")\n",
    "#X <- vector(mode=\"character\", length=length(rownames(Four.Cell.12.HTO.DoubDec_dbl_labels)))\n",
    "#X[Four.Cell.12.HTO.DoubDec_dbl_labels$isADoublet==TRUE]=\"Doublet\"\n",
    "#X[Four.Cell.12.HTO.DoubDec_dbl_labels$isADoublet==FALSE]=\"Singlet\"\n",
    "#Four.Cell.12.HTO.DoubDec_dbl_labels=data.frame(DD_BARCODE=rownames(Four.Cell.12.HTO.DoubDec_dbl_labels),DD_LABEL=X)\n",
    "\n",
    "Four.Cell.12.HTO.Ground.Truth=data.frame(BARCODE=Four.Cell.12.HTO.DF_dbl_labels$DF_BARCODE, DF_LABEL=Four.Cell.12.HTO.DF_dbl_labels$DF_LABEL)\n",
    "Four.Cell.12.HTO.Ground.Truth=merge(Four.Cell.12.HTO.Ground.Truth,Four.Cell.12.HTO.Scrublet_dbl_labels,by.x=\"BARCODE\",by.y=\"SCR_BARCODE\")\n",
    "#Four.Cell.12.HTO.Ground.Truth=merge(Four.Cell.12.HTO.Ground.Truth,Four.Cell.12.HTO.DoubDec_dbl_labels,by.x=\"BARCODE\",by.y=\"DD_BARCODE\")\n",
    "Four.Cell.12.HTO.Ground.Truth=merge(Four.Cell.12.HTO.Ground.Truth,Four.Cell.12.HTO.HTO.HTODemux.labels,by.x=\"BARCODE\",by.y=\"X\")\n",
    "colnames(Four.Cell.12.HTO.Ground.Truth)[length(colnames(Four.Cell.12.HTO.Ground.Truth))]=\"HTOD_LABEL\"\n",
    "Four.Cell.12.HTO.Ground.Truth=merge(Four.Cell.12.HTO.Ground.Truth,Four.Cell.12.HTO.HTO.MULTIseqDemux.labels,by.x=\"BARCODE\",by.y=\"X\")\n",
    "colnames(Four.Cell.12.HTO.Ground.Truth)[length(colnames(Four.Cell.12.HTO.Ground.Truth))]=\"MSD_LABEL\"\n",
    "Four.Cell.12.HTO.Ground.Truth=merge(Four.Cell.12.HTO.Ground.Truth,Four.Cell.12.HTO.HTO.GMM.labels,by.x=\"BARCODE\",by.y=\"Cell_Barcode\")\n",
    "colnames(Four.Cell.12.HTO.Ground.Truth)[length(colnames(Four.Cell.12.HTO.Ground.Truth))]=\"GMM_LABEL\"\n",
    "\n",
    "Four.Cell.12.HTO.SCR.SNG=subset(Four.Cell.12.HTO.Ground.Truth,SCR_LABEL==\"Singlet\")\n",
    "Four.Cell.12.HTO.SCR.DBL=subset(Four.Cell.12.HTO.Ground.Truth,SCR_LABEL==\"Doublet\")\n",
    "Four.Cell.12.HTO.DF.SNG=subset(Four.Cell.12.HTO.Ground.Truth,DF_LABEL==\"Singlet\")\n",
    "Four.Cell.12.HTO.DF.DBL=subset(Four.Cell.12.HTO.Ground.Truth,DF_LABEL==\"Doublet\")\n",
    "#Four.Cell.12.HTO.DD.SNG=subset(Four.Cell.12.HTO.Ground.Truth,DD_LABEL==\"Singlet\")\n",
    "#Four.Cell.12.HTO.DD.DBL=subset(Four.Cell.12.HTO.Ground.Truth,DD_LABEL==\"Doublet\")\n",
    "\n",
    "Four.Cell.12.HTO.HTOD.NDBL=subset(Four.Cell.12.HTO.Ground.Truth,HTOD_LABEL!=\"Doublet\")\n",
    "Four.Cell.12.HTO.HTOD.DBL=subset(Four.Cell.12.HTO.Ground.Truth,HTOD_LABEL==\"Doublet\")\n",
    "Four.Cell.12.HTO.MSD.NDBL=subset(Four.Cell.12.HTO.Ground.Truth,MSD_LABEL!=\"Doublet\")\n",
    "Four.Cell.12.HTO.MSD.DBL=subset(Four.Cell.12.HTO.Ground.Truth,MSD_LABEL==\"Doublet\")\n",
    "Four.Cell.12.HTO.GMM.NDBL=subset(Four.Cell.12.HTO.Ground.Truth,GMM_LABEL!=\"Doublet\")\n",
    "Four.Cell.12.HTO.GMM.DBL=subset(Four.Cell.12.HTO.Ground.Truth,GMM_LABEL==\"Doublet\")\n",
    "\n",
    "Four.Cell.12.HTO.HTOD.NSNG=subset(Four.Cell.12.HTO.Ground.Truth,HTOD_LABEL!=\"Singlet\")\n",
    "Four.Cell.12.HTO.HTOD.SNG=subset(Four.Cell.12.HTO.Ground.Truth,HTOD_LABEL==\"Singlet\")\n",
    "Four.Cell.12.HTO.MSD.NSNG=subset(Four.Cell.12.HTO.Ground.Truth,MSD_LABEL!=\"Singlet\")\n",
    "Four.Cell.12.HTO.MSD.SNG=subset(Four.Cell.12.HTO.Ground.Truth,MSD_LABEL==\"Singlet\")\n",
    "Four.Cell.12.HTO.GMM.NSNG=subset(Four.Cell.12.HTO.Ground.Truth,GMM_LABEL!=\"Singlet\")\n",
    "Four.Cell.12.HTO.GMM.SNG=subset(Four.Cell.12.HTO.Ground.Truth,GMM_LABEL==\"Singlet\")\n",
    "\n",
    "Four.Cell.12.HTO.HTOD.NNGV=subset(Four.Cell.12.HTO.Ground.Truth,HTOD_LABEL!=\"Negative\")\n",
    "Four.Cell.12.HTO.HTOD.NGV=subset(Four.Cell.12.HTO.Ground.Truth,HTOD_LABEL==\"Negative\")\n",
    "Four.Cell.12.HTO.MSD.NNGV=subset(Four.Cell.12.HTO.Ground.Truth,MSD_LABEL!=\"Negative\")\n",
    "Four.Cell.12.HTO.MSD.NGV=subset(Four.Cell.12.HTO.Ground.Truth,MSD_LABEL==\"Negative\")\n",
    "Four.Cell.12.HTO.GMM.NNGV=subset(Four.Cell.12.HTO.Ground.Truth,GMM_LABEL!=\"Negative\")\n",
    "Four.Cell.12.HTO.GMM.NGV=subset(Four.Cell.12.HTO.Ground.Truth,GMM_LABEL==\"Negative\")\n",
    "#gr.DBL=subset(groundTruth,S_type==\"DBL\")\n",
    "\n",
    "#Scrublet_2.5_dbl_scores=read.csv(\"doublet_scores_2.5.csv\")$X0\n",
    "#scr_2.5=data.frame(BARCODE=colnames(comb.counts),scr_2.5_scores=Scrublet_2.5_dbl_scores)\n",
    "#groundTruth=merge(groundTruth,scr_2.5,by.x=\"BARCODE\",by.y=\"BARCODE\")\n",
    "#groundTruth=merge(groundTruth,DemuxletDefault,by.x=\"BARCODE\",by.y=\"BARCODE\")\n",
    "#groundTruth=merge(groundTruth,DemuxletModified,by.x=\"BARCODE\",by.y=\"BARCODE\")\n",
    "#groundTruth=merge(groundTruth,df,by.x=\"BARCODE\",by.y=\"BARCODE\")"
   ]
  },
  {
   "cell_type": "code",
   "execution_count": 8,
   "metadata": {},
   "outputs": [
    {
     "ename": "ERROR",
     "evalue": "Error in data.frame(label = rep(c(\"Doublet\", \"Negative\", \"Singlet\"), 5), : arguments imply differing number of rows: 15, 14\n",
     "output_type": "error",
     "traceback": [
      "Error in data.frame(label = rep(c(\"Doublet\", \"Negative\", \"Singlet\"), 5), : arguments imply differing number of rows: 15, 14\nTraceback:\n",
      "1. data.frame(label = rep(c(\"Doublet\", \"Negative\", \"Singlet\"), 5), \n .     method = rep(c(\"SCR\", \"DF\", \"HTOD\", \"MSD\", \"GMM\"), each = 3), \n .     percentage = c(make3(100 * summary(Four.Cell.12.HTO.Ground.Truth$SCR_LABEL)/length(Four.Cell.12.HTO.Ground.Truth$SCR_LABEL)), \n .         make3(100 * summary(Four.Cell.12.HTO.Ground.Truth$DF_LABEL)/length(Four.Cell.12.HTO.Ground.Truth$DF_LABEL)), \n .         (100 * summary(Four.Cell.12.HTO.Ground.Truth$HTOD_LABEL)/length(Four.Cell.12.HTO.Ground.Truth$DF_LABEL)), \n .         (100 * summary(Four.Cell.12.HTO.Ground.Truth$MSD_LABEL)/length(Four.Cell.12.HTO.Ground.Truth$DF_LABEL)), \n .         (100 * summary(Four.Cell.12.HTO.Ground.Truth$GMM_LABEL)/length(Four.Cell.12.HTO.Ground.Truth$DF_LABEL))))",
      "2. stop(gettextf(\"arguments imply differing number of rows: %s\", \n .     paste(unique(nrows), collapse = \", \")), domain = NA)"
     ]
    }
   ],
   "source": [
    "make3=function(vc){\n",
    "    if (length(vc)==2){\n",
    "        vc2=c(rep(0,3))\n",
    "        vc2[1]=vc[1]\n",
    "        vc2[3]=vc[2]\n",
    "    }\n",
    "    vc2\n",
    "}\n",
    "\n",
    "ndframe=data.frame(label=rep(c(\"Doublet\",\"Negative\",\"Singlet\"),5),\n",
    "                   method=rep(c(\"SCR\",\"DF\",\"HTOD\",\"MSD\",\"GMM\"),each=3),\n",
    "                   percentage=c(make3(100*summary(Four.Cell.12.HTO.Ground.Truth$SCR_LABEL)/length(Four.Cell.12.HTO.Ground.Truth$SCR_LABEL)),\n",
    "      make3(100*summary(Four.Cell.12.HTO.Ground.Truth$DF_LABEL)/length(Four.Cell.12.HTO.Ground.Truth$DF_LABEL)),\n",
    "    (100*summary(Four.Cell.12.HTO.Ground.Truth$HTOD_LABEL)/length(Four.Cell.12.HTO.Ground.Truth$DF_LABEL)),\n",
    "    (100*summary(Four.Cell.12.HTO.Ground.Truth$MSD_LABEL)/length(Four.Cell.12.HTO.Ground.Truth$DF_LABEL)),\n",
    "    make3(100*summary(Four.Cell.12.HTO.Ground.Truth$GMM_LABEL)/length(Four.Cell.12.HTO.Ground.Truth$DF_LABEL))))\n",
    "\n",
    "#dim(CZI.PBMC.1.DoubDec_dbl_scores)\n",
    "#groundTruth$scr_2.5_labels=groundTruth$scr_2.5_scores\n",
    "#groundTruth$scr_2.5_labels[groundTruth$scr_2.5_scores>0.25]=\"DBL\"\n",
    "#groundTruth$scr_2.5_labels[groundTruth$scr_2.5_scores<=0.25]=\"SNG\""
   ]
  },
  {
   "cell_type": "code",
   "execution_count": 12,
   "metadata": {},
   "outputs": [
    {
     "data": {
      "text/html": [
       "<ol class=list-inline>\n",
       "\t<li>7.50172354360565</li>\n",
       "\t<li>0</li>\n",
       "\t<li>92.4982764563944</li>\n",
       "</ol>\n"
      ],
      "text/latex": [
       "\\begin{enumerate*}\n",
       "\\item 7.50172354360565\n",
       "\\item 0\n",
       "\\item 92.4982764563944\n",
       "\\end{enumerate*}\n"
      ],
      "text/markdown": [
       "1. 7.50172354360565\n",
       "2. 0\n",
       "3. 92.4982764563944\n",
       "\n",
       "\n"
      ],
      "text/plain": [
       "[1]  7.501724  0.000000 92.498276"
      ]
     },
     "metadata": {},
     "output_type": "display_data"
    }
   ],
   "source": [
    "make3(100*summary(Four.Cell.12.HTO.Ground.Truth$DF_LABEL)/length(Four.Cell.12.HTO.Ground.Truth$DF_LABEL))"
   ]
  },
  {
   "cell_type": "code",
   "execution_count": 49,
   "metadata": {},
   "outputs": [
    {
     "data": {
      "text/html": [
       "0"
      ],
      "text/latex": [
       "0"
      ],
      "text/markdown": [
       "0"
      ],
      "text/plain": [
       "[1] 0"
      ]
     },
     "metadata": {},
     "output_type": "display_data"
    },
    {
     "data": {
      "text/html": [
       "16983"
      ],
      "text/latex": [
       "16983"
      ],
      "text/markdown": [
       "16983"
      ],
      "text/plain": [
       "[1] 16983"
      ]
     },
     "metadata": {},
     "output_type": "display_data"
    },
    {
     "data": {
      "text/html": [
       "15629"
      ],
      "text/latex": [
       "15629"
      ],
      "text/markdown": [
       "15629"
      ],
      "text/plain": [
       "[1] 15629"
      ]
     },
     "metadata": {},
     "output_type": "display_data"
    }
   ],
   "source": [
    "int_cells <- Reduce(intersect, list(Four.Cell.12.HTO.GMM.NGV$BARCODE,Four.Cell.12.HTO.HTOD.NGV$BARCODE,\n",
    "                                    Four.Cell.12.HTO.MSD.NGV$BARCODE))\n",
    "length(int_cells)\n",
    "\n",
    "dim(Four.Cell.12.HTO.Ground.Truth)[1]-6225\n",
    "dim(Four.Cell.12.HTO.GMM.NSNG)[1]\n",
    "\n",
    "#int_cells <- Reduce(intersect, list(PBMC.8.HTO.SCR.DBL$BARCODE, PBMC.8.HTO.DF.DBL$BARCODE, \n",
    "#                                    PBMC.8.HTO.DD.DBL$BARCODE,PBMC.8.HTO.HTOD.DBL$BARCODE ))\n",
    "#length(int_cells)\n",
    "\n",
    "#dim(CZI.PBMC.1.Ground.Truth)\n",
    "\n",
    "#gr_2.5_SNG=subset(groundTruth,scr_2.5_labels==\"SNG\")\n",
    "#gr_2.5_DBL=subset(groundTruth,scr_2.5_labels==\"DBL\")\n",
    "#gr_Dem_SNG=subset(groundTruth,DefDemux_labels==\"SNG\")\n",
    "#gr_Dem_DBL=subset(groundTruth,DefDemux_labels==\"DBL\")\n",
    "#gr_df_SNG=subset(groundTruth,Df_label==\"SNG\")\n",
    "#gr_df_DBL=subset(groundTruth,Df_label==\"DBL\")"
   ]
  },
  {
   "cell_type": "code",
   "execution_count": 22,
   "metadata": {},
   "outputs": [
    {
     "data": {
      "text/html": [
       "1.07290589451913"
      ],
      "text/latex": [
       "1.07290589451913"
      ],
      "text/markdown": [
       "1.07290589451913"
      ],
      "text/plain": [
       "[1] 1.072906"
      ]
     },
     "metadata": {},
     "output_type": "display_data"
    }
   ],
   "source": [
    "100*sum(Four.Cell.12.HTO.Ground.Truth$GMM_LABEL== as.character(Four.Cell.12.HTO.Ground.Truth$MSD_LABEL))/length(Four.Cell.12.HTO.Ground.Truth$HTOD_LABEL)\n",
    "\n",
    "\n",
    "#int_cells <- Reduce(intersect, list(gr.DBL$BARCODE, gr_2.5_SNG$BARCODE, gr_Dem_DBL$BARCODE,gr_df_SNG$BARCODE ))\n",
    "#length(int_cells)\n",
    "#sum(gr.SNG$scr_2.5_labels==\"SNG\")/dim(gr.SNG)[1]\n",
    "#sum(as.character(groundTruth$S_type)==as.character(DemuxletModified$DROPLET.TYPE))/length(groundTruth$S_type)"
   ]
  },
  {
   "cell_type": "code",
   "execution_count": 12,
   "metadata": {},
   "outputs": [
    {
     "data": {
      "text/html": [
       "<dl class=dl-horizontal>\n",
       "\t<dt>Doublet</dt>\n",
       "\t\t<dd>68.0067218200621</dd>\n",
       "\t<dt>Negative</dt>\n",
       "\t\t<dd>30.4291623578077</dd>\n",
       "\t<dt>Singlet</dt>\n",
       "\t\t<dd>1.5641158221303</dd>\n",
       "</dl>\n"
      ],
      "text/latex": [
       "\\begin{description*}\n",
       "\\item[Doublet] 68.0067218200621\n",
       "\\item[Negative] 30.4291623578077\n",
       "\\item[Singlet] 1.5641158221303\n",
       "\\end{description*}\n"
      ],
      "text/markdown": [
       "Doublet\n",
       ":   68.0067218200621Negative\n",
       ":   30.4291623578077Singlet\n",
       ":   1.5641158221303\n",
       "\n"
      ],
      "text/plain": [
       "  Doublet  Negative   Singlet \n",
       "68.006722 30.429162  1.564116 "
      ]
     },
     "metadata": {},
     "output_type": "display_data"
    }
   ],
   "source": [
    "100*summary(Four.Cell.12.HTO.Ground.Truth$HTOD_LABEL)/length(Four.Cell.12.HTO.Ground.Truth$HTOD_LABEL)\n",
    "#dim(CZI.PBMC.1.Ground.Truth)\n",
    "#sum(groundTruth$S_type==as.character(groundTruth$Df_label))/length(groundTruth$S_type)\n",
    "#sum(gr.DBL$Df_label==\"DBL\")#/dim(gr.DBL)[1]\n",
    "#dim(gr_df_DBL)[1]/dim(groundTruth)[1]"
   ]
  },
  {
   "cell_type": "code",
   "execution_count": null,
   "metadata": {
    "collapsed": true
   },
   "outputs": [],
   "source": [
    "Scrublet_2.5_dbl_scores=read.csv(\"doublet_scores_2.5.csv\")$X0\n",
    "\n",
    "#Scrublet_2.5_dbl_scores=Scrublet_2.5_dbl_scores[gr_ids]\n"
   ]
  },
  {
   "cell_type": "code",
   "execution_count": null,
   "metadata": {
    "collapsed": true
   },
   "outputs": [],
   "source": [
    "demuxSNG=subset(DemuxletDefault, DROPLET.TYPE==\"SNG\")"
   ]
  },
  {
   "cell_type": "code",
   "execution_count": null,
   "metadata": {
    "collapsed": true
   },
   "outputs": [],
   "source": [
    "groundTruth=read.csv(\"groundTruth.csv\")\n"
   ]
  },
  {
   "cell_type": "code",
   "execution_count": null,
   "metadata": {
    "collapsed": true
   },
   "outputs": [],
   "source": [
    "gr_ids=which(groundTruth$BARCODE %in% colnames(comb.counts))"
   ]
  },
  {
   "cell_type": "code",
   "execution_count": null,
   "metadata": {
    "collapsed": true
   },
   "outputs": [],
   "source": [
    "#write.csv(groundTruth$BARCODE,\"groundTruthBarcodes.csv\")"
   ]
  },
  {
   "cell_type": "code",
   "execution_count": null,
   "metadata": {
    "collapsed": true
   },
   "outputs": [],
   "source": [
    "CZI.PBMC.1.DoubDec_dbl_scores=read.table(\"/projects/ucar-lab/danaco/bncmrk-dblts/DoubletDecon/output/CZI.PBMC/DRS_doublet_table_CZI.PBMC.1.txt\", sep=\"\\t\",header=T, row.names=1)\n",
    "rownames(CZI.PBMC.1.DoubDec_dbl_scores)=gsub(x=rownames(CZI.PBMC.1.DoubDec_dbl_scores),pattern=\"\\\\.\",replacement=\"\\\\-\")\n",
    "X <- vector(mode=\"character\", length=length(rownames(CZI.PBMC.1.DoubDec_dbl_scores)))\n",
    "X[CZI.PBMC.1.DoubDec_dbl_scores$isADoublet==TRUE]=\"Doublet\"\n",
    "X[CZI.PBMC.1.DoubDec_dbl_scores$isADoublet==FALSE]=\"Singlet\"\n",
    "CZI.PBMC.1.DoubDec_dbl_scores=data.frame(DD_BARCODE=rownames(CZI.PBMC.1.DoubDec_dbl_scores),DD_label=X)"
   ]
  },
  {
   "cell_type": "code",
   "execution_count": null,
   "metadata": {
    "collapsed": true
   },
   "outputs": [],
   "source": [
    "CZI.PBMC.1.DoubDec_dbl_scores=data.frame(DD_BARCODE=rownames(CZI.PBMC.1.DoubDec_dbl_scores),DD_label=X)"
   ]
  },
  {
   "cell_type": "code",
   "execution_count": null,
   "metadata": {
    "collapsed": true
   },
   "outputs": [],
   "source": [
    "dim(CZI.PBMC.1.DoubDec_dbl_scores)"
   ]
  },
  {
   "cell_type": "code",
   "execution_count": null,
   "metadata": {
    "collapsed": true
   },
   "outputs": [],
   "source": [
    "CZI.PBMC.1.DoubDec_dbl_scores=t(CZI.PBMC.1.DoubDec_dbl_scores)"
   ]
  },
  {
   "cell_type": "code",
   "execution_count": null,
   "metadata": {
    "collapsed": true
   },
   "outputs": [],
   "source": [
    "CZI.PBMC.1.DF_dbl_scores$BARCODE[1]"
   ]
  },
  {
   "cell_type": "code",
   "execution_count": null,
   "metadata": {
    "collapsed": true
   },
   "outputs": [],
   "source": [
    "rownames(CZI.PBMC.1.DF_dbl_scores)[1]=\"DF_BARCODE\""
   ]
  },
  {
   "cell_type": "code",
   "execution_count": null,
   "metadata": {
    "collapsed": true
   },
   "outputs": [],
   "source": [
    "colnames(CZI.PBMC.1.DF_dbl_scores)[2]=\"DF_LABEL\""
   ]
  },
  {
   "cell_type": "code",
   "execution_count": null,
   "metadata": {
    "collapsed": true
   },
   "outputs": [],
   "source": [
    "dim(CZI.PBMC.1.DF_dbl_scores)"
   ]
  },
  {
   "cell_type": "code",
   "execution_count": null,
   "metadata": {
    "collapsed": true
   },
   "outputs": [],
   "source": [
    "dim(CZI.PBMC.HTO.HTODemux.labels)"
   ]
  },
  {
   "cell_type": "code",
   "execution_count": null,
   "metadata": {
    "collapsed": true
   },
   "outputs": [],
   "source": [
    "CZI.PBMC.HTO.HTODemux.labels=read.csv(\"/projects/ucar-lab/danaco/bncmrk-dblts/GroundTruths/CZI.PBMC/CZI.PBMC.HTO.sample.classifications.HTODemux.csv\")\n",
    "CZI.PBMC.HTO.MULTIseqDemux.labels=read.csv(\"/projects/ucar-lab/danaco/bncmrk-dblts/GroundTruths/CZI.PBMC/CZI.PBMC.HTO.sample.classifications.MULTIseqDemux.csv\")\n",
    "CZI.PBMC.HTO.GMM.labels=read.csv(\"/projects/ucar-lab/danaco/bncmrk-dblts/GroundTruths/CZI.PBMC/CZI.PBMC.HTO.sample.classifications.GMM.csv\")[,2:3]\n"
   ]
  },
  {
   "cell_type": "code",
   "execution_count": null,
   "metadata": {
    "collapsed": true
   },
   "outputs": [],
   "source": [
    "head(CZI.PBMC.HTO.HTODemux.labels[substr(CZI.PBMC.HTO.HTODemux.labels$X,1,2)==\"1-\",])"
   ]
  },
  {
   "cell_type": "code",
   "execution_count": null,
   "metadata": {
    "collapsed": true
   },
   "outputs": [],
   "source": [
    "CZI.PBMC.1.HTO.HTODemux.labels=CZI.PBMC.HTO.HTODemux.labels[substr(CZI.PBMC.HTO.HTODemux.labels$X,1,2)==\"1-\",]"
   ]
  },
  {
   "cell_type": "code",
   "execution_count": null,
   "metadata": {
    "collapsed": true
   },
   "outputs": [],
   "source": [
    "for(i in 1:10){\n",
    "    name=paste(\"CZI.PBMC\",i,\"HTO\",sep=\".\")\n",
    "    if (i<10){\n",
    "    assign(paste(name,\"HTODemux.labels\",sep=\".\"),CZI.PBMC.HTO.HTODemux.labels[substr(CZI.PBMC.HTO.HTODemux.labels$X,1,2)==paste(i,\"-\",sep=\"\"),])\n",
    "    assign(paste(name,\"MULTIseqDemux.labels\",sep=\".\"),CZI.PBMC.HTO.HTODemux.labels[substr(CZI.PBMC.HTO.MULTIseqDemux.labels$X,1,2)==paste(i,\"-\",sep=\"\"),])\n",
    "    assign(paste(name,\"GMM.labels\",sep=\".\"),CZI.PBMC.HTO.HTODemux.labels[substr(CZI.PBMC.HTO.GMM.labels$Cell_Barcode,1,2)==paste(i,\"-\",sep=\"\"),])\n",
    "    }else {\n",
    "    assign(paste(name,\"HTODemux.labels\",sep=\".\"),CZI.PBMC.HTO.HTODemux.labels[substr(CZI.PBMC.HTO.HTODemux.labels$X,1,2)==as.character(i),])\n",
    "    assign(paste(name,\"MULTIseqDemux.labels\",sep=\".\"),CZI.PBMC.HTO.HTODemux.labels[substr(CZI.PBMC.HTO.MULTIseqDemux.labels$X,1,2)==as.character(i),])\n",
    "    assign(paste(name,\"GMM.labels\",sep=\".\"),CZI.PBMC.HTO.GMM.labels[substr(CZI.PBMC.HTO.GMM.labels$Cell_Barcode,1,2)==as.character(i),])\n",
    "    }\n",
    "}"
   ]
  },
  {
   "cell_type": "code",
   "execution_count": null,
   "metadata": {
    "collapsed": true
   },
   "outputs": [],
   "source": [
    "dim(CZI.PBMC.2.HTO.GMM.labels)"
   ]
  },
  {
   "cell_type": "code",
   "execution_count": null,
   "metadata": {
    "collapsed": true
   },
   "outputs": [],
   "source": [
    "CZI.PBMC.2.HTO.GMM.labels$X[1]"
   ]
  },
  {
   "cell_type": "code",
   "execution_count": null,
   "metadata": {
    "collapsed": true
   },
   "outputs": [],
   "source": [
    "CZI.PBMC.1.HTO.MULTIseqDemux.labels$X[1]"
   ]
  },
  {
   "cell_type": "code",
   "execution_count": null,
   "metadata": {
    "collapsed": true
   },
   "outputs": [],
   "source": [
    "dim(CZI.PBMC.1.DF_dbl_scores)"
   ]
  },
  {
   "cell_type": "code",
   "execution_count": null,
   "metadata": {
    "collapsed": true
   },
   "outputs": [],
   "source": [
    "summary(CZI.PBMC.1.HTO.HTODemux.labels$x)"
   ]
  },
  {
   "cell_type": "code",
   "execution_count": null,
   "metadata": {
    "collapsed": true
   },
   "outputs": [],
   "source": [
    "ls()"
   ]
  },
  {
   "cell_type": "code",
   "execution_count": 3,
   "metadata": {},
   "outputs": [
    {
     "data": {
      "text/html": [
       "<dl class=dl-horizontal>\n",
       "\t<dt>Doublet</dt>\n",
       "\t\t<dd>32896</dd>\n",
       "\t<dt>Negative</dt>\n",
       "\t\t<dd>91657</dd>\n",
       "\t<dt>Singlet</dt>\n",
       "\t\t<dd>197329</dd>\n",
       "</dl>\n"
      ],
      "text/latex": [
       "\\begin{description*}\n",
       "\\item[Doublet] 32896\n",
       "\\item[Negative] 91657\n",
       "\\item[Singlet] 197329\n",
       "\\end{description*}\n"
      ],
      "text/markdown": [
       "Doublet\n",
       ":   32896Negative\n",
       ":   91657Singlet\n",
       ":   197329\n",
       "\n"
      ],
      "text/plain": [
       " Doublet Negative  Singlet \n",
       "   32896    91657   197329 "
      ]
     },
     "metadata": {},
     "output_type": "display_data"
    }
   ],
   "source": [
    "summary(CZI.PBMC.HTO.MULTIseqDemux.labels$X)"
   ]
  },
  {
   "cell_type": "code",
   "execution_count": 5,
   "metadata": {},
   "outputs": [
    {
     "data": {
      "text/html": [
       "<dl class=dl-horizontal>\n",
       "\t<dt>Doublet</dt>\n",
       "\t\t<dd>10819</dd>\n",
       "\t<dt>Negative</dt>\n",
       "\t\t<dd>103</dd>\n",
       "\t<dt>Singlet</dt>\n",
       "\t\t<dd>21194</dd>\n",
       "</dl>\n"
      ],
      "text/latex": [
       "\\begin{description*}\n",
       "\\item[Doublet] 10819\n",
       "\\item[Negative] 103\n",
       "\\item[Singlet] 21194\n",
       "\\end{description*}\n"
      ],
      "text/markdown": [
       "Doublet\n",
       ":   10819Negative\n",
       ":   103Singlet\n",
       ":   21194\n",
       "\n"
      ],
      "text/plain": [
       " Doublet Negative  Singlet \n",
       "   10819      103    21194 "
      ]
     },
     "metadata": {},
     "output_type": "display_data"
    }
   ],
   "source": [
    "summary(CZI.PBMC.1.HTO.GMM.labels$S_type)"
   ]
  },
  {
   "cell_type": "code",
   "execution_count": null,
   "metadata": {
    "collapsed": true
   },
   "outputs": [],
   "source": [
    "summary(CZI.PBMC.1.HTO.GMM.labels$Cell_Barcode)"
   ]
  },
  {
   "cell_type": "code",
   "execution_count": null,
   "metadata": {
    "collapsed": true
   },
   "outputs": [],
   "source": [
    "sum(CZI.PBMC.HTO.MULTIseqDemux.labels$x==CZI.PBMC.HTO.GMM.labels$S_type)"
   ]
  },
  {
   "cell_type": "code",
   "execution_count": 4,
   "metadata": {
    "collapsed": true
   },
   "outputs": [],
   "source": [
    "set1 <- paste(rep(\"word_\" , 200) , sample(c(1:1000) , 200 , replace=F) , sep=\"\")\n",
    "set2 <- paste(rep(\"word_\" , 200) , sample(c(1:1000) , 200 , replace=F) , sep=\"\")\n",
    "set3 <- paste(rep(\"word_\" , 200) , sample(c(1:1000) , 200 , replace=F) , sep=\"\")"
   ]
  },
  {
   "cell_type": "code",
   "execution_count": 11,
   "metadata": {},
   "outputs": [
    {
     "data": {
      "text/html": [
       "1"
      ],
      "text/latex": [
       "1"
      ],
      "text/markdown": [
       "1"
      ],
      "text/plain": [
       "[1] 1"
      ]
     },
     "metadata": {},
     "output_type": "display_data"
    }
   ],
   "source": [
    "venn.diagram(\n",
    "  x = list(set1, set2, set3),\n",
    "  category.names = c(\"Set 1\" , \"Set 2 \" , \"Set 3\"),\n",
    "  filename = '#14_venn_diagramm.png',\n",
    "  output=FALSE\n",
    ")"
   ]
  },
  {
   "cell_type": "code",
   "execution_count": 14,
   "metadata": {
    "collapsed": true
   },
   "outputs": [],
   "source": [
    "CZI.PBMC.2.DF_dbl_labels=read.csv(\"/projects/ucar-lab/danaco/bncmrk-dblts/DF/output/CZI.PBMC/CZI.PBMC.2.DF.output.barcodes.labels.csv\")[,2:3]\n",
    "colnames(CZI.PBMC.2.DF_dbl_labels)[1]=\"DF_BARCODE\"\n",
    "colnames(CZI.PBMC.2.DF_dbl_labels)[2]=\"DF_LABEL\"\n",
    "\n",
    "CZI.PBMC.2.Scrublet_dbl_scores=read.csv(\"/projects/ucar-lab/danaco/bncmrk-dblts/Scrublet/output/CZI.PBMC/CZI.PBMC.2.Scr.doublet.scores.0.1exp_rate.csv\")$X0\n",
    "CZI.PBMC.2.Scrublet_dbl_labels=CZI.PBMC.2.Scrublet_dbl_scores\n",
    "CZI.PBMC.2.Scrublet_dbl_labels[CZI.PBMC.2.Scrublet_dbl_scores>0.25]=\"Doublet\"\n",
    "CZI.PBMC.2.Scrublet_dbl_labels[CZI.PBMC.2.Scrublet_dbl_scores<=0.25]=\"Singlet\"\n",
    "CZI.PBMC.2.Scrublet_dbl_labels=data.frame(SCR_BARCODE=CZI.PBMC.2.DF_dbl_labels$DF_BARCODE, SCR_LABEL=CZI.PBMC.2.Scrublet_dbl_labels)\n",
    "\n",
    "CZI.PBMC.2.DoubDec_dbl_labels=read.table(\"/projects/ucar-lab/danaco/bncmrk-dblts/DoubletDecon/output/CZI.PBMC/DRS_doublet_table_CZI.PBMC.2.txt\", sep=\"\\t\",header=T, row.names=1)\n",
    "rownames(CZI.PBMC.2.DoubDec_dbl_labels)=gsub(x=rownames(CZI.PBMC.2.DoubDec_dbl_labels),pattern=\"\\\\.\",replacement=\"\\\\-\")\n",
    "X <- vector(mode=\"character\", length=length(rownames(CZI.PBMC.2.DoubDec_dbl_labels)))\n",
    "X[CZI.PBMC.2.DoubDec_dbl_labels$isADoublet==TRUE]=\"Doublet\"\n",
    "X[CZI.PBMC.2.DoubDec_dbl_labels$isADoublet==FALSE]=\"Singlet\"\n",
    "CZI.PBMC.2.DoubDec_dbl_labels=data.frame(DD_BARCODE=rownames(CZI.PBMC.2.DoubDec_dbl_labels),DD_LABEL=X)\n",
    "\n",
    "CZI.PBMC.2.Ground.Truth=data.frame(BARCODE=CZI.PBMC.2.DF_dbl_labels$DF_BARCODE, DF_LABEL=CZI.PBMC.2.DF_dbl_labels$DF_LABEL)\n",
    "CZI.PBMC.2.Ground.Truth=merge(CZI.PBMC.2.Ground.Truth,CZI.PBMC.2.Scrublet_dbl_labels,by.x=\"BARCODE\",by.y=\"SCR_BARCODE\")\n",
    "CZI.PBMC.2.Ground.Truth=merge(CZI.PBMC.2.Ground.Truth,CZI.PBMC.2.DoubDec_dbl_labels,by.x=\"BARCODE\",by.y=\"DD_BARCODE\")\n",
    "CZI.PBMC.2.Ground.Truth=merge(CZI.PBMC.2.Ground.Truth,CZI.PBMC.2.HTO.HTODemux.labels,by.x=\"BARCODE\",by.y=\"X\")\n",
    "colnames(CZI.PBMC.2.Ground.Truth)[length(colnames(CZI.PBMC.2.Ground.Truth))]=\"HTOD_LABEL\"\n",
    "CZI.PBMC.2.Ground.Truth=merge(CZI.PBMC.2.Ground.Truth,CZI.PBMC.2.HTO.MULTIseqDemux.labels,by.x=\"BARCODE\",by.y=\"X\")\n",
    "colnames(CZI.PBMC.2.Ground.Truth)[length(colnames(CZI.PBMC.2.Ground.Truth))]=\"MSD_LABEL\"\n",
    "CZI.PBMC.2.Ground.Truth=merge(CZI.PBMC.2.Ground.Truth,CZI.PBMC.2.HTO.GMM.labels,by.x=\"BARCODE\",by.y=\"Cell_Barcode\")\n",
    "colnames(CZI.PBMC.2.Ground.Truth)[length(colnames(CZI.PBMC.2.Ground.Truth))]=\"GMM_LABEL\"\n",
    "\n",
    "CZI.PBMC.2.SCR.SNG=subset(CZI.PBMC.2.Ground.Truth,SCR_LABEL==\"Singlet\")\n",
    "CZI.PBMC.2.SCR.DBL=subset(CZI.PBMC.2.Ground.Truth,SCR_LABEL==\"Doublet\")\n",
    "CZI.PBMC.2.DF.SNG=subset(CZI.PBMC.2.Ground.Truth,DF_LABEL==\"Singlet\")\n",
    "CZI.PBMC.2.DF.DBL=subset(CZI.PBMC.2.Ground.Truth,DF_LABEL==\"Doublet\")\n",
    "CZI.PBMC.2.DD.SNG=subset(CZI.PBMC.2.Ground.Truth,DD_LABEL==\"Singlet\")\n",
    "CZI.PBMC.2.DD.DBL=subset(CZI.PBMC.2.Ground.Truth,DD_LABEL==\"Doublet\")\n",
    "CZI.PBMC.2.HTOD.NDBL=subset(CZI.PBMC.2.Ground.Truth,HTOD_LABEL!=\"Doublet\")\n",
    "CZI.PBMC.2.HTOD.DBL=subset(CZI.PBMC.2.Ground.Truth,HTOD_LABEL==\"Doublet\")\n",
    "CZI.PBMC.2.MSD.NDBL=subset(CZI.PBMC.2.Ground.Truth,MSD_LABEL!=\"Doublet\")\n",
    "CZI.PBMC.2.MSD.DBL=subset(CZI.PBMC.2.Ground.Truth,MSD_LABEL==\"Doublet\")\n",
    "CZI.PBMC.2.GMM.NDBL=subset(CZI.PBMC.2.Ground.Truth,GMM_LABEL!=\"Doublet\")\n",
    "CZI.PBMC.2.GMM.DBL=subset(CZI.PBMC.2.Ground.Truth,GMM_LABEL==\"Doublet\")\n",
    "#gr.DBL=subset(groundTruth,S_type==\"DBL\")\n",
    "\n",
    "#Scrublet_2.5_dbl_scores=read.csv(\"doublet_scores_2.5.csv\")$X0\n",
    "#scr_2.5=data.frame(BARCODE=colnames(comb.counts),scr_2.5_scores=Scrublet_2.5_dbl_scores)\n",
    "#groundTruth=merge(groundTruth,scr_2.5,by.x=\"BARCODE\",by.y=\"BARCODE\")\n",
    "#groundTruth=merge(groundTruth,DemuxletDefault,by.x=\"BARCODE\",by.y=\"BARCODE\")\n",
    "#groundTruth=merge(groundTruth,DemuxletModified,by.x=\"BARCODE\",by.y=\"BARCODE\")\n",
    "#groundTruth=merge(groundTruth,df,by.x=\"BARCODE\",by.y=\"BARCODE\")"
   ]
  },
  {
   "cell_type": "code",
   "execution_count": 15,
   "metadata": {
    "collapsed": true
   },
   "outputs": [],
   "source": [
    "CZI.PBMC.3.DF_dbl_labels=read.csv(\"/projects/ucar-lab/danaco/bncmrk-dblts/DF/output/CZI.PBMC/CZI.PBMC.3.DF.output.barcodes.labels.csv\")[,2:3]\n",
    "colnames(CZI.PBMC.3.DF_dbl_labels)[1]=\"DF_BARCODE\"\n",
    "colnames(CZI.PBMC.3.DF_dbl_labels)[2]=\"DF_LABEL\"\n",
    "\n",
    "CZI.PBMC.3.Scrublet_dbl_scores=read.csv(\"/projects/ucar-lab/danaco/bncmrk-dblts/Scrublet/output/CZI.PBMC/CZI.PBMC.3.Scr.doublet.scores.0.1exp_rate.csv\")$X0\n",
    "CZI.PBMC.3.Scrublet_dbl_labels=CZI.PBMC.3.Scrublet_dbl_scores\n",
    "CZI.PBMC.3.Scrublet_dbl_labels[CZI.PBMC.3.Scrublet_dbl_scores>0.25]=\"Doublet\"\n",
    "CZI.PBMC.3.Scrublet_dbl_labels[CZI.PBMC.3.Scrublet_dbl_scores<=0.25]=\"Singlet\"\n",
    "CZI.PBMC.3.Scrublet_dbl_labels=data.frame(SCR_BARCODE=CZI.PBMC.3.DF_dbl_labels$DF_BARCODE, SCR_LABEL=CZI.PBMC.3.Scrublet_dbl_labels)\n",
    "\n",
    "CZI.PBMC.3.DoubDec_dbl_labels=read.table(\"/projects/ucar-lab/danaco/bncmrk-dblts/DoubletDecon/output/CZI.PBMC/DRS_doublet_table_CZI.PBMC.3.txt\", sep=\"\\t\",header=T, row.names=1)\n",
    "rownames(CZI.PBMC.3.DoubDec_dbl_labels)=gsub(x=rownames(CZI.PBMC.3.DoubDec_dbl_labels),pattern=\"\\\\.\",replacement=\"\\\\-\")\n",
    "X <- vector(mode=\"character\", length=length(rownames(CZI.PBMC.3.DoubDec_dbl_labels)))\n",
    "X[CZI.PBMC.3.DoubDec_dbl_labels$isADoublet==TRUE]=\"Doublet\"\n",
    "X[CZI.PBMC.3.DoubDec_dbl_labels$isADoublet==FALSE]=\"Singlet\"\n",
    "CZI.PBMC.3.DoubDec_dbl_labels=data.frame(DD_BARCODE=rownames(CZI.PBMC.3.DoubDec_dbl_labels),DD_LABEL=X)\n",
    "\n",
    "CZI.PBMC.3.Ground.Truth=data.frame(BARCODE=CZI.PBMC.3.DF_dbl_labels$DF_BARCODE, DF_LABEL=CZI.PBMC.3.DF_dbl_labels$DF_LABEL)\n",
    "CZI.PBMC.3.Ground.Truth=merge(CZI.PBMC.3.Ground.Truth,CZI.PBMC.3.Scrublet_dbl_labels,by.x=\"BARCODE\",by.y=\"SCR_BARCODE\")\n",
    "CZI.PBMC.3.Ground.Truth=merge(CZI.PBMC.3.Ground.Truth,CZI.PBMC.3.DoubDec_dbl_labels,by.x=\"BARCODE\",by.y=\"DD_BARCODE\")\n",
    "CZI.PBMC.3.Ground.Truth=merge(CZI.PBMC.3.Ground.Truth,CZI.PBMC.3.HTO.HTODemux.labels,by.x=\"BARCODE\",by.y=\"X\")\n",
    "colnames(CZI.PBMC.3.Ground.Truth)[length(colnames(CZI.PBMC.3.Ground.Truth))]=\"HTOD_LABEL\"\n",
    "CZI.PBMC.3.Ground.Truth=merge(CZI.PBMC.3.Ground.Truth,CZI.PBMC.3.HTO.MULTIseqDemux.labels,by.x=\"BARCODE\",by.y=\"X\")\n",
    "colnames(CZI.PBMC.3.Ground.Truth)[length(colnames(CZI.PBMC.3.Ground.Truth))]=\"MSD_LABEL\"\n",
    "CZI.PBMC.3.Ground.Truth=merge(CZI.PBMC.3.Ground.Truth,CZI.PBMC.3.HTO.GMM.labels,by.x=\"BARCODE\",by.y=\"Cell_Barcode\")\n",
    "colnames(CZI.PBMC.3.Ground.Truth)[length(colnames(CZI.PBMC.3.Ground.Truth))]=\"GMM_LABEL\"\n",
    "\n",
    "CZI.PBMC.3.SCR.SNG=subset(CZI.PBMC.3.Ground.Truth,SCR_LABEL==\"Singlet\")\n",
    "CZI.PBMC.3.SCR.DBL=subset(CZI.PBMC.3.Ground.Truth,SCR_LABEL==\"Doublet\")\n",
    "CZI.PBMC.3.DF.SNG=subset(CZI.PBMC.3.Ground.Truth,DF_LABEL==\"Singlet\")\n",
    "CZI.PBMC.3.DF.DBL=subset(CZI.PBMC.3.Ground.Truth,DF_LABEL==\"Doublet\")\n",
    "CZI.PBMC.3.DD.SNG=subset(CZI.PBMC.3.Ground.Truth,DD_LABEL==\"Singlet\")\n",
    "CZI.PBMC.3.DD.DBL=subset(CZI.PBMC.3.Ground.Truth,DD_LABEL==\"Doublet\")\n",
    "CZI.PBMC.3.HTOD.NDBL=subset(CZI.PBMC.3.Ground.Truth,HTOD_LABEL!=\"Doublet\")\n",
    "CZI.PBMC.3.HTOD.DBL=subset(CZI.PBMC.3.Ground.Truth,HTOD_LABEL==\"Doublet\")\n",
    "CZI.PBMC.3.MSD.NDBL=subset(CZI.PBMC.3.Ground.Truth,MSD_LABEL!=\"Doublet\")\n",
    "CZI.PBMC.3.MSD.DBL=subset(CZI.PBMC.3.Ground.Truth,MSD_LABEL==\"Doublet\")\n",
    "CZI.PBMC.3.GMM.NDBL=subset(CZI.PBMC.3.Ground.Truth,GMM_LABEL!=\"Doublet\")\n",
    "CZI.PBMC.3.GMM.DBL=subset(CZI.PBMC.3.Ground.Truth,GMM_LABEL==\"Doublet\")\n",
    "#gr.DBL=subset(groundTruth,S_type==\"DBL\")\n",
    "\n",
    "#Scrublet_2.5_dbl_scores=read.csv(\"doublet_scores_2.5.csv\")$X0\n",
    "#scr_2.5=data.frame(BARCODE=colnames(comb.counts),scr_2.5_scores=Scrublet_2.5_dbl_scores)\n",
    "#groundTruth=merge(groundTruth,scr_2.5,by.x=\"BARCODE\",by.y=\"BARCODE\")\n",
    "#groundTruth=merge(groundTruth,DemuxletDefault,by.x=\"BARCODE\",by.y=\"BARCODE\")\n",
    "#groundTruth=merge(groundTruth,DemuxletModified,by.x=\"BARCODE\",by.y=\"BARCODE\")\n",
    "#groundTruth=merge(groundTruth,df,by.x=\"BARCODE\",by.y=\"BARCODE\")"
   ]
  },
  {
   "cell_type": "code",
   "execution_count": 16,
   "metadata": {
    "collapsed": true
   },
   "outputs": [],
   "source": [
    "CZI.PBMC.4.DF_dbl_labels=read.csv(\"/projects/ucar-lab/danaco/bncmrk-dblts/DF/output/CZI.PBMC/CZI.PBMC.4.DF.output.barcodes.labels.csv\")[,2:3]\n",
    "colnames(CZI.PBMC.4.DF_dbl_labels)[1]=\"DF_BARCODE\"\n",
    "colnames(CZI.PBMC.4.DF_dbl_labels)[2]=\"DF_LABEL\"\n",
    "\n",
    "CZI.PBMC.4.Scrublet_dbl_scores=read.csv(\"/projects/ucar-lab/danaco/bncmrk-dblts/Scrublet/output/CZI.PBMC/CZI.PBMC.4.Scr.doublet.scores.0.1exp_rate.csv\")$X0\n",
    "CZI.PBMC.4.Scrublet_dbl_labels=CZI.PBMC.4.Scrublet_dbl_scores\n",
    "CZI.PBMC.4.Scrublet_dbl_labels[CZI.PBMC.4.Scrublet_dbl_scores>0.25]=\"Doublet\"\n",
    "CZI.PBMC.4.Scrublet_dbl_labels[CZI.PBMC.4.Scrublet_dbl_scores<=0.25]=\"Singlet\"\n",
    "CZI.PBMC.4.Scrublet_dbl_labels=data.frame(SCR_BARCODE=CZI.PBMC.4.DF_dbl_labels$DF_BARCODE, SCR_LABEL=CZI.PBMC.4.Scrublet_dbl_labels)\n",
    "\n",
    "CZI.PBMC.4.DoubDec_dbl_labels=read.table(\"/projects/ucar-lab/danaco/bncmrk-dblts/DoubletDecon/output/CZI.PBMC/DRS_doublet_table_CZI.PBMC.4.txt\", sep=\"\\t\",header=T, row.names=1)\n",
    "rownames(CZI.PBMC.4.DoubDec_dbl_labels)=gsub(x=rownames(CZI.PBMC.4.DoubDec_dbl_labels),pattern=\"\\\\.\",replacement=\"\\\\-\")\n",
    "X <- vector(mode=\"character\", length=length(rownames(CZI.PBMC.4.DoubDec_dbl_labels)))\n",
    "X[CZI.PBMC.4.DoubDec_dbl_labels$isADoublet==TRUE]=\"Doublet\"\n",
    "X[CZI.PBMC.4.DoubDec_dbl_labels$isADoublet==FALSE]=\"Singlet\"\n",
    "CZI.PBMC.4.DoubDec_dbl_labels=data.frame(DD_BARCODE=rownames(CZI.PBMC.4.DoubDec_dbl_labels),DD_LABEL=X)\n",
    "\n",
    "CZI.PBMC.4.Ground.Truth=data.frame(BARCODE=CZI.PBMC.4.DF_dbl_labels$DF_BARCODE, DF_LABEL=CZI.PBMC.4.DF_dbl_labels$DF_LABEL)\n",
    "CZI.PBMC.4.Ground.Truth=merge(CZI.PBMC.4.Ground.Truth,CZI.PBMC.4.Scrublet_dbl_labels,by.x=\"BARCODE\",by.y=\"SCR_BARCODE\")\n",
    "CZI.PBMC.4.Ground.Truth=merge(CZI.PBMC.4.Ground.Truth,CZI.PBMC.4.DoubDec_dbl_labels,by.x=\"BARCODE\",by.y=\"DD_BARCODE\")\n",
    "CZI.PBMC.4.Ground.Truth=merge(CZI.PBMC.4.Ground.Truth,CZI.PBMC.4.HTO.HTODemux.labels,by.x=\"BARCODE\",by.y=\"X\")\n",
    "colnames(CZI.PBMC.4.Ground.Truth)[length(colnames(CZI.PBMC.4.Ground.Truth))]=\"HTOD_LABEL\"\n",
    "CZI.PBMC.4.Ground.Truth=merge(CZI.PBMC.4.Ground.Truth,CZI.PBMC.4.HTO.MULTIseqDemux.labels,by.x=\"BARCODE\",by.y=\"X\")\n",
    "colnames(CZI.PBMC.4.Ground.Truth)[length(colnames(CZI.PBMC.4.Ground.Truth))]=\"MSD_LABEL\"\n",
    "CZI.PBMC.4.Ground.Truth=merge(CZI.PBMC.4.Ground.Truth,CZI.PBMC.4.HTO.GMM.labels,by.x=\"BARCODE\",by.y=\"Cell_Barcode\")\n",
    "colnames(CZI.PBMC.4.Ground.Truth)[length(colnames(CZI.PBMC.4.Ground.Truth))]=\"GMM_LABEL\"\n",
    "\n",
    "CZI.PBMC.4.SCR.SNG=subset(CZI.PBMC.4.Ground.Truth,SCR_LABEL==\"Singlet\")\n",
    "CZI.PBMC.4.SCR.DBL=subset(CZI.PBMC.4.Ground.Truth,SCR_LABEL==\"Doublet\")\n",
    "CZI.PBMC.4.DF.SNG=subset(CZI.PBMC.4.Ground.Truth,DF_LABEL==\"Singlet\")\n",
    "CZI.PBMC.4.DF.DBL=subset(CZI.PBMC.4.Ground.Truth,DF_LABEL==\"Doublet\")\n",
    "CZI.PBMC.4.DD.SNG=subset(CZI.PBMC.4.Ground.Truth,DD_LABEL==\"Singlet\")\n",
    "CZI.PBMC.4.DD.DBL=subset(CZI.PBMC.4.Ground.Truth,DD_LABEL==\"Doublet\")\n",
    "CZI.PBMC.4.HTOD.NDBL=subset(CZI.PBMC.4.Ground.Truth,HTOD_LABEL!=\"Doublet\")\n",
    "CZI.PBMC.4.HTOD.DBL=subset(CZI.PBMC.4.Ground.Truth,HTOD_LABEL==\"Doublet\")\n",
    "CZI.PBMC.4.MSD.NDBL=subset(CZI.PBMC.4.Ground.Truth,MSD_LABEL!=\"Doublet\")\n",
    "CZI.PBMC.4.MSD.DBL=subset(CZI.PBMC.4.Ground.Truth,MSD_LABEL==\"Doublet\")\n",
    "CZI.PBMC.4.GMM.NDBL=subset(CZI.PBMC.4.Ground.Truth,GMM_LABEL!=\"Doublet\")\n",
    "CZI.PBMC.4.GMM.DBL=subset(CZI.PBMC.4.Ground.Truth,GMM_LABEL==\"Doublet\")\n",
    "#gr.DBL=subset(groundTruth,S_type==\"DBL\")\n",
    "\n",
    "#Scrublet_2.5_dbl_scores=read.csv(\"doublet_scores_2.5.csv\")$X0\n",
    "#scr_2.5=data.frame(BARCODE=colnames(comb.counts),scr_2.5_scores=Scrublet_2.5_dbl_scores)\n",
    "#groundTruth=merge(groundTruth,scr_2.5,by.x=\"BARCODE\",by.y=\"BARCODE\")\n",
    "#groundTruth=merge(groundTruth,DemuxletDefault,by.x=\"BARCODE\",by.y=\"BARCODE\")\n",
    "#groundTruth=merge(groundTruth,DemuxletModified,by.x=\"BARCODE\",by.y=\"BARCODE\")\n",
    "#groundTruth=merge(groundTruth,df,by.x=\"BARCODE\",by.y=\"BARCODE\")"
   ]
  },
  {
   "cell_type": "code",
   "execution_count": 17,
   "metadata": {
    "collapsed": true
   },
   "outputs": [],
   "source": [
    "CZI.PBMC.5.DF_dbl_labels=read.csv(\"/projects/ucar-lab/danaco/bncmrk-dblts/DF/output/CZI.PBMC/CZI.PBMC.5.DF.output.barcodes.labels.csv\")[,2:3]\n",
    "colnames(CZI.PBMC.5.DF_dbl_labels)[1]=\"DF_BARCODE\"\n",
    "colnames(CZI.PBMC.5.DF_dbl_labels)[2]=\"DF_LABEL\"\n",
    "\n",
    "CZI.PBMC.5.Scrublet_dbl_scores=read.csv(\"/projects/ucar-lab/danaco/bncmrk-dblts/Scrublet/output/CZI.PBMC/CZI.PBMC.5.Scr.doublet.scores.0.1exp_rate.csv\")$X0\n",
    "CZI.PBMC.5.Scrublet_dbl_labels=CZI.PBMC.5.Scrublet_dbl_scores\n",
    "CZI.PBMC.5.Scrublet_dbl_labels[CZI.PBMC.5.Scrublet_dbl_scores>0.25]=\"Doublet\"\n",
    "CZI.PBMC.5.Scrublet_dbl_labels[CZI.PBMC.5.Scrublet_dbl_scores<=0.25]=\"Singlet\"\n",
    "CZI.PBMC.5.Scrublet_dbl_labels=data.frame(SCR_BARCODE=CZI.PBMC.5.DF_dbl_labels$DF_BARCODE, SCR_LABEL=CZI.PBMC.5.Scrublet_dbl_labels)\n",
    "\n",
    "CZI.PBMC.5.DoubDec_dbl_labels=read.table(\"/projects/ucar-lab/danaco/bncmrk-dblts/DoubletDecon/output/CZI.PBMC/DRS_doublet_table_CZI.PBMC.5.txt\", sep=\"\\t\",header=T, row.names=1)\n",
    "rownames(CZI.PBMC.5.DoubDec_dbl_labels)=gsub(x=rownames(CZI.PBMC.5.DoubDec_dbl_labels),pattern=\"\\\\.\",replacement=\"\\\\-\")\n",
    "X <- vector(mode=\"character\", length=length(rownames(CZI.PBMC.5.DoubDec_dbl_labels)))\n",
    "X[CZI.PBMC.5.DoubDec_dbl_labels$isADoublet==TRUE]=\"Doublet\"\n",
    "X[CZI.PBMC.5.DoubDec_dbl_labels$isADoublet==FALSE]=\"Singlet\"\n",
    "CZI.PBMC.5.DoubDec_dbl_labels=data.frame(DD_BARCODE=rownames(CZI.PBMC.5.DoubDec_dbl_labels),DD_LABEL=X)\n",
    "\n",
    "CZI.PBMC.5.Ground.Truth=data.frame(BARCODE=CZI.PBMC.5.DF_dbl_labels$DF_BARCODE, DF_LABEL=CZI.PBMC.5.DF_dbl_labels$DF_LABEL)\n",
    "CZI.PBMC.5.Ground.Truth=merge(CZI.PBMC.5.Ground.Truth,CZI.PBMC.5.Scrublet_dbl_labels,by.x=\"BARCODE\",by.y=\"SCR_BARCODE\")\n",
    "CZI.PBMC.5.Ground.Truth=merge(CZI.PBMC.5.Ground.Truth,CZI.PBMC.5.DoubDec_dbl_labels,by.x=\"BARCODE\",by.y=\"DD_BARCODE\")\n",
    "CZI.PBMC.5.Ground.Truth=merge(CZI.PBMC.5.Ground.Truth,CZI.PBMC.5.HTO.HTODemux.labels,by.x=\"BARCODE\",by.y=\"X\")\n",
    "colnames(CZI.PBMC.5.Ground.Truth)[length(colnames(CZI.PBMC.5.Ground.Truth))]=\"HTOD_LABEL\"\n",
    "CZI.PBMC.5.Ground.Truth=merge(CZI.PBMC.5.Ground.Truth,CZI.PBMC.5.HTO.MULTIseqDemux.labels,by.x=\"BARCODE\",by.y=\"X\")\n",
    "colnames(CZI.PBMC.5.Ground.Truth)[length(colnames(CZI.PBMC.5.Ground.Truth))]=\"MSD_LABEL\"\n",
    "CZI.PBMC.5.Ground.Truth=merge(CZI.PBMC.5.Ground.Truth,CZI.PBMC.5.HTO.GMM.labels,by.x=\"BARCODE\",by.y=\"Cell_Barcode\")\n",
    "colnames(CZI.PBMC.5.Ground.Truth)[length(colnames(CZI.PBMC.5.Ground.Truth))]=\"GMM_LABEL\"\n",
    "\n",
    "CZI.PBMC.5.SCR.SNG=subset(CZI.PBMC.5.Ground.Truth,SCR_LABEL==\"Singlet\")\n",
    "CZI.PBMC.5.SCR.DBL=subset(CZI.PBMC.5.Ground.Truth,SCR_LABEL==\"Doublet\")\n",
    "CZI.PBMC.5.DF.SNG=subset(CZI.PBMC.5.Ground.Truth,DF_LABEL==\"Singlet\")\n",
    "CZI.PBMC.5.DF.DBL=subset(CZI.PBMC.5.Ground.Truth,DF_LABEL==\"Doublet\")\n",
    "CZI.PBMC.5.DD.SNG=subset(CZI.PBMC.5.Ground.Truth,DD_LABEL==\"Singlet\")\n",
    "CZI.PBMC.5.DD.DBL=subset(CZI.PBMC.5.Ground.Truth,DD_LABEL==\"Doublet\")\n",
    "CZI.PBMC.5.HTOD.NDBL=subset(CZI.PBMC.5.Ground.Truth,HTOD_LABEL!=\"Doublet\")\n",
    "CZI.PBMC.5.HTOD.DBL=subset(CZI.PBMC.5.Ground.Truth,HTOD_LABEL==\"Doublet\")\n",
    "CZI.PBMC.5.MSD.NDBL=subset(CZI.PBMC.5.Ground.Truth,MSD_LABEL!=\"Doublet\")\n",
    "CZI.PBMC.5.MSD.DBL=subset(CZI.PBMC.5.Ground.Truth,MSD_LABEL==\"Doublet\")\n",
    "CZI.PBMC.5.GMM.NDBL=subset(CZI.PBMC.5.Ground.Truth,GMM_LABEL!=\"Doublet\")\n",
    "CZI.PBMC.5.GMM.DBL=subset(CZI.PBMC.5.Ground.Truth,GMM_LABEL==\"Doublet\")\n",
    "#gr.DBL=subset(groundTruth,S_type==\"DBL\")\n",
    "\n",
    "#Scrublet_2.5_dbl_scores=read.csv(\"doublet_scores_2.5.csv\")$X0\n",
    "#scr_2.5=data.frame(BARCODE=colnames(comb.counts),scr_2.5_scores=Scrublet_2.5_dbl_scores)\n",
    "#groundTruth=merge(groundTruth,scr_2.5,by.x=\"BARCODE\",by.y=\"BARCODE\")\n",
    "#groundTruth=merge(groundTruth,DemuxletDefault,by.x=\"BARCODE\",by.y=\"BARCODE\")\n",
    "#groundTruth=merge(groundTruth,DemuxletModified,by.x=\"BARCODE\",by.y=\"BARCODE\")\n",
    "#groundTruth=merge(groundTruth,df,by.x=\"BARCODE\",by.y=\"BARCODE\")"
   ]
  },
  {
   "cell_type": "code",
   "execution_count": 18,
   "metadata": {
    "collapsed": true
   },
   "outputs": [],
   "source": [
    "CZI.PBMC.7.DF_dbl_labels=read.csv(\"/projects/ucar-lab/danaco/bncmrk-dblts/DF/output/CZI.PBMC/CZI.PBMC.7.DF.output.barcodes.labels.csv\")[,2:3]\n",
    "colnames(CZI.PBMC.7.DF_dbl_labels)[1]=\"DF_BARCODE\"\n",
    "colnames(CZI.PBMC.7.DF_dbl_labels)[2]=\"DF_LABEL\"\n",
    "\n",
    "CZI.PBMC.7.Scrublet_dbl_scores=read.csv(\"/projects/ucar-lab/danaco/bncmrk-dblts/Scrublet/output/CZI.PBMC/CZI.PBMC.7.Scr.doublet.scores.0.1exp_rate.csv\")$X0\n",
    "CZI.PBMC.7.Scrublet_dbl_labels=CZI.PBMC.7.Scrublet_dbl_scores\n",
    "CZI.PBMC.7.Scrublet_dbl_labels[CZI.PBMC.7.Scrublet_dbl_scores>0.25]=\"Doublet\"\n",
    "CZI.PBMC.7.Scrublet_dbl_labels[CZI.PBMC.7.Scrublet_dbl_scores<=0.25]=\"Singlet\"\n",
    "CZI.PBMC.7.Scrublet_dbl_labels=data.frame(SCR_BARCODE=CZI.PBMC.7.DF_dbl_labels$DF_BARCODE, SCR_LABEL=CZI.PBMC.7.Scrublet_dbl_labels)\n",
    "\n",
    "CZI.PBMC.7.DoubDec_dbl_labels=read.table(\"/projects/ucar-lab/danaco/bncmrk-dblts/DoubletDecon/output/CZI.PBMC/DRS_doublet_table_CZI.PBMC.7.txt\", sep=\"\\t\",header=T, row.names=1)\n",
    "rownames(CZI.PBMC.7.DoubDec_dbl_labels)=gsub(x=rownames(CZI.PBMC.7.DoubDec_dbl_labels),pattern=\"\\\\.\",replacement=\"\\\\-\")\n",
    "X <- vector(mode=\"character\", length=length(rownames(CZI.PBMC.7.DoubDec_dbl_labels)))\n",
    "X[CZI.PBMC.7.DoubDec_dbl_labels$isADoublet==TRUE]=\"Doublet\"\n",
    "X[CZI.PBMC.7.DoubDec_dbl_labels$isADoublet==FALSE]=\"Singlet\"\n",
    "CZI.PBMC.7.DoubDec_dbl_labels=data.frame(DD_BARCODE=rownames(CZI.PBMC.7.DoubDec_dbl_labels),DD_LABEL=X)\n",
    "\n",
    "CZI.PBMC.7.Ground.Truth=data.frame(BARCODE=CZI.PBMC.7.DF_dbl_labels$DF_BARCODE, DF_LABEL=CZI.PBMC.7.DF_dbl_labels$DF_LABEL)\n",
    "CZI.PBMC.7.Ground.Truth=merge(CZI.PBMC.7.Ground.Truth,CZI.PBMC.7.Scrublet_dbl_labels,by.x=\"BARCODE\",by.y=\"SCR_BARCODE\")\n",
    "CZI.PBMC.7.Ground.Truth=merge(CZI.PBMC.7.Ground.Truth,CZI.PBMC.7.DoubDec_dbl_labels,by.x=\"BARCODE\",by.y=\"DD_BARCODE\")\n",
    "CZI.PBMC.7.Ground.Truth=merge(CZI.PBMC.7.Ground.Truth,CZI.PBMC.7.HTO.HTODemux.labels,by.x=\"BARCODE\",by.y=\"X\")\n",
    "colnames(CZI.PBMC.7.Ground.Truth)[length(colnames(CZI.PBMC.7.Ground.Truth))]=\"HTOD_LABEL\"\n",
    "CZI.PBMC.7.Ground.Truth=merge(CZI.PBMC.7.Ground.Truth,CZI.PBMC.7.HTO.MULTIseqDemux.labels,by.x=\"BARCODE\",by.y=\"X\")\n",
    "colnames(CZI.PBMC.7.Ground.Truth)[length(colnames(CZI.PBMC.7.Ground.Truth))]=\"MSD_LABEL\"\n",
    "CZI.PBMC.7.Ground.Truth=merge(CZI.PBMC.7.Ground.Truth,CZI.PBMC.7.HTO.GMM.labels,by.x=\"BARCODE\",by.y=\"Cell_Barcode\")\n",
    "colnames(CZI.PBMC.7.Ground.Truth)[length(colnames(CZI.PBMC.7.Ground.Truth))]=\"GMM_LABEL\"\n",
    "\n",
    "CZI.PBMC.7.SCR.SNG=subset(CZI.PBMC.7.Ground.Truth,SCR_LABEL==\"Singlet\")\n",
    "CZI.PBMC.7.SCR.DBL=subset(CZI.PBMC.7.Ground.Truth,SCR_LABEL==\"Doublet\")\n",
    "CZI.PBMC.7.DF.SNG=subset(CZI.PBMC.7.Ground.Truth,DF_LABEL==\"Singlet\")\n",
    "CZI.PBMC.7.DF.DBL=subset(CZI.PBMC.7.Ground.Truth,DF_LABEL==\"Doublet\")\n",
    "CZI.PBMC.7.DD.SNG=subset(CZI.PBMC.7.Ground.Truth,DD_LABEL==\"Singlet\")\n",
    "CZI.PBMC.7.DD.DBL=subset(CZI.PBMC.7.Ground.Truth,DD_LABEL==\"Doublet\")\n",
    "CZI.PBMC.7.HTOD.NDBL=subset(CZI.PBMC.7.Ground.Truth,HTOD_LABEL!=\"Doublet\")\n",
    "CZI.PBMC.7.HTOD.DBL=subset(CZI.PBMC.7.Ground.Truth,HTOD_LABEL==\"Doublet\")\n",
    "CZI.PBMC.7.MSD.NDBL=subset(CZI.PBMC.7.Ground.Truth,MSD_LABEL!=\"Doublet\")\n",
    "CZI.PBMC.7.MSD.DBL=subset(CZI.PBMC.7.Ground.Truth,MSD_LABEL==\"Doublet\")\n",
    "CZI.PBMC.7.GMM.NDBL=subset(CZI.PBMC.7.Ground.Truth,GMM_LABEL!=\"Doublet\")\n",
    "CZI.PBMC.7.GMM.DBL=subset(CZI.PBMC.7.Ground.Truth,GMM_LABEL==\"Doublet\")\n",
    "#gr.DBL=subset(groundTruth,S_type==\"DBL\")\n",
    "\n",
    "#Scrublet_2.5_dbl_scores=read.csv(\"doublet_scores_2.7.csv\")$X0\n",
    "#scr_2.5=data.frame(BARCODE=colnames(comb.counts),scr_2.5_scores=Scrublet_2.5_dbl_scores)\n",
    "#groundTruth=merge(groundTruth,scr_2.5,by.x=\"BARCODE\",by.y=\"BARCODE\")\n",
    "#groundTruth=merge(groundTruth,DemuxletDefault,by.x=\"BARCODE\",by.y=\"BARCODE\")\n",
    "#groundTruth=merge(groundTruth,DemuxletModified,by.x=\"BARCODE\",by.y=\"BARCODE\")\n",
    "#groundTruth=merge(groundTruth,df,by.x=\"BARCODE\",by.y=\"BARCODE\")"
   ]
  },
  {
   "cell_type": "code",
   "execution_count": 19,
   "metadata": {
    "collapsed": true
   },
   "outputs": [],
   "source": [
    "CZI.PBMC.9.DF_dbl_labels=read.csv(\"/projects/ucar-lab/danaco/bncmrk-dblts/DF/output/CZI.PBMC/CZI.PBMC.9.DF.output.barcodes.labels.csv\")[,2:3]\n",
    "colnames(CZI.PBMC.9.DF_dbl_labels)[1]=\"DF_BARCODE\"\n",
    "colnames(CZI.PBMC.9.DF_dbl_labels)[2]=\"DF_LABEL\"\n",
    "\n",
    "CZI.PBMC.9.Scrublet_dbl_scores=read.csv(\"/projects/ucar-lab/danaco/bncmrk-dblts/Scrublet/output/CZI.PBMC/CZI.PBMC.9.Scr.doublet.scores.0.1exp_rate.csv\")$X0\n",
    "CZI.PBMC.9.Scrublet_dbl_labels=CZI.PBMC.9.Scrublet_dbl_scores\n",
    "CZI.PBMC.9.Scrublet_dbl_labels[CZI.PBMC.9.Scrublet_dbl_scores>0.25]=\"Doublet\"\n",
    "CZI.PBMC.9.Scrublet_dbl_labels[CZI.PBMC.9.Scrublet_dbl_scores<=0.25]=\"Singlet\"\n",
    "CZI.PBMC.9.Scrublet_dbl_labels=data.frame(SCR_BARCODE=CZI.PBMC.9.DF_dbl_labels$DF_BARCODE, SCR_LABEL=CZI.PBMC.9.Scrublet_dbl_labels)\n",
    "\n",
    "CZI.PBMC.9.DoubDec_dbl_labels=read.table(\"/projects/ucar-lab/danaco/bncmrk-dblts/DoubletDecon/output/CZI.PBMC/DRS_doublet_table_CZI.PBMC.9.txt\", sep=\"\\t\",header=T, row.names=1)\n",
    "rownames(CZI.PBMC.9.DoubDec_dbl_labels)=gsub(x=rownames(CZI.PBMC.9.DoubDec_dbl_labels),pattern=\"\\\\.\",replacement=\"\\\\-\")\n",
    "X <- vector(mode=\"character\", length=length(rownames(CZI.PBMC.9.DoubDec_dbl_labels)))\n",
    "X[CZI.PBMC.9.DoubDec_dbl_labels$isADoublet==TRUE]=\"Doublet\"\n",
    "X[CZI.PBMC.9.DoubDec_dbl_labels$isADoublet==FALSE]=\"Singlet\"\n",
    "CZI.PBMC.9.DoubDec_dbl_labels=data.frame(DD_BARCODE=rownames(CZI.PBMC.9.DoubDec_dbl_labels),DD_LABEL=X)\n",
    "\n",
    "CZI.PBMC.9.Ground.Truth=data.frame(BARCODE=CZI.PBMC.9.DF_dbl_labels$DF_BARCODE, DF_LABEL=CZI.PBMC.9.DF_dbl_labels$DF_LABEL)\n",
    "CZI.PBMC.9.Ground.Truth=merge(CZI.PBMC.9.Ground.Truth,CZI.PBMC.9.Scrublet_dbl_labels,by.x=\"BARCODE\",by.y=\"SCR_BARCODE\")\n",
    "CZI.PBMC.9.Ground.Truth=merge(CZI.PBMC.9.Ground.Truth,CZI.PBMC.9.DoubDec_dbl_labels,by.x=\"BARCODE\",by.y=\"DD_BARCODE\")\n",
    "CZI.PBMC.9.Ground.Truth=merge(CZI.PBMC.9.Ground.Truth,CZI.PBMC.9.HTO.HTODemux.labels,by.x=\"BARCODE\",by.y=\"X\")\n",
    "colnames(CZI.PBMC.9.Ground.Truth)[length(colnames(CZI.PBMC.9.Ground.Truth))]=\"HTOD_LABEL\"\n",
    "CZI.PBMC.9.Ground.Truth=merge(CZI.PBMC.9.Ground.Truth,CZI.PBMC.9.HTO.MULTIseqDemux.labels,by.x=\"BARCODE\",by.y=\"X\")\n",
    "colnames(CZI.PBMC.9.Ground.Truth)[length(colnames(CZI.PBMC.9.Ground.Truth))]=\"MSD_LABEL\"\n",
    "CZI.PBMC.9.Ground.Truth=merge(CZI.PBMC.9.Ground.Truth,CZI.PBMC.9.HTO.GMM.labels,by.x=\"BARCODE\",by.y=\"Cell_Barcode\")\n",
    "colnames(CZI.PBMC.9.Ground.Truth)[length(colnames(CZI.PBMC.9.Ground.Truth))]=\"GMM_LABEL\"\n",
    "\n",
    "CZI.PBMC.9.SCR.SNG=subset(CZI.PBMC.9.Ground.Truth,SCR_LABEL==\"Singlet\")\n",
    "CZI.PBMC.9.SCR.DBL=subset(CZI.PBMC.9.Ground.Truth,SCR_LABEL==\"Doublet\")\n",
    "CZI.PBMC.9.DF.SNG=subset(CZI.PBMC.9.Ground.Truth,DF_LABEL==\"Singlet\")\n",
    "CZI.PBMC.9.DF.DBL=subset(CZI.PBMC.9.Ground.Truth,DF_LABEL==\"Doublet\")\n",
    "CZI.PBMC.9.DD.SNG=subset(CZI.PBMC.9.Ground.Truth,DD_LABEL==\"Singlet\")\n",
    "CZI.PBMC.9.DD.DBL=subset(CZI.PBMC.9.Ground.Truth,DD_LABEL==\"Doublet\")\n",
    "CZI.PBMC.9.HTOD.NDBL=subset(CZI.PBMC.9.Ground.Truth,HTOD_LABEL!=\"Doublet\")\n",
    "CZI.PBMC.9.HTOD.DBL=subset(CZI.PBMC.9.Ground.Truth,HTOD_LABEL==\"Doublet\")\n",
    "CZI.PBMC.9.MSD.NDBL=subset(CZI.PBMC.9.Ground.Truth,MSD_LABEL!=\"Doublet\")\n",
    "CZI.PBMC.9.MSD.DBL=subset(CZI.PBMC.9.Ground.Truth,MSD_LABEL==\"Doublet\")\n",
    "CZI.PBMC.9.GMM.NDBL=subset(CZI.PBMC.9.Ground.Truth,GMM_LABEL!=\"Doublet\")\n",
    "CZI.PBMC.9.GMM.DBL=subset(CZI.PBMC.9.Ground.Truth,GMM_LABEL==\"Doublet\")\n",
    "#gr.DBL=subset(groundTruth,S_type==\"DBL\")\n",
    "\n",
    "#Scrublet_2.5_dbl_scores=read.csv(\"doublet_scores_2.9.csv\")$X0\n",
    "#scr_2.5=data.frame(BARCODE=colnames(comb.counts),scr_2.5_scores=Scrublet_2.5_dbl_scores)\n",
    "#groundTruth=merge(groundTruth,scr_2.5,by.x=\"BARCODE\",by.y=\"BARCODE\")\n",
    "#groundTruth=merge(groundTruth,DemuxletDefault,by.x=\"BARCODE\",by.y=\"BARCODE\")\n",
    "#groundTruth=merge(groundTruth,DemuxletModified,by.x=\"BARCODE\",by.y=\"BARCODE\")\n",
    "#groundTruth=merge(groundTruth,df,by.x=\"BARCODE\",by.y=\"BARCODE\")"
   ]
  },
  {
   "cell_type": "code",
   "execution_count": 20,
   "metadata": {
    "collapsed": true
   },
   "outputs": [],
   "source": [
    "CZI.PBMC.10.DF_dbl_labels=read.csv(\"/projects/ucar-lab/danaco/bncmrk-dblts/DF/output/CZI.PBMC/CZI.PBMC.10.DF.output.barcodes.labels.csv\")[,2:3]\n",
    "colnames(CZI.PBMC.10.DF_dbl_labels)[1]=\"DF_BARCODE\"\n",
    "colnames(CZI.PBMC.10.DF_dbl_labels)[2]=\"DF_LABEL\"\n",
    "\n",
    "CZI.PBMC.10.Scrublet_dbl_scores=read.csv(\"/projects/ucar-lab/danaco/bncmrk-dblts/Scrublet/output/CZI.PBMC/CZI.PBMC.10.Scr.doublet.scores.0.1exp_rate.csv\")$X0\n",
    "CZI.PBMC.10.Scrublet_dbl_labels=CZI.PBMC.10.Scrublet_dbl_scores\n",
    "CZI.PBMC.10.Scrublet_dbl_labels[CZI.PBMC.10.Scrublet_dbl_scores>0.25]=\"Doublet\"\n",
    "CZI.PBMC.10.Scrublet_dbl_labels[CZI.PBMC.10.Scrublet_dbl_scores<=0.25]=\"Singlet\"\n",
    "CZI.PBMC.10.Scrublet_dbl_labels=data.frame(SCR_BARCODE=CZI.PBMC.10.DF_dbl_labels$DF_BARCODE, SCR_LABEL=CZI.PBMC.10.Scrublet_dbl_labels)\n",
    "\n",
    "CZI.PBMC.10.DoubDec_dbl_labels=read.table(\"/projects/ucar-lab/danaco/bncmrk-dblts/DoubletDecon/output/CZI.PBMC/DRS_doublet_table_CZI.PBMC.10.txt\", sep=\"\\t\",header=T, row.names=1)\n",
    "rownames(CZI.PBMC.10.DoubDec_dbl_labels)=gsub(x=rownames(CZI.PBMC.10.DoubDec_dbl_labels),pattern=\"\\\\.\",replacement=\"\\\\-\")\n",
    "X <- vector(mode=\"character\", length=length(rownames(CZI.PBMC.10.DoubDec_dbl_labels)))\n",
    "X[CZI.PBMC.10.DoubDec_dbl_labels$isADoublet==TRUE]=\"Doublet\"\n",
    "X[CZI.PBMC.10.DoubDec_dbl_labels$isADoublet==FALSE]=\"Singlet\"\n",
    "CZI.PBMC.10.DoubDec_dbl_labels=data.frame(DD_BARCODE=rownames(CZI.PBMC.10.DoubDec_dbl_labels),DD_LABEL=X)\n",
    "\n",
    "CZI.PBMC.10.Ground.Truth=data.frame(BARCODE=CZI.PBMC.10.DF_dbl_labels$DF_BARCODE, DF_LABEL=CZI.PBMC.10.DF_dbl_labels$DF_LABEL)\n",
    "CZI.PBMC.10.Ground.Truth=merge(CZI.PBMC.10.Ground.Truth,CZI.PBMC.10.Scrublet_dbl_labels,by.x=\"BARCODE\",by.y=\"SCR_BARCODE\")\n",
    "CZI.PBMC.10.Ground.Truth=merge(CZI.PBMC.10.Ground.Truth,CZI.PBMC.10.DoubDec_dbl_labels,by.x=\"BARCODE\",by.y=\"DD_BARCODE\")\n",
    "CZI.PBMC.10.Ground.Truth=merge(CZI.PBMC.10.Ground.Truth,CZI.PBMC.10.HTO.HTODemux.labels,by.x=\"BARCODE\",by.y=\"X\")\n",
    "colnames(CZI.PBMC.10.Ground.Truth)[length(colnames(CZI.PBMC.10.Ground.Truth))]=\"HTOD_LABEL\"\n",
    "CZI.PBMC.10.Ground.Truth=merge(CZI.PBMC.10.Ground.Truth,CZI.PBMC.10.HTO.MULTIseqDemux.labels,by.x=\"BARCODE\",by.y=\"X\")\n",
    "colnames(CZI.PBMC.10.Ground.Truth)[length(colnames(CZI.PBMC.10.Ground.Truth))]=\"MSD_LABEL\"\n",
    "CZI.PBMC.10.Ground.Truth=merge(CZI.PBMC.10.Ground.Truth,CZI.PBMC.10.HTO.GMM.labels,by.x=\"BARCODE\",by.y=\"Cell_Barcode\")\n",
    "colnames(CZI.PBMC.10.Ground.Truth)[length(colnames(CZI.PBMC.10.Ground.Truth))]=\"GMM_LABEL\"\n",
    "\n",
    "CZI.PBMC.10.SCR.SNG=subset(CZI.PBMC.10.Ground.Truth,SCR_LABEL==\"Singlet\")\n",
    "CZI.PBMC.10.SCR.DBL=subset(CZI.PBMC.10.Ground.Truth,SCR_LABEL==\"Doublet\")\n",
    "CZI.PBMC.10.DF.SNG=subset(CZI.PBMC.10.Ground.Truth,DF_LABEL==\"Singlet\")\n",
    "CZI.PBMC.10.DF.DBL=subset(CZI.PBMC.10.Ground.Truth,DF_LABEL==\"Doublet\")\n",
    "CZI.PBMC.10.DD.SNG=subset(CZI.PBMC.10.Ground.Truth,DD_LABEL==\"Singlet\")\n",
    "CZI.PBMC.10.DD.DBL=subset(CZI.PBMC.10.Ground.Truth,DD_LABEL==\"Doublet\")\n",
    "CZI.PBMC.10.HTOD.NDBL=subset(CZI.PBMC.10.Ground.Truth,HTOD_LABEL!=\"Doublet\")\n",
    "CZI.PBMC.10.HTOD.DBL=subset(CZI.PBMC.10.Ground.Truth,HTOD_LABEL==\"Doublet\")\n",
    "CZI.PBMC.10.MSD.NDBL=subset(CZI.PBMC.10.Ground.Truth,MSD_LABEL!=\"Doublet\")\n",
    "CZI.PBMC.10.MSD.DBL=subset(CZI.PBMC.10.Ground.Truth,MSD_LABEL==\"Doublet\")\n",
    "CZI.PBMC.10.GMM.NDBL=subset(CZI.PBMC.10.Ground.Truth,GMM_LABEL!=\"Doublet\")\n",
    "CZI.PBMC.10.GMM.DBL=subset(CZI.PBMC.10.Ground.Truth,GMM_LABEL==\"Doublet\")\n",
    "#gr.DBL=subset(groundTruth,S_type==\"DBL\")\n",
    "\n",
    "#Scrublet_2.5_dbl_scores=read.csv(\"doublet_scores_2.10.csv\")$X0\n",
    "#scr_2.5=data.frame(BARCODE=colnames(comb.counts),scr_2.5_scores=Scrublet_2.5_dbl_scores)\n",
    "#groundTruth=merge(groundTruth,scr_2.5,by.x=\"BARCODE\",by.y=\"BARCODE\")\n",
    "#groundTruth=merge(groundTruth,DemuxletDefault,by.x=\"BARCODE\",by.y=\"BARCODE\")\n",
    "#groundTruth=merge(groundTruth,DemuxletModified,by.x=\"BARCODE\",by.y=\"BARCODE\")\n",
    "#groundTruth=merge(groundTruth,df,by.x=\"BARCODE\",by.y=\"BARCODE\")"
   ]
  },
  {
   "cell_type": "code",
   "execution_count": 35,
   "metadata": {
    "collapsed": true
   },
   "outputs": [],
   "source": [
    "CZI.PBMC.Comb.Ground.Truth=rbind2(CZI.PBMC.1.Ground.Truth,CZI.PBMC.2.Ground.Truth)\n",
    "CZI.PBMC.Comb.Ground.Truth=rbind2(CZI.PBMC.Comb.Ground.Truth,CZI.PBMC.3.Ground.Truth)\n",
    "CZI.PBMC.Comb.Ground.Truth=rbind2(CZI.PBMC.Comb.Ground.Truth,CZI.PBMC.4.Ground.Truth)\n",
    "CZI.PBMC.Comb.Ground.Truth=rbind2(CZI.PBMC.Comb.Ground.Truth,CZI.PBMC.5.Ground.Truth)\n",
    "CZI.PBMC.Comb.Ground.Truth=rbind2(CZI.PBMC.Comb.Ground.Truth,CZI.PBMC.7.Ground.Truth)\n",
    "CZI.PBMC.Comb.Ground.Truth=rbind2(CZI.PBMC.Comb.Ground.Truth,CZI.PBMC.9.Ground.Truth)\n",
    "CZI.PBMC.Comb.Ground.Truth=rbind2(CZI.PBMC.Comb.Ground.Truth,CZI.PBMC.10.Ground.Truth)"
   ]
  },
  {
   "cell_type": "code",
   "execution_count": 37,
   "metadata": {},
   "outputs": [
    {
     "data": {
      "text/html": [
       "1"
      ],
      "text/latex": [
       "1"
      ],
      "text/markdown": [
       "1"
      ],
      "text/plain": [
       "[1] 1"
      ]
     },
     "metadata": {},
     "output_type": "display_data"
    }
   ],
   "source": [
    "venn.diagram(\n",
    "  x = list(CZI.PBMC.Comb.Ground.Truth$DF_LABEL, CZI.PBMC.Comb.Ground.Truth$DD_LABEL, \n",
    "           CZI.PBMC.Comb.Ground.Truth$SCR_LABEL,CZI.PBMC.Comb.Ground.Truth$HTOD_LABEL),\n",
    "  category.names = c(\"DF\" , \"DD\" , \"SCR\",\"HTOD\"),\n",
    "  filename = '#CZI.PBMC.Comb.HTOD_venn_diagramm.png',\n",
    "  output=FALSE\n",
    ")"
   ]
  },
  {
   "cell_type": "code",
   "execution_count": 172,
   "metadata": {
    "collapsed": true
   },
   "outputs": [],
   "source": [
    "CZI.PBMC.Comb.SCR.SNG=subset(CZI.PBMC.Comb.Ground.Truth,SCR_LABEL==\"Singlet\")\n",
    "CZI.PBMC.Comb.SCR.DBL=subset(CZI.PBMC.Comb.Ground.Truth,SCR_LABEL==\"Doublet\")\n",
    "CZI.PBMC.Comb.DF.SNG=subset(CZI.PBMC.Comb.Ground.Truth,DF_LABEL==\"Singlet\")\n",
    "CZI.PBMC.Comb.DF.DBL=subset(CZI.PBMC.Comb.Ground.Truth,DF_LABEL==\"Doublet\")\n",
    "CZI.PBMC.Comb.DD.SNG=subset(CZI.PBMC.Comb.Ground.Truth,DD_LABEL==\"Singlet\")\n",
    "CZI.PBMC.Comb.DD.DBL=subset(CZI.PBMC.Comb.Ground.Truth,DD_LABEL==\"Doublet\")\n",
    "\n",
    "CZI.PBMC.Comb.HTOD.NDBL=subset(CZI.PBMC.Comb.Ground.Truth,HTOD_LABEL!=\"Doublet\")\n",
    "CZI.PBMC.Comb.HTOD.DBL=subset(CZI.PBMC.Comb.Ground.Truth,HTOD_LABEL==\"Doublet\")\n",
    "CZI.PBMC.Comb.MSD.NDBL=subset(CZI.PBMC.Comb.Ground.Truth,MSD_LABEL!=\"Doublet\")\n",
    "CZI.PBMC.Comb.MSD.DBL=subset(CZI.PBMC.Comb.Ground.Truth,MSD_LABEL==\"Doublet\")\n",
    "CZI.PBMC.Comb.GMM.NDBL=subset(CZI.PBMC.Comb.Ground.Truth,GMM_LABEL!=\"Doublet\")\n",
    "CZI.PBMC.Comb.GMM.DBL=subset(CZI.PBMC.Comb.Ground.Truth,GMM_LABEL==\"Doublet\")\n",
    "\n",
    "CZI.PBMC.Comb.HTOD.NSNG=subset(CZI.PBMC.Comb.Ground.Truth,HTOD_LABEL!=\"Singlet\")\n",
    "CZI.PBMC.Comb.HTOD.SNG=subset(CZI.PBMC.Comb.Ground.Truth,HTOD_LABEL==\"Singlet\")\n",
    "CZI.PBMC.Comb.MSD.NSNG=subset(CZI.PBMC.Comb.Ground.Truth,MSD_LABEL!=\"Singlet\")\n",
    "CZI.PBMC.Comb.MSD.SNG=subset(CZI.PBMC.Comb.Ground.Truth,MSD_LABEL==\"Singlet\")\n",
    "CZI.PBMC.Comb.GMM.NSNG=subset(CZI.PBMC.Comb.Ground.Truth,GMM_LABEL!=\"Singlet\")\n",
    "CZI.PBMC.Comb.GMM.SNG=subset(CZI.PBMC.Comb.Ground.Truth,GMM_LABEL==\"Singlet\")\n",
    "\n",
    "CZI.PBMC.Comb.HTOD.NNGV=subset(CZI.PBMC.Comb.Ground.Truth,HTOD_LABEL!=\"Negative\")\n",
    "CZI.PBMC.Comb.HTOD.NGV=subset(CZI.PBMC.Comb.Ground.Truth,HTOD_LABEL==\"Negative\")\n",
    "CZI.PBMC.Comb.MSD.NNGV=subset(CZI.PBMC.Comb.Ground.Truth,MSD_LABEL!=\"Negative\")\n",
    "CZI.PBMC.Comb.MSD.NGV=subset(CZI.PBMC.Comb.Ground.Truth,MSD_LABEL==\"Negative\")\n",
    "CZI.PBMC.Comb.GMM.NNGV=subset(CZI.PBMC.Comb.Ground.Truth,GMM_LABEL!=\"Negative\")\n",
    "CZI.PBMC.Comb.GMM.NGV=subset(CZI.PBMC.Comb.Ground.Truth,GMM_LABEL==\"Negative\")"
   ]
  },
  {
   "cell_type": "code",
   "execution_count": 173,
   "metadata": {},
   "outputs": [
    {
     "ename": "ERROR",
     "evalue": "Error in Reduce(intersect, list(CZI.PBMC.Comb.SCR.NNGV$BARCODE, CZI.PBMC.Comb.DF.NNGV$BARCODE, : object 'CZI.PBMC.Comb.SCR.NNGV' not found\n",
     "output_type": "error",
     "traceback": [
      "Error in Reduce(intersect, list(CZI.PBMC.Comb.SCR.NNGV$BARCODE, CZI.PBMC.Comb.DF.NNGV$BARCODE, : object 'CZI.PBMC.Comb.SCR.NNGV' not found\nTraceback:\n",
      "1. Reduce(intersect, list(CZI.PBMC.Comb.SCR.NNGV$BARCODE, CZI.PBMC.Comb.DF.NNGV$BARCODE, \n .     CZI.PBMC.Comb.DD.NNGV$BARCODE, CZI.PBMC.Comb.GMM.NNGV$BARCODE))"
     ]
    }
   ],
   "source": [
    "int_cells <- Reduce(intersect, list(CZI.PBMC.Comb.SCR.NNGV$BARCODE, CZI.PBMC.Comb.DF.NNGV$BARCODE, \n",
    "                                    CZI.PBMC.Comb.DD.NNGV$BARCODE,CZI.PBMC.Comb.GMM.NNGV$BARCODE ))\n",
    "length(int_cells)\n",
    "\n",
    "dim(CZI.PBMC.Comb.Ground.Truth)\n",
    "dim(CZI.PBMC.Comb.GMM.DBL)[1]"
   ]
  },
  {
   "cell_type": "code",
   "execution_count": 123,
   "metadata": {
    "collapsed": true
   },
   "outputs": [],
   "source": [
    "DF=4292\n",
    "DD=65094\n",
    "SCR=3198\n",
    "HTOD=29017\n",
    "DF_DD=6081\n",
    "DF_SCR=242\n",
    "DF_HTOD=1658\n",
    "SCR_DD=4415\n",
    "SCR_HTOD=1828\n",
    "DD_HTOD=26203\n",
    "DF_DD_SCR=1008\n",
    "DF_DD_HTOD=3801\n",
    "DF_SCR_HTOD=287\n",
    "SCR_DD_HTOD=5979\n",
    "DF_DD_SCR_HTOD=1957"
   ]
  },
  {
   "cell_type": "code",
   "execution_count": 124,
   "metadata": {},
   "outputs": [
    {
     "data": {
      "text/html": [
       "155060"
      ],
      "text/latex": [
       "155060"
      ],
      "text/markdown": [
       "155060"
      ],
      "text/plain": [
       "[1] 155060"
      ]
     },
     "metadata": {},
     "output_type": "display_data"
    }
   ],
   "source": [
    "DF+DD+SCR+HTOD+DF_DD+DF_SCR+DF_HTOD+SCR_DD+SCR_HTOD+DD_HTOD+DF_DD_SCR+DF_DD_HTOD+DF_SCR_HTOD+SCR_DD_HTOD+DF_DD_SCR_HTOD"
   ]
  },
  {
   "cell_type": "code",
   "execution_count": 96,
   "metadata": {},
   "outputs": [
    {
     "data": {
      "text/html": [
       "18273"
      ],
      "text/latex": [
       "18273"
      ],
      "text/markdown": [
       "18273"
      ],
      "text/plain": [
       "[1] 18273"
      ]
     },
     "metadata": {},
     "output_type": "display_data"
    }
   ],
   "source": [
    "#DF_HTOD+SCR_HTOD+DD_HTOD+DF_DD_HTOD+DF_SCR_HTOD+SCR_DD_HTOD+DF_DD_SCR_HTOD\n"
   ]
  },
  {
   "cell_type": "code",
   "execution_count": 99,
   "metadata": {},
   "outputs": [
    {
     "data": {
      "text/html": [
       "123475"
      ],
      "text/latex": [
       "123475"
      ],
      "text/markdown": [
       "123475"
      ],
      "text/plain": [
       "[1] 123475"
      ]
     },
     "metadata": {},
     "output_type": "display_data"
    },
    {
     "data": {
      "text/html": [
       "<ol class=list-inline>\n",
       "\t<li>257664</li>\n",
       "\t<li>7</li>\n",
       "</ol>\n"
      ],
      "text/latex": [
       "\\begin{enumerate*}\n",
       "\\item 257664\n",
       "\\item 7\n",
       "\\end{enumerate*}\n"
      ],
      "text/markdown": [
       "1. 257664\n",
       "2. 7\n",
       "\n",
       "\n"
      ],
      "text/plain": [
       "[1] 257664      7"
      ]
     },
     "metadata": {},
     "output_type": "display_data"
    },
    {
     "data": {
      "text/html": [
       "21839"
      ],
      "text/latex": [
       "21839"
      ],
      "text/markdown": [
       "21839"
      ],
      "text/plain": [
       "[1] 21839"
      ]
     },
     "metadata": {},
     "output_type": "display_data"
    }
   ],
   "source": [
    "int_cells <- Reduce(intersect, list(CZI.PBMC.Comb.SCR.SNG$BARCODE, CZI.PBMC.Comb.DF.SNG$BARCODE, \n",
    "                                    CZI.PBMC.Comb.DD.SNG$BARCODE,CZI.PBMC.Comb.GMM.NDBL$BARCODE ))\n",
    "length(int_cells)\n",
    "\n",
    "dim(CZI.PBMC.Comb.Ground.Truth)\n",
    "dim(CZI.PBMC.Comb.GMM.DBL)[1]"
   ]
  },
  {
   "cell_type": "code",
   "execution_count": 138,
   "metadata": {},
   "outputs": [
    {
     "data": {
      "text/html": [
       "0.629463176850472"
      ],
      "text/latex": [
       "0.629463176850472"
      ],
      "text/markdown": [
       "0.629463176850472"
      ],
      "text/plain": [
       "[1] 0.6294632"
      ]
     },
     "metadata": {},
     "output_type": "display_data"
    }
   ],
   "source": [
    "sum(CZI.PBMC.Comb.Ground.Truth$MSD_LABEL==CZI.PBMC.Comb.Ground.Truth$GMM_LABEL)/length(CZI.PBMC.Comb.Ground.Truth$HTOD_LABEL)"
   ]
  },
  {
   "cell_type": "code",
   "execution_count": 130,
   "metadata": {},
   "outputs": [
    {
     "data": {
      "text/html": [
       "<dl class=dl-horizontal>\n",
       "\t<dt>Doublet</dt>\n",
       "\t\t<dd>27.4504781420765</dd>\n",
       "\t<dt>Negative</dt>\n",
       "\t\t<dd>4.47792473919523</dd>\n",
       "\t<dt>Singlet</dt>\n",
       "\t\t<dd>68.0715971187283</dd>\n",
       "</dl>\n"
      ],
      "text/latex": [
       "\\begin{description*}\n",
       "\\item[Doublet] 27.4504781420765\n",
       "\\item[Negative] 4.47792473919523\n",
       "\\item[Singlet] 68.0715971187283\n",
       "\\end{description*}\n"
      ],
      "text/markdown": [
       "Doublet\n",
       ":   27.4504781420765Negative\n",
       ":   4.47792473919523Singlet\n",
       ":   68.0715971187283\n",
       "\n"
      ],
      "text/plain": [
       "  Doublet  Negative   Singlet \n",
       "27.450478  4.477925 68.071597 "
      ]
     },
     "metadata": {},
     "output_type": "display_data"
    }
   ],
   "source": [
    "100*summary(CZI.PBMC.Comb.Ground.Truth$GMM_LABEL)/length(CZI.PBMC.Comb.Ground.Truth$HTOD_LABEL)"
   ]
  },
  {
   "cell_type": "code",
   "execution_count": 184,
   "metadata": {},
   "outputs": [
    {
     "data": {
      "text/html": [
       "11538"
      ],
      "text/latex": [
       "11538"
      ],
      "text/markdown": [
       "11538"
      ],
      "text/plain": [
       "[1] 11538"
      ]
     },
     "metadata": {},
     "output_type": "display_data"
    },
    {
     "data": {
      "text/html": [
       "72679"
      ],
      "text/latex": [
       "72679"
      ],
      "text/markdown": [
       "72679"
      ],
      "text/plain": [
       "[1] 72679"
      ]
     },
     "metadata": {},
     "output_type": "display_data"
    },
    {
     "data": {
      "text/html": [
       "186934"
      ],
      "text/latex": [
       "186934"
      ],
      "text/markdown": [
       "186934"
      ],
      "text/plain": [
       "[1] 186934"
      ]
     },
     "metadata": {},
     "output_type": "display_data"
    }
   ],
   "source": [
    "int_cells <- Reduce(intersect, list(CZI.PBMC.Comb.GMM.NGV$BARCODE,CZI.PBMC.Comb.HTOD.NGV$BARCODE,\n",
    "                                    CZI.PBMC.Comb.MSD.NGV$BARCODE))\n",
    "length(int_cells)\n",
    "\n",
    "dim(CZI.PBMC.Comb.Ground.Truth)[1]-184985\n",
    "dim(CZI.PBMC.Comb.GMM.NDBL)[1]"
   ]
  },
  {
   "cell_type": "code",
   "execution_count": 170,
   "metadata": {},
   "outputs": [
    {
     "data": {
      "text/html": [
       "213930"
      ],
      "text/latex": [
       "213930"
      ],
      "text/markdown": [
       "213930"
      ],
      "text/plain": [
       "[1] 213930"
      ]
     },
     "metadata": {},
     "output_type": "display_data"
    }
   ],
   "source": [
    "4201+5227+37226+29106+13937+0+124233"
   ]
  },
  {
   "cell_type": "code",
   "execution_count": null,
   "metadata": {
    "collapsed": true
   },
   "outputs": [],
   "source": []
  }
 ],
 "metadata": {
  "kernelspec": {
   "display_name": "R",
   "language": "R",
   "name": "ir"
  },
  "language_info": {
   "codemirror_mode": "r",
   "file_extension": ".r",
   "mimetype": "text/x-r-source",
   "name": "R",
   "pygments_lexer": "r",
   "version": "3.4.1"
  }
 },
 "nbformat": 4,
 "nbformat_minor": 2
}
