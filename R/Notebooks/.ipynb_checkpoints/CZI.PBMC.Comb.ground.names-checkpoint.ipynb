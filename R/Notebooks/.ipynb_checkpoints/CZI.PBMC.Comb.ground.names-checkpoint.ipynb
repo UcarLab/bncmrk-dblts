{
 "cells": [
  {
   "cell_type": "code",
   "execution_count": 1,
   "metadata": {},
   "outputs": [
    {
     "name": "stderr",
     "output_type": "stream",
     "text": [
      "\n",
      "Attaching package: 'dplyr'\n",
      "\n",
      "The following objects are masked from 'package:stats':\n",
      "\n",
      "    filter, lag\n",
      "\n",
      "The following objects are masked from 'package:base':\n",
      "\n",
      "    intersect, setdiff, setequal, union\n",
      "\n",
      "\n",
      "Attaching package: 'cowplot'\n",
      "\n",
      "The following object is masked from 'package:ggplot2':\n",
      "\n",
      "    ggsave\n",
      "\n",
      "Loading required package: aoos\n",
      "\n",
      "Attaching package: 'dat'\n",
      "\n",
      "The following object is masked from 'package:base':\n",
      "\n",
      "    replace\n",
      "\n",
      "Loading tidyverse: tibble\n",
      "Loading tidyverse: tidyr\n",
      "Loading tidyverse: readr\n",
      "Loading tidyverse: purrr\n",
      "Conflicts with tidy packages ---------------------------------------------------\n",
      "expand():  tidyr, Matrix\n",
      "extract(): tidyr, dat\n",
      "filter():  dplyr, stats\n",
      "ggsave():  ggplot2, cowplot\n",
      "lag():     dplyr, stats\n",
      "map():     purrr, dat\n",
      "Loading required package: grid\n",
      "Loading required package: futile.logger\n",
      "------------------------------------------------------------------------------\n",
      "You have loaded plyr after dplyr - this is likely to cause problems.\n",
      "If you need functions from both plyr and dplyr, please load plyr first, then dplyr:\n",
      "library(plyr); library(dplyr)\n",
      "------------------------------------------------------------------------------\n",
      "\n",
      "Attaching package: 'plyr'\n",
      "\n",
      "The following object is masked from 'package:purrr':\n",
      "\n",
      "    compact\n",
      "\n",
      "The following objects are masked from 'package:dplyr':\n",
      "\n",
      "    arrange, count, desc, failwith, id, mutate, rename, summarise,\n",
      "    summarize\n",
      "\n"
     ]
    }
   ],
   "source": [
    "#rm(list = ls())\n",
    "set.seed(100)\n",
    "library(Rtsne)\n",
    "library(RColorBrewer)\n",
    "library(pheatmap)\n",
    "library(dplyr)\n",
    "library(ggplot2)\n",
    "library(cowplot)\n",
    "library(Seurat)\n",
    "library(Matrix)\n",
    "library(dat)\n",
    "library(tidyverse)\n",
    "library(VennDiagram)\n",
    "library(plyr)"
   ]
  },
  {
   "cell_type": "code",
   "execution_count": 2,
   "metadata": {
    "collapsed": true
   },
   "outputs": [],
   "source": [
    "CZI.PBMC.HTO.HTODemux.labels=read.csv(\"/projects/ucar-lab/danaco/bncmrk-dblts/GroundTruths/CZI.PBMC/CZI.PBMC.HTO.sample.classifications.HTODemux.csv\")\n",
    "CZI.PBMC.HTO.MULTIseqDemux.labels=read.csv(\"/projects/ucar-lab/danaco/bncmrk-dblts/GroundTruths/CZI.PBMC/CZI.PBMC.HTO.sample.classifications.MULTIseqDemux.csv\")\n",
    "CZI.PBMC.HTO.GMM.labels=read.csv(\"/projects/ucar-lab/danaco/bncmrk-dblts/GroundTruths/CZI.PBMC/CZI.PBMC.HTO.sample.classifications.GMM.csv\")[,2:3]\n",
    "\n",
    "for(i in 1:10){\n",
    "    name=paste(\"CZI.PBMC\",i,\"HTO\",sep=\".\")\n",
    "    if (i<10){\n",
    "    assign(paste(name,\"HTODemux.labels\",sep=\".\"),CZI.PBMC.HTO.HTODemux.labels[substr(CZI.PBMC.HTO.HTODemux.labels$X,1,2)==paste(i,\"-\",sep=\"\"),])\n",
    "    assign(paste(name,\"MULTIseqDemux.labels\",sep=\".\"),CZI.PBMC.HTO.MULTIseqDemux.labels[substr(CZI.PBMC.HTO.MULTIseqDemux.labels$X,1,2)==paste(i,\"-\",sep=\"\"),])\n",
    "    assign(paste(name,\"GMM.labels\",sep=\".\"),CZI.PBMC.HTO.GMM.labels[substr(CZI.PBMC.HTO.GMM.labels$Cell_Barcode,1,2)==paste(i,\"-\",sep=\"\"),])\n",
    "    }else {\n",
    "    assign(paste(name,\"HTODemux.labels\",sep=\".\"),CZI.PBMC.HTO.HTODemux.labels[substr(CZI.PBMC.HTO.HTODemux.labels$X,1,2)==as.character(i),])\n",
    "    assign(paste(name,\"MULTIseqDemux.labels\",sep=\".\"),CZI.PBMC.HTO.MULTIseqDemux.labels[substr(CZI.PBMC.HTO.MULTIseqDemux.labels$X,1,2)==as.character(i),])\n",
    "    assign(paste(name,\"GMM.labels\",sep=\".\"),CZI.PBMC.HTO.GMM.labels[substr(CZI.PBMC.HTO.GMM.labels$Cell_Barcode,1,2)==as.character(i),])\n",
    "    }\n",
    "}\n",
    "\n",
    "#comb.counts=readRDS(\"/projects/ucar-lab/danaco/Ground/comb.counts.RDS\")\n",
    "#groundTruth=read.csv(\"groundTruth.csv\")[,2:3]\n",
    "#groundTruth$BARCODE=as.character(groundTruth$BARCODE)\n",
    "#groundTruth$S_type=as.character(groundTruth$S_type)\n",
    "#gr_ids=which(as.character(groundTruth$BARCODE) %in% colnames(comb.counts))\n",
    "#Scrublet_2.5_dbl_scores=Scrublet_2.5_dbl_scores[gr_ids]\n",
    "#DemuxletDefault=read.csv(\"DemuxletDefaultLabels.csv\")[,2:3]\n",
    "#DemuxletDefault$DefDemux_labels=as.character(DemuxletDefault$DROPLET.TYPE)\n",
    "#DemuxletDefault$DROPLET.TYPE=NULL\n",
    "#DemuxletDefault %>% dplyr::rename(DefDemux_labels = DROPLET.TYPE)\n",
    "#DemuxletModified=read.csv(\"DemuxletModifiedLabels.csv\")[,2:3]\n",
    "#DemuxletModified$ModDemux_labels=as.character(DemuxletModified$DROPLET.TYPE)\n",
    "#DemuxletModified$DROPLET.TYPE=NULL\n",
    "#DemuxletDefault %>% dplyr::rename(ModDemux_labels = DROPLET.TYPE)"
   ]
  },
  {
   "cell_type": "code",
   "execution_count": 28,
   "metadata": {
    "collapsed": true
   },
   "outputs": [],
   "source": [
    "CZI.PBMC.1.DF_dbl_labels=read.csv(\"/projects/ucar-lab/danaco/bncmrk-dblts/DF/output/CZI.PBMC/CZI.PBMC.1.DF.output.barcodes.labels.csv\")[,2:3]\n",
    "colnames(CZI.PBMC.1.DF_dbl_labels)[1]=\"DF_BARCODE\"\n",
    "colnames(CZI.PBMC.1.DF_dbl_labels)[2]=\"DF_LABEL\"\n",
    "\n",
    "CZI.PBMC.1.Scrublet_dbl_scores=read.csv(\"/projects/ucar-lab/danaco/bncmrk-dblts/Scrublet/output/CZI.PBMC/CZI.PBMC.1.Scr.doublet.scores.0.1exp_rate.csv\")$X0\n",
    "CZI.PBMC.1.Scrublet_dbl_labels=CZI.PBMC.1.Scrublet_dbl_scores\n",
    "CZI.PBMC.1.Scrublet_dbl_labels[CZI.PBMC.1.Scrublet_dbl_scores>0.25]=\"Doublet\"\n",
    "CZI.PBMC.1.Scrublet_dbl_labels[CZI.PBMC.1.Scrublet_dbl_scores<=0.25]=\"Singlet\"\n",
    "CZI.PBMC.1.Scrublet_dbl_labels=data.frame(SCR_BARCODE=CZI.PBMC.1.DF_dbl_labels$DF_BARCODE, SCR_LABEL=CZI.PBMC.1.Scrublet_dbl_labels)\n",
    "\n",
    "CZI.PBMC.1.DoubDec_dbl_labels=read.table(\"/projects/ucar-lab/danaco/bncmrk-dblts/DoubletDecon/output/CZI.PBMC/DRS_doublet_table_CZI.PBMC.1.txt\", sep=\"\\t\",header=T, row.names=1)\n",
    "rownames(CZI.PBMC.1.DoubDec_dbl_labels)=gsub(x=rownames(CZI.PBMC.1.DoubDec_dbl_labels),pattern=\"\\\\.\",replacement=\"\\\\-\")\n",
    "X <- vector(mode=\"character\", length=length(rownames(CZI.PBMC.1.DoubDec_dbl_labels)))\n",
    "X[CZI.PBMC.1.DoubDec_dbl_labels$isADoublet==TRUE]=\"Doublet\"\n",
    "X[CZI.PBMC.1.DoubDec_dbl_labels$isADoublet==FALSE]=\"Singlet\"\n",
    "CZI.PBMC.1.DoubDec_dbl_labels=data.frame(DD_BARCODE=rownames(CZI.PBMC.1.DoubDec_dbl_labels),DD_LABEL=X)\n",
    "\n",
    "CZI.PBMC.1.Ground.Truth=data.frame(BARCODE=CZI.PBMC.1.DF_dbl_labels$DF_BARCODE, DF_LABEL=CZI.PBMC.1.DF_dbl_labels$DF_LABEL)\n",
    "CZI.PBMC.1.Ground.Truth=merge(CZI.PBMC.1.Ground.Truth,CZI.PBMC.1.Scrublet_dbl_labels,by.x=\"BARCODE\",by.y=\"SCR_BARCODE\")\n",
    "CZI.PBMC.1.Ground.Truth=merge(CZI.PBMC.1.Ground.Truth,CZI.PBMC.1.DoubDec_dbl_labels,by.x=\"BARCODE\",by.y=\"DD_BARCODE\")\n",
    "CZI.PBMC.1.Ground.Truth=merge(CZI.PBMC.1.Ground.Truth,CZI.PBMC.1.HTO.HTODemux.labels,by.x=\"BARCODE\",by.y=\"X\")\n",
    "colnames(CZI.PBMC.1.Ground.Truth)[length(colnames(CZI.PBMC.1.Ground.Truth))]=\"HTOD_LABEL\"\n",
    "CZI.PBMC.1.Ground.Truth=merge(CZI.PBMC.1.Ground.Truth,CZI.PBMC.1.HTO.MULTIseqDemux.labels,by.x=\"BARCODE\",by.y=\"X\")\n",
    "colnames(CZI.PBMC.1.Ground.Truth)[length(colnames(CZI.PBMC.1.Ground.Truth))]=\"MSD_LABEL\"\n",
    "CZI.PBMC.1.Ground.Truth=merge(CZI.PBMC.1.Ground.Truth,CZI.PBMC.1.HTO.GMM.labels,by.x=\"BARCODE\",by.y=\"Cell_Barcode\")\n",
    "colnames(CZI.PBMC.1.Ground.Truth)[length(colnames(CZI.PBMC.1.Ground.Truth))]=\"GMM_LABEL\"\n",
    "\n",
    "CZI.PBMC.1.SCR.SNG=subset(CZI.PBMC.1.Ground.Truth,SCR_LABEL==\"Singlet\")\n",
    "CZI.PBMC.1.SCR.DBL=subset(CZI.PBMC.1.Ground.Truth,SCR_LABEL==\"Doublet\")\n",
    "CZI.PBMC.1.DF.SNG=subset(CZI.PBMC.1.Ground.Truth,DF_LABEL==\"Singlet\")\n",
    "CZI.PBMC.1.DF.DBL=subset(CZI.PBMC.1.Ground.Truth,DF_LABEL==\"Doublet\")\n",
    "CZI.PBMC.1.DD.SNG=subset(CZI.PBMC.1.Ground.Truth,DD_LABEL==\"Singlet\")\n",
    "CZI.PBMC.1.DD.DBL=subset(CZI.PBMC.1.Ground.Truth,DD_LABEL==\"Doublet\")\n",
    "CZI.PBMC.1.HTOD.NDBL=subset(CZI.PBMC.1.Ground.Truth,HTOD_LABEL!=\"Doublet\")\n",
    "CZI.PBMC.1.HTOD.DBL=subset(CZI.PBMC.1.Ground.Truth,HTOD_LABEL==\"Doublet\")\n",
    "CZI.PBMC.1.MSD.NDBL=subset(CZI.PBMC.1.Ground.Truth,MSD_LABEL!=\"Doublet\")\n",
    "CZI.PBMC.1.MSD.DBL=subset(CZI.PBMC.1.Ground.Truth,MSD_LABEL==\"Doublet\")\n",
    "CZI.PBMC.1.GMM.NDBL=subset(CZI.PBMC.1.Ground.Truth,GMM_LABEL!=\"Doublet\")\n",
    "CZI.PBMC.1.GMM.DBL=subset(CZI.PBMC.1.Ground.Truth,GMM_LABEL==\"Doublet\")\n",
    "\n",
    "\n",
    "#gr.DBL=subset(groundTruth,S_type==\"DBL\")\n",
    "\n",
    "#Scrublet_2.5_dbl_scores=read.csv(\"doublet_scores_2.5.csv\")$X0\n",
    "#scr_2.5=data.frame(BARCODE=colnames(comb.counts),scr_2.5_scores=Scrublet_2.5_dbl_scores)\n",
    "#groundTruth=merge(groundTruth,scr_2.5,by.x=\"BARCODE\",by.y=\"BARCODE\")\n",
    "#groundTruth=merge(groundTruth,DemuxletDefault,by.x=\"BARCODE\",by.y=\"BARCODE\")\n",
    "#groundTruth=merge(groundTruth,DemuxletModified,by.x=\"BARCODE\",by.y=\"BARCODE\")\n",
    "#groundTruth=merge(groundTruth,df,by.x=\"BARCODE\",by.y=\"BARCODE\")"
   ]
  },
  {
   "cell_type": "code",
   "execution_count": 19,
   "metadata": {
    "collapsed": true
   },
   "outputs": [],
   "source": [
    "CZI.PBMC.2.DF_dbl_labels=read.csv(\"/projects/ucar-lab/danaco/bncmrk-dblts/DF/output/CZI.PBMC/CZI.PBMC.2.DF.output.barcodes.labels.csv\")[,2:3]\n",
    "colnames(CZI.PBMC.2.DF_dbl_labels)[1]=\"DF_BARCODE\"\n",
    "colnames(CZI.PBMC.2.DF_dbl_labels)[2]=\"DF_LABEL\"\n",
    "\n",
    "CZI.PBMC.2.Scrublet_dbl_scores=read.csv(\"/projects/ucar-lab/danaco/bncmrk-dblts/Scrublet/output/CZI.PBMC/CZI.PBMC.2.Scr.doublet.scores.0.1exp_rate.csv\")$X0\n",
    "CZI.PBMC.2.Scrublet_dbl_labels=CZI.PBMC.2.Scrublet_dbl_scores\n",
    "CZI.PBMC.2.Scrublet_dbl_labels[CZI.PBMC.2.Scrublet_dbl_scores>0.25]=\"Doublet\"\n",
    "CZI.PBMC.2.Scrublet_dbl_labels[CZI.PBMC.2.Scrublet_dbl_scores<=0.25]=\"Singlet\"\n",
    "CZI.PBMC.2.Scrublet_dbl_labels=data.frame(SCR_BARCODE=CZI.PBMC.2.DF_dbl_labels$DF_BARCODE, SCR_LABEL=CZI.PBMC.2.Scrublet_dbl_labels)\n",
    "\n",
    "CZI.PBMC.2.DoubDec_dbl_labels=read.table(\"/projects/ucar-lab/danaco/bncmrk-dblts/DoubletDecon/output/CZI.PBMC/DRS_doublet_table_CZI.PBMC.2.txt\", sep=\"\\t\",header=T, row.names=1)\n",
    "rownames(CZI.PBMC.2.DoubDec_dbl_labels)=gsub(x=rownames(CZI.PBMC.2.DoubDec_dbl_labels),pattern=\"\\\\.\",replacement=\"\\\\-\")\n",
    "X <- vector(mode=\"character\", length=length(rownames(CZI.PBMC.2.DoubDec_dbl_labels)))\n",
    "X[CZI.PBMC.2.DoubDec_dbl_labels$isADoublet==TRUE]=\"Doublet\"\n",
    "X[CZI.PBMC.2.DoubDec_dbl_labels$isADoublet==FALSE]=\"Singlet\"\n",
    "CZI.PBMC.2.DoubDec_dbl_labels=data.frame(DD_BARCODE=rownames(CZI.PBMC.2.DoubDec_dbl_labels),DD_LABEL=X)\n",
    "\n",
    "CZI.PBMC.2.Ground.Truth=data.frame(BARCODE=CZI.PBMC.2.DF_dbl_labels$DF_BARCODE, DF_LABEL=CZI.PBMC.2.DF_dbl_labels$DF_LABEL)\n",
    "CZI.PBMC.2.Ground.Truth=merge(CZI.PBMC.2.Ground.Truth,CZI.PBMC.2.Scrublet_dbl_labels,by.x=\"BARCODE\",by.y=\"SCR_BARCODE\")\n",
    "CZI.PBMC.2.Ground.Truth=merge(CZI.PBMC.2.Ground.Truth,CZI.PBMC.2.DoubDec_dbl_labels,by.x=\"BARCODE\",by.y=\"DD_BARCODE\")\n",
    "\n",
    "CZI.PBMC.2.Ground.Truth=merge(CZI.PBMC.2.Ground.Truth,CZI.PBMC.2.HTO.HTODemux.labels,by.x=\"BARCODE\",by.y=\"X\")\n",
    "colnames(CZI.PBMC.2.Ground.Truth)[length(colnames(CZI.PBMC.2.Ground.Truth))]=\"HTOD_LABEL\"\n",
    "CZI.PBMC.2.Ground.Truth=merge(CZI.PBMC.2.Ground.Truth,CZI.PBMC.2.HTO.MULTIseqDemux.labels,by.x=\"BARCODE\",by.y=\"X\")\n",
    "colnames(CZI.PBMC.2.Ground.Truth)[length(colnames(CZI.PBMC.2.Ground.Truth))]=\"MSD_LABEL\"\n",
    "CZI.PBMC.2.Ground.Truth=merge(CZI.PBMC.2.Ground.Truth,CZI.PBMC.2.HTO.GMM.labels,by.x=\"BARCODE\",by.y=\"Cell_Barcode\")\n",
    "colnames(CZI.PBMC.2.Ground.Truth)[length(colnames(CZI.PBMC.2.Ground.Truth))]=\"GMM_LABEL\"\n",
    "\n",
    "CZI.PBMC.2.SCR.SNG=subset(CZI.PBMC.2.Ground.Truth,SCR_LABEL==\"Singlet\")\n",
    "CZI.PBMC.2.SCR.DBL=subset(CZI.PBMC.2.Ground.Truth,SCR_LABEL==\"Doublet\")\n",
    "CZI.PBMC.2.DF.SNG=subset(CZI.PBMC.2.Ground.Truth,DF_LABEL==\"Singlet\")\n",
    "CZI.PBMC.2.DF.DBL=subset(CZI.PBMC.2.Ground.Truth,DF_LABEL==\"Doublet\")\n",
    "CZI.PBMC.2.DD.SNG=subset(CZI.PBMC.2.Ground.Truth,DD_LABEL==\"Singlet\")\n",
    "CZI.PBMC.2.DD.DBL=subset(CZI.PBMC.2.Ground.Truth,DD_LABEL==\"Doublet\")\n",
    "CZI.PBMC.2.HTOD.NDBL=subset(CZI.PBMC.2.Ground.Truth,HTOD_LABEL!=\"Doublet\")\n",
    "CZI.PBMC.2.HTOD.DBL=subset(CZI.PBMC.2.Ground.Truth,HTOD_LABEL==\"Doublet\")\n",
    "CZI.PBMC.2.MSD.NDBL=subset(CZI.PBMC.2.Ground.Truth,MSD_LABEL!=\"Doublet\")\n",
    "CZI.PBMC.2.MSD.DBL=subset(CZI.PBMC.2.Ground.Truth,MSD_LABEL==\"Doublet\")\n",
    "CZI.PBMC.2.GMM.NDBL=subset(CZI.PBMC.2.Ground.Truth,GMM_LABEL!=\"Doublet\")\n",
    "CZI.PBMC.2.GMM.DBL=subset(CZI.PBMC.2.Ground.Truth,GMM_LABEL==\"Doublet\")\n",
    "\n",
    "\n",
    "#gr.DBL=subset(groundTruth,S_type==\"DBL\")\n",
    "\n",
    "#Scrublet_2.5_dbl_scores=read.csv(\"doublet_scores_2.5.csv\")$X0\n",
    "#scr_2.5=data.frame(BARCODE=colnames(comb.counts),scr_2.5_scores=Scrublet_2.5_dbl_scores)\n",
    "#groundTruth=merge(groundTruth,scr_2.5,by.x=\"BARCODE\",by.y=\"BARCODE\")\n",
    "#groundTruth=merge(groundTruth,DemuxletDefault,by.x=\"BARCODE\",by.y=\"BARCODE\")\n",
    "#groundTruth=merge(groundTruth,DemuxletModified,by.x=\"BARCODE\",by.y=\"BARCODE\")\n",
    "#groundTruth=merge(groundTruth,df,by.x=\"BARCODE\",by.y=\"BARCODE\")\n",
    "\n",
    "#int_cells <- Reduce(intersect, list(CZI.PBMC.1.SCR.DBL$BARCODE, CZI.PBMC.1.DF.DBL$BARCODE, \n",
    "                                    #CZI.PBMC.1.DD.DBL$BARCODE,CZI.PBMC.1.HTOD.DBL$BARCODE ))\n",
    "\n",
    "#int_cells <- Reduce(intersect, list(CZI.PBMC.6.SCR.DBL$BARCODE, CZI.PBMC.6.DF.DBL$BARCODE, \n",
    "#                                    CZI.PBMC.6.HTOD.DBL$BARCODE ))\n",
    "\n",
    "#length(int_cells)\n",
    "\n",
    "#dim(CZI.PBMC.1.Ground.Truth)\n",
    "#groundTruth$scr_2.5_labels=groundTruth$scr_2.5_scores\n",
    "#groundTruth$scr_2.5_labels[groundTruth$scr_2.5_scores>0.25]=\"DBL\"\n",
    "#groundTruth$scr_2.5_labels[groundTruth$scr_2.5_scores<=0.25]=\"SNG\""
   ]
  },
  {
   "cell_type": "code",
   "execution_count": 20,
   "metadata": {
    "collapsed": true
   },
   "outputs": [],
   "source": [
    "CZI.PBMC.3.DF_dbl_labels=read.csv(\"/projects/ucar-lab/danaco/bncmrk-dblts/DF/output/CZI.PBMC/CZI.PBMC.3.DF.output.barcodes.labels.csv\")[,2:3]\n",
    "colnames(CZI.PBMC.3.DF_dbl_labels)[1]=\"DF_BARCODE\"\n",
    "colnames(CZI.PBMC.3.DF_dbl_labels)[2]=\"DF_LABEL\"\n",
    "\n",
    "CZI.PBMC.3.Scrublet_dbl_scores=read.csv(\"/projects/ucar-lab/danaco/bncmrk-dblts/Scrublet/output/CZI.PBMC/CZI.PBMC.3.Scr.doublet.scores.0.1exp_rate.csv\")$X0\n",
    "CZI.PBMC.3.Scrublet_dbl_labels=CZI.PBMC.3.Scrublet_dbl_scores\n",
    "CZI.PBMC.3.Scrublet_dbl_labels[CZI.PBMC.3.Scrublet_dbl_scores>0.25]=\"Doublet\"\n",
    "CZI.PBMC.3.Scrublet_dbl_labels[CZI.PBMC.3.Scrublet_dbl_scores<=0.25]=\"Singlet\"\n",
    "CZI.PBMC.3.Scrublet_dbl_labels=data.frame(SCR_BARCODE=CZI.PBMC.3.DF_dbl_labels$DF_BARCODE, SCR_LABEL=CZI.PBMC.3.Scrublet_dbl_labels)\n",
    "\n",
    "CZI.PBMC.3.DoubDec_dbl_labels=read.table(\"/projects/ucar-lab/danaco/bncmrk-dblts/DoubletDecon/output/CZI.PBMC/DRS_doublet_table_CZI.PBMC.3.txt\", sep=\"\\t\",header=T, row.names=1)\n",
    "rownames(CZI.PBMC.3.DoubDec_dbl_labels)=gsub(x=rownames(CZI.PBMC.3.DoubDec_dbl_labels),pattern=\"\\\\.\",replacement=\"\\\\-\")\n",
    "X <- vector(mode=\"character\", length=length(rownames(CZI.PBMC.3.DoubDec_dbl_labels)))\n",
    "X[CZI.PBMC.3.DoubDec_dbl_labels$isADoublet==TRUE]=\"Doublet\"\n",
    "X[CZI.PBMC.3.DoubDec_dbl_labels$isADoublet==FALSE]=\"Singlet\"\n",
    "CZI.PBMC.3.DoubDec_dbl_labels=data.frame(DD_BARCODE=rownames(CZI.PBMC.3.DoubDec_dbl_labels),DD_LABEL=X)\n",
    "\n",
    "CZI.PBMC.3.Ground.Truth=data.frame(BARCODE=CZI.PBMC.3.DF_dbl_labels$DF_BARCODE, DF_LABEL=CZI.PBMC.3.DF_dbl_labels$DF_LABEL)\n",
    "CZI.PBMC.3.Ground.Truth=merge(CZI.PBMC.3.Ground.Truth,CZI.PBMC.3.Scrublet_dbl_labels,by.x=\"BARCODE\",by.y=\"SCR_BARCODE\")\n",
    "CZI.PBMC.3.Ground.Truth=merge(CZI.PBMC.3.Ground.Truth,CZI.PBMC.3.DoubDec_dbl_labels,by.x=\"BARCODE\",by.y=\"DD_BARCODE\")\n",
    "\n",
    "CZI.PBMC.3.Ground.Truth=merge(CZI.PBMC.3.Ground.Truth,CZI.PBMC.3.HTO.HTODemux.labels,by.x=\"BARCODE\",by.y=\"X\")\n",
    "colnames(CZI.PBMC.3.Ground.Truth)[length(colnames(CZI.PBMC.3.Ground.Truth))]=\"HTOD_LABEL\"\n",
    "CZI.PBMC.3.Ground.Truth=merge(CZI.PBMC.3.Ground.Truth,CZI.PBMC.3.HTO.MULTIseqDemux.labels,by.x=\"BARCODE\",by.y=\"X\")\n",
    "colnames(CZI.PBMC.3.Ground.Truth)[length(colnames(CZI.PBMC.3.Ground.Truth))]=\"MSD_LABEL\"\n",
    "CZI.PBMC.3.Ground.Truth=merge(CZI.PBMC.3.Ground.Truth,CZI.PBMC.3.HTO.GMM.labels,by.x=\"BARCODE\",by.y=\"Cell_Barcode\")\n",
    "colnames(CZI.PBMC.3.Ground.Truth)[length(colnames(CZI.PBMC.3.Ground.Truth))]=\"GMM_LABEL\"\n",
    "\n",
    "CZI.PBMC.3.SCR.SNG=subset(CZI.PBMC.3.Ground.Truth,SCR_LABEL==\"Singlet\")\n",
    "CZI.PBMC.3.SCR.DBL=subset(CZI.PBMC.3.Ground.Truth,SCR_LABEL==\"Doublet\")\n",
    "CZI.PBMC.3.DF.SNG=subset(CZI.PBMC.3.Ground.Truth,DF_LABEL==\"Singlet\")\n",
    "CZI.PBMC.3.DF.DBL=subset(CZI.PBMC.3.Ground.Truth,DF_LABEL==\"Doublet\")\n",
    "CZI.PBMC.3.DD.SNG=subset(CZI.PBMC.3.Ground.Truth,DD_LABEL==\"Singlet\")\n",
    "CZI.PBMC.3.DD.DBL=subset(CZI.PBMC.3.Ground.Truth,DD_LABEL==\"Doublet\")\n",
    "\n",
    "CZI.PBMC.3.HTOD.NDBL=subset(CZI.PBMC.3.Ground.Truth,HTOD_LABEL!=\"Doublet\")\n",
    "CZI.PBMC.3.HTOD.DBL=subset(CZI.PBMC.3.Ground.Truth,HTOD_LABEL==\"Doublet\")\n",
    "CZI.PBMC.3.MSD.NDBL=subset(CZI.PBMC.3.Ground.Truth,MSD_LABEL!=\"Doublet\")\n",
    "CZI.PBMC.3.MSD.DBL=subset(CZI.PBMC.3.Ground.Truth,MSD_LABEL==\"Doublet\")\n",
    "CZI.PBMC.3.GMM.NDBL=subset(CZI.PBMC.3.Ground.Truth,GMM_LABEL!=\"Doublet\")\n",
    "CZI.PBMC.3.GMM.DBL=subset(CZI.PBMC.3.Ground.Truth,GMM_LABEL==\"Doublet\")\n",
    "\n",
    "\n",
    "#gr.DBL=subset(groundTruth,S_type==\"DBL\")\n",
    "\n",
    "#Scrublet_2.5_dbl_scores=read.csv(\"doublet_scores_2.5.csv\")$X0\n",
    "#scr_2.5=data.frame(BARCODE=colnames(comb.counts),scr_2.5_scores=Scrublet_2.5_dbl_scores)\n",
    "#groundTruth=merge(groundTruth,scr_2.5,by.x=\"BARCODE\",by.y=\"BARCODE\")\n",
    "#groundTruth=merge(groundTruth,DemuxletDefault,by.x=\"BARCODE\",by.y=\"BARCODE\")\n",
    "#groundTruth=merge(groundTruth,DemuxletModified,by.x=\"BARCODE\",by.y=\"BARCODE\")\n",
    "#groundTruth=merge(groundTruth,df,by.x=\"BARCODE\",by.y=\"BARCODE\")\n",
    "\n",
    "#colnames(CZI.PBMC.1.Ground.Truth)\n",
    "\n",
    "#gr.SNG=subset(groundTruth,S_type==\"SNG\")\n",
    "#gr.DBL=subset(groundTruth,S_type==\"DBL\")"
   ]
  },
  {
   "cell_type": "code",
   "execution_count": 21,
   "metadata": {
    "collapsed": true
   },
   "outputs": [],
   "source": [
    "CZI.PBMC.4.DF_dbl_labels=read.csv(\"/projects/ucar-lab/danaco/bncmrk-dblts/DF/output/CZI.PBMC/CZI.PBMC.4.DF.output.barcodes.labels.csv\")[,2:3]\n",
    "colnames(CZI.PBMC.4.DF_dbl_labels)[1]=\"DF_BARCODE\"\n",
    "colnames(CZI.PBMC.4.DF_dbl_labels)[2]=\"DF_LABEL\"\n",
    "\n",
    "CZI.PBMC.4.Scrublet_dbl_scores=read.csv(\"/projects/ucar-lab/danaco/bncmrk-dblts/Scrublet/output/CZI.PBMC/CZI.PBMC.4.Scr.doublet.scores.0.1exp_rate.csv\")$X0\n",
    "CZI.PBMC.4.Scrublet_dbl_labels=CZI.PBMC.4.Scrublet_dbl_scores\n",
    "CZI.PBMC.4.Scrublet_dbl_labels[CZI.PBMC.4.Scrublet_dbl_scores>0.25]=\"Doublet\"\n",
    "CZI.PBMC.4.Scrublet_dbl_labels[CZI.PBMC.4.Scrublet_dbl_scores<=0.25]=\"Singlet\"\n",
    "CZI.PBMC.4.Scrublet_dbl_labels=data.frame(SCR_BARCODE=CZI.PBMC.4.DF_dbl_labels$DF_BARCODE, SCR_LABEL=CZI.PBMC.4.Scrublet_dbl_labels)\n",
    "\n",
    "CZI.PBMC.4.DoubDec_dbl_labels=read.table(\"/projects/ucar-lab/danaco/bncmrk-dblts/DoubletDecon/output/CZI.PBMC/DRS_doublet_table_CZI.PBMC.4.txt\", sep=\"\\t\",header=T, row.names=1)\n",
    "rownames(CZI.PBMC.4.DoubDec_dbl_labels)=gsub(x=rownames(CZI.PBMC.4.DoubDec_dbl_labels),pattern=\"\\\\.\",replacement=\"\\\\-\")\n",
    "X <- vector(mode=\"character\", length=length(rownames(CZI.PBMC.4.DoubDec_dbl_labels)))\n",
    "X[CZI.PBMC.4.DoubDec_dbl_labels$isADoublet==TRUE]=\"Doublet\"\n",
    "X[CZI.PBMC.4.DoubDec_dbl_labels$isADoublet==FALSE]=\"Singlet\"\n",
    "CZI.PBMC.4.DoubDec_dbl_labels=data.frame(DD_BARCODE=rownames(CZI.PBMC.4.DoubDec_dbl_labels),DD_LABEL=X)\n",
    "\n",
    "CZI.PBMC.4.Ground.Truth=data.frame(BARCODE=CZI.PBMC.4.DF_dbl_labels$DF_BARCODE, DF_LABEL=CZI.PBMC.4.DF_dbl_labels$DF_LABEL)\n",
    "CZI.PBMC.4.Ground.Truth=merge(CZI.PBMC.4.Ground.Truth,CZI.PBMC.4.Scrublet_dbl_labels,by.x=\"BARCODE\",by.y=\"SCR_BARCODE\")\n",
    "CZI.PBMC.4.Ground.Truth=merge(CZI.PBMC.4.Ground.Truth,CZI.PBMC.4.DoubDec_dbl_labels,by.x=\"BARCODE\",by.y=\"DD_BARCODE\")\n",
    "CZI.PBMC.4.Ground.Truth=merge(CZI.PBMC.4.Ground.Truth,CZI.PBMC.4.HTO.HTODemux.labels,by.x=\"BARCODE\",by.y=\"X\")\n",
    "colnames(CZI.PBMC.4.Ground.Truth)[length(colnames(CZI.PBMC.4.Ground.Truth))]=\"HTOD_LABEL\"\n",
    "CZI.PBMC.4.Ground.Truth=merge(CZI.PBMC.4.Ground.Truth,CZI.PBMC.4.HTO.MULTIseqDemux.labels,by.x=\"BARCODE\",by.y=\"X\")\n",
    "colnames(CZI.PBMC.4.Ground.Truth)[length(colnames(CZI.PBMC.4.Ground.Truth))]=\"MSD_LABEL\"\n",
    "CZI.PBMC.4.Ground.Truth=merge(CZI.PBMC.4.Ground.Truth,CZI.PBMC.4.HTO.GMM.labels,by.x=\"BARCODE\",by.y=\"Cell_Barcode\")\n",
    "colnames(CZI.PBMC.4.Ground.Truth)[length(colnames(CZI.PBMC.4.Ground.Truth))]=\"GMM_LABEL\"\n",
    "\n",
    "CZI.PBMC.4.SCR.SNG=subset(CZI.PBMC.4.Ground.Truth,SCR_LABEL==\"Singlet\")\n",
    "CZI.PBMC.4.SCR.DBL=subset(CZI.PBMC.4.Ground.Truth,SCR_LABEL==\"Doublet\")\n",
    "CZI.PBMC.4.DF.SNG=subset(CZI.PBMC.4.Ground.Truth,DF_LABEL==\"Singlet\")\n",
    "CZI.PBMC.4.DF.DBL=subset(CZI.PBMC.4.Ground.Truth,DF_LABEL==\"Doublet\")\n",
    "CZI.PBMC.4.DD.SNG=subset(CZI.PBMC.4.Ground.Truth,DD_LABEL==\"Singlet\")\n",
    "CZI.PBMC.4.DD.DBL=subset(CZI.PBMC.4.Ground.Truth,DD_LABEL==\"Doublet\")\n",
    "CZI.PBMC.4.HTOD.NDBL=subset(CZI.PBMC.4.Ground.Truth,HTOD_LABEL!=\"Doublet\")\n",
    "CZI.PBMC.4.HTOD.DBL=subset(CZI.PBMC.4.Ground.Truth,HTOD_LABEL==\"Doublet\")\n",
    "CZI.PBMC.4.MSD.NDBL=subset(CZI.PBMC.4.Ground.Truth,MSD_LABEL!=\"Doublet\")\n",
    "CZI.PBMC.4.MSD.DBL=subset(CZI.PBMC.4.Ground.Truth,MSD_LABEL==\"Doublet\")\n",
    "CZI.PBMC.4.GMM.NDBL=subset(CZI.PBMC.4.Ground.Truth,GMM_LABEL!=\"Doublet\")\n",
    "CZI.PBMC.4.GMM.DBL=subset(CZI.PBMC.4.Ground.Truth,GMM_LABEL==\"Doublet\")\n",
    "\n",
    "\n",
    "#gr.DBL=subset(groundTruth,S_type==\"DBL\")\n",
    "\n",
    "#Scrublet_2.5_dbl_scores=read.csv(\"doublet_scores_2.5.csv\")$X0\n",
    "#scr_2.5=data.frame(BARCODE=colnames(comb.counts),scr_2.5_scores=Scrublet_2.5_dbl_scores)\n",
    "#groundTruth=merge(groundTruth,scr_2.5,by.x=\"BARCODE\",by.y=\"BARCODE\")\n",
    "#groundTruth=merge(groundTruth,DemuxletDefault,by.x=\"BARCODE\",by.y=\"BARCODE\")\n",
    "#groundTruth=merge(groundTruth,DemuxletModified,by.x=\"BARCODE\",by.y=\"BARCODE\")\n",
    "#groundTruth=merge(groundTruth,df,by.x=\"BARCODE\",by.y=\"BARCODE\")\n",
    "\n",
    "#gr_2.5_SNG=subset(groundTruth,scr_2.5_labels==\"SNG\")\n",
    "#gr_2.5_DBL=subset(groundTruth,scr_2.5_labels==\"DBL\")\n",
    "#gr_Dem_SNG=subset(groundTruth,DefDemux_labels==\"SNG\")\n",
    "#gr_Dem_DBL=subset(groundTruth,DefDemux_labels==\"DBL\")\n",
    "#gr_df_SNG=subset(groundTruth,Df_label==\"SNG\")\n",
    "#gr_df_DBL=subset(groundTruth,Df_label==\"DBL\")"
   ]
  },
  {
   "cell_type": "code",
   "execution_count": 22,
   "metadata": {
    "collapsed": true
   },
   "outputs": [],
   "source": [
    "CZI.PBMC.5.DF_dbl_labels=read.csv(\"/projects/ucar-lab/danaco/bncmrk-dblts/DF/output/CZI.PBMC/CZI.PBMC.5.DF.output.barcodes.labels.csv\")[,2:3]\n",
    "colnames(CZI.PBMC.5.DF_dbl_labels)[1]=\"DF_BARCODE\"\n",
    "colnames(CZI.PBMC.5.DF_dbl_labels)[2]=\"DF_LABEL\"\n",
    "\n",
    "CZI.PBMC.5.Scrublet_dbl_scores=read.csv(\"/projects/ucar-lab/danaco/bncmrk-dblts/Scrublet/output/CZI.PBMC/CZI.PBMC.5.Scr.doublet.scores.0.1exp_rate.csv\")$X0\n",
    "CZI.PBMC.5.Scrublet_dbl_labels=CZI.PBMC.5.Scrublet_dbl_scores\n",
    "CZI.PBMC.5.Scrublet_dbl_labels[CZI.PBMC.5.Scrublet_dbl_scores>0.25]=\"Doublet\"\n",
    "CZI.PBMC.5.Scrublet_dbl_labels[CZI.PBMC.5.Scrublet_dbl_scores<=0.25]=\"Singlet\"\n",
    "CZI.PBMC.5.Scrublet_dbl_labels=data.frame(SCR_BARCODE=CZI.PBMC.5.DF_dbl_labels$DF_BARCODE, SCR_LABEL=CZI.PBMC.5.Scrublet_dbl_labels)\n",
    "\n",
    "CZI.PBMC.5.DoubDec_dbl_labels=read.table(\"/projects/ucar-lab/danaco/bncmrk-dblts/DoubletDecon/output/CZI.PBMC/DRS_doublet_table_CZI.PBMC.5.txt\", sep=\"\\t\",header=T, row.names=1)\n",
    "rownames(CZI.PBMC.5.DoubDec_dbl_labels)=gsub(x=rownames(CZI.PBMC.5.DoubDec_dbl_labels),pattern=\"\\\\.\",replacement=\"\\\\-\")\n",
    "X <- vector(mode=\"character\", length=length(rownames(CZI.PBMC.5.DoubDec_dbl_labels)))\n",
    "X[CZI.PBMC.5.DoubDec_dbl_labels$isADoublet==TRUE]=\"Doublet\"\n",
    "X[CZI.PBMC.5.DoubDec_dbl_labels$isADoublet==FALSE]=\"Singlet\"\n",
    "CZI.PBMC.5.DoubDec_dbl_labels=data.frame(DD_BARCODE=rownames(CZI.PBMC.5.DoubDec_dbl_labels),DD_LABEL=X)\n",
    "\n",
    "CZI.PBMC.5.Ground.Truth=data.frame(BARCODE=CZI.PBMC.5.DF_dbl_labels$DF_BARCODE, DF_LABEL=CZI.PBMC.5.DF_dbl_labels$DF_LABEL)\n",
    "CZI.PBMC.5.Ground.Truth=merge(CZI.PBMC.5.Ground.Truth,CZI.PBMC.5.Scrublet_dbl_labels,by.x=\"BARCODE\",by.y=\"SCR_BARCODE\")\n",
    "CZI.PBMC.5.Ground.Truth=merge(CZI.PBMC.5.Ground.Truth,CZI.PBMC.5.DoubDec_dbl_labels,by.x=\"BARCODE\",by.y=\"DD_BARCODE\")\n",
    "CZI.PBMC.5.Ground.Truth=merge(CZI.PBMC.5.Ground.Truth,CZI.PBMC.5.HTO.HTODemux.labels,by.x=\"BARCODE\",by.y=\"X\")\n",
    "colnames(CZI.PBMC.5.Ground.Truth)[length(colnames(CZI.PBMC.5.Ground.Truth))]=\"HTOD_LABEL\"\n",
    "CZI.PBMC.5.Ground.Truth=merge(CZI.PBMC.5.Ground.Truth,CZI.PBMC.5.HTO.MULTIseqDemux.labels,by.x=\"BARCODE\",by.y=\"X\")\n",
    "colnames(CZI.PBMC.5.Ground.Truth)[length(colnames(CZI.PBMC.5.Ground.Truth))]=\"MSD_LABEL\"\n",
    "CZI.PBMC.5.Ground.Truth=merge(CZI.PBMC.5.Ground.Truth,CZI.PBMC.5.HTO.GMM.labels,by.x=\"BARCODE\",by.y=\"Cell_Barcode\")\n",
    "colnames(CZI.PBMC.5.Ground.Truth)[length(colnames(CZI.PBMC.5.Ground.Truth))]=\"GMM_LABEL\"\n",
    "\n",
    "CZI.PBMC.5.SCR.SNG=subset(CZI.PBMC.5.Ground.Truth,SCR_LABEL==\"Singlet\")\n",
    "CZI.PBMC.5.SCR.DBL=subset(CZI.PBMC.5.Ground.Truth,SCR_LABEL==\"Doublet\")\n",
    "CZI.PBMC.5.DF.SNG=subset(CZI.PBMC.5.Ground.Truth,DF_LABEL==\"Singlet\")\n",
    "CZI.PBMC.5.DF.DBL=subset(CZI.PBMC.5.Ground.Truth,DF_LABEL==\"Doublet\")\n",
    "CZI.PBMC.5.DD.SNG=subset(CZI.PBMC.5.Ground.Truth,DD_LABEL==\"Singlet\")\n",
    "CZI.PBMC.5.DD.DBL=subset(CZI.PBMC.5.Ground.Truth,DD_LABEL==\"Doublet\")\n",
    "CZI.PBMC.5.HTOD.NDBL=subset(CZI.PBMC.5.Ground.Truth,HTOD_LABEL!=\"Doublet\")\n",
    "CZI.PBMC.5.HTOD.DBL=subset(CZI.PBMC.5.Ground.Truth,HTOD_LABEL==\"Doublet\")\n",
    "CZI.PBMC.5.MSD.NDBL=subset(CZI.PBMC.5.Ground.Truth,MSD_LABEL!=\"Doublet\")\n",
    "CZI.PBMC.5.MSD.DBL=subset(CZI.PBMC.5.Ground.Truth,MSD_LABEL==\"Doublet\")\n",
    "CZI.PBMC.5.GMM.NDBL=subset(CZI.PBMC.5.Ground.Truth,GMM_LABEL!=\"Doublet\")\n",
    "CZI.PBMC.5.GMM.DBL=subset(CZI.PBMC.5.Ground.Truth,GMM_LABEL==\"Doublet\")\n",
    "\n",
    "\n",
    "#gr.DBL=subset(groundTruth,S_type==\"DBL\")\n",
    "\n",
    "#Scrublet_2.5_dbl_scores=read.csv(\"doublet_scores_2.5.csv\")$X0\n",
    "#scr_2.5=data.frame(BARCODE=colnames(comb.counts),scr_2.5_scores=Scrublet_2.5_dbl_scores)\n",
    "#groundTruth=merge(groundTruth,scr_2.5,by.x=\"BARCODE\",by.y=\"BARCODE\")\n",
    "#groundTruth=merge(groundTruth,DemuxletDefault,by.x=\"BARCODE\",by.y=\"BARCODE\")\n",
    "#groundTruth=merge(groundTruth,DemuxletModified,by.x=\"BARCODE\",by.y=\"BARCODE\")\n",
    "#groundTruth=merge(groundTruth,df,by.x=\"BARCODE\",by.y=\"BARCODE\")\n",
    "\n",
    "#int_cells <- Reduce(intersect, list(gr.DBL$BARCODE, gr_2.5_SNG$BARCODE, gr_Dem_DBL$BARCODE,gr_df_SNG$BARCODE ))\n",
    "#length(int_cells)\n",
    "#sum(gr.SNG$scr_2.5_labels==\"SNG\")/dim(gr.SNG)[1]\n",
    "#sum(as.character(groundTruth$S_type)==as.character(DemuxletModified$DROPLET.TYPE))/length(groundTruth$S_type)"
   ]
  },
  {
   "cell_type": "code",
   "execution_count": 23,
   "metadata": {
    "collapsed": true
   },
   "outputs": [],
   "source": [
    "CZI.PBMC.7.DF_dbl_labels=read.csv(\"/projects/ucar-lab/danaco/bncmrk-dblts/DF/output/CZI.PBMC/CZI.PBMC.7.DF.output.barcodes.labels.csv\")[,2:3]\n",
    "colnames(CZI.PBMC.7.DF_dbl_labels)[1]=\"DF_BARCODE\"\n",
    "colnames(CZI.PBMC.7.DF_dbl_labels)[2]=\"DF_LABEL\"\n",
    "\n",
    "CZI.PBMC.7.Scrublet_dbl_scores=read.csv(\"/projects/ucar-lab/danaco/bncmrk-dblts/Scrublet/output/CZI.PBMC/CZI.PBMC.7.Scr.doublet.scores.0.1exp_rate.csv\")$X0\n",
    "CZI.PBMC.7.Scrublet_dbl_labels=CZI.PBMC.7.Scrublet_dbl_scores\n",
    "CZI.PBMC.7.Scrublet_dbl_labels[CZI.PBMC.7.Scrublet_dbl_scores>0.25]=\"Doublet\"\n",
    "CZI.PBMC.7.Scrublet_dbl_labels[CZI.PBMC.7.Scrublet_dbl_scores<=0.25]=\"Singlet\"\n",
    "CZI.PBMC.7.Scrublet_dbl_labels=data.frame(SCR_BARCODE=CZI.PBMC.7.DF_dbl_labels$DF_BARCODE, SCR_LABEL=CZI.PBMC.7.Scrublet_dbl_labels)\n",
    "\n",
    "CZI.PBMC.7.DoubDec_dbl_labels=read.table(\"/projects/ucar-lab/danaco/bncmrk-dblts/DoubletDecon/output/CZI.PBMC/DRS_doublet_table_CZI.PBMC.7.txt\", sep=\"\\t\",header=T, row.names=1)\n",
    "rownames(CZI.PBMC.7.DoubDec_dbl_labels)=gsub(x=rownames(CZI.PBMC.7.DoubDec_dbl_labels),pattern=\"\\\\.\",replacement=\"\\\\-\")\n",
    "X <- vector(mode=\"character\", length=length(rownames(CZI.PBMC.7.DoubDec_dbl_labels)))\n",
    "X[CZI.PBMC.7.DoubDec_dbl_labels$isADoublet==TRUE]=\"Doublet\"\n",
    "X[CZI.PBMC.7.DoubDec_dbl_labels$isADoublet==FALSE]=\"Singlet\"\n",
    "CZI.PBMC.7.DoubDec_dbl_labels=data.frame(DD_BARCODE=rownames(CZI.PBMC.7.DoubDec_dbl_labels),DD_LABEL=X)\n",
    "\n",
    "CZI.PBMC.7.Ground.Truth=data.frame(BARCODE=CZI.PBMC.7.DF_dbl_labels$DF_BARCODE, DF_LABEL=CZI.PBMC.7.DF_dbl_labels$DF_LABEL)\n",
    "CZI.PBMC.7.Ground.Truth=merge(CZI.PBMC.7.Ground.Truth,CZI.PBMC.7.Scrublet_dbl_labels,by.x=\"BARCODE\",by.y=\"SCR_BARCODE\")\n",
    "CZI.PBMC.7.Ground.Truth=merge(CZI.PBMC.7.Ground.Truth,CZI.PBMC.7.DoubDec_dbl_labels,by.x=\"BARCODE\",by.y=\"DD_BARCODE\")\n",
    "CZI.PBMC.7.Ground.Truth=merge(CZI.PBMC.7.Ground.Truth,CZI.PBMC.7.HTO.HTODemux.labels,by.x=\"BARCODE\",by.y=\"X\")\n",
    "colnames(CZI.PBMC.7.Ground.Truth)[length(colnames(CZI.PBMC.7.Ground.Truth))]=\"HTOD_LABEL\"\n",
    "CZI.PBMC.7.Ground.Truth=merge(CZI.PBMC.7.Ground.Truth,CZI.PBMC.7.HTO.MULTIseqDemux.labels,by.x=\"BARCODE\",by.y=\"X\")\n",
    "colnames(CZI.PBMC.7.Ground.Truth)[length(colnames(CZI.PBMC.7.Ground.Truth))]=\"MSD_LABEL\"\n",
    "CZI.PBMC.7.Ground.Truth=merge(CZI.PBMC.7.Ground.Truth,CZI.PBMC.7.HTO.GMM.labels,by.x=\"BARCODE\",by.y=\"Cell_Barcode\")\n",
    "colnames(CZI.PBMC.7.Ground.Truth)[length(colnames(CZI.PBMC.7.Ground.Truth))]=\"GMM_LABEL\"\n",
    "\n",
    "CZI.PBMC.7.SCR.SNG=subset(CZI.PBMC.7.Ground.Truth,SCR_LABEL==\"Singlet\")\n",
    "CZI.PBMC.7.SCR.DBL=subset(CZI.PBMC.7.Ground.Truth,SCR_LABEL==\"Doublet\")\n",
    "CZI.PBMC.7.DF.SNG=subset(CZI.PBMC.7.Ground.Truth,DF_LABEL==\"Singlet\")\n",
    "CZI.PBMC.7.DF.DBL=subset(CZI.PBMC.7.Ground.Truth,DF_LABEL==\"Doublet\")\n",
    "CZI.PBMC.7.DD.SNG=subset(CZI.PBMC.7.Ground.Truth,DD_LABEL==\"Singlet\")\n",
    "CZI.PBMC.7.DD.DBL=subset(CZI.PBMC.7.Ground.Truth,DD_LABEL==\"Doublet\")\n",
    "CZI.PBMC.7.HTOD.NDBL=subset(CZI.PBMC.7.Ground.Truth,HTOD_LABEL!=\"Doublet\")\n",
    "CZI.PBMC.7.HTOD.DBL=subset(CZI.PBMC.7.Ground.Truth,HTOD_LABEL==\"Doublet\")\n",
    "CZI.PBMC.7.MSD.NDBL=subset(CZI.PBMC.7.Ground.Truth,MSD_LABEL!=\"Doublet\")\n",
    "CZI.PBMC.7.MSD.DBL=subset(CZI.PBMC.7.Ground.Truth,MSD_LABEL==\"Doublet\")\n",
    "CZI.PBMC.7.GMM.NDBL=subset(CZI.PBMC.7.Ground.Truth,GMM_LABEL!=\"Doublet\")\n",
    "CZI.PBMC.7.GMM.DBL=subset(CZI.PBMC.7.Ground.Truth,GMM_LABEL==\"Doublet\")\n",
    "\n",
    "\n",
    "#gr.DBL=subset(groundTruth,S_type==\"DBL\")\n",
    "\n",
    "#Scrublet_2.5_dbl_scores=read.csv(\"doublet_scores_2.7.csv\")$X0\n",
    "#scr_2.5=data.frame(BARCODE=colnames(comb.counts),scr_2.5_scores=Scrublet_2.5_dbl_scores)\n",
    "#groundTruth=merge(groundTruth,scr_2.5,by.x=\"BARCODE\",by.y=\"BARCODE\")\n",
    "#groundTruth=merge(groundTruth,DemuxletDefault,by.x=\"BARCODE\",by.y=\"BARCODE\")\n",
    "#groundTruth=merge(groundTruth,DemuxletModified,by.x=\"BARCODE\",by.y=\"BARCODE\")\n",
    "#groundTruth=merge(groundTruth,df,by.x=\"BARCODE\",by.y=\"BARCODE\")\n",
    "\n",
    "#colnames(CZI.PBMC.1.Ground.Truth)\n",
    "#dim(CZI.PBMC.1.Ground.Truth)\n",
    "#sum(groundTruth$S_type==as.character(groundTruth$Df_label))/length(groundTruth$S_type)\n",
    "#sum(gr.DBL$Df_label==\"DBL\")#/dim(gr.DBL)[1]\n",
    "#dim(gr_df_DBL)[1]/dim(groundTruth)[1]"
   ]
  },
  {
   "cell_type": "code",
   "execution_count": 24,
   "metadata": {
    "collapsed": true
   },
   "outputs": [],
   "source": [
    "CZI.PBMC.9.DF_dbl_labels=read.csv(\"/projects/ucar-lab/danaco/bncmrk-dblts/DF/output/CZI.PBMC/CZI.PBMC.9.DF.output.barcodes.labels.csv\")[,2:3]\n",
    "colnames(CZI.PBMC.9.DF_dbl_labels)[1]=\"DF_BARCODE\"\n",
    "colnames(CZI.PBMC.9.DF_dbl_labels)[2]=\"DF_LABEL\"\n",
    "\n",
    "CZI.PBMC.9.Scrublet_dbl_scores=read.csv(\"/projects/ucar-lab/danaco/bncmrk-dblts/Scrublet/output/CZI.PBMC/CZI.PBMC.9.Scr.doublet.scores.0.1exp_rate.csv\")$X0\n",
    "CZI.PBMC.9.Scrublet_dbl_labels=CZI.PBMC.9.Scrublet_dbl_scores\n",
    "CZI.PBMC.9.Scrublet_dbl_labels[CZI.PBMC.9.Scrublet_dbl_scores>0.25]=\"Doublet\"\n",
    "CZI.PBMC.9.Scrublet_dbl_labels[CZI.PBMC.9.Scrublet_dbl_scores<=0.25]=\"Singlet\"\n",
    "CZI.PBMC.9.Scrublet_dbl_labels=data.frame(SCR_BARCODE=CZI.PBMC.9.DF_dbl_labels$DF_BARCODE, SCR_LABEL=CZI.PBMC.9.Scrublet_dbl_labels)\n",
    "\n",
    "CZI.PBMC.9.DoubDec_dbl_labels=read.table(\"/projects/ucar-lab/danaco/bncmrk-dblts/DoubletDecon/output/CZI.PBMC/DRS_doublet_table_CZI.PBMC.9.txt\", sep=\"\\t\",header=T, row.names=1)\n",
    "rownames(CZI.PBMC.9.DoubDec_dbl_labels)=gsub(x=rownames(CZI.PBMC.9.DoubDec_dbl_labels),pattern=\"\\\\.\",replacement=\"\\\\-\")\n",
    "X <- vector(mode=\"character\", length=length(rownames(CZI.PBMC.9.DoubDec_dbl_labels)))\n",
    "X[CZI.PBMC.9.DoubDec_dbl_labels$isADoublet==TRUE]=\"Doublet\"\n",
    "X[CZI.PBMC.9.DoubDec_dbl_labels$isADoublet==FALSE]=\"Singlet\"\n",
    "CZI.PBMC.9.DoubDec_dbl_labels=data.frame(DD_BARCODE=rownames(CZI.PBMC.9.DoubDec_dbl_labels),DD_LABEL=X)\n",
    "\n",
    "CZI.PBMC.9.Ground.Truth=data.frame(BARCODE=CZI.PBMC.9.DF_dbl_labels$DF_BARCODE, DF_LABEL=CZI.PBMC.9.DF_dbl_labels$DF_LABEL)\n",
    "CZI.PBMC.9.Ground.Truth=merge(CZI.PBMC.9.Ground.Truth,CZI.PBMC.9.Scrublet_dbl_labels,by.x=\"BARCODE\",by.y=\"SCR_BARCODE\")\n",
    "CZI.PBMC.9.Ground.Truth=merge(CZI.PBMC.9.Ground.Truth,CZI.PBMC.9.DoubDec_dbl_labels,by.x=\"BARCODE\",by.y=\"DD_BARCODE\")\n",
    "CZI.PBMC.9.Ground.Truth=merge(CZI.PBMC.9.Ground.Truth,CZI.PBMC.9.HTO.HTODemux.labels,by.x=\"BARCODE\",by.y=\"X\")\n",
    "colnames(CZI.PBMC.9.Ground.Truth)[length(colnames(CZI.PBMC.9.Ground.Truth))]=\"HTOD_LABEL\"\n",
    "CZI.PBMC.9.Ground.Truth=merge(CZI.PBMC.9.Ground.Truth,CZI.PBMC.9.HTO.MULTIseqDemux.labels,by.x=\"BARCODE\",by.y=\"X\")\n",
    "colnames(CZI.PBMC.9.Ground.Truth)[length(colnames(CZI.PBMC.9.Ground.Truth))]=\"MSD_LABEL\"\n",
    "CZI.PBMC.9.Ground.Truth=merge(CZI.PBMC.9.Ground.Truth,CZI.PBMC.9.HTO.GMM.labels,by.x=\"BARCODE\",by.y=\"Cell_Barcode\")\n",
    "colnames(CZI.PBMC.9.Ground.Truth)[length(colnames(CZI.PBMC.9.Ground.Truth))]=\"GMM_LABEL\"\n",
    "\n",
    "CZI.PBMC.9.SCR.SNG=subset(CZI.PBMC.9.Ground.Truth,SCR_LABEL==\"Singlet\")\n",
    "CZI.PBMC.9.SCR.DBL=subset(CZI.PBMC.9.Ground.Truth,SCR_LABEL==\"Doublet\")\n",
    "CZI.PBMC.9.DF.SNG=subset(CZI.PBMC.9.Ground.Truth,DF_LABEL==\"Singlet\")\n",
    "CZI.PBMC.9.DF.DBL=subset(CZI.PBMC.9.Ground.Truth,DF_LABEL==\"Doublet\")\n",
    "CZI.PBMC.9.DD.SNG=subset(CZI.PBMC.9.Ground.Truth,DD_LABEL==\"Singlet\")\n",
    "CZI.PBMC.9.DD.DBL=subset(CZI.PBMC.9.Ground.Truth,DD_LABEL==\"Doublet\")\n",
    "CZI.PBMC.9.HTOD.NDBL=subset(CZI.PBMC.9.Ground.Truth,HTOD_LABEL!=\"Doublet\")\n",
    "CZI.PBMC.9.HTOD.DBL=subset(CZI.PBMC.9.Ground.Truth,HTOD_LABEL==\"Doublet\")\n",
    "CZI.PBMC.9.MSD.NDBL=subset(CZI.PBMC.9.Ground.Truth,MSD_LABEL!=\"Doublet\")\n",
    "CZI.PBMC.9.MSD.DBL=subset(CZI.PBMC.9.Ground.Truth,MSD_LABEL==\"Doublet\")\n",
    "CZI.PBMC.9.GMM.NDBL=subset(CZI.PBMC.9.Ground.Truth,GMM_LABEL!=\"Doublet\")\n",
    "CZI.PBMC.9.GMM.DBL=subset(CZI.PBMC.9.Ground.Truth,GMM_LABEL==\"Doublet\")\n",
    "\n",
    "\n",
    "#gr.DBL=subset(groundTruth,S_type==\"DBL\")\n",
    "\n",
    "#Scrublet_2.5_dbl_scores=read.csv(\"doublet_scores_2.9.csv\")$X0\n",
    "#scr_2.5=data.frame(BARCODE=colnames(comb.counts),scr_2.5_scores=Scrublet_2.5_dbl_scores)\n",
    "#groundTruth=merge(groundTruth,scr_2.5,by.x=\"BARCODE\",by.y=\"BARCODE\")\n",
    "#groundTruth=merge(groundTruth,DemuxletDefault,by.x=\"BARCODE\",by.y=\"BARCODE\")\n",
    "#groundTruth=merge(groundTruth,DemuxletModified,by.x=\"BARCODE\",by.y=\"BARCODE\")\n",
    "#groundTruth=merge(groundTruth,df,by.x=\"BARCODE\",by.y=\"BARCODE\")\n",
    "\n",
    "#Scrublet_2.5_dbl_scores=read.csv(\"doublet_scores_2.5.csv\")$X0\n",
    "\n",
    "#Scrublet_2.5_dbl_scores=Scrublet_2.5_dbl_scores[gr_ids]\n"
   ]
  },
  {
   "cell_type": "code",
   "execution_count": 25,
   "metadata": {
    "collapsed": true
   },
   "outputs": [],
   "source": [
    "CZI.PBMC.10.DF_dbl_labels=read.csv(\"/projects/ucar-lab/danaco/bncmrk-dblts/DF/output/CZI.PBMC/CZI.PBMC.10.DF.output.barcodes.labels.csv\")[,2:3]\n",
    "colnames(CZI.PBMC.10.DF_dbl_labels)[1]=\"DF_BARCODE\"\n",
    "colnames(CZI.PBMC.10.DF_dbl_labels)[2]=\"DF_LABEL\"\n",
    "\n",
    "CZI.PBMC.10.Scrublet_dbl_scores=read.csv(\"/projects/ucar-lab/danaco/bncmrk-dblts/Scrublet/output/CZI.PBMC/CZI.PBMC.10.Scr.doublet.scores.0.1exp_rate.csv\")$X0\n",
    "CZI.PBMC.10.Scrublet_dbl_labels=CZI.PBMC.10.Scrublet_dbl_scores\n",
    "CZI.PBMC.10.Scrublet_dbl_labels[CZI.PBMC.10.Scrublet_dbl_scores>0.25]=\"Doublet\"\n",
    "CZI.PBMC.10.Scrublet_dbl_labels[CZI.PBMC.10.Scrublet_dbl_scores<=0.25]=\"Singlet\"\n",
    "CZI.PBMC.10.Scrublet_dbl_labels=data.frame(SCR_BARCODE=CZI.PBMC.10.DF_dbl_labels$DF_BARCODE, SCR_LABEL=CZI.PBMC.10.Scrublet_dbl_labels)\n",
    "\n",
    "CZI.PBMC.10.DoubDec_dbl_labels=read.table(\"/projects/ucar-lab/danaco/bncmrk-dblts/DoubletDecon/output/CZI.PBMC/DRS_doublet_table_CZI.PBMC.10.txt\", sep=\"\\t\",header=T, row.names=1)\n",
    "rownames(CZI.PBMC.10.DoubDec_dbl_labels)=gsub(x=rownames(CZI.PBMC.10.DoubDec_dbl_labels),pattern=\"\\\\.\",replacement=\"\\\\-\")\n",
    "X <- vector(mode=\"character\", length=length(rownames(CZI.PBMC.10.DoubDec_dbl_labels)))\n",
    "X[CZI.PBMC.10.DoubDec_dbl_labels$isADoublet==TRUE]=\"Doublet\"\n",
    "X[CZI.PBMC.10.DoubDec_dbl_labels$isADoublet==FALSE]=\"Singlet\"\n",
    "CZI.PBMC.10.DoubDec_dbl_labels=data.frame(DD_BARCODE=rownames(CZI.PBMC.10.DoubDec_dbl_labels),DD_LABEL=X)\n",
    "\n",
    "CZI.PBMC.10.Ground.Truth=data.frame(BARCODE=CZI.PBMC.10.DF_dbl_labels$DF_BARCODE, DF_LABEL=CZI.PBMC.10.DF_dbl_labels$DF_LABEL)\n",
    "CZI.PBMC.10.Ground.Truth=merge(CZI.PBMC.10.Ground.Truth,CZI.PBMC.10.Scrublet_dbl_labels,by.x=\"BARCODE\",by.y=\"SCR_BARCODE\")\n",
    "CZI.PBMC.10.Ground.Truth=merge(CZI.PBMC.10.Ground.Truth,CZI.PBMC.10.DoubDec_dbl_labels,by.x=\"BARCODE\",by.y=\"DD_BARCODE\")\n",
    "\n",
    "CZI.PBMC.10.Ground.Truth=merge(CZI.PBMC.10.Ground.Truth,CZI.PBMC.10.HTO.HTODemux.labels,by.x=\"BARCODE\",by.y=\"X\")\n",
    "colnames(CZI.PBMC.10.Ground.Truth)[length(colnames(CZI.PBMC.10.Ground.Truth))]=\"HTOD_LABEL\"\n",
    "CZI.PBMC.10.Ground.Truth=merge(CZI.PBMC.10.Ground.Truth,CZI.PBMC.10.HTO.MULTIseqDemux.labels,by.x=\"BARCODE\",by.y=\"X\")\n",
    "colnames(CZI.PBMC.10.Ground.Truth)[length(colnames(CZI.PBMC.10.Ground.Truth))]=\"MSD_LABEL\"\n",
    "CZI.PBMC.10.Ground.Truth=merge(CZI.PBMC.10.Ground.Truth,CZI.PBMC.10.HTO.GMM.labels,by.x=\"BARCODE\",by.y=\"Cell_Barcode\")\n",
    "colnames(CZI.PBMC.10.Ground.Truth)[length(colnames(CZI.PBMC.10.Ground.Truth))]=\"GMM_LABEL\"\n",
    "\n",
    "CZI.PBMC.10.SCR.SNG=subset(CZI.PBMC.10.Ground.Truth,SCR_LABEL==\"Singlet\")\n",
    "CZI.PBMC.10.SCR.DBL=subset(CZI.PBMC.10.Ground.Truth,SCR_LABEL==\"Doublet\")\n",
    "CZI.PBMC.10.DF.SNG=subset(CZI.PBMC.10.Ground.Truth,DF_LABEL==\"Singlet\")\n",
    "CZI.PBMC.10.DF.DBL=subset(CZI.PBMC.10.Ground.Truth,DF_LABEL==\"Doublet\")\n",
    "CZI.PBMC.10.DD.SNG=subset(CZI.PBMC.10.Ground.Truth,DD_LABEL==\"Singlet\")\n",
    "CZI.PBMC.10.DD.DBL=subset(CZI.PBMC.10.Ground.Truth,DD_LABEL==\"Doublet\")\n",
    "CZI.PBMC.10.HTOD.NDBL=subset(CZI.PBMC.10.Ground.Truth,HTOD_LABEL!=\"Doublet\")\n",
    "CZI.PBMC.10.HTOD.DBL=subset(CZI.PBMC.10.Ground.Truth,HTOD_LABEL==\"Doublet\")\n",
    "CZI.PBMC.10.MSD.NDBL=subset(CZI.PBMC.10.Ground.Truth,MSD_LABEL!=\"Doublet\")\n",
    "CZI.PBMC.10.MSD.DBL=subset(CZI.PBMC.10.Ground.Truth,MSD_LABEL==\"Doublet\")\n",
    "CZI.PBMC.10.GMM.NDBL=subset(CZI.PBMC.10.Ground.Truth,GMM_LABEL!=\"Doublet\")\n",
    "CZI.PBMC.10.GMM.DBL=subset(CZI.PBMC.10.Ground.Truth,GMM_LABEL==\"Doublet\")\n",
    "\n",
    "#gr.DBL=subset(groundTruth,S_type==\"DBL\")\n",
    "\n",
    "#Scrublet_2.5_dbl_scores=read.csv(\"doublet_scores_2.10.csv\")$X0\n",
    "#scr_2.5=data.frame(BARCODE=colnames(comb.counts),scr_2.5_scores=Scrublet_2.5_dbl_scores)\n",
    "#groundTruth=merge(groundTruth,scr_2.5,by.x=\"BARCODE\",by.y=\"BARCODE\")\n",
    "#groundTruth=merge(groundTruth,DemuxletDefault,by.x=\"BARCODE\",by.y=\"BARCODE\")\n",
    "#groundTruth=merge(groundTruth,DemuxletModified,by.x=\"BARCODE\",by.y=\"BARCODE\")\n",
    "#groundTruth=merge(groundTruth,df,by.x=\"BARCODE\",by.y=\"BARCODE\")\n",
    "\n",
    "#demuxSNG=subset(DemuxletDefault, DROPLET.TYPE==\"SNG\")"
   ]
  },
  {
   "cell_type": "code",
   "execution_count": 11,
   "metadata": {
    "collapsed": true
   },
   "outputs": [],
   "source": [
    "CZI.PBMC.6.DF_dbl_labels=read.csv(\"/projects/ucar-lab/danaco/bncmrk-dblts/DF/output/CZI.PBMC/CZI.PBMC.6.DF.output.barcodes.labels.csv\")[,2:3]\n",
    "colnames(CZI.PBMC.6.DF_dbl_labels)[1]=\"DF_BARCODE\"\n",
    "colnames(CZI.PBMC.6.DF_dbl_labels)[2]=\"DF_LABEL\"\n",
    "\n",
    "CZI.PBMC.6.Scrublet_dbl_scores=read.csv(\"/projects/ucar-lab/danaco/bncmrk-dblts/Scrublet/output/CZI.PBMC/CZI.PBMC.6.Scr.doublet.scores.0.1exp_rate.csv\")$X0\n",
    "CZI.PBMC.6.Scrublet_dbl_labels=CZI.PBMC.6.Scrublet_dbl_scores\n",
    "CZI.PBMC.6.Scrublet_dbl_labels[CZI.PBMC.6.Scrublet_dbl_scores>0.25]=\"Doublet\"\n",
    "CZI.PBMC.6.Scrublet_dbl_labels[CZI.PBMC.6.Scrublet_dbl_scores<=0.25]=\"Singlet\"\n",
    "CZI.PBMC.6.Scrublet_dbl_labels=data.frame(SCR_BARCODE=CZI.PBMC.6.DF_dbl_labels$DF_BARCODE, SCR_LABEL=CZI.PBMC.6.Scrublet_dbl_labels)\n",
    "\n",
    "#CZI.PBMC.6.DoubDec_dbl_labels=read.table(\"/projects/ucar-lab/danaco/bncmrk-dblts/DoubletDecon/output/CZI.PBMC/DRS_doublet_table_CZI.PBMC.6.txt\", sep=\"\\t\",header=T, row.names=1)\n",
    "#rownames(CZI.PBMC.6.DoubDec_dbl_labels)=gsub(x=rownames(CZI.PBMC.6.DoubDec_dbl_labels),pattern=\"\\\\.\",replacement=\"\\\\-\")\n",
    "#X <- vector(mode=\"character\", length=length(rownames(CZI.PBMC.6.DoubDec_dbl_labels)))\n",
    "#X[CZI.PBMC.6.DoubDec_dbl_labels$isADoublet==TRUE]=\"Doublet\"\n",
    "#X[CZI.PBMC.6.DoubDec_dbl_labels$isADoublet==FALSE]=\"Singlet\"\n",
    "#CZI.PBMC.6.DoubDec_dbl_labels=data.frame(DD_BARCODE=rownames(CZI.PBMC.6.DoubDec_dbl_labels),DD_LABEL=X)\n",
    "\n",
    "CZI.PBMC.6.Ground.Truth=data.frame(BARCODE=CZI.PBMC.6.DF_dbl_labels$DF_BARCODE, DF_LABEL=CZI.PBMC.6.DF_dbl_labels$DF_LABEL)\n",
    "CZI.PBMC.6.Ground.Truth=merge(CZI.PBMC.6.Ground.Truth,CZI.PBMC.6.Scrublet_dbl_labels,by.x=\"BARCODE\",by.y=\"SCR_BARCODE\")\n",
    "#CZI.PBMC.6.Ground.Truth=merge(CZI.PBMC.6.Ground.Truth,CZI.PBMC.6.DoubDec_dbl_labels,by.x=\"BARCODE\",by.y=\"DD_BARCODE\")\n",
    "CZI.PBMC.6.Ground.Truth=merge(CZI.PBMC.6.Ground.Truth,CZI.PBMC.6.HTO.HTODemux.labels,by.x=\"BARCODE\",by.y=\"X\")\n",
    "colnames(CZI.PBMC.6.Ground.Truth)[length(colnames(CZI.PBMC.6.Ground.Truth))]=\"HTOD_LABEL\"\n",
    "CZI.PBMC.6.Ground.Truth=merge(CZI.PBMC.6.Ground.Truth,CZI.PBMC.6.HTO.MULTIseqDemux.labels,by.x=\"BARCODE\",by.y=\"X\")\n",
    "colnames(CZI.PBMC.6.Ground.Truth)[length(colnames(CZI.PBMC.6.Ground.Truth))]=\"MSD_LABEL\"\n",
    "CZI.PBMC.6.Ground.Truth=merge(CZI.PBMC.6.Ground.Truth,CZI.PBMC.6.HTO.GMM.labels,by.x=\"BARCODE\",by.y=\"Cell_Barcode\")\n",
    "colnames(CZI.PBMC.6.Ground.Truth)[length(colnames(CZI.PBMC.6.Ground.Truth))]=\"GMM_LABEL\"\n",
    "\n",
    "CZI.PBMC.6.Ground.Truth.HTOD.NNGV=subset(CZI.PBMC.6.Ground.Truth,HTOD_LABEL!=\"Negative\")\n",
    "CZI.PBMC.6.Ground.Truth.MSD.NNGV=subset(CZI.PBMC.6.Ground.Truth,MSD_LABEL!=\"Negative\")\n",
    "CZI.PBMC.6.Ground.Truth.GMM.NNGV=subset(CZI.PBMC.6.Ground.Truth,GMM_LABEL!=\"Negative\")\n",
    "\n",
    "\n",
    "CZI.PBMC.6.SCR.SNG=subset(CZI.PBMC.6.Ground.Truth,SCR_LABEL==\"Singlet\")\n",
    "CZI.PBMC.6.SCR.NSNG=subset(CZI.PBMC.6.Ground.Truth,SCR_LABEL!=\"Singlet\")\n",
    "\n",
    "CZI.PBMC.6.SCR.DBL=subset(CZI.PBMC.6.Ground.Truth,SCR_LABEL==\"Doublet\")\n",
    "CZI.PBMC.6.SCR.NDBL=subset(CZI.PBMC.6.Ground.Truth,SCR_LABEL!=\"Doublet\")\n",
    "\n",
    "CZI.PBMC.6.DF.SNG=subset(CZI.PBMC.6.Ground.Truth,DF_LABEL==\"Singlet\")\n",
    "CZI.PBMC.6.DF.NSNG=subset(CZI.PBMC.6.Ground.Truth,DF_LABEL!=\"Singlet\")\n",
    "\n",
    "\n",
    "CZI.PBMC.6.DF.DBL=subset(CZI.PBMC.6.Ground.Truth,DF_LABEL==\"Doublet\")\n",
    "CZI.PBMC.6.DF.NDBL=subset(CZI.PBMC.6.Ground.Truth,DF_LABEL!=\"Doublet\")\n",
    "\n",
    "#CZI.PBMC.6.DD.SNG=subset(CZI.PBMC.6.Ground.Truth,DD_LABEL==\"Singlet\")\n",
    "#CZI.PBMC.6.DD.DBL=subset(CZI.PBMC.6.Ground.Truth,DD_LABEL==\"Doublet\")\n",
    "\n",
    "CZI.PBMC.6.HTOD.NSNG=subset(CZI.PBMC.6.Ground.Truth,HTOD_LABEL!=\"Singlet\")\n",
    "CZI.PBMC.6.HTOD.SNG=subset(CZI.PBMC.6.Ground.Truth,HTOD_LABEL==\"Singlet\")\n",
    "CZI.PBMC.6.HTOD.NDBL=subset(CZI.PBMC.6.Ground.Truth,HTOD_LABEL!=\"Doublet\")\n",
    "CZI.PBMC.6.HTOD.DBL=subset(CZI.PBMC.6.Ground.Truth,HTOD_LABEL==\"Doublet\")\n",
    "\n",
    "CZI.PBMC.6.MSD.NSNG=subset(CZI.PBMC.6.Ground.Truth,MSD_LABEL!=\"Singlet\")\n",
    "CZI.PBMC.6.MSD.SNG=subset(CZI.PBMC.6.Ground.Truth,MSD_LABEL==\"Singlet\")\n",
    "CZI.PBMC.6.MSD.NDBL=subset(CZI.PBMC.6.Ground.Truth,MSD_LABEL!=\"Doublet\")\n",
    "CZI.PBMC.6.MSD.DBL=subset(CZI.PBMC.6.Ground.Truth,MSD_LABEL==\"Doublet\")\n",
    "\n",
    "CZI.PBMC.6.GMM.NSNG=subset(CZI.PBMC.6.Ground.Truth,GMM_LABEL!=\"Singlet\")\n",
    "CZI.PBMC.6.GMM.SNG=subset(CZI.PBMC.6.Ground.Truth,GMM_LABEL==\"Singlet\")\n",
    "CZI.PBMC.6.GMM.NDBL=subset(CZI.PBMC.6.Ground.Truth,GMM_LABEL!=\"Doublet\")\n",
    "CZI.PBMC.6.GMM.DBL=subset(CZI.PBMC.6.Ground.Truth,GMM_LABEL==\"Doublet\")\n",
    "#gr.DBL=subset(groundTruth,S_type==\"DBL\")\n",
    "\n",
    "#Scrublet_2.5_dbl_scores=read.csv(\"doublet_scores_2.6.csv\")$X0\n",
    "#scr_2.5=data.frame(BARCODE=colnames(comb.counts),scr_2.5_scores=Scrublet_2.5_dbl_scores)\n",
    "#groundTruth=merge(groundTruth,scr_2.5,by.x=\"BARCODE\",by.y=\"BARCODE\")\n",
    "#groundTruth=merge(groundTruth,DemuxletDefault,by.x=\"BARCODE\",by.y=\"BARCODE\")\n",
    "#groundTruth=merge(groundTruth,DemuxletModified,by.x=\"BARCODE\",by.y=\"BARCODE\")\n",
    "#groundTruth=merge(groundTruth,df,by.x=\"BARCODE\",by.y=\"BARCODE\")\n",
    "\n",
    "#groundTruth=read.csv(\"groundTruth.csv\")\n"
   ]
  },
  {
   "cell_type": "code",
   "execution_count": 12,
   "metadata": {
    "collapsed": true
   },
   "outputs": [],
   "source": [
    "CZI.PBMC.8.DF_dbl_labels=read.csv(\"/projects/ucar-lab/danaco/bncmrk-dblts/DF/output/CZI.PBMC/CZI.PBMC.8.DF.output.barcodes.labels.csv\")[,2:3]\n",
    "colnames(CZI.PBMC.8.DF_dbl_labels)[1]=\"DF_BARCODE\"\n",
    "colnames(CZI.PBMC.8.DF_dbl_labels)[2]=\"DF_LABEL\"\n",
    "\n",
    "CZI.PBMC.8.Scrublet_dbl_scores=read.csv(\"/projects/ucar-lab/danaco/bncmrk-dblts/Scrublet/output/CZI.PBMC/CZI.PBMC.8.Scr.doublet.scores.0.1exp_rate.csv\")$X0\n",
    "CZI.PBMC.8.Scrublet_dbl_labels=CZI.PBMC.8.Scrublet_dbl_scores\n",
    "CZI.PBMC.8.Scrublet_dbl_labels[CZI.PBMC.8.Scrublet_dbl_scores>0.25]=\"Doublet\"\n",
    "CZI.PBMC.8.Scrublet_dbl_labels[CZI.PBMC.8.Scrublet_dbl_scores<=0.25]=\"Singlet\"\n",
    "CZI.PBMC.8.Scrublet_dbl_labels=data.frame(SCR_BARCODE=CZI.PBMC.8.DF_dbl_labels$DF_BARCODE, SCR_LABEL=CZI.PBMC.8.Scrublet_dbl_labels)\n",
    "\n",
    "#CZI.PBMC.8.DoubDec_dbl_labels=read.table(\"/projects/ucar-lab/danaco/bncmrk-dblts/DoubletDecon/output/CZI.PBMC/DRS_doublet_table_CZI.PBMC.8.txt\", sep=\"\\t\",header=T, row.names=1)\n",
    "#rownames(CZI.PBMC.8.DoubDec_dbl_labels)=gsub(x=rownames(CZI.PBMC.8.DoubDec_dbl_labels),pattern=\"\\\\.\",replacement=\"\\\\-\")\n",
    "#X <- vector(mode=\"character\", length=length(rownames(CZI.PBMC.8.DoubDec_dbl_labels)))\n",
    "#X[CZI.PBMC.8.DoubDec_dbl_labels$isADoublet==TRUE]=\"Doublet\"\n",
    "#X[CZI.PBMC.8.DoubDec_dbl_labels$isADoublet==FALSE]=\"Singlet\"\n",
    "#CZI.PBMC.8.DoubDec_dbl_labels=data.frame(DD_BARCODE=rownames(CZI.PBMC.8.DoubDec_dbl_labels),DD_LABEL=X)\n",
    "\n",
    "CZI.PBMC.8.Ground.Truth=data.frame(BARCODE=CZI.PBMC.8.DF_dbl_labels$DF_BARCODE, DF_LABEL=CZI.PBMC.8.DF_dbl_labels$DF_LABEL)\n",
    "CZI.PBMC.8.Ground.Truth=merge(CZI.PBMC.8.Ground.Truth,CZI.PBMC.8.Scrublet_dbl_labels,by.x=\"BARCODE\",by.y=\"SCR_BARCODE\")\n",
    "#CZI.PBMC.8.Ground.Truth=merge(CZI.PBMC.8.Ground.Truth,CZI.PBMC.8.DoubDec_dbl_labels,by.x=\"BARCODE\",by.y=\"DD_BARCODE\")\n",
    "CZI.PBMC.8.Ground.Truth=merge(CZI.PBMC.8.Ground.Truth,CZI.PBMC.8.HTO.HTODemux.labels,by.x=\"BARCODE\",by.y=\"X\")\n",
    "colnames(CZI.PBMC.8.Ground.Truth)[length(colnames(CZI.PBMC.8.Ground.Truth))]=\"HTOD_LABEL\"\n",
    "CZI.PBMC.8.Ground.Truth=merge(CZI.PBMC.8.Ground.Truth,CZI.PBMC.8.HTO.MULTIseqDemux.labels,by.x=\"BARCODE\",by.y=\"X\")\n",
    "colnames(CZI.PBMC.8.Ground.Truth)[length(colnames(CZI.PBMC.8.Ground.Truth))]=\"MSD_LABEL\"\n",
    "CZI.PBMC.8.Ground.Truth=merge(CZI.PBMC.8.Ground.Truth,CZI.PBMC.8.HTO.GMM.labels,by.x=\"BARCODE\",by.y=\"Cell_Barcode\")\n",
    "colnames(CZI.PBMC.8.Ground.Truth)[length(colnames(CZI.PBMC.8.Ground.Truth))]=\"GMM_LABEL\"\n",
    "\n",
    "CZI.PBMC.8.Ground.Truth.HTOD.NNGV=subset(CZI.PBMC.8.Ground.Truth,HTOD_LABEL!=\"Negative\")\n",
    "CZI.PBMC.8.Ground.Truth.MSD.NNGV=subset(CZI.PBMC.8.Ground.Truth,MSD_LABEL!=\"Negative\")\n",
    "CZI.PBMC.8.Ground.Truth.GMM.NNGV=subset(CZI.PBMC.8.Ground.Truth,GMM_LABEL!=\"Negative\")\n",
    "\n",
    "\n",
    "CZI.PBMC.8.SCR.SNG=subset(CZI.PBMC.8.Ground.Truth,SCR_LABEL==\"Singlet\")\n",
    "CZI.PBMC.8.SCR.NSNG=subset(CZI.PBMC.8.Ground.Truth,SCR_LABEL!=\"Singlet\")\n",
    "\n",
    "CZI.PBMC.8.SCR.DBL=subset(CZI.PBMC.8.Ground.Truth,SCR_LABEL==\"Doublet\")\n",
    "CZI.PBMC.8.SCR.NDBL=subset(CZI.PBMC.8.Ground.Truth,SCR_LABEL!=\"Doublet\")\n",
    "\n",
    "CZI.PBMC.8.DF.SNG=subset(CZI.PBMC.8.Ground.Truth,DF_LABEL==\"Singlet\")\n",
    "CZI.PBMC.8.DF.NSNG=subset(CZI.PBMC.8.Ground.Truth,DF_LABEL!=\"Singlet\")\n",
    "\n",
    "\n",
    "CZI.PBMC.8.DF.DBL=subset(CZI.PBMC.8.Ground.Truth,DF_LABEL==\"Doublet\")\n",
    "CZI.PBMC.8.DF.NDBL=subset(CZI.PBMC.8.Ground.Truth,DF_LABEL!=\"Doublet\")\n",
    "\n",
    "#CZI.PBMC.8.DD.SNG=subset(CZI.PBMC.8.Ground.Truth,DD_LABEL==\"Singlet\")\n",
    "#CZI.PBMC.8.DD.DBL=subset(CZI.PBMC.8.Ground.Truth,DD_LABEL==\"Doublet\")\n",
    "\n",
    "CZI.PBMC.8.HTOD.NSNG=subset(CZI.PBMC.8.Ground.Truth,HTOD_LABEL!=\"Singlet\")\n",
    "CZI.PBMC.8.HTOD.SNG=subset(CZI.PBMC.8.Ground.Truth,HTOD_LABEL==\"Singlet\")\n",
    "CZI.PBMC.8.HTOD.NDBL=subset(CZI.PBMC.8.Ground.Truth,HTOD_LABEL!=\"Doublet\")\n",
    "CZI.PBMC.8.HTOD.DBL=subset(CZI.PBMC.8.Ground.Truth,HTOD_LABEL==\"Doublet\")\n",
    "\n",
    "CZI.PBMC.8.MSD.NSNG=subset(CZI.PBMC.8.Ground.Truth,MSD_LABEL!=\"Singlet\")\n",
    "CZI.PBMC.8.MSD.SNG=subset(CZI.PBMC.8.Ground.Truth,MSD_LABEL==\"Singlet\")\n",
    "CZI.PBMC.8.MSD.NDBL=subset(CZI.PBMC.8.Ground.Truth,MSD_LABEL!=\"Doublet\")\n",
    "CZI.PBMC.8.MSD.DBL=subset(CZI.PBMC.8.Ground.Truth,MSD_LABEL==\"Doublet\")\n",
    "\n",
    "CZI.PBMC.8.GMM.NSNG=subset(CZI.PBMC.8.Ground.Truth,GMM_LABEL!=\"Singlet\")\n",
    "CZI.PBMC.8.GMM.SNG=subset(CZI.PBMC.8.Ground.Truth,GMM_LABEL==\"Singlet\")\n",
    "CZI.PBMC.8.GMM.NDBL=subset(CZI.PBMC.8.Ground.Truth,GMM_LABEL!=\"Doublet\")\n",
    "CZI.PBMC.8.GMM.DBL=subset(CZI.PBMC.8.Ground.Truth,GMM_LABEL==\"Doublet\")\n",
    "#gr.DBL=subset(groundTruth,S_type==\"DBL\")\n",
    "\n",
    "#Scrublet_2.5_dbl_scores=read.csv(\"doublet_scores_2.8.csv\")$X0\n",
    "#scr_2.5=data.frame(BARCODE=colnames(comb.counts),scr_2.5_scores=Scrublet_2.5_dbl_scores)\n",
    "#groundTruth=merge(groundTruth,scr_2.5,by.x=\"BARCODE\",by.y=\"BARCODE\")\n",
    "#groundTruth=merge(groundTruth,DemuxletDefault,by.x=\"BARCODE\",by.y=\"BARCODE\")\n",
    "#groundTruth=merge(groundTruth,DemuxletModified,by.x=\"BARCODE\",by.y=\"BARCODE\")\n",
    "#groundTruth=merge(groundTruth,df,by.x=\"BARCODE\",by.y=\"BARCODE\")\n",
    "\n",
    "#gr_ids=which(groundTruth$BARCODE %in% colnames(comb.counts))"
   ]
  },
  {
   "cell_type": "code",
   "execution_count": 29,
   "metadata": {},
   "outputs": [],
   "source": [
    "CZI.PBMC.Comb.Ground.Truth=rbind2(CZI.PBMC.1.Ground.Truth,CZI.PBMC.2.Ground.Truth)\n",
    "CZI.PBMC.Comb.Ground.Truth=rbind2(CZI.PBMC.Comb.Ground.Truth,CZI.PBMC.3.Ground.Truth)\n",
    "CZI.PBMC.Comb.Ground.Truth=rbind2(CZI.PBMC.Comb.Ground.Truth,CZI.PBMC.4.Ground.Truth)\n",
    "CZI.PBMC.Comb.Ground.Truth=rbind2(CZI.PBMC.Comb.Ground.Truth,CZI.PBMC.5.Ground.Truth)\n",
    "CZI.PBMC.Comb.Ground.Truth=rbind2(CZI.PBMC.Comb.Ground.Truth,CZI.PBMC.7.Ground.Truth)\n",
    "CZI.PBMC.Comb.Ground.Truth=rbind2(CZI.PBMC.Comb.Ground.Truth,CZI.PBMC.9.Ground.Truth)\n",
    "CZI.PBMC.Comb.Ground.Truth=rbind2(CZI.PBMC.Comb.Ground.Truth,CZI.PBMC.10.Ground.Truth)\n",
    "\n",
    "#CZI.PBMC.Comb.Ground.Truth=rbind2(CZI.PBMC.Comb.Ground.Truth,CZI.PBMC.6.Ground.Truth)\n",
    "#CZI.PBMC.Comb.Ground.Truth=rbind2(CZI.PBMC.Comb.Ground.Truth,CZI.PBMC.8.Ground.Truth)\n",
    "\n",
    "\n",
    "#write.csv(groundTruth$BARCODE,\"groundTruthBarcodes.csv\")"
   ]
  },
  {
   "cell_type": "code",
   "execution_count": 30,
   "metadata": {},
   "outputs": [],
   "source": [
    "CZI.PBMC.Comb.SCR.SNG=subset(CZI.PBMC.Comb.Ground.Truth,SCR_LABEL==\"Singlet\")\n",
    "CZI.PBMC.Comb.SCR.DBL=subset(CZI.PBMC.Comb.Ground.Truth,SCR_LABEL==\"Doublet\")\n",
    "CZI.PBMC.Comb.DF.SNG=subset(CZI.PBMC.Comb.Ground.Truth,DF_LABEL==\"Singlet\")\n",
    "CZI.PBMC.Comb.DF.DBL=subset(CZI.PBMC.Comb.Ground.Truth,DF_LABEL==\"Doublet\")\n",
    "CZI.PBMC.Comb.DD.SNG=subset(CZI.PBMC.Comb.Ground.Truth,DD_LABEL==\"Singlet\")\n",
    "CZI.PBMC.Comb.DD.DBL=subset(CZI.PBMC.Comb.Ground.Truth,DD_LABEL==\"Doublet\")\n",
    "\n",
    "CZI.PBMC.Comb.HTOD.NDBL=subset(CZI.PBMC.Comb.Ground.Truth,HTOD_LABEL!=\"Doublet\")\n",
    "CZI.PBMC.Comb.HTOD.DBL=subset(CZI.PBMC.Comb.Ground.Truth,HTOD_LABEL==\"Doublet\")\n",
    "CZI.PBMC.Comb.MSD.NDBL=subset(CZI.PBMC.Comb.Ground.Truth,MSD_LABEL!=\"Doublet\")\n",
    "CZI.PBMC.Comb.MSD.DBL=subset(CZI.PBMC.Comb.Ground.Truth,MSD_LABEL==\"Doublet\")\n",
    "CZI.PBMC.Comb.GMM.NDBL=subset(CZI.PBMC.Comb.Ground.Truth,GMM_LABEL!=\"Doublet\")\n",
    "CZI.PBMC.Comb.GMM.DBL=subset(CZI.PBMC.Comb.Ground.Truth,GMM_LABEL==\"Doublet\")\n",
    "\n",
    "CZI.PBMC.Comb.HTOD.NSNG=subset(CZI.PBMC.Comb.Ground.Truth,HTOD_LABEL!=\"Singlet\")\n",
    "CZI.PBMC.Comb.HTOD.SNG=subset(CZI.PBMC.Comb.Ground.Truth,HTOD_LABEL==\"Singlet\")\n",
    "CZI.PBMC.Comb.MSD.NSNG=subset(CZI.PBMC.Comb.Ground.Truth,MSD_LABEL!=\"Singlet\")\n",
    "CZI.PBMC.Comb.MSD.SNG=subset(CZI.PBMC.Comb.Ground.Truth,MSD_LABEL==\"Singlet\")\n",
    "CZI.PBMC.Comb.GMM.NSNG=subset(CZI.PBMC.Comb.Ground.Truth,GMM_LABEL!=\"Singlet\")\n",
    "CZI.PBMC.Comb.GMM.SNG=subset(CZI.PBMC.Comb.Ground.Truth,GMM_LABEL==\"Singlet\")\n",
    "\n",
    "CZI.PBMC.Comb.HTOD.NNGV=subset(CZI.PBMC.Comb.Ground.Truth,HTOD_LABEL!=\"Negative\")\n",
    "CZI.PBMC.Comb.HTOD.NGV=subset(CZI.PBMC.Comb.Ground.Truth,HTOD_LABEL==\"Negative\")\n",
    "CZI.PBMC.Comb.MSD.NNGV=subset(CZI.PBMC.Comb.Ground.Truth,MSD_LABEL!=\"Negative\")\n",
    "CZI.PBMC.Comb.MSD.NGV=subset(CZI.PBMC.Comb.Ground.Truth,MSD_LABEL==\"Negative\")\n",
    "CZI.PBMC.Comb.GMM.NNGV=subset(CZI.PBMC.Comb.Ground.Truth,GMM_LABEL!=\"Negative\")\n",
    "CZI.PBMC.Comb.GMM.NGV=subset(CZI.PBMC.Comb.Ground.Truth,GMM_LABEL==\"Negative\")\n",
    "\n",
    "#venn.diagram(\n",
    "#  x = list(CZI.PBMC.Comb.Ground.Truth$DF_LABEL, CZI.PBMC.Comb.Ground.Truth$DD_LABEL, \n",
    "#           CZI.PBMC.Comb.Ground.Truth$SCR_LABEL,CZI.PBMC.Comb.Ground.Truth$HTOD_LABEL),\n",
    "#  category.names = c(\"DF\" , \"DD\" , \"SCR\",\"HTOD\"),\n",
    "#  filename = '#CZI.PBMC.Comb.HTOD_venn_diagramm.png',\n",
    "#  output=FALSE\n",
    "#)\n",
    "\n",
    "#CZI.PBMC.1.DoubDec_dbl_scores=read.table(\"/projects/ucar-lab/danaco/bncmrk-dblts/DoubletDecon/output/CZI.PBMC/DRS_doublet_table_CZI.PBMC.1.txt\", sep=\"\\t\",header=T, row.names=1)\n",
    "#rownames(CZI.PBMC.1.DoubDec_dbl_scores)=gsub(x=rownames(CZI.PBMC.1.DoubDec_dbl_scores),pattern=\"\\\\.\",replacement=\"\\\\-\")\n",
    "#X <- vector(mode=\"character\", length=length(rownames(CZI.PBMC.1.DoubDec_dbl_scores)))\n",
    "#X[CZI.PBMC.1.DoubDec_dbl_scores$isADoublet==TRUE]=\"Doublet\"\n",
    "#X[CZI.PBMC.1.DoubDec_dbl_scores$isADoublet==FALSE]=\"Singlet\"\n",
    "#CZI.PBMC.1.DoubDec_dbl_scores=data.frame(DD_BARCODE=rownames(CZI.PBMC.1.DoubDec_dbl_scores),DD_label=X)"
   ]
  },
  {
   "cell_type": "code",
   "execution_count": null,
   "metadata": {
    "collapsed": true
   },
   "outputs": [],
   "source": [
    "make3=function(vc){\n",
    "    if (length(vc)==2){\n",
    "        vc2=c(rep(0,3))\n",
    "        vc2[1]=vc[1]\n",
    "        vc2[3]=vc[2]\n",
    "    }\n",
    "    vc2\n",
    "}\n",
    "\n",
    "ndframe=data.frame(label=rep(c(\"Doublet\",\"Negative\",\"Singlet\"),5),\n",
    "                   method=rep(c(\"SCR\",\"DF\",\"HTOD\",\"MSD\",\"GMM\"),each=3),\n",
    "                   percentage=c(make3(100*summary(CZI.PBMC.Comb.Ground.Truth$SCR_LABEL)/length(CZI.PBMC.Comb.Ground.Truth$SCR_LABEL)),\n",
    "      make3(100*summary(CZI.PBMC.Comb.Ground.Truth$DF_LABEL)/length(CZI.PBMC.Comb.Ground.Truth$DF_LABEL)),\n",
    "    (100*summary(CZI.PBMC.Comb.Ground.Truth$HTOD_LABEL)/length(CZI.PBMC.Comb.Ground.Truth$DF_LABEL)),\n",
    "    (100*summary(CZI.PBMC.Comb.Ground.Truth$MSD_LABEL)/length(CZI.PBMC.Comb.Ground.Truth$DF_LABEL)),\n",
    "    (100*summary(CZI.PBMC.Comb.Ground.Truth$GMM_LABEL)/length(CZI.PBMC.Comb.Ground.Truth$DF_LABEL))))\n",
    "\n",
    "#dim(CZI.PBMC.1.DoubDec_dbl_scores)"
   ]
  },
  {
   "cell_type": "code",
   "execution_count": 121,
   "metadata": {
    "collapsed": true
   },
   "outputs": [],
   "source": [
    "#ndframe2 <- ddply(ndframe, .(method),\n",
    " #                    transform, pos = cumsum(percentage) - (0.5 * percentage))\n",
    "\n",
    "p4 <- ggplot() + geom_bar(aes(y = percentage,x=method,  fill = label), data = ndframe,\n",
    "                           stat=\"identity\")\n",
    "\n",
    "#p4 <- p4 + geom_text(data=ndframe,aes(label = round(percentage,2)),position = position_stack(vjust = 0.5), size=4)"
   ]
  },
  {
   "cell_type": "code",
   "execution_count": 122,
   "metadata": {},
   "outputs": [
    {
     "data": {},
     "metadata": {},
     "output_type": "display_data"
    },
    {
     "data": {
      "image/png": "[encoded data removed]",
      "text/plain": [
       "plot without title"
      ]
     },
     "metadata": {},
     "output_type": "display_data"
    }
   ],
   "source": [
    "#pdf(\"try.pdf\")\n",
    "p4\n",
    "#dev.off()\n",
    "#make3=function(vc){\n",
    "#    if (length(vc)==2){\n",
    "##        vc2=c(rep(0,3))\n",
    "#        vc2[1]=vc[1]\n",
    " #       vc2[3]=vc[2]\n",
    " #   }\n",
    " #   vc2\n",
    "#}\n",
    "\n",
    "#bebe=c(make3(100*summary(CZI.PBMC.Comb.Ground.Truth$SCR_LABEL)/length(CZI.PBMC.Comb.Ground.Truth$SCR_LABEL)),\n",
    "#      make3(100*summary(CZI.PBMC.Comb.Ground.Truth$DF_LABEL)/length(CZI.PBMC.Comb.Ground.Truth$DF_LABEL)))#CZI.PBMC.1.DoubDec_dbl_scores=t(CZI.PBMC.1.DoubDec_dbl_scores)\n",
    "#bebe"
   ]
  },
  {
   "cell_type": "code",
   "execution_count": 138,
   "metadata": {},
   "outputs": [
    {
     "data": {
      "text/html": [
       "209381"
      ],
      "text/latex": [
       "209381"
      ],
      "text/markdown": [
       "209381"
      ],
      "text/plain": [
       "[1] 209381"
      ]
     },
     "metadata": {},
     "output_type": "display_data"
    }
   ],
   "source": [
    "sum(CZI.PBMC.Comb.Ground.Truth$MSD_LABEL==CZI.PBMC.Comb.Ground.Truth$GMM_LABEL)#/dim(CZI.PBMC.Comb.Ground.Truth)[1] *100\n",
    "#data.frame(bibi=bebe,lebels=rep(c(\"Doublet\",\"Singlet\"),2))\n",
    "#CZI.PBMC.1.DF_dbl_scores$BARCODE[1]"
   ]
  },
  {
   "cell_type": "code",
   "execution_count": 37,
   "metadata": {},
   "outputs": [
    {
     "data": {
      "text/html": [
       "<dl class=dl-horizontal>\n",
       "\t<dt>Doublet</dt>\n",
       "\t\t<dd>39521</dd>\n",
       "\t<dt>Negative</dt>\n",
       "\t\t<dd>69791</dd>\n",
       "\t<dt>Singlet</dt>\n",
       "\t\t<dd>212570</dd>\n",
       "</dl>\n"
      ],
      "text/latex": [
       "\\begin{description*}\n",
       "\\item[Doublet] 39521\n",
       "\\item[Negative] 69791\n",
       "\\item[Singlet] 212570\n",
       "\\end{description*}\n"
      ],
      "text/markdown": [
       "Doublet\n",
       ":   39521Negative\n",
       ":   69791Singlet\n",
       ":   212570\n",
       "\n"
      ],
      "text/plain": [
       " Doublet Negative  Singlet \n",
       "   39521    69791   212570 "
      ]
     },
     "metadata": {},
     "output_type": "display_data"
    }
   ],
   "source": [
    "summary(CZI.PBMC.Comb.Ground.Truth$HTOD_LABEL)\n",
    "#rownames(CZI.PBMC.1.DF_dbl_scores)[1]=\"DF_BARCODE\""
   ]
  },
  {
   "cell_type": "code",
   "execution_count": null,
   "metadata": {
    "collapsed": true
   },
   "outputs": [],
   "source": [
    "#colnames(CZI.PBMC.1.DF_dbl_scores)[2]=\"DF_LABEL\""
   ]
  },
  {
   "cell_type": "code",
   "execution_count": null,
   "metadata": {
    "collapsed": true
   },
   "outputs": [],
   "source": [
    "#dim(CZI.PBMC.1.DF_dbl_scores)"
   ]
  },
  {
   "cell_type": "code",
   "execution_count": null,
   "metadata": {
    "collapsed": true
   },
   "outputs": [],
   "source": [
    "#dim(CZI.PBMC.HTO.HTODemux.labels)"
   ]
  },
  {
   "cell_type": "code",
   "execution_count": null,
   "metadata": {
    "collapsed": true
   },
   "outputs": [],
   "source": [
    "#CZI.PBMC.HTO.HTODemux.labels=read.csv(\"/projects/ucar-lab/danaco/bncmrk-dblts/GroundTruths/CZI.PBMC/CZI.PBMC.HTO.sample.classifications.HTODemux.csv\")\n",
    "#CZI.PBMC.HTO.MULTIseqDemux.labels=read.csv(\"/projects/ucar-lab/danaco/bncmrk-dblts/GroundTruths/CZI.PBMC/CZI.PBMC.HTO.sample.classifications.MULTIseqDemux.csv\")\n",
    "#CZI.PBMC.HTO.GMM.labels=read.csv(\"/projects/ucar-lab/danaco/bncmrk-dblts/GroundTruths/CZI.PBMC/CZI.PBMC.HTO.sample.classifications.GMM.csv\")[,2:3]\n"
   ]
  },
  {
   "cell_type": "code",
   "execution_count": null,
   "metadata": {
    "collapsed": true
   },
   "outputs": [],
   "source": [
    "#head(CZI.PBMC.HTO.HTODemux.labels[substr(CZI.PBMC.HTO.HTODemux.labels$X,1,2)==\"1-\",])"
   ]
  },
  {
   "cell_type": "code",
   "execution_count": null,
   "metadata": {
    "collapsed": true
   },
   "outputs": [],
   "source": [
    "#CZI.PBMC.1.HTO.HTODemux.labels=CZI.PBMC.HTO.HTODemux.labels[substr(CZI.PBMC.HTO.HTODemux.labels$X,1,2)==\"1-\",]"
   ]
  },
  {
   "cell_type": "code",
   "execution_count": null,
   "metadata": {
    "collapsed": true
   },
   "outputs": [],
   "source": [
    "#for(i in 1:10){\n",
    " #   name=paste(\"CZI.PBMC\",i,\"HTO\",sep=\".\")\n",
    " #   if (i<10){\n",
    "#    assign(paste(name,\"HTODemux.labels\",sep=\".\"),CZI.PBMC.HTO.HTODemux.labels[substr(CZI.PBMC.HTO.HTODemux.labels$X,1,2)==paste(i,\"-\",sep=\"\"),])\n",
    "#    assign(paste(name,\"MULTIseqDemux.labels\",sep=\".\"),CZI.PBMC.HTO.HTODemux.labels[substr(CZI.PBMC.HTO.MULTIseqDemux.labels$X,1,2)==paste(i,\"-\",sep=\"\"),])\n",
    "#    assign(paste(name,\"GMM.labels\",sep=\".\"),CZI.PBMC.HTO.HTODemux.labels[substr(CZI.PBMC.HTO.GMM.labels$Cell_Barcode,1,2)==paste(i,\"-\",sep=\"\"),])\n",
    "#    }else {\n",
    "#    assign(paste(name,\"HTODemux.labels\",sep=\".\"),CZI.PBMC.HTO.HTODemux.labels[substr(CZI.PBMC.HTO.HTODemux.labels$X,1,2)==as.character(i),])\n",
    "#    assign(paste(name,\"MULTIseqDemux.labels\",sep=\".\"),CZI.PBMC.HTO.HTODemux.labels[substr(CZI.PBMC.HTO.MULTIseqDemux.labels$X,1,2)==as.character(i),])\n",
    "#    assign(paste(name,\"GMM.labels\",sep=\".\"),CZI.PBMC.HTO.GMM.labels[substr(CZI.PBMC.HTO.GMM.labels$Cell_Barcode,1,2)==as.character(i),])\n",
    "#    }\n",
    "#}"
   ]
  },
  {
   "cell_type": "code",
   "execution_count": null,
   "metadata": {
    "collapsed": true
   },
   "outputs": [],
   "source": [
    "#dim(CZI.PBMC.2.HTO.GMM.labels)"
   ]
  },
  {
   "cell_type": "code",
   "execution_count": null,
   "metadata": {
    "collapsed": true
   },
   "outputs": [],
   "source": [
    "#CZI.PBMC.2.HTO.GMM.labels$X[1]"
   ]
  },
  {
   "cell_type": "code",
   "execution_count": null,
   "metadata": {
    "collapsed": true
   },
   "outputs": [],
   "source": [
    "#CZI.PBMC.1.HTO.MULTIseqDemux.labels$X[1]"
   ]
  },
  {
   "cell_type": "code",
   "execution_count": null,
   "metadata": {
    "collapsed": true
   },
   "outputs": [],
   "source": [
    "#dim(CZI.PBMC.1.DF_dbl_scores)"
   ]
  },
  {
   "cell_type": "code",
   "execution_count": null,
   "metadata": {
    "collapsed": true
   },
   "outputs": [],
   "source": [
    "#summary(CZI.PBMC.1.HTO.HTODemux.labels$x)"
   ]
  },
  {
   "cell_type": "code",
   "execution_count": null,
   "metadata": {
    "collapsed": true
   },
   "outputs": [],
   "source": [
    "#ls()"
   ]
  },
  {
   "cell_type": "code",
   "execution_count": null,
   "metadata": {
    "collapsed": true
   },
   "outputs": [],
   "source": [
    "#summary(CZI.PBMC.HTO.MULTIseqDemux.labels$X)"
   ]
  },
  {
   "cell_type": "code",
   "execution_count": null,
   "metadata": {
    "collapsed": true
   },
   "outputs": [],
   "source": [
    "#summary(CZI.PBMC.1.HTO.GMM.labels$S_type)"
   ]
  },
  {
   "cell_type": "code",
   "execution_count": null,
   "metadata": {
    "collapsed": true
   },
   "outputs": [],
   "source": [
    "#summary(CZI.PBMC.1.HTO.GMM.labels$Cell_Barcode)"
   ]
  },
  {
   "cell_type": "code",
   "execution_count": null,
   "metadata": {
    "collapsed": true
   },
   "outputs": [],
   "source": [
    "#sum(CZI.PBMC.HTO.MULTIseqDemux.labels$x==CZI.PBMC.HTO.GMM.labels$S_type)"
   ]
  },
  {
   "cell_type": "code",
   "execution_count": null,
   "metadata": {
    "collapsed": true
   },
   "outputs": [],
   "source": [
    "#set1 <- paste(rep(\"word_\" , 200) , sample(c(1:1000) , 200 , replace=F) , sep=\"\")\n",
    "#set2 <- paste(rep(\"word_\" , 200) , sample(c(1:1000) , 200 , replace=F) , sep=\"\")\n",
    "#set3 <- paste(rep(\"word_\" , 200) , sample(c(1:1000) , 200 , replace=F) , sep=\"\")"
   ]
  },
  {
   "cell_type": "code",
   "execution_count": null,
   "metadata": {
    "collapsed": true
   },
   "outputs": [],
   "source": [
    "#venn.diagram(\n",
    "#  x = list(set1, set2, set3),\n",
    "#  category.names = c(\"Set 1\" , \"Set 2 \" , \"Set 3\"),\n",
    "#  filename = '#14_venn_diagramm.png',\n",
    "#  output=FALSE\n",
    "#)"
   ]
  },
  {
   "cell_type": "code",
   "execution_count": null,
   "metadata": {
    "collapsed": true
   },
   "outputs": [],
   "source": []
  },
  {
   "cell_type": "code",
   "execution_count": null,
   "metadata": {
    "collapsed": true
   },
   "outputs": [],
   "source": []
  },
  {
   "cell_type": "code",
   "execution_count": null,
   "metadata": {
    "collapsed": true
   },
   "outputs": [],
   "source": []
  },
  {
   "cell_type": "code",
   "execution_count": null,
   "metadata": {
    "collapsed": true
   },
   "outputs": [],
   "source": []
  },
  {
   "cell_type": "code",
   "execution_count": null,
   "metadata": {
    "collapsed": true
   },
   "outputs": [],
   "source": []
  },
  {
   "cell_type": "code",
   "execution_count": null,
   "metadata": {
    "collapsed": true
   },
   "outputs": [],
   "source": []
  },
  {
   "cell_type": "code",
   "execution_count": null,
   "metadata": {
    "collapsed": true
   },
   "outputs": [],
   "source": []
  },
  {
   "cell_type": "code",
   "execution_count": null,
   "metadata": {
    "collapsed": true
   },
   "outputs": [],
   "source": []
  },
  {
   "cell_type": "code",
   "execution_count": null,
   "metadata": {
    "collapsed": true
   },
   "outputs": [],
   "source": []
  },
  {
   "cell_type": "code",
   "execution_count": null,
   "metadata": {
    "collapsed": true
   },
   "outputs": [],
   "source": []
  },
  {
   "cell_type": "code",
   "execution_count": null,
   "metadata": {
    "collapsed": true
   },
   "outputs": [],
   "source": []
  },
  {
   "cell_type": "code",
   "execution_count": 31,
   "metadata": {},
   "outputs": [
    {
     "data": {
      "text/html": [
       "45295"
      ],
      "text/latex": [
       "45295"
      ],
      "text/markdown": [
       "45295"
      ],
      "text/plain": [
       "[1] 45295"
      ]
     },
     "metadata": {},
     "output_type": "display_data"
    },
    {
     "data": {
      "text/html": [
       "<ol class=list-inline>\n",
       "\t<li>321882</li>\n",
       "\t<li>6</li>\n",
       "</ol>\n"
      ],
      "text/latex": [
       "\\begin{enumerate*}\n",
       "\\item 321882\n",
       "\\item 6\n",
       "\\end{enumerate*}\n"
      ],
      "text/markdown": [
       "1. 321882\n",
       "2. 6\n",
       "\n",
       "\n"
      ],
      "text/plain": [
       "[1] 321882      6"
      ]
     },
     "metadata": {},
     "output_type": "display_data"
    },
    {
     "data": {
      "text/html": [
       "83178"
      ],
      "text/latex": [
       "83178"
      ],
      "text/markdown": [
       "83178"
      ],
      "text/plain": [
       "[1] 83178"
      ]
     },
     "metadata": {},
     "output_type": "display_data"
    }
   ],
   "source": [
    "int_cells <- Reduce(intersect, list(CZI.PBMC.Comb.HTOD.NSNG$BARCODE, CZI.PBMC.Comb.MSD.NSNG$BARCODE, \n",
    "                                    CZI.PBMC.Comb.GMM.SNG$BARCODE ))\n",
    "length(int_cells)\n",
    "\n",
    "dim(CZI.PBMC.Comb.Ground.Truth)\n",
    "dim(CZI.PBMC.Comb.GMM.DBL)[1]\n",
    "\n",
    "DF=4292\n",
    "DD=65094\n",
    "SCR=3198\n",
    "HTOD=29017\n",
    "DF_DD=6081\n",
    "DF_SCR=242\n",
    "DF_HTOD=1658\n",
    "SCR_DD=4415\n",
    "SCR_HTOD=1828\n",
    "DD_HTOD=26203\n",
    "DF_DD_SCR=1008\n",
    "DF_DD_HTOD=3801\n",
    "DF_SCR_HTOD=287\n",
    "SCR_DD_HTOD=5979\n",
    "DF_DD_SCR_HTOD=1957"
   ]
  },
  {
   "cell_type": "code",
   "execution_count": 32,
   "metadata": {
    "collapsed": true
   },
   "outputs": [],
   "source": [
    "write.csv(int_cells,\"/projects/ucar-lab/danaco/bncmrk-dblts/Data/CZI.PBMC/CZI.PBMC.Comb.GMM.excl.SNG.csv\")\n",
    "\n",
    "#DF+DD+SCR+HTOD+DF_DD+DF_SCR+DF_HTOD+SCR_DD+SCR_HTOD+DD_HTOD+DF_DD_SCR+DF_DD_HTOD+DF_SCR_HTOD+SCR_DD_HTOD+DF_DD_SCR_HTOD"
   ]
  },
  {
   "cell_type": "code",
   "execution_count": null,
   "metadata": {
    "collapsed": true
   },
   "outputs": [],
   "source": [
    "#DF_HTOD+SCR_HTOD+DD_HTOD+DF_DD_HTOD+DF_SCR_HTOD+SCR_DD_HTOD+DF_DD_SCR_HTOD\n"
   ]
  },
  {
   "cell_type": "code",
   "execution_count": null,
   "metadata": {
    "collapsed": true
   },
   "outputs": [],
   "source": [
    "int_cells <- Reduce(intersect, list(CZI.PBMC.Comb.SCR.SNG$BARCODE, CZI.PBMC.Comb.DF.SNG$BARCODE, \n",
    "                                    CZI.PBMC.Comb.DD.SNG$BARCODE,CZI.PBMC.Comb.GMM.NDBL$BARCODE ))\n",
    "length(int_cells)\n",
    "\n",
    "dim(CZI.PBMC.Comb.Ground.Truth)\n",
    "dim(CZI.PBMC.Comb.GMM.DBL)[1]"
   ]
  },
  {
   "cell_type": "code",
   "execution_count": null,
   "metadata": {
    "collapsed": true
   },
   "outputs": [],
   "source": [
    "sum(CZI.PBMC.Comb.Ground.Truth$MSD_LABEL==CZI.PBMC.Comb.Ground.Truth$GMM_LABEL)/length(CZI.PBMC.Comb.Ground.Truth$HTOD_LABEL)"
   ]
  },
  {
   "cell_type": "code",
   "execution_count": null,
   "metadata": {
    "collapsed": true
   },
   "outputs": [],
   "source": [
    "100*summary(CZI.PBMC.Comb.Ground.Truth$GMM_LABEL)/length(CZI.PBMC.Comb.Ground.Truth$HTOD_LABEL)"
   ]
  },
  {
   "cell_type": "code",
   "execution_count": null,
   "metadata": {
    "collapsed": true
   },
   "outputs": [],
   "source": [
    "int_cells <- Reduce(intersect, list(CZI.PBMC.Comb.GMM.NGV$BARCODE,CZI.PBMC.Comb.HTOD.NGV$BARCODE,\n",
    "                                    CZI.PBMC.Comb.MSD.NGV$BARCODE))\n",
    "length(int_cells)\n",
    "\n",
    "dim(CZI.PBMC.Comb.Ground.Truth)[1]-184985\n",
    "dim(CZI.PBMC.Comb.GMM.NDBL)[1]"
   ]
  },
  {
   "cell_type": "code",
   "execution_count": null,
   "metadata": {
    "collapsed": true
   },
   "outputs": [],
   "source": [
    "4201+5227+37226+29106+13937+0+124233"
   ]
  },
  {
   "cell_type": "code",
   "execution_count": null,
   "metadata": {
    "collapsed": true
   },
   "outputs": [],
   "source": []
  },
  {
   "cell_type": "code",
   "execution_count": null,
   "metadata": {
    "collapsed": true
   },
   "outputs": [],
   "source": [
    "int_cells <- Reduce(intersect, list(CZI.PBMC.6.DF.DBL$BARCODE,CZI.PBMC.6.SCR.DBL$BARCODE,\n",
    "                                    CZI.PBMC.6.GMM.DBL$BARCODE))\n",
    "length(int_cells)\n",
    "\n",
    "dim(CZI.PBMC.6.Ground.Truth)[1]-23506\n",
    "#dim(CZI.PBMC.Comb.GMM.NDBL)[1]"
   ]
  },
  {
   "cell_type": "code",
   "execution_count": null,
   "metadata": {
    "collapsed": true,
    "scrolled": true
   },
   "outputs": [],
   "source": [
    "DF=1569\n",
    "SCR=855\n",
    "HTOD=4624\n",
    "DF_SCR=150\n",
    "DF_HTOD=540\n",
    "HTOD_SCR=743\n",
    "HTOD_DF_SCR=151\n",
    "\n",
    "DF_HTOD+HTOD_SCR+HTOD_DF_SCR#+DF+SCR+HTOD+DF_SCR"
   ]
  },
  {
   "cell_type": "code",
   "execution_count": null,
   "metadata": {
    "collapsed": true
   },
   "outputs": [],
   "source": []
  },
  {
   "cell_type": "code",
   "execution_count": null,
   "metadata": {
    "collapsed": true
   },
   "outputs": [],
   "source": [
    "ndframe=data.frame(percentage=100*summary(CZI.PBMC.6.Ground.Truth$HTOD_LABEL)/length(CZI.PBMC.6.Ground.Truth$HTOD_LABEL)\n",
    "                  , x=c(1,1,1),type=c(\"Doublet\",\"Negative\",\"Singlet\"))\n",
    "\n",
    "p4 <- ggplot() + geom_bar(aes(y = percentage,x=\"\",  fill = type), data = ndframe,\n",
    "                           stat=\"identity\")\n"
   ]
  },
  {
   "cell_type": "code",
   "execution_count": null,
   "metadata": {
    "collapsed": true
   },
   "outputs": [],
   "source": [
    "((100*summary(CZI.PBMC.6.Ground.Truth$HTOD_LABEL)/length(CZI.PBMC.6.Ground.Truth$HTOD_LABEL)))"
   ]
  },
  {
   "cell_type": "code",
   "execution_count": 16,
   "metadata": {
    "collapsed": true
   },
   "outputs": [],
   "source": [
    "coppa=read.csv(\"/projects/ucar-lab/danaco/copper-data-for-tutorial.csv\")"
   ]
  },
  {
   "cell_type": "code",
   "execution_count": 19,
   "metadata": {},
   "outputs": [
    {
     "data": {
      "text/html": [
       "<table>\n",
       "<thead><tr><th scope=col>product</th><th scope=col>year</th><th scope=col>export</th><th scope=col>percentage</th><th scope=col>sum</th></tr></thead>\n",
       "<tbody>\n",
       "\t<tr><td>copper</td><td>2006  </td><td> 4176 </td><td>79    </td><td> 5255 </td></tr>\n",
       "\t<tr><td>copper</td><td>2007  </td><td> 8560 </td><td>81    </td><td>10505 </td></tr>\n",
       "\t<tr><td>copper</td><td>2008  </td><td> 6473 </td><td>76    </td><td> 8519 </td></tr>\n",
       "\t<tr><td>copper</td><td>2009  </td><td>10465 </td><td>80    </td><td>13027 </td></tr>\n",
       "\t<tr><td>copper</td><td>2010  </td><td>14977 </td><td>86    </td><td>17325 </td></tr>\n",
       "\t<tr><td>copper</td><td>2011  </td><td>15421 </td><td>83    </td><td>18629 </td></tr>\n",
       "\t<tr><td>copper</td><td>2012  </td><td>14805 </td><td>82    </td><td>18079 </td></tr>\n",
       "\t<tr><td>copper</td><td>2013  </td><td>15183 </td><td>80    </td><td>19088 </td></tr>\n",
       "\t<tr><td>copper</td><td>2014  </td><td>14012 </td><td>76    </td><td>18437 </td></tr>\n",
       "\t<tr><td>others</td><td>2006  </td><td> 1079 </td><td>21    </td><td> 5255 </td></tr>\n",
       "\t<tr><td>others</td><td>2007  </td><td> 1945 </td><td>19    </td><td>10505 </td></tr>\n",
       "\t<tr><td>others</td><td>2008  </td><td> 2046 </td><td>24    </td><td> 8519 </td></tr>\n",
       "\t<tr><td>others</td><td>2009  </td><td> 2562 </td><td>20    </td><td>13027 </td></tr>\n",
       "\t<tr><td>others</td><td>2010  </td><td> 2348 </td><td>14    </td><td>17325 </td></tr>\n",
       "\t<tr><td>others</td><td>2011  </td><td> 3208 </td><td>17    </td><td>18629 </td></tr>\n",
       "\t<tr><td>others</td><td>2012  </td><td> 3274 </td><td>18    </td><td>18079 </td></tr>\n",
       "\t<tr><td>others</td><td>2013  </td><td> 3905 </td><td>20    </td><td>19088 </td></tr>\n",
       "\t<tr><td>others</td><td>2014  </td><td> 4425 </td><td>24    </td><td>18437 </td></tr>\n",
       "</tbody>\n",
       "</table>\n"
      ],
      "text/latex": [
       "\\begin{tabular}{r|lllll}\n",
       " product & year & export & percentage & sum\\\\\n",
       "\\hline\n",
       "\t copper & 2006   &  4176  & 79     &  5255 \\\\\n",
       "\t copper & 2007   &  8560  & 81     & 10505 \\\\\n",
       "\t copper & 2008   &  6473  & 76     &  8519 \\\\\n",
       "\t copper & 2009   & 10465  & 80     & 13027 \\\\\n",
       "\t copper & 2010   & 14977  & 86     & 17325 \\\\\n",
       "\t copper & 2011   & 15421  & 83     & 18629 \\\\\n",
       "\t copper & 2012   & 14805  & 82     & 18079 \\\\\n",
       "\t copper & 2013   & 15183  & 80     & 19088 \\\\\n",
       "\t copper & 2014   & 14012  & 76     & 18437 \\\\\n",
       "\t others & 2006   &  1079  & 21     &  5255 \\\\\n",
       "\t others & 2007   &  1945  & 19     & 10505 \\\\\n",
       "\t others & 2008   &  2046  & 24     &  8519 \\\\\n",
       "\t others & 2009   &  2562  & 20     & 13027 \\\\\n",
       "\t others & 2010   &  2348  & 14     & 17325 \\\\\n",
       "\t others & 2011   &  3208  & 17     & 18629 \\\\\n",
       "\t others & 2012   &  3274  & 18     & 18079 \\\\\n",
       "\t others & 2013   &  3905  & 20     & 19088 \\\\\n",
       "\t others & 2014   &  4425  & 24     & 18437 \\\\\n",
       "\\end{tabular}\n"
      ],
      "text/markdown": [
       "\n",
       "product | year | export | percentage | sum | \n",
       "|---|---|---|---|---|---|---|---|---|---|---|---|---|---|---|---|---|---|\n",
       "| copper | 2006   |  4176  | 79     |  5255  | \n",
       "| copper | 2007   |  8560  | 81     | 10505  | \n",
       "| copper | 2008   |  6473  | 76     |  8519  | \n",
       "| copper | 2009   | 10465  | 80     | 13027  | \n",
       "| copper | 2010   | 14977  | 86     | 17325  | \n",
       "| copper | 2011   | 15421  | 83     | 18629  | \n",
       "| copper | 2012   | 14805  | 82     | 18079  | \n",
       "| copper | 2013   | 15183  | 80     | 19088  | \n",
       "| copper | 2014   | 14012  | 76     | 18437  | \n",
       "| others | 2006   |  1079  | 21     |  5255  | \n",
       "| others | 2007   |  1945  | 19     | 10505  | \n",
       "| others | 2008   |  2046  | 24     |  8519  | \n",
       "| others | 2009   |  2562  | 20     | 13027  | \n",
       "| others | 2010   |  2348  | 14     | 17325  | \n",
       "| others | 2011   |  3208  | 17     | 18629  | \n",
       "| others | 2012   |  3274  | 18     | 18079  | \n",
       "| others | 2013   |  3905  | 20     | 19088  | \n",
       "| others | 2014   |  4425  | 24     | 18437  | \n",
       "\n",
       "\n"
      ],
      "text/plain": [
       "   product year export percentage sum  \n",
       "1  copper  2006  4176  79          5255\n",
       "2  copper  2007  8560  81         10505\n",
       "3  copper  2008  6473  76          8519\n",
       "4  copper  2009 10465  80         13027\n",
       "5  copper  2010 14977  86         17325\n",
       "6  copper  2011 15421  83         18629\n",
       "7  copper  2012 14805  82         18079\n",
       "8  copper  2013 15183  80         19088\n",
       "9  copper  2014 14012  76         18437\n",
       "10 others  2006  1079  21          5255\n",
       "11 others  2007  1945  19         10505\n",
       "12 others  2008  2046  24          8519\n",
       "13 others  2009  2562  20         13027\n",
       "14 others  2010  2348  14         17325\n",
       "15 others  2011  3208  17         18629\n",
       "16 others  2012  3274  18         18079\n",
       "17 others  2013  3905  20         19088\n",
       "18 others  2014  4425  24         18437"
      ]
     },
     "metadata": {},
     "output_type": "display_data"
    }
   ],
   "source": [
    "coppa"
   ]
  },
  {
   "cell_type": "code",
   "execution_count": 55,
   "metadata": {},
   "outputs": [
    {
     "data": {
      "text/html": [
       "<ol class=list-inline>\n",
       "\t<li>'BARCODE'</li>\n",
       "\t<li>'DF_LABEL'</li>\n",
       "\t<li>'SCR_LABEL'</li>\n",
       "\t<li>'DD_LABEL'</li>\n",
       "\t<li>'HTOD_LABEL'</li>\n",
       "\t<li>'MSD_LABEL'</li>\n",
       "\t<li>'GMM_LABEL'</li>\n",
       "</ol>\n"
      ],
      "text/latex": [
       "\\begin{enumerate*}\n",
       "\\item 'BARCODE'\n",
       "\\item 'DF\\_LABEL'\n",
       "\\item 'SCR\\_LABEL'\n",
       "\\item 'DD\\_LABEL'\n",
       "\\item 'HTOD\\_LABEL'\n",
       "\\item 'MSD\\_LABEL'\n",
       "\\item 'GMM\\_LABEL'\n",
       "\\end{enumerate*}\n"
      ],
      "text/markdown": [
       "1. 'BARCODE'\n",
       "2. 'DF_LABEL'\n",
       "3. 'SCR_LABEL'\n",
       "4. 'DD_LABEL'\n",
       "5. 'HTOD_LABEL'\n",
       "6. 'MSD_LABEL'\n",
       "7. 'GMM_LABEL'\n",
       "\n",
       "\n"
      ],
      "text/plain": [
       "[1] \"BARCODE\"    \"DF_LABEL\"   \"SCR_LABEL\"  \"DD_LABEL\"   \"HTOD_LABEL\"\n",
       "[6] \"MSD_LABEL\"  \"GMM_LABEL\" "
      ]
     },
     "metadata": {},
     "output_type": "display_data"
    }
   ],
   "source": [
    "CZI.PBMC.Comb.Ground.Truth.f1=CZI.PBMC.Comb.Ground.Truth\n",
    "colnames(CZI.PBMC.Comb.Ground.Truth.f1)"
   ]
  },
  {
   "cell_type": "code",
   "execution_count": 56,
   "metadata": {},
   "outputs": [],
   "source": [
    "CZI.PBMC.Comb.Ground.Truth.f1$DF_LABEL=as.character(CZI.PBMC.Comb.Ground.Truth.f1$DF_LABEL)\n",
    "CZI.PBMC.Comb.Ground.Truth.f1$SCR_LABEL=as.character(CZI.PBMC.Comb.Ground.Truth.f1$SCR_LABEL)\n",
    "CZI.PBMC.Comb.Ground.Truth.f1$DD_LABEL=as.character(CZI.PBMC.Comb.Ground.Truth.f1$DD_LABEL)\n",
    "CZI.PBMC.Comb.Ground.Truth.f1$GMM_LABEL=as.character(CZI.PBMC.Comb.Ground.Truth.f1$GMM_LABEL)\n",
    "#CZI.PBMC.Comb.Ground.Truth.f1$DF_LABEL=as.character(CZI.PBMC.Comb.Ground.Truth.f1$DF_LABEL)\n",
    "\n",
    "\n"
   ]
  },
  {
   "cell_type": "code",
   "execution_count": 60,
   "metadata": {},
   "outputs": [],
   "source": [
    "pstns=which(CZI.PBMC.Comb.Ground.Truth.f1$DF_LABEL==\"Singlet\")\n",
    "CZI.PBMC.Comb.Ground.Truth.f1$DF_LABEL[pstns]=\"0\"\n",
    "pstns=which(CZI.PBMC.Comb.Ground.Truth.f1$DF_LABEL==\"Doublet\")\n",
    "CZI.PBMC.Comb.Ground.Truth.f1$DF_LABEL[pstns]=\"1\"\n",
    "\n",
    "pstns=which(CZI.PBMC.Comb.Ground.Truth.f1$SCR_LABEL==\"Singlet\")\n",
    "CZI.PBMC.Comb.Ground.Truth.f1$SCR_LABEL[pstns]=\"0\"\n",
    "pstns=which(CZI.PBMC.Comb.Ground.Truth.f1$SCR_LABEL==\"Doublet\")\n",
    "CZI.PBMC.Comb.Ground.Truth.f1$SCR_LABEL[pstns]=\"1\"\n",
    "\n",
    "pstns=which(CZI.PBMC.Comb.Ground.Truth.f1$DD_LABEL==\"Singlet\")\n",
    "CZI.PBMC.Comb.Ground.Truth.f1$DD_LABEL[pstns]=\"0\"\n",
    "pstns=which(CZI.PBMC.Comb.Ground.Truth.f1$DD_LABEL==\"Doublet\")\n",
    "CZI.PBMC.Comb.Ground.Truth.f1$DD_LABEL[pstns]=\"1\"\n",
    "\n",
    "pstns=which(CZI.PBMC.Comb.Ground.Truth.f1$GMM_LABEL==\"Singlet\")\n",
    "CZI.PBMC.Comb.Ground.Truth.f1$GMM_LABEL[pstns]=\"0\"\n",
    "pstns=which(CZI.PBMC.Comb.Ground.Truth.f1$GMM_LABEL==\"Doublet\")\n",
    "CZI.PBMC.Comb.Ground.Truth.f1$GMM_LABEL[pstns]=\"1\"\n",
    "\n",
    "ngv_pstns=which(CZI.PBMC.Comb.Ground.Truth.f1$GMM_LABEL==\"Negative\")\n",
    "CZI.PBMC.Comb.Ground.Truth.f1=CZI.PBMC.Comb.Ground.Truth.f1[-ngv_pstns,]"
   ]
  },
  {
   "cell_type": "code",
   "execution_count": 67,
   "metadata": {},
   "outputs": [],
   "source": [
    "CZI.PBMC.Comb.Ground.Truth.f1$DF_LABEL=as.double(CZI.PBMC.Comb.Ground.Truth.f1$DF_LABEL)\n",
    "CZI.PBMC.Comb.Ground.Truth.f1$SCR_LABEL=as.double(CZI.PBMC.Comb.Ground.Truth.f1$SCR_LABEL)\n",
    "CZI.PBMC.Comb.Ground.Truth.f1$DD_LABEL=as.double(CZI.PBMC.Comb.Ground.Truth.f1$DD_LABEL)\n",
    "CZI.PBMC.Comb.Ground.Truth.f1$GMM_LABEL=as.double(CZI.PBMC.Comb.Ground.Truth.f1$GMM_LABEL)"
   ]
  },
  {
   "cell_type": "code",
   "execution_count": 50,
   "metadata": {},
   "outputs": [
    {
     "name": "stderr",
     "output_type": "stream",
     "text": [
      "Installing package into '/home/danaco/R/x86_64-pc-linux-gnu-library/3.4'\n",
      "(as 'lib' is unspecified)\n"
     ]
    }
   ],
   "source": [
    "install.packages(\"ModelMetrics\")"
   ]
  },
  {
   "cell_type": "code",
   "execution_count": 51,
   "metadata": {},
   "outputs": [
    {
     "name": "stderr",
     "output_type": "stream",
     "text": [
      "\n",
      "Attaching package: 'ModelMetrics'\n",
      "\n",
      "The following object is masked from 'package:base':\n",
      "\n",
      "    kappa\n",
      "\n"
     ]
    }
   ],
   "source": [
    "library(ModelMetrics)"
   ]
  },
  {
   "cell_type": "code",
   "execution_count": 85,
   "metadata": {},
   "outputs": [],
   "source": [
    "SCR.logLoss=auc(CZI.PBMC.Comb.Ground.Truth.f1$GMM_LABEL,CZI.PBMC.Comb.Ground.Truth.f1$SCR_LABEL)\n",
    "DF.logLoss=auc(CZI.PBMC.Comb.Ground.Truth.f1$GMM_LABEL,CZI.PBMC.Comb.Ground.Truth.f1$DF_LABEL)\n",
    "DD.logLoss=auc(CZI.PBMC.Comb.Ground.Truth.f1$GMM_LABEL,CZI.PBMC.Comb.Ground.Truth.f1$DD_LABEL)"
   ]
  },
  {
   "cell_type": "code",
   "execution_count": 86,
   "metadata": {},
   "outputs": [
    {
     "data": {
      "text/html": [
       "0.547140281721479"
      ],
      "text/latex": [
       "0.547140281721479"
      ],
      "text/markdown": [
       "0.547140281721479"
      ],
      "text/plain": [
       "[1] 0.5471403"
      ]
     },
     "metadata": {},
     "output_type": "display_data"
    },
    {
     "data": {
      "text/html": [
       "0.521414033779544"
      ],
      "text/latex": [
       "0.521414033779544"
      ],
      "text/markdown": [
       "0.521414033779544"
      ],
      "text/plain": [
       "[1] 0.521414"
      ]
     },
     "metadata": {},
     "output_type": "display_data"
    },
    {
     "data": {
      "text/html": [
       "0.556610400900998"
      ],
      "text/latex": [
       "0.556610400900998"
      ],
      "text/markdown": [
       "0.556610400900998"
      ],
      "text/plain": [
       "[1] 0.5566104"
      ]
     },
     "metadata": {},
     "output_type": "display_data"
    }
   ],
   "source": [
    "SCR.fscore\n",
    "DF.fscore\n",
    "DD.fscore"
   ]
  },
  {
   "cell_type": "code",
   "execution_count": 90,
   "metadata": {},
   "outputs": [
    {
     "data": {
      "text/html": [
       "0.565202376018787"
      ],
      "text/latex": [
       "0.565202376018787"
      ],
      "text/markdown": [
       "0.565202376018787"
      ],
      "text/plain": [
       "[1] 0.5652024"
      ]
     },
     "metadata": {},
     "output_type": "display_data"
    }
   ],
   "source": [
    "sum(CZI.PBMC.Comb.Ground.Truth.f1$DD_LABEL==CZI.PBMC.Comb.Ground.Truth.f1$GMM_LABEL)/length(CZI.PBMC.Comb.Ground.Truth.f1$GMM_LABEL)"
   ]
  },
  {
   "cell_type": "code",
   "execution_count": 76,
   "metadata": {},
   "outputs": [
    {
     "data": {
      "text/html": [
       "246126"
      ],
      "text/latex": [
       "246126"
      ],
      "text/markdown": [
       "246126"
      ],
      "text/plain": [
       "[1] 246126"
      ]
     },
     "metadata": {},
     "output_type": "display_data"
    }
   ],
   "source": [
    "length(CZI.PBMC.Comb.Ground.Truth.f1$GMM_LABEL)"
   ]
  },
  {
   "cell_type": "code",
   "execution_count": null,
   "metadata": {
    "collapsed": true
   },
   "outputs": [],
   "source": []
  }
 ],
 "metadata": {
  "kernelspec": {
   "display_name": "R",
   "language": "R",
   "name": "ir"
  },
  "language_info": {
   "codemirror_mode": "r",
   "file_extension": ".r",
   "mimetype": "text/x-r-source",
   "name": "R",
   "pygments_lexer": "r",
   "version": "3.4.1"
  }
 },
 "nbformat": 4,
 "nbformat_minor": 2
}
