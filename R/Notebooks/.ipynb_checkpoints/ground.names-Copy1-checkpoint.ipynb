{
 "cells": [
  {
   "cell_type": "code",
   "execution_count": 1,
   "metadata": {},
   "outputs": [
    {
     "name": "stderr",
     "output_type": "stream",
     "text": [
      "\n",
      "Attaching package: ‘dplyr’\n",
      "\n",
      "The following objects are masked from ‘package:stats’:\n",
      "\n",
      "    filter, lag\n",
      "\n",
      "The following objects are masked from ‘package:base’:\n",
      "\n",
      "    intersect, setdiff, setequal, union\n",
      "\n",
      "\n",
      "Attaching package: ‘cowplot’\n",
      "\n",
      "The following object is masked from ‘package:ggplot2’:\n",
      "\n",
      "    ggsave\n",
      "\n",
      "Loading required package: aoos\n",
      "\n",
      "Attaching package: ‘dat’\n",
      "\n",
      "The following object is masked from ‘package:base’:\n",
      "\n",
      "    replace\n",
      "\n",
      "Loading tidyverse: tibble\n",
      "Loading tidyverse: tidyr\n",
      "Loading tidyverse: readr\n",
      "Loading tidyverse: purrr\n",
      "Conflicts with tidy packages ---------------------------------------------------\n",
      "expand():  tidyr, Matrix\n",
      "extract(): tidyr, dat\n",
      "filter():  dplyr, stats\n",
      "ggsave():  ggplot2, cowplot\n",
      "lag():     dplyr, stats\n",
      "map():     purrr, dat\n"
     ]
    }
   ],
   "source": [
    "rm(list = ls())\n",
    "set.seed(100)\n",
    "library(Rtsne)\n",
    "library(RColorBrewer)\n",
    "library(pheatmap)\n",
    "library(dplyr)\n",
    "library(ggplot2)\n",
    "library(cowplot)\n",
    "library(Seurat)\n",
    "library(Matrix)\n",
    "library(dat)\n",
    "library(tidyverse)"
   ]
  },
  {
   "cell_type": "code",
   "execution_count": 11,
   "metadata": {
    "collapsed": true
   },
   "outputs": [],
   "source": [
    "Scrublet_2.5_dbl_scores=read.csv(\"doublet_scores_2.5.csv\")$X0\n",
    "comb.counts=readRDS(\"/projects/ucar-lab/danaco/Ground/comb.counts.RDS\")\n",
    "groundTruth=read.csv(\"groundTruth.csv\")[,2:3]\n",
    "groundTruth$BARCODE=as.character(groundTruth$BARCODE)\n",
    "groundTruth$S_type=as.character(groundTruth$S_type)\n",
    "#gr_ids=which(as.character(groundTruth$BARCODE) %in% colnames(comb.counts))\n",
    "#Scrublet_2.5_dbl_scores=Scrublet_2.5_dbl_scores[gr_ids]\n",
    "DemuxletDefault=read.csv(\"DemuxletDefaultLabels.csv\")[,2:3]\n",
    "DemuxletDefault$DefDemux_labels=as.character(DemuxletDefault$DROPLET.TYPE)\n",
    "DemuxletDefault$DROPLET.TYPE=NULL\n",
    "#DemuxletDefault %>% dplyr::rename(DefDemux_labels = DROPLET.TYPE)\n",
    "DemuxletModified=read.csv(\"DemuxletModifiedLabels.csv\")[,2:3]\n",
    "DemuxletModified$ModDemux_labels=as.character(DemuxletModified$DROPLET.TYPE)\n",
    "DemuxletModified$DROPLET.TYPE=NULL\n",
    "df=read.csv(\"../Software/DF/Ground/doubletFinderGround.csv\")[,2:3]\n",
    "#DemuxletDefault %>% dplyr::rename(ModDemux_labels = DROPLET.TYPE)"
   ]
  },
  {
   "cell_type": "code",
   "execution_count": 12,
   "metadata": {
    "collapsed": true
   },
   "outputs": [],
   "source": [
    "#Scrublet_2.5_dbl_scores=read.csv(\"doublet_scores_2.5.csv\")$X0\n",
    "scr_2.5=data.frame(BARCODE=colnames(comb.counts),scr_2.5_scores=Scrublet_2.5_dbl_scores)\n",
    "groundTruth=merge(groundTruth,scr_2.5,by.x=\"BARCODE\",by.y=\"BARCODE\")\n",
    "groundTruth=merge(groundTruth,DemuxletDefault,by.x=\"BARCODE\",by.y=\"BARCODE\")\n",
    "groundTruth=merge(groundTruth,DemuxletModified,by.x=\"BARCODE\",by.y=\"BARCODE\")\n",
    "groundTruth=merge(groundTruth,df,by.x=\"BARCODE\",by.y=\"BARCODE\")"
   ]
  },
  {
   "cell_type": "code",
   "execution_count": 13,
   "metadata": {
    "collapsed": true
   },
   "outputs": [],
   "source": [
    "groundTruth$scr_2.5_labels=groundTruth$scr_2.5_scores\n",
    "groundTruth$scr_2.5_labels[groundTruth$scr_2.5_scores>0.25]=\"DBL\"\n",
    "groundTruth$scr_2.5_labels[groundTruth$scr_2.5_scores<=0.25]=\"SNG\""
   ]
  },
  {
   "cell_type": "code",
   "execution_count": 14,
   "metadata": {
    "collapsed": true
   },
   "outputs": [],
   "source": [
    "gr.SNG=subset(groundTruth,S_type==\"SNG\")\n",
    "gr.DBL=subset(groundTruth,S_type==\"DBL\")"
   ]
  },
  {
   "cell_type": "code",
   "execution_count": 15,
   "metadata": {
    "collapsed": true
   },
   "outputs": [],
   "source": [
    "gr_2.5_SNG=subset(groundTruth,scr_2.5_labels==\"SNG\")\n",
    "gr_2.5_DBL=subset(groundTruth,scr_2.5_labels==\"DBL\")\n",
    "gr_Dem_SNG=subset(groundTruth,DefDemux_labels==\"SNG\")\n",
    "gr_Dem_DBL=subset(groundTruth,DefDemux_labels==\"DBL\")\n",
    "gr_df_SNG=subset(groundTruth,Df_label==\"SNG\")\n",
    "gr_df_DBL=subset(groundTruth,Df_label==\"DBL\")"
   ]
  },
  {
   "cell_type": "code",
   "execution_count": 33,
   "metadata": {},
   "outputs": [
    {
     "data": {
      "text/html": [
       "10036"
      ],
      "text/latex": [
       "10036"
      ],
      "text/markdown": [
       "10036"
      ],
      "text/plain": [
       "[1] 10036"
      ]
     },
     "metadata": {},
     "output_type": "display_data"
    }
   ],
   "source": [
    "int_cells <- Reduce(intersect, list(gr.DBL$BARCODE, gr_2.5_SNG$BARCODE, gr_Dem_DBL$BARCODE,gr_df_SNG$BARCODE ))\n",
    "length(int_cells)\n",
    "#sum(gr.SNG$scr_2.5_labels==\"SNG\")/dim(gr.SNG)[1]\n",
    "#sum(as.character(groundTruth$S_type)==as.character(DemuxletModified$DROPLET.TYPE))/length(groundTruth$S_type)"
   ]
  },
  {
   "cell_type": "code",
   "execution_count": 56,
   "metadata": {},
   "outputs": [
    {
     "data": {
      "text/html": [
       "0.667769137898335"
      ],
      "text/latex": [
       "0.667769137898335"
      ],
      "text/markdown": [
       "0.667769137898335"
      ],
      "text/plain": [
       "[1] 0.6677691"
      ]
     },
     "metadata": {},
     "output_type": "display_data"
    },
    {
     "data": {
      "text/html": [
       "9959"
      ],
      "text/latex": [
       "9959"
      ],
      "text/markdown": [
       "9959"
      ],
      "text/plain": [
       "[1] 9959"
      ]
     },
     "metadata": {},
     "output_type": "display_data"
    },
    {
     "data": {
      "text/html": [
       "0.10031871441061"
      ],
      "text/latex": [
       "0.10031871441061"
      ],
      "text/markdown": [
       "0.10031871441061"
      ],
      "text/plain": [
       "[1] 0.1003187"
      ]
     },
     "metadata": {},
     "output_type": "display_data"
    }
   ],
   "source": [
    "sum(groundTruth$S_type==as.character(groundTruth$Df_label))/length(groundTruth$S_type)\n",
    "sum(gr.DBL$Df_label==\"DBL\")#/dim(gr.DBL)[1]\n",
    "dim(gr_df_DBL)[1]/dim(groundTruth)[1]"
   ]
  },
  {
   "cell_type": "code",
   "execution_count": 36,
   "metadata": {
    "collapsed": true
   },
   "outputs": [],
   "source": [
    "Scrublet_2.5_dbl_scores=read.csv(\"doublet_scores_2.5.csv\")$X0\n",
    "\n",
    "#Scrublet_2.5_dbl_scores=Scrublet_2.5_dbl_scores[gr_ids]\n"
   ]
  },
  {
   "cell_type": "code",
   "execution_count": 27,
   "metadata": {
    "collapsed": true
   },
   "outputs": [],
   "source": [
    "demuxSNG=subset(DemuxletDefault, DROPLET.TYPE==\"SNG\")"
   ]
  },
  {
   "cell_type": "code",
   "execution_count": 34,
   "metadata": {
    "collapsed": true
   },
   "outputs": [],
   "source": [
    "groundTruth=read.csv(\"groundTruth.csv\")\n"
   ]
  },
  {
   "cell_type": "code",
   "execution_count": 40,
   "metadata": {
    "collapsed": true
   },
   "outputs": [],
   "source": [
    "gr_ids=which(groundTruth$BARCODE %in% colnames(comb.counts))"
   ]
  },
  {
   "cell_type": "code",
   "execution_count": 6,
   "metadata": {
    "collapsed": true
   },
   "outputs": [],
   "source": [
    "#write.csv(groundTruth$BARCODE,\"groundTruthBarcodes.csv\")"
   ]
  },
  {
   "cell_type": "code",
   "execution_count": 2,
   "metadata": {
    "collapsed": true
   },
   "outputs": [],
   "source": []
  },
  {
   "cell_type": "code",
   "execution_count": 4,
   "metadata": {
    "collapsed": true
   },
   "outputs": [],
   "source": []
  },
  {
   "cell_type": "code",
   "execution_count": 10,
   "metadata": {},
   "outputs": [
    {
     "data": {
      "text/html": [
       "<ol>\n",
       "</ol>\n"
      ],
      "text/latex": [
       "\\begin{enumerate}\n",
       "\\end{enumerate}\n"
      ],
      "text/markdown": [
       "\n",
       "\n"
      ],
      "text/plain": [
       "list()"
      ]
     },
     "metadata": {},
     "output_type": "display_data"
    }
   ],
   "source": []
  },
  {
   "cell_type": "code",
   "execution_count": 17,
   "metadata": {
    "collapsed": true
   },
   "outputs": [],
   "source": []
  },
  {
   "cell_type": "code",
   "execution_count": 18,
   "metadata": {},
   "outputs": [
    {
     "data": {
      "text/html": [
       "<ol class=list-inline>\n",
       "\t<li>216181</li>\n",
       "\t<li>5</li>\n",
       "</ol>\n"
      ],
      "text/latex": [
       "\\begin{enumerate*}\n",
       "\\item 216181\n",
       "\\item 5\n",
       "\\end{enumerate*}\n"
      ],
      "text/markdown": [
       "1. 216181\n",
       "2. 5\n",
       "\n",
       "\n"
      ],
      "text/plain": [
       "[1] 216181      5"
      ]
     },
     "metadata": {},
     "output_type": "display_data"
    }
   ],
   "source": [
    "dim(groundTruth)"
   ]
  },
  {
   "cell_type": "code",
   "execution_count": null,
   "metadata": {
    "collapsed": true
   },
   "outputs": [],
   "source": []
  }
 ],
 "metadata": {
  "kernelspec": {
   "display_name": "R",
   "language": "R",
   "name": "ir"
  },
  "language_info": {
   "codemirror_mode": "r",
   "file_extension": ".r",
   "mimetype": "text/x-r-source",
   "name": "R",
   "pygments_lexer": "r",
   "version": "3.4.1"
  }
 },
 "nbformat": 4,
 "nbformat_minor": 2
}
