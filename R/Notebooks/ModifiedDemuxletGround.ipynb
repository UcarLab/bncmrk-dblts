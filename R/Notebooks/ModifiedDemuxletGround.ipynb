{
 "cells": [
  {
   "cell_type": "code",
   "execution_count": 1,
   "metadata": {},
   "outputs": [
    {
     "name": "stderr",
     "output_type": "stream",
     "text": [
      "\n",
      "Attaching package: ‘compare’\n",
      "\n",
      "The following object is masked from ‘package:base’:\n",
      "\n",
      "    isTRUE\n",
      "\n"
     ]
    }
   ],
   "source": [
    "set.seed(100)\n",
    "library(Rtsne)\n",
    "library(ggplot2)\n",
    "library(Seurat)\n",
    "library(Matrix)\n",
    "library(compare)\n",
    "library(tictoc)\n",
    "setwd(\"/projects/ucar-lab/danaco/PBMC_scRNAseqv/GroundBarcodes\")"
   ]
  },
  {
   "cell_type": "code",
   "execution_count": 2,
   "metadata": {
    "collapsed": true
   },
   "outputs": [],
   "source": [
    "dat1_raw=read.table(\"1-HTO.all.cell.barcodes.for.demuxlet.txt.demux.filtered.VCF.best\",header=TRUE,fill=TRUE)\n",
    "drb <- strsplit(x = as.character(dat1_raw$BARCODE), split = \"-\")\n",
    "drb  <- unlist(lapply(drb , `[[`, 1))\n",
    "drb =paste(\"1-Sample\",drb,sep=\"_\")\n",
    "dat1_raw$BARCODE=drb\n",
    "dat2_raw=read.table(\"2-HTO.all.cell.barcodes.for.demuxlet.txt.demux.filtered.VCF.best\",header=TRUE,fill=TRUE)\n",
    "drb <- strsplit(x = as.character(dat2_raw$BARCODE), split = \"-\")\n",
    "drb  <- unlist(lapply(drb , `[[`, 1))\n",
    "drb =paste(\"2-Sample\",drb,sep=\"_\")\n",
    "dat2_raw$BARCODE=drb\n",
    "dat3_raw=read.table(\"3-HTO.all.cell.barcodes.for.demuxlet.txt.demux.filtered.VCF.best\",header=TRUE,fill=TRUE)\n",
    "drb <- strsplit(x = as.character(dat3_raw$BARCODE), split = \"-\")\n",
    "drb  <- unlist(lapply(drb , `[[`, 1))\n",
    "drb =paste(\"3-Sample\",drb,sep=\"_\")\n",
    "dat3_raw$BARCODE=drb\n",
    "dat4_raw=read.table(\"4-HTO.all.cell.barcodes.for.demuxlet.txt.demux.filtered.VCF.best\",header=TRUE,fill=TRUE)\n",
    "drb <- strsplit(x = as.character(dat4_raw$BARCODE), split = \"-\")\n",
    "drb  <- unlist(lapply(drb , `[[`, 1))\n",
    "drb =paste(\"4-Sample\",drb,sep=\"_\")\n",
    "dat4_raw$BARCODE=drb\n",
    "dat5_raw=read.table(\"5-HTO.all.cell.barcodes.for.demuxlet.txt.demux.filtered.VCF.best\",header=TRUE,fill=TRUE)\n",
    "drb <- strsplit(x = as.character(dat5_raw$BARCODE), split = \"-\")\n",
    "drb  <- unlist(lapply(drb , `[[`, 1))\n",
    "drb =paste(\"5-Sample\",drb,sep=\"_\")\n",
    "dat5_raw$BARCODE=drb\n",
    "dat6_raw=read.table(\"6-HTO.all.cell.barcodes.for.demuxlet.txt.demux.filtered.VCF.best\",header=TRUE,fill=TRUE)\n",
    "drb <- strsplit(x = as.character(dat6_raw$BARCODE), split = \"-\")\n",
    "drb  <- unlist(lapply(drb , `[[`, 1))\n",
    "drb =paste(\"6-Sample\",drb,sep=\"_\")\n",
    "dat6_raw$BARCODE=drb\n",
    "dat7_raw=read.table(\"7-HTO.all.cell.barcodes.for.demuxlet.txt.demux.filtered.VCF.best\",header=TRUE,fill=TRUE)\n",
    "drb <- strsplit(x = as.character(dat7_raw$BARCODE), split = \"-\")\n",
    "drb  <- unlist(lapply(drb , `[[`, 1))\n",
    "drb =paste(\"7-Sample\",drb,sep=\"_\")\n",
    "dat7_raw$BARCODE=drb\n",
    "dat8_raw=read.table(\"8-HTO.all.cell.barcodes.for.demuxlet.txt.demux.filtered.VCF.best\",header=TRUE,fill=TRUE)\n",
    "drb <- strsplit(x = as.character(dat8_raw$BARCODE), split = \"-\")\n",
    "drb  <- unlist(lapply(drb , `[[`, 1))\n",
    "drb =paste(\"8-Sample\",drb,sep=\"_\")\n",
    "dat8_raw$BARCODE=drb\n",
    "dat9_raw=read.table(\"9-HTO.all.cell.barcodes.for.demuxlet.txt.demux.filtered.VCF.best\",header=TRUE,fill=TRUE)\n",
    "drb <- strsplit(x = as.character(dat9_raw$BARCODE), split = \"-\")\n",
    "drb  <- unlist(lapply(drb , `[[`, 1))\n",
    "drb =paste(\"9-Sample\",drb,sep=\"_\")\n",
    "dat9_raw$BARCODE=drb\n",
    "dat10_raw=read.table(\"10-HTO.all.cell.barcodes.for.demuxlet.txt.demux.filtered.VCF.best\",header=TRUE,fill=TRUE)\n",
    "drb <- strsplit(x = as.character(dat10_raw$BARCODE), split = \"-\")\n",
    "drb  <- unlist(lapply(drb , `[[`, 1))\n",
    "drb =paste(\"10-Sample\",drb,sep=\"_\")\n",
    "dat10_raw$BARCODE=drb"
   ]
  },
  {
   "cell_type": "code",
   "execution_count": 3,
   "metadata": {},
   "outputs": [
    {
     "name": "stdout",
     "output_type": "stream",
     "text": [
      "2.634 sec elapsed\n"
     ]
    }
   ],
   "source": [
    "groundTruths_raw=read.csv(\"/home/danaco/Codes/ToyModels/CZI.PMBC.HTO.pooled.sample.classifications.GMM.csv\")[,c(1,4)]\n",
    "\n",
    "groundTruths_raw$Cell_Barcode=as.character(groundTruths_raw$Cell_Barcode)\n",
    "\n",
    "immune_raw=rbind(dat1_raw,dat2_raw,dat3_raw,dat4_raw,dat5_raw,\n",
    "                 dat6_raw,dat7_raw,dat8_raw,dat9_raw,dat10_raw)\n",
    "\n",
    "\n",
    "SNG.BEST.LLK=immune_raw$SNG.NEXT.GUESS\n",
    "\n",
    "SNG.BEST.LLK=immune_raw$SNG.NEXT.GUESS\n",
    "\n",
    "immune=data.frame(BARCODE=immune_raw$BARCODE, NUM.READS=immune_raw$NUM.READS,DIFF.LLK.SNG.DBL=SNG.BEST.LLK\n",
    "                  -immune_raw$DBL.BEST.LLK, DROPLET.TYPE=immune_raw$DROPLET.TYPE)\n",
    "tic();\n",
    "immune=merge(immune,groundTruths_raw,by.x=\"BARCODE\",by.y=\"Cell_Barcode\")\n",
    "toc();\n",
    "\n",
    "bcds=read.table(\"/projects/ucar-lab/danaco/Ground/comb.counts.barcodes.tsv\")\n",
    "bar_ids=which(immune$BARCODE %in% bcds$V1)\n",
    "immune=immune[bar_ids,]"
   ]
  },
  {
   "cell_type": "code",
   "execution_count": 4,
   "metadata": {
    "collapsed": true
   },
   "outputs": [],
   "source": [
    "#let's take the singlets only and fit a model\n",
    "immuneSNG=subset(immune, DROPLET.TYPE==\"SNG\")\n",
    "sng.m=lm(DIFF.LLK.SNG.DBL~NUM.READS,data=immuneSNG)\n",
    "\n",
    "#let's take the doublets only and fit a model\n",
    "immuneDBL=subset(immune, DROPLET.TYPE==\"DBL\")\n",
    "dbl.m=lm(DIFF.LLK.SNG.DBL~NUM.READS,data=immuneDBL)\n",
    "\n",
    "#let's take the doublets only and fit a model\n",
    "immuneAMB=subset(immune, DROPLET.TYPE==\"AMB\")\n",
    "amb.m=lm(DIFF.LLK.SNG.DBL~NUM.READS,data=immuneAMB)\n"
   ]
  },
  {
   "cell_type": "code",
   "execution_count": 3,
   "metadata": {
    "collapsed": true
   },
   "outputs": [],
   "source": [
    "groundTruths_raw=read.csv(\"/home/danaco/Codes/ToyModels/CZI.PMBC.HTO.pooled.sample.classifications.GMM.csv\")[,c(1,4)]\n",
    "\n",
    "groundTruths_raw$Cell_Barcode=as.character(groundTruths_raw$Cell_Barcode)"
   ]
  },
  {
   "cell_type": "code",
   "execution_count": 5,
   "metadata": {},
   "outputs": [
    {
     "data": {
      "text/html": [
       "0.370522848909016"
      ],
      "text/latex": [
       "0.370522848909016"
      ],
      "text/markdown": [
       "0.370522848909016"
      ],
      "text/plain": [
       "[1] 0.3705228"
      ]
     },
     "metadata": {},
     "output_type": "display_data"
    }
   ],
   "source": [
    "sum(immune$DROPLET.TYPE==immune$S_type)/length(immune$S_type)"
   ]
  },
  {
   "cell_type": "code",
   "execution_count": 6,
   "metadata": {
    "collapsed": true
   },
   "outputs": [],
   "source": [
    "immune.gr.SNG=subset(immune,S_type==\"SNG\")\n",
    "immune.gr.DBL=subset(immune,S_type==\"DBL\")"
   ]
  },
  {
   "cell_type": "code",
   "execution_count": 12,
   "metadata": {},
   "outputs": [
    {
     "data": {
      "text/html": [
       "15880"
      ],
      "text/latex": [
       "15880"
      ],
      "text/markdown": [
       "15880"
      ],
      "text/plain": [
       "[1] 15880"
      ]
     },
     "metadata": {},
     "output_type": "display_data"
    }
   ],
   "source": [
    "length(which(immune.gr.DBL$DROPLET.TYPE==\"AMB\"))"
   ]
  },
  {
   "cell_type": "code",
   "execution_count": 22,
   "metadata": {},
   "outputs": [
    {
     "data": {
      "text/html": [
       "0.675952095697587"
      ],
      "text/latex": [
       "0.675952095697587"
      ],
      "text/markdown": [
       "0.675952095697587"
      ],
      "text/plain": [
       "[1] 0.6759521"
      ]
     },
     "metadata": {},
     "output_type": "display_data"
    }
   ],
   "source": [
    "dim(immune.gr.SNG)[1]/dim(immune)[1]"
   ]
  },
  {
   "cell_type": "code",
   "execution_count": 4,
   "metadata": {
    "collapsed": true
   },
   "outputs": [],
   "source": [
    "write.csv(data.frame(BARCODE=immune$BARCODE,DROPLET.TYPE=immune$DROPLET.TYPE), \n",
    "          file = \"/projects/ucar-lab/danaco/Ground/DemuxletModifiedLabels.csv\")"
   ]
  },
  {
   "cell_type": "code",
   "execution_count": null,
   "metadata": {
    "collapsed": true
   },
   "outputs": [],
   "source": []
  }
 ],
 "metadata": {
  "kernelspec": {
   "display_name": "R",
   "language": "R",
   "name": "ir"
  },
  "language_info": {
   "codemirror_mode": "r",
   "file_extension": ".r",
   "mimetype": "text/x-r-source",
   "name": "R",
   "pygments_lexer": "r",
   "version": "3.4.1"
  }
 },
 "nbformat": 4,
 "nbformat_minor": 2
}
